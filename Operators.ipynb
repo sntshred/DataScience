{
 "cells": [
  {
   "cell_type": "code",
   "execution_count": 2,
   "metadata": {},
   "outputs": [
    {
     "data": {
      "text/plain": [
       "7"
      ]
     },
     "execution_count": 2,
     "metadata": {},
     "output_type": "execute_result"
    }
   ],
   "source": [
    "3+4"
   ]
  },
  {
   "cell_type": "code",
   "execution_count": 3,
   "metadata": {},
   "outputs": [
    {
     "data": {
      "text/plain": [
       "'santoshsantosh'"
      ]
     },
     "execution_count": 3,
     "metadata": {},
     "output_type": "execute_result"
    }
   ],
   "source": [
    "\"santosh\"*2"
   ]
  },
  {
   "cell_type": "markdown",
   "metadata": {},
   "source": [
    "# Comparison Operators\n",
    "\n"
   ]
  },
  {
   "cell_type": "code",
   "execution_count": 4,
   "metadata": {},
   "outputs": [
    {
     "data": {
      "text/plain": [
       "True"
      ]
     },
     "execution_count": 4,
     "metadata": {},
     "output_type": "execute_result"
    }
   ],
   "source": [
    "3==3\n"
   ]
  },
  {
   "cell_type": "markdown",
   "metadata": {},
   "source": [
    "# Logical Operators\n"
   ]
  },
  {
   "cell_type": "code",
   "execution_count": 5,
   "metadata": {},
   "outputs": [],
   "source": [
    "#and -> Returns the first false value; if not found returns the last\n",
    "#OR  -> Retruns the first true value; if not found returns last\n"
   ]
  },
  {
   "cell_type": "code",
   "execution_count": 6,
   "metadata": {},
   "outputs": [
    {
     "data": {
      "text/plain": [
       "0"
      ]
     },
     "execution_count": 6,
     "metadata": {},
     "output_type": "execute_result"
    }
   ],
   "source": [
    "0 and 3"
   ]
  },
  {
   "cell_type": "code",
   "execution_count": 7,
   "metadata": {},
   "outputs": [
    {
     "data": {
      "text/plain": [
       "0"
      ]
     },
     "execution_count": 7,
     "metadata": {},
     "output_type": "execute_result"
    }
   ],
   "source": [
    "3 and 0\n"
   ]
  },
  {
   "cell_type": "code",
   "execution_count": 8,
   "metadata": {},
   "outputs": [
    {
     "data": {
      "text/plain": [
       "5"
      ]
     },
     "execution_count": 8,
     "metadata": {},
     "output_type": "execute_result"
    }
   ],
   "source": [
    "3 and 5"
   ]
  },
  {
   "cell_type": "code",
   "execution_count": 9,
   "metadata": {},
   "outputs": [
    {
     "data": {
      "text/plain": [
       "3"
      ]
     },
     "execution_count": 9,
     "metadata": {},
     "output_type": "execute_result"
    }
   ],
   "source": [
    "3 or 0"
   ]
  },
  {
   "cell_type": "code",
   "execution_count": 10,
   "metadata": {},
   "outputs": [
    {
     "data": {
      "text/plain": [
       "3"
      ]
     },
     "execution_count": 10,
     "metadata": {},
     "output_type": "execute_result"
    }
   ],
   "source": [
    "0 or 3 "
   ]
  },
  {
   "cell_type": "code",
   "execution_count": 11,
   "metadata": {},
   "outputs": [
    {
     "name": "stdout",
     "output_type": "stream",
     "text": [
      "Even\n"
     ]
    }
   ],
   "source": [
    "x=2\n",
    "if(x%2==0):\n",
    "    print(\"Even\")\n",
    "else:\n",
    "    print(\"Not an even\")\n",
    "    "
   ]
  },
  {
   "cell_type": "code",
   "execution_count": 12,
   "metadata": {},
   "outputs": [
    {
     "name": "stdout",
     "output_type": "stream",
     "text": [
      "Grade B\n"
     ]
    }
   ],
   "source": [
    "y=98\n",
    "\n",
    "if(y>98):\n",
    "    print(\"Grade A\")\n",
    "elif(y>40):\n",
    "    print(\"Grade B\")\n",
    "else:\n",
    "    print(\"Print c\")\n"
   ]
  },
  {
   "cell_type": "markdown",
   "metadata": {},
   "source": [
    "# Looping"
   ]
  },
  {
   "cell_type": "code",
   "execution_count": 13,
   "metadata": {},
   "outputs": [
    {
     "name": "stdout",
     "output_type": "stream",
     "text": [
      "11\n",
      "12\n",
      "13\n",
      "14\n",
      "15\n",
      "16\n",
      "17\n",
      "18\n",
      "19\n",
      "20\n",
      "21\n",
      "22\n",
      "23\n",
      "24\n",
      "25\n",
      "26\n",
      "27\n",
      "28\n",
      "29\n",
      "30\n",
      "31\n",
      "32\n",
      "33\n",
      "34\n",
      "35\n",
      "36\n",
      "37\n",
      "38\n",
      "39\n",
      "40\n",
      "41\n",
      "42\n",
      "43\n",
      "44\n",
      "45\n",
      "46\n",
      "47\n",
      "48\n",
      "49\n"
     ]
    }
   ],
   "source": [
    "#range(a,b) --> a =11, b=50\n",
    "\n",
    "# loop starts at 11 and ends at (b-1) 49\n",
    "for i in range(11,50):\n",
    "    print(i)"
   ]
  },
  {
   "cell_type": "code",
   "execution_count": 14,
   "metadata": {},
   "outputs": [
    {
     "name": "stdout",
     "output_type": "stream",
     "text": [
      "10\n",
      "12\n",
      "14\n",
      "16\n",
      "18\n",
      "20\n",
      "22\n",
      "24\n",
      "26\n",
      "28\n",
      "30\n",
      "32\n",
      "34\n",
      "36\n",
      "38\n",
      "40\n",
      "42\n",
      "44\n",
      "46\n",
      "48\n"
     ]
    }
   ],
   "source": [
    "# loop starts at 10 and ends at (b-1) 48; coz b-1 is 49, but we are looping till 49; 49+2= 51; which is wrong; so 48\n",
    "for i in range(10,50,2):\n",
    "    print(i)"
   ]
  },
  {
   "cell_type": "code",
   "execution_count": 15,
   "metadata": {},
   "outputs": [
    {
     "name": "stdout",
     "output_type": "stream",
     "text": [
      "1\n",
      "3\n",
      "5\n",
      "7\n",
      "9\n",
      "11\n",
      "13\n",
      "15\n",
      "17\n",
      "19\n",
      "21\n",
      "23\n",
      "25\n",
      "27\n",
      "29\n",
      "31\n",
      "33\n",
      "35\n",
      "37\n",
      "39\n",
      "41\n",
      "43\n",
      "45\n",
      "47\n",
      "49\n",
      "51\n",
      "53\n",
      "55\n",
      "57\n",
      "59\n",
      "61\n",
      "63\n",
      "65\n",
      "67\n",
      "69\n",
      "71\n",
      "73\n",
      "75\n",
      "77\n",
      "79\n",
      "81\n",
      "83\n",
      "85\n",
      "87\n",
      "89\n",
      "91\n",
      "93\n",
      "95\n",
      "97\n",
      "99\n"
     ]
    }
   ],
   "source": [
    "for i in range(1,100,2):\n",
    "    print(i)"
   ]
  },
  {
   "cell_type": "code",
   "execution_count": 16,
   "metadata": {},
   "outputs": [
    {
     "name": "stdout",
     "output_type": "stream",
     "text": [
      "1\n",
      "3\n",
      "5\n",
      "7\n",
      "9\n",
      "11\n",
      "13\n",
      "15\n",
      "17\n",
      "19\n",
      "21\n",
      "23\n",
      "25\n",
      "27\n",
      "29\n",
      "31\n",
      "33\n",
      "35\n",
      "37\n",
      "39\n",
      "41\n",
      "43\n",
      "45\n",
      "47\n",
      "49\n",
      "51\n",
      "53\n",
      "55\n",
      "57\n",
      "59\n",
      "61\n",
      "63\n",
      "65\n",
      "67\n",
      "69\n",
      "71\n",
      "73\n",
      "75\n",
      "77\n",
      "79\n",
      "81\n",
      "83\n",
      "85\n",
      "87\n",
      "89\n",
      "91\n",
      "93\n",
      "95\n",
      "97\n",
      "99\n"
     ]
    }
   ],
   "source": [
    "for i in range(1,101,2):\n",
    "    print(i)"
   ]
  },
  {
   "cell_type": "markdown",
   "metadata": {},
   "source": [
    "# Functions"
   ]
  },
  {
   "cell_type": "code",
   "execution_count": 17,
   "metadata": {},
   "outputs": [],
   "source": [
    "def compare(a,b):\n",
    "    if(a>b):\n",
    "        greater=a\n",
    "    else:\n",
    "        greater=b\n",
    "    return greater"
   ]
  },
  {
   "cell_type": "code",
   "execution_count": 18,
   "metadata": {},
   "outputs": [
    {
     "data": {
      "text/plain": [
       "10"
      ]
     },
     "execution_count": 18,
     "metadata": {},
     "output_type": "execute_result"
    }
   ],
   "source": [
    "compare(10,2)"
   ]
  },
  {
   "cell_type": "code",
   "execution_count": 19,
   "metadata": {},
   "outputs": [],
   "source": [
    "def Sum(lb,ub):\n",
    "    total=0\n",
    "    while(lb<=ub):\n",
    "        total+=lb\n",
    "        lb+=1\n",
    "    return total\n",
    "    \n",
    "    "
   ]
  },
  {
   "cell_type": "code",
   "execution_count": 20,
   "metadata": {},
   "outputs": [
    {
     "data": {
      "text/plain": [
       "55"
      ]
     },
     "execution_count": 20,
     "metadata": {},
     "output_type": "execute_result"
    }
   ],
   "source": [
    "Sum(1,10)"
   ]
  },
  {
   "cell_type": "markdown",
   "metadata": {},
   "source": [
    "# Lists"
   ]
  },
  {
   "cell_type": "code",
   "execution_count": 21,
   "metadata": {},
   "outputs": [],
   "source": [
    "mars = [1,2,32,1,332,32,362,43]"
   ]
  },
  {
   "cell_type": "code",
   "execution_count": 22,
   "metadata": {},
   "outputs": [
    {
     "data": {
      "text/plain": [
       "[1, 2, 32, 1]"
      ]
     },
     "execution_count": 22,
     "metadata": {},
     "output_type": "execute_result"
    }
   ],
   "source": [
    "mars[0:4]"
   ]
  },
  {
   "cell_type": "code",
   "execution_count": 23,
   "metadata": {},
   "outputs": [],
   "source": [
    "# add an element\n",
    "mars.append(72)\n",
    "\n"
   ]
  },
  {
   "cell_type": "code",
   "execution_count": 24,
   "metadata": {},
   "outputs": [],
   "source": [
    "mars.append([99,69])"
   ]
  },
  {
   "cell_type": "code",
   "execution_count": 25,
   "metadata": {},
   "outputs": [
    {
     "data": {
      "text/plain": [
       "[1, 2, 32, 1, 332, 32, 362, 43, 72, [99, 69]]"
      ]
     },
     "execution_count": 25,
     "metadata": {},
     "output_type": "execute_result"
    }
   ],
   "source": [
    "mars"
   ]
  },
  {
   "cell_type": "code",
   "execution_count": 26,
   "metadata": {},
   "outputs": [],
   "source": [
    "#delete an element using Value\n",
    "\n",
    "mars.remove(1)\n"
   ]
  },
  {
   "cell_type": "code",
   "execution_count": 27,
   "metadata": {},
   "outputs": [
    {
     "data": {
      "text/plain": [
       "[2, 32, 1, 332, 32, 362, 43, 72, [99, 69]]"
      ]
     },
     "execution_count": 27,
     "metadata": {},
     "output_type": "execute_result"
    }
   ],
   "source": [
    "mars"
   ]
  },
  {
   "cell_type": "code",
   "execution_count": 28,
   "metadata": {},
   "outputs": [],
   "source": [
    "del mars[2]"
   ]
  },
  {
   "cell_type": "code",
   "execution_count": 29,
   "metadata": {},
   "outputs": [
    {
     "data": {
      "text/plain": [
       "[2, 32, 332, 32, 362, 43, 72, [99, 69]]"
      ]
     },
     "execution_count": 29,
     "metadata": {},
     "output_type": "execute_result"
    }
   ],
   "source": [
    "mars"
   ]
  },
  {
   "cell_type": "code",
   "execution_count": 30,
   "metadata": {},
   "outputs": [
    {
     "name": "stdout",
     "output_type": "stream",
     "text": [
      "2\n",
      "32\n",
      "332\n",
      "32\n",
      "362\n",
      "43\n",
      "72\n",
      "[99, 69]\n"
     ]
    }
   ],
   "source": [
    "for mark in mars:\n",
    "    print(mark)"
   ]
  },
  {
   "cell_type": "markdown",
   "metadata": {},
   "source": [
    "# Dictionary"
   ]
  },
  {
   "cell_type": "code",
   "execution_count": 31,
   "metadata": {},
   "outputs": [],
   "source": [
    "marks = {'history':52,\"science\":63,\"social\":99}"
   ]
  },
  {
   "cell_type": "code",
   "execution_count": 32,
   "metadata": {},
   "outputs": [
    {
     "data": {
      "text/plain": [
       "52"
      ]
     },
     "execution_count": 32,
     "metadata": {},
     "output_type": "execute_result"
    }
   ],
   "source": [
    "marks['history']"
   ]
  },
  {
   "cell_type": "code",
   "execution_count": 33,
   "metadata": {},
   "outputs": [],
   "source": [
    "#Adding one element to dictionary\n",
    "marks['biology']=36\n",
    "\n",
    "#Adding more then one element to dictionary\n",
    "marks.update({'math':85,'DS':86})\n",
    "\n",
    "\n"
   ]
  },
  {
   "cell_type": "code",
   "execution_count": 34,
   "metadata": {},
   "outputs": [
    {
     "data": {
      "text/plain": [
       "{'history': 52,\n",
       " 'science': 63,\n",
       " 'social': 99,\n",
       " 'biology': 36,\n",
       " 'math': 85,\n",
       " 'DS': 86}"
      ]
     },
     "execution_count": 34,
     "metadata": {},
     "output_type": "execute_result"
    }
   ],
   "source": [
    "marks"
   ]
  },
  {
   "cell_type": "code",
   "execution_count": 35,
   "metadata": {},
   "outputs": [],
   "source": [
    "del marks['social']"
   ]
  },
  {
   "cell_type": "code",
   "execution_count": 36,
   "metadata": {},
   "outputs": [
    {
     "data": {
      "text/plain": [
       "{'history': 52, 'science': 63, 'biology': 36, 'math': 85, 'DS': 86}"
      ]
     },
     "execution_count": 36,
     "metadata": {},
     "output_type": "execute_result"
    }
   ],
   "source": [
    "marks"
   ]
  },
  {
   "cell_type": "markdown",
   "metadata": {},
   "source": [
    "# Pandas: Read File"
   ]
  },
  {
   "cell_type": "code",
   "execution_count": 8,
   "metadata": {},
   "outputs": [],
   "source": [
    "import pandas as pd"
   ]
  },
  {
   "cell_type": "code",
   "execution_count": 9,
   "metadata": {},
   "outputs": [],
   "source": [
    "df = pd.read_csv(\"./iris/data.csv\")"
   ]
  },
  {
   "cell_type": "code",
   "execution_count": 10,
   "metadata": {},
   "outputs": [
    {
     "data": {
      "text/html": [
       "<div>\n",
       "<style scoped>\n",
       "    .dataframe tbody tr th:only-of-type {\n",
       "        vertical-align: middle;\n",
       "    }\n",
       "\n",
       "    .dataframe tbody tr th {\n",
       "        vertical-align: top;\n",
       "    }\n",
       "\n",
       "    .dataframe thead th {\n",
       "        text-align: right;\n",
       "    }\n",
       "</style>\n",
       "<table border=\"1\" class=\"dataframe\">\n",
       "  <thead>\n",
       "    <tr style=\"text-align: right;\">\n",
       "      <th></th>\n",
       "      <th>PassengerId</th>\n",
       "      <th>Survived</th>\n",
       "      <th>Pclass</th>\n",
       "      <th>Name</th>\n",
       "      <th>Sex</th>\n",
       "      <th>Age</th>\n",
       "      <th>SibSp</th>\n",
       "      <th>Parch</th>\n",
       "      <th>Ticket</th>\n",
       "      <th>Fare</th>\n",
       "      <th>Cabin</th>\n",
       "      <th>Embarked</th>\n",
       "    </tr>\n",
       "  </thead>\n",
       "  <tbody>\n",
       "    <tr>\n",
       "      <td>0</td>\n",
       "      <td>1</td>\n",
       "      <td>0</td>\n",
       "      <td>3</td>\n",
       "      <td>Braund, Mr. Owen Harris</td>\n",
       "      <td>male</td>\n",
       "      <td>22.0</td>\n",
       "      <td>1</td>\n",
       "      <td>0</td>\n",
       "      <td>A/5 21171</td>\n",
       "      <td>7.2500</td>\n",
       "      <td>NaN</td>\n",
       "      <td>S</td>\n",
       "    </tr>\n",
       "    <tr>\n",
       "      <td>1</td>\n",
       "      <td>2</td>\n",
       "      <td>1</td>\n",
       "      <td>1</td>\n",
       "      <td>Cumings, Mrs. John Bradley (Florence Briggs Th...</td>\n",
       "      <td>female</td>\n",
       "      <td>38.0</td>\n",
       "      <td>1</td>\n",
       "      <td>0</td>\n",
       "      <td>PC 17599</td>\n",
       "      <td>71.2833</td>\n",
       "      <td>C85</td>\n",
       "      <td>C</td>\n",
       "    </tr>\n",
       "    <tr>\n",
       "      <td>2</td>\n",
       "      <td>3</td>\n",
       "      <td>1</td>\n",
       "      <td>3</td>\n",
       "      <td>Heikkinen, Miss. Laina</td>\n",
       "      <td>female</td>\n",
       "      <td>26.0</td>\n",
       "      <td>0</td>\n",
       "      <td>0</td>\n",
       "      <td>STON/O2. 3101282</td>\n",
       "      <td>7.9250</td>\n",
       "      <td>NaN</td>\n",
       "      <td>S</td>\n",
       "    </tr>\n",
       "    <tr>\n",
       "      <td>3</td>\n",
       "      <td>4</td>\n",
       "      <td>1</td>\n",
       "      <td>1</td>\n",
       "      <td>Futrelle, Mrs. Jacques Heath (Lily May Peel)</td>\n",
       "      <td>female</td>\n",
       "      <td>35.0</td>\n",
       "      <td>1</td>\n",
       "      <td>0</td>\n",
       "      <td>113803</td>\n",
       "      <td>53.1000</td>\n",
       "      <td>C123</td>\n",
       "      <td>S</td>\n",
       "    </tr>\n",
       "    <tr>\n",
       "      <td>4</td>\n",
       "      <td>5</td>\n",
       "      <td>0</td>\n",
       "      <td>3</td>\n",
       "      <td>Allen, Mr. William Henry</td>\n",
       "      <td>male</td>\n",
       "      <td>35.0</td>\n",
       "      <td>0</td>\n",
       "      <td>0</td>\n",
       "      <td>373450</td>\n",
       "      <td>8.0500</td>\n",
       "      <td>NaN</td>\n",
       "      <td>S</td>\n",
       "    </tr>\n",
       "  </tbody>\n",
       "</table>\n",
       "</div>"
      ],
      "text/plain": [
       "   PassengerId  Survived  Pclass  \\\n",
       "0            1         0       3   \n",
       "1            2         1       1   \n",
       "2            3         1       3   \n",
       "3            4         1       1   \n",
       "4            5         0       3   \n",
       "\n",
       "                                                Name     Sex   Age  SibSp  \\\n",
       "0                            Braund, Mr. Owen Harris    male  22.0      1   \n",
       "1  Cumings, Mrs. John Bradley (Florence Briggs Th...  female  38.0      1   \n",
       "2                             Heikkinen, Miss. Laina  female  26.0      0   \n",
       "3       Futrelle, Mrs. Jacques Heath (Lily May Peel)  female  35.0      1   \n",
       "4                           Allen, Mr. William Henry    male  35.0      0   \n",
       "\n",
       "   Parch            Ticket     Fare Cabin Embarked  \n",
       "0      0         A/5 21171   7.2500   NaN        S  \n",
       "1      0          PC 17599  71.2833   C85        C  \n",
       "2      0  STON/O2. 3101282   7.9250   NaN        S  \n",
       "3      0            113803  53.1000  C123        S  \n",
       "4      0            373450   8.0500   NaN        S  "
      ]
     },
     "execution_count": 10,
     "metadata": {},
     "output_type": "execute_result"
    }
   ],
   "source": [
    "df.head()"
   ]
  },
  {
   "cell_type": "code",
   "execution_count": 11,
   "metadata": {},
   "outputs": [
    {
     "data": {
      "text/plain": [
       "(891, 12)"
      ]
     },
     "execution_count": 11,
     "metadata": {},
     "output_type": "execute_result"
    }
   ],
   "source": [
    "#seeing the dimensions of the dataframe\n",
    "df.shape"
   ]
  },
  {
   "cell_type": "code",
   "execution_count": 12,
   "metadata": {},
   "outputs": [
    {
     "data": {
      "text/html": [
       "<div>\n",
       "<style scoped>\n",
       "    .dataframe tbody tr th:only-of-type {\n",
       "        vertical-align: middle;\n",
       "    }\n",
       "\n",
       "    .dataframe tbody tr th {\n",
       "        vertical-align: top;\n",
       "    }\n",
       "\n",
       "    .dataframe thead th {\n",
       "        text-align: right;\n",
       "    }\n",
       "</style>\n",
       "<table border=\"1\" class=\"dataframe\">\n",
       "  <thead>\n",
       "    <tr style=\"text-align: right;\">\n",
       "      <th></th>\n",
       "      <th>PassengerId</th>\n",
       "      <th>Survived</th>\n",
       "      <th>Pclass</th>\n",
       "      <th>Name</th>\n",
       "      <th>Sex</th>\n",
       "      <th>Age</th>\n",
       "      <th>SibSp</th>\n",
       "      <th>Parch</th>\n",
       "      <th>Ticket</th>\n",
       "      <th>Fare</th>\n",
       "      <th>Cabin</th>\n",
       "      <th>Embarked</th>\n",
       "    </tr>\n",
       "  </thead>\n",
       "  <tbody>\n",
       "    <tr>\n",
       "      <td>0</td>\n",
       "      <td>1</td>\n",
       "      <td>0</td>\n",
       "      <td>3</td>\n",
       "      <td>Braund, Mr. Owen Harris</td>\n",
       "      <td>male</td>\n",
       "      <td>22.0</td>\n",
       "      <td>1</td>\n",
       "      <td>0</td>\n",
       "      <td>A/5 21171</td>\n",
       "      <td>7.2500</td>\n",
       "      <td>NaN</td>\n",
       "      <td>S</td>\n",
       "    </tr>\n",
       "    <tr>\n",
       "      <td>1</td>\n",
       "      <td>2</td>\n",
       "      <td>1</td>\n",
       "      <td>1</td>\n",
       "      <td>Cumings, Mrs. John Bradley (Florence Briggs Th...</td>\n",
       "      <td>female</td>\n",
       "      <td>38.0</td>\n",
       "      <td>1</td>\n",
       "      <td>0</td>\n",
       "      <td>PC 17599</td>\n",
       "      <td>71.2833</td>\n",
       "      <td>C85</td>\n",
       "      <td>C</td>\n",
       "    </tr>\n",
       "    <tr>\n",
       "      <td>2</td>\n",
       "      <td>3</td>\n",
       "      <td>1</td>\n",
       "      <td>3</td>\n",
       "      <td>Heikkinen, Miss. Laina</td>\n",
       "      <td>female</td>\n",
       "      <td>26.0</td>\n",
       "      <td>0</td>\n",
       "      <td>0</td>\n",
       "      <td>STON/O2. 3101282</td>\n",
       "      <td>7.9250</td>\n",
       "      <td>NaN</td>\n",
       "      <td>S</td>\n",
       "    </tr>\n",
       "    <tr>\n",
       "      <td>3</td>\n",
       "      <td>4</td>\n",
       "      <td>1</td>\n",
       "      <td>1</td>\n",
       "      <td>Futrelle, Mrs. Jacques Heath (Lily May Peel)</td>\n",
       "      <td>female</td>\n",
       "      <td>35.0</td>\n",
       "      <td>1</td>\n",
       "      <td>0</td>\n",
       "      <td>113803</td>\n",
       "      <td>53.1000</td>\n",
       "      <td>C123</td>\n",
       "      <td>S</td>\n",
       "    </tr>\n",
       "    <tr>\n",
       "      <td>4</td>\n",
       "      <td>5</td>\n",
       "      <td>0</td>\n",
       "      <td>3</td>\n",
       "      <td>Allen, Mr. William Henry</td>\n",
       "      <td>male</td>\n",
       "      <td>35.0</td>\n",
       "      <td>0</td>\n",
       "      <td>0</td>\n",
       "      <td>373450</td>\n",
       "      <td>8.0500</td>\n",
       "      <td>NaN</td>\n",
       "      <td>S</td>\n",
       "    </tr>\n",
       "  </tbody>\n",
       "</table>\n",
       "</div>"
      ],
      "text/plain": [
       "   PassengerId  Survived  Pclass  \\\n",
       "0            1         0       3   \n",
       "1            2         1       1   \n",
       "2            3         1       3   \n",
       "3            4         1       1   \n",
       "4            5         0       3   \n",
       "\n",
       "                                                Name     Sex   Age  SibSp  \\\n",
       "0                            Braund, Mr. Owen Harris    male  22.0      1   \n",
       "1  Cumings, Mrs. John Bradley (Florence Briggs Th...  female  38.0      1   \n",
       "2                             Heikkinen, Miss. Laina  female  26.0      0   \n",
       "3       Futrelle, Mrs. Jacques Heath (Lily May Peel)  female  35.0      1   \n",
       "4                           Allen, Mr. William Henry    male  35.0      0   \n",
       "\n",
       "   Parch            Ticket     Fare Cabin Embarked  \n",
       "0      0         A/5 21171   7.2500   NaN        S  \n",
       "1      0          PC 17599  71.2833   C85        C  \n",
       "2      0  STON/O2. 3101282   7.9250   NaN        S  \n",
       "3      0            113803  53.1000  C123        S  \n",
       "4      0            373450   8.0500   NaN        S  "
      ]
     },
     "execution_count": 12,
     "metadata": {},
     "output_type": "execute_result"
    }
   ],
   "source": [
    "#top 5 rows\n",
    "df.head()"
   ]
  },
  {
   "cell_type": "code",
   "execution_count": 13,
   "metadata": {},
   "outputs": [
    {
     "data": {
      "text/html": [
       "<div>\n",
       "<style scoped>\n",
       "    .dataframe tbody tr th:only-of-type {\n",
       "        vertical-align: middle;\n",
       "    }\n",
       "\n",
       "    .dataframe tbody tr th {\n",
       "        vertical-align: top;\n",
       "    }\n",
       "\n",
       "    .dataframe thead th {\n",
       "        text-align: right;\n",
       "    }\n",
       "</style>\n",
       "<table border=\"1\" class=\"dataframe\">\n",
       "  <thead>\n",
       "    <tr style=\"text-align: right;\">\n",
       "      <th></th>\n",
       "      <th>PassengerId</th>\n",
       "      <th>Survived</th>\n",
       "      <th>Pclass</th>\n",
       "      <th>Name</th>\n",
       "      <th>Sex</th>\n",
       "      <th>Age</th>\n",
       "      <th>SibSp</th>\n",
       "      <th>Parch</th>\n",
       "      <th>Ticket</th>\n",
       "      <th>Fare</th>\n",
       "      <th>Cabin</th>\n",
       "      <th>Embarked</th>\n",
       "    </tr>\n",
       "  </thead>\n",
       "  <tbody>\n",
       "    <tr>\n",
       "      <td>886</td>\n",
       "      <td>887</td>\n",
       "      <td>0</td>\n",
       "      <td>2</td>\n",
       "      <td>Montvila, Rev. Juozas</td>\n",
       "      <td>male</td>\n",
       "      <td>27.0</td>\n",
       "      <td>0</td>\n",
       "      <td>0</td>\n",
       "      <td>211536</td>\n",
       "      <td>13.00</td>\n",
       "      <td>NaN</td>\n",
       "      <td>S</td>\n",
       "    </tr>\n",
       "    <tr>\n",
       "      <td>887</td>\n",
       "      <td>888</td>\n",
       "      <td>1</td>\n",
       "      <td>1</td>\n",
       "      <td>Graham, Miss. Margaret Edith</td>\n",
       "      <td>female</td>\n",
       "      <td>19.0</td>\n",
       "      <td>0</td>\n",
       "      <td>0</td>\n",
       "      <td>112053</td>\n",
       "      <td>30.00</td>\n",
       "      <td>B42</td>\n",
       "      <td>S</td>\n",
       "    </tr>\n",
       "    <tr>\n",
       "      <td>888</td>\n",
       "      <td>889</td>\n",
       "      <td>0</td>\n",
       "      <td>3</td>\n",
       "      <td>Johnston, Miss. Catherine Helen \"Carrie\"</td>\n",
       "      <td>female</td>\n",
       "      <td>NaN</td>\n",
       "      <td>1</td>\n",
       "      <td>2</td>\n",
       "      <td>W./C. 6607</td>\n",
       "      <td>23.45</td>\n",
       "      <td>NaN</td>\n",
       "      <td>S</td>\n",
       "    </tr>\n",
       "    <tr>\n",
       "      <td>889</td>\n",
       "      <td>890</td>\n",
       "      <td>1</td>\n",
       "      <td>1</td>\n",
       "      <td>Behr, Mr. Karl Howell</td>\n",
       "      <td>male</td>\n",
       "      <td>26.0</td>\n",
       "      <td>0</td>\n",
       "      <td>0</td>\n",
       "      <td>111369</td>\n",
       "      <td>30.00</td>\n",
       "      <td>C148</td>\n",
       "      <td>C</td>\n",
       "    </tr>\n",
       "    <tr>\n",
       "      <td>890</td>\n",
       "      <td>891</td>\n",
       "      <td>0</td>\n",
       "      <td>3</td>\n",
       "      <td>Dooley, Mr. Patrick</td>\n",
       "      <td>male</td>\n",
       "      <td>32.0</td>\n",
       "      <td>0</td>\n",
       "      <td>0</td>\n",
       "      <td>370376</td>\n",
       "      <td>7.75</td>\n",
       "      <td>NaN</td>\n",
       "      <td>Q</td>\n",
       "    </tr>\n",
       "  </tbody>\n",
       "</table>\n",
       "</div>"
      ],
      "text/plain": [
       "     PassengerId  Survived  Pclass                                      Name  \\\n",
       "886          887         0       2                     Montvila, Rev. Juozas   \n",
       "887          888         1       1              Graham, Miss. Margaret Edith   \n",
       "888          889         0       3  Johnston, Miss. Catherine Helen \"Carrie\"   \n",
       "889          890         1       1                     Behr, Mr. Karl Howell   \n",
       "890          891         0       3                       Dooley, Mr. Patrick   \n",
       "\n",
       "        Sex   Age  SibSp  Parch      Ticket   Fare Cabin Embarked  \n",
       "886    male  27.0      0      0      211536  13.00   NaN        S  \n",
       "887  female  19.0      0      0      112053  30.00   B42        S  \n",
       "888  female   NaN      1      2  W./C. 6607  23.45   NaN        S  \n",
       "889    male  26.0      0      0      111369  30.00  C148        C  \n",
       "890    male  32.0      0      0      370376   7.75   NaN        Q  "
      ]
     },
     "execution_count": 13,
     "metadata": {},
     "output_type": "execute_result"
    }
   ],
   "source": [
    "# last 5 rows\n",
    "df.tail()"
   ]
  },
  {
   "cell_type": "code",
   "execution_count": 14,
   "metadata": {},
   "outputs": [
    {
     "data": {
      "text/html": [
       "<div>\n",
       "<style scoped>\n",
       "    .dataframe tbody tr th:only-of-type {\n",
       "        vertical-align: middle;\n",
       "    }\n",
       "\n",
       "    .dataframe tbody tr th {\n",
       "        vertical-align: top;\n",
       "    }\n",
       "\n",
       "    .dataframe thead th {\n",
       "        text-align: right;\n",
       "    }\n",
       "</style>\n",
       "<table border=\"1\" class=\"dataframe\">\n",
       "  <thead>\n",
       "    <tr style=\"text-align: right;\">\n",
       "      <th></th>\n",
       "      <th>PassengerId</th>\n",
       "      <th>Survived</th>\n",
       "      <th>Pclass</th>\n",
       "      <th>Name</th>\n",
       "      <th>Sex</th>\n",
       "      <th>Age</th>\n",
       "      <th>SibSp</th>\n",
       "      <th>Parch</th>\n",
       "      <th>Ticket</th>\n",
       "      <th>Fare</th>\n",
       "      <th>Cabin</th>\n",
       "      <th>Embarked</th>\n",
       "    </tr>\n",
       "  </thead>\n",
       "  <tbody>\n",
       "    <tr>\n",
       "      <td>881</td>\n",
       "      <td>882</td>\n",
       "      <td>0</td>\n",
       "      <td>3</td>\n",
       "      <td>Markun, Mr. Johann</td>\n",
       "      <td>male</td>\n",
       "      <td>33.0</td>\n",
       "      <td>0</td>\n",
       "      <td>0</td>\n",
       "      <td>349257</td>\n",
       "      <td>7.8958</td>\n",
       "      <td>NaN</td>\n",
       "      <td>S</td>\n",
       "    </tr>\n",
       "    <tr>\n",
       "      <td>882</td>\n",
       "      <td>883</td>\n",
       "      <td>0</td>\n",
       "      <td>3</td>\n",
       "      <td>Dahlberg, Miss. Gerda Ulrika</td>\n",
       "      <td>female</td>\n",
       "      <td>22.0</td>\n",
       "      <td>0</td>\n",
       "      <td>0</td>\n",
       "      <td>7552</td>\n",
       "      <td>10.5167</td>\n",
       "      <td>NaN</td>\n",
       "      <td>S</td>\n",
       "    </tr>\n",
       "    <tr>\n",
       "      <td>883</td>\n",
       "      <td>884</td>\n",
       "      <td>0</td>\n",
       "      <td>2</td>\n",
       "      <td>Banfield, Mr. Frederick James</td>\n",
       "      <td>male</td>\n",
       "      <td>28.0</td>\n",
       "      <td>0</td>\n",
       "      <td>0</td>\n",
       "      <td>C.A./SOTON 34068</td>\n",
       "      <td>10.5000</td>\n",
       "      <td>NaN</td>\n",
       "      <td>S</td>\n",
       "    </tr>\n",
       "    <tr>\n",
       "      <td>884</td>\n",
       "      <td>885</td>\n",
       "      <td>0</td>\n",
       "      <td>3</td>\n",
       "      <td>Sutehall, Mr. Henry Jr</td>\n",
       "      <td>male</td>\n",
       "      <td>25.0</td>\n",
       "      <td>0</td>\n",
       "      <td>0</td>\n",
       "      <td>SOTON/OQ 392076</td>\n",
       "      <td>7.0500</td>\n",
       "      <td>NaN</td>\n",
       "      <td>S</td>\n",
       "    </tr>\n",
       "    <tr>\n",
       "      <td>885</td>\n",
       "      <td>886</td>\n",
       "      <td>0</td>\n",
       "      <td>3</td>\n",
       "      <td>Rice, Mrs. William (Margaret Norton)</td>\n",
       "      <td>female</td>\n",
       "      <td>39.0</td>\n",
       "      <td>0</td>\n",
       "      <td>5</td>\n",
       "      <td>382652</td>\n",
       "      <td>29.1250</td>\n",
       "      <td>NaN</td>\n",
       "      <td>Q</td>\n",
       "    </tr>\n",
       "    <tr>\n",
       "      <td>886</td>\n",
       "      <td>887</td>\n",
       "      <td>0</td>\n",
       "      <td>2</td>\n",
       "      <td>Montvila, Rev. Juozas</td>\n",
       "      <td>male</td>\n",
       "      <td>27.0</td>\n",
       "      <td>0</td>\n",
       "      <td>0</td>\n",
       "      <td>211536</td>\n",
       "      <td>13.0000</td>\n",
       "      <td>NaN</td>\n",
       "      <td>S</td>\n",
       "    </tr>\n",
       "    <tr>\n",
       "      <td>887</td>\n",
       "      <td>888</td>\n",
       "      <td>1</td>\n",
       "      <td>1</td>\n",
       "      <td>Graham, Miss. Margaret Edith</td>\n",
       "      <td>female</td>\n",
       "      <td>19.0</td>\n",
       "      <td>0</td>\n",
       "      <td>0</td>\n",
       "      <td>112053</td>\n",
       "      <td>30.0000</td>\n",
       "      <td>B42</td>\n",
       "      <td>S</td>\n",
       "    </tr>\n",
       "    <tr>\n",
       "      <td>888</td>\n",
       "      <td>889</td>\n",
       "      <td>0</td>\n",
       "      <td>3</td>\n",
       "      <td>Johnston, Miss. Catherine Helen \"Carrie\"</td>\n",
       "      <td>female</td>\n",
       "      <td>NaN</td>\n",
       "      <td>1</td>\n",
       "      <td>2</td>\n",
       "      <td>W./C. 6607</td>\n",
       "      <td>23.4500</td>\n",
       "      <td>NaN</td>\n",
       "      <td>S</td>\n",
       "    </tr>\n",
       "    <tr>\n",
       "      <td>889</td>\n",
       "      <td>890</td>\n",
       "      <td>1</td>\n",
       "      <td>1</td>\n",
       "      <td>Behr, Mr. Karl Howell</td>\n",
       "      <td>male</td>\n",
       "      <td>26.0</td>\n",
       "      <td>0</td>\n",
       "      <td>0</td>\n",
       "      <td>111369</td>\n",
       "      <td>30.0000</td>\n",
       "      <td>C148</td>\n",
       "      <td>C</td>\n",
       "    </tr>\n",
       "    <tr>\n",
       "      <td>890</td>\n",
       "      <td>891</td>\n",
       "      <td>0</td>\n",
       "      <td>3</td>\n",
       "      <td>Dooley, Mr. Patrick</td>\n",
       "      <td>male</td>\n",
       "      <td>32.0</td>\n",
       "      <td>0</td>\n",
       "      <td>0</td>\n",
       "      <td>370376</td>\n",
       "      <td>7.7500</td>\n",
       "      <td>NaN</td>\n",
       "      <td>Q</td>\n",
       "    </tr>\n",
       "  </tbody>\n",
       "</table>\n",
       "</div>"
      ],
      "text/plain": [
       "     PassengerId  Survived  Pclass                                      Name  \\\n",
       "881          882         0       3                        Markun, Mr. Johann   \n",
       "882          883         0       3              Dahlberg, Miss. Gerda Ulrika   \n",
       "883          884         0       2             Banfield, Mr. Frederick James   \n",
       "884          885         0       3                    Sutehall, Mr. Henry Jr   \n",
       "885          886         0       3      Rice, Mrs. William (Margaret Norton)   \n",
       "886          887         0       2                     Montvila, Rev. Juozas   \n",
       "887          888         1       1              Graham, Miss. Margaret Edith   \n",
       "888          889         0       3  Johnston, Miss. Catherine Helen \"Carrie\"   \n",
       "889          890         1       1                     Behr, Mr. Karl Howell   \n",
       "890          891         0       3                       Dooley, Mr. Patrick   \n",
       "\n",
       "        Sex   Age  SibSp  Parch            Ticket     Fare Cabin Embarked  \n",
       "881    male  33.0      0      0            349257   7.8958   NaN        S  \n",
       "882  female  22.0      0      0              7552  10.5167   NaN        S  \n",
       "883    male  28.0      0      0  C.A./SOTON 34068  10.5000   NaN        S  \n",
       "884    male  25.0      0      0   SOTON/OQ 392076   7.0500   NaN        S  \n",
       "885  female  39.0      0      5            382652  29.1250   NaN        Q  \n",
       "886    male  27.0      0      0            211536  13.0000   NaN        S  \n",
       "887  female  19.0      0      0            112053  30.0000   B42        S  \n",
       "888  female   NaN      1      2        W./C. 6607  23.4500   NaN        S  \n",
       "889    male  26.0      0      0            111369  30.0000  C148        C  \n",
       "890    male  32.0      0      0            370376   7.7500   NaN        Q  "
      ]
     },
     "execution_count": 14,
     "metadata": {},
     "output_type": "execute_result"
    }
   ],
   "source": [
    "#get the speciefied no row by passing paramerter\n",
    "df.tail(10)"
   ]
  },
  {
   "cell_type": "code",
   "execution_count": 15,
   "metadata": {},
   "outputs": [
    {
     "data": {
      "text/plain": [
       "Index(['PassengerId', 'Survived', 'Pclass', 'Name', 'Sex', 'Age', 'SibSp',\n",
       "       'Parch', 'Ticket', 'Fare', 'Cabin', 'Embarked'],\n",
       "      dtype='object')"
      ]
     },
     "execution_count": 15,
     "metadata": {},
     "output_type": "execute_result"
    }
   ],
   "source": [
    "#get all the columns name\n",
    "df.columns"
   ]
  },
  {
   "cell_type": "code",
   "execution_count": 16,
   "metadata": {},
   "outputs": [
    {
     "data": {
      "text/plain": [
       "0        1\n",
       "1        2\n",
       "2        3\n",
       "3        4\n",
       "4        5\n",
       "      ... \n",
       "886    887\n",
       "887    888\n",
       "888    889\n",
       "889    890\n",
       "890    891\n",
       "Name: PassengerId, Length: 891, dtype: int64"
      ]
     },
     "execution_count": 16,
     "metadata": {},
     "output_type": "execute_result"
    }
   ],
   "source": [
    "#selectinga a single column\n",
    "df['PassengerId']"
   ]
  },
  {
   "cell_type": "code",
   "execution_count": 17,
   "metadata": {},
   "outputs": [
    {
     "data": {
      "text/html": [
       "<div>\n",
       "<style scoped>\n",
       "    .dataframe tbody tr th:only-of-type {\n",
       "        vertical-align: middle;\n",
       "    }\n",
       "\n",
       "    .dataframe tbody tr th {\n",
       "        vertical-align: top;\n",
       "    }\n",
       "\n",
       "    .dataframe thead th {\n",
       "        text-align: right;\n",
       "    }\n",
       "</style>\n",
       "<table border=\"1\" class=\"dataframe\">\n",
       "  <thead>\n",
       "    <tr style=\"text-align: right;\">\n",
       "      <th></th>\n",
       "      <th>PassengerId</th>\n",
       "      <th>Survived</th>\n",
       "      <th>Fare</th>\n",
       "    </tr>\n",
       "  </thead>\n",
       "  <tbody>\n",
       "    <tr>\n",
       "      <td>0</td>\n",
       "      <td>1</td>\n",
       "      <td>0</td>\n",
       "      <td>7.2500</td>\n",
       "    </tr>\n",
       "    <tr>\n",
       "      <td>1</td>\n",
       "      <td>2</td>\n",
       "      <td>1</td>\n",
       "      <td>71.2833</td>\n",
       "    </tr>\n",
       "    <tr>\n",
       "      <td>2</td>\n",
       "      <td>3</td>\n",
       "      <td>1</td>\n",
       "      <td>7.9250</td>\n",
       "    </tr>\n",
       "    <tr>\n",
       "      <td>3</td>\n",
       "      <td>4</td>\n",
       "      <td>1</td>\n",
       "      <td>53.1000</td>\n",
       "    </tr>\n",
       "    <tr>\n",
       "      <td>4</td>\n",
       "      <td>5</td>\n",
       "      <td>0</td>\n",
       "      <td>8.0500</td>\n",
       "    </tr>\n",
       "    <tr>\n",
       "      <td>...</td>\n",
       "      <td>...</td>\n",
       "      <td>...</td>\n",
       "      <td>...</td>\n",
       "    </tr>\n",
       "    <tr>\n",
       "      <td>886</td>\n",
       "      <td>887</td>\n",
       "      <td>0</td>\n",
       "      <td>13.0000</td>\n",
       "    </tr>\n",
       "    <tr>\n",
       "      <td>887</td>\n",
       "      <td>888</td>\n",
       "      <td>1</td>\n",
       "      <td>30.0000</td>\n",
       "    </tr>\n",
       "    <tr>\n",
       "      <td>888</td>\n",
       "      <td>889</td>\n",
       "      <td>0</td>\n",
       "      <td>23.4500</td>\n",
       "    </tr>\n",
       "    <tr>\n",
       "      <td>889</td>\n",
       "      <td>890</td>\n",
       "      <td>1</td>\n",
       "      <td>30.0000</td>\n",
       "    </tr>\n",
       "    <tr>\n",
       "      <td>890</td>\n",
       "      <td>891</td>\n",
       "      <td>0</td>\n",
       "      <td>7.7500</td>\n",
       "    </tr>\n",
       "  </tbody>\n",
       "</table>\n",
       "<p>891 rows × 3 columns</p>\n",
       "</div>"
      ],
      "text/plain": [
       "     PassengerId  Survived     Fare\n",
       "0              1         0   7.2500\n",
       "1              2         1  71.2833\n",
       "2              3         1   7.9250\n",
       "3              4         1  53.1000\n",
       "4              5         0   8.0500\n",
       "..           ...       ...      ...\n",
       "886          887         0  13.0000\n",
       "887          888         1  30.0000\n",
       "888          889         0  23.4500\n",
       "889          890         1  30.0000\n",
       "890          891         0   7.7500\n",
       "\n",
       "[891 rows x 3 columns]"
      ]
     },
     "execution_count": 17,
     "metadata": {},
     "output_type": "execute_result"
    }
   ],
   "source": [
    "#selecting mulitpile columns: To get the multipile columns you need to use List, \n",
    "\n",
    "df[['PassengerId','Survived','Fare']]\n"
   ]
  },
  {
   "cell_type": "code",
   "execution_count": 18,
   "metadata": {},
   "outputs": [
    {
     "data": {
      "text/html": [
       "<div>\n",
       "<style scoped>\n",
       "    .dataframe tbody tr th:only-of-type {\n",
       "        vertical-align: middle;\n",
       "    }\n",
       "\n",
       "    .dataframe tbody tr th {\n",
       "        vertical-align: top;\n",
       "    }\n",
       "\n",
       "    .dataframe thead th {\n",
       "        text-align: right;\n",
       "    }\n",
       "</style>\n",
       "<table border=\"1\" class=\"dataframe\">\n",
       "  <thead>\n",
       "    <tr style=\"text-align: right;\">\n",
       "      <th></th>\n",
       "      <th>PassengerId</th>\n",
       "      <th>Survived</th>\n",
       "      <th>Pclass</th>\n",
       "      <th>Name</th>\n",
       "      <th>Sex</th>\n",
       "      <th>Age</th>\n",
       "      <th>SibSp</th>\n",
       "      <th>Parch</th>\n",
       "      <th>Ticket</th>\n",
       "      <th>Fare</th>\n",
       "      <th>Cabin</th>\n",
       "      <th>Embarked</th>\n",
       "    </tr>\n",
       "  </thead>\n",
       "  <tbody>\n",
       "    <tr>\n",
       "      <td>0</td>\n",
       "      <td>1</td>\n",
       "      <td>0</td>\n",
       "      <td>3</td>\n",
       "      <td>Braund, Mr. Owen Harris</td>\n",
       "      <td>male</td>\n",
       "      <td>22.0</td>\n",
       "      <td>1</td>\n",
       "      <td>0</td>\n",
       "      <td>A/5 21171</td>\n",
       "      <td>7.2500</td>\n",
       "      <td>NaN</td>\n",
       "      <td>S</td>\n",
       "    </tr>\n",
       "    <tr>\n",
       "      <td>1</td>\n",
       "      <td>2</td>\n",
       "      <td>1</td>\n",
       "      <td>1</td>\n",
       "      <td>Cumings, Mrs. John Bradley (Florence Briggs Th...</td>\n",
       "      <td>female</td>\n",
       "      <td>38.0</td>\n",
       "      <td>1</td>\n",
       "      <td>0</td>\n",
       "      <td>PC 17599</td>\n",
       "      <td>71.2833</td>\n",
       "      <td>C85</td>\n",
       "      <td>C</td>\n",
       "    </tr>\n",
       "    <tr>\n",
       "      <td>2</td>\n",
       "      <td>3</td>\n",
       "      <td>1</td>\n",
       "      <td>3</td>\n",
       "      <td>Heikkinen, Miss. Laina</td>\n",
       "      <td>female</td>\n",
       "      <td>26.0</td>\n",
       "      <td>0</td>\n",
       "      <td>0</td>\n",
       "      <td>STON/O2. 3101282</td>\n",
       "      <td>7.9250</td>\n",
       "      <td>NaN</td>\n",
       "      <td>S</td>\n",
       "    </tr>\n",
       "    <tr>\n",
       "      <td>3</td>\n",
       "      <td>4</td>\n",
       "      <td>1</td>\n",
       "      <td>1</td>\n",
       "      <td>Futrelle, Mrs. Jacques Heath (Lily May Peel)</td>\n",
       "      <td>female</td>\n",
       "      <td>35.0</td>\n",
       "      <td>1</td>\n",
       "      <td>0</td>\n",
       "      <td>113803</td>\n",
       "      <td>53.1000</td>\n",
       "      <td>C123</td>\n",
       "      <td>S</td>\n",
       "    </tr>\n",
       "    <tr>\n",
       "      <td>4</td>\n",
       "      <td>5</td>\n",
       "      <td>0</td>\n",
       "      <td>3</td>\n",
       "      <td>Allen, Mr. William Henry</td>\n",
       "      <td>male</td>\n",
       "      <td>35.0</td>\n",
       "      <td>0</td>\n",
       "      <td>0</td>\n",
       "      <td>373450</td>\n",
       "      <td>8.0500</td>\n",
       "      <td>NaN</td>\n",
       "      <td>S</td>\n",
       "    </tr>\n",
       "  </tbody>\n",
       "</table>\n",
       "</div>"
      ],
      "text/plain": [
       "   PassengerId  Survived  Pclass  \\\n",
       "0            1         0       3   \n",
       "1            2         1       1   \n",
       "2            3         1       3   \n",
       "3            4         1       1   \n",
       "4            5         0       3   \n",
       "\n",
       "                                                Name     Sex   Age  SibSp  \\\n",
       "0                            Braund, Mr. Owen Harris    male  22.0      1   \n",
       "1  Cumings, Mrs. John Bradley (Florence Briggs Th...  female  38.0      1   \n",
       "2                             Heikkinen, Miss. Laina  female  26.0      0   \n",
       "3       Futrelle, Mrs. Jacques Heath (Lily May Peel)  female  35.0      1   \n",
       "4                           Allen, Mr. William Henry    male  35.0      0   \n",
       "\n",
       "   Parch            Ticket     Fare Cabin Embarked  \n",
       "0      0         A/5 21171   7.2500   NaN        S  \n",
       "1      0          PC 17599  71.2833   C85        C  \n",
       "2      0  STON/O2. 3101282   7.9250   NaN        S  \n",
       "3      0            113803  53.1000  C123        S  \n",
       "4      0            373450   8.0500   NaN        S  "
      ]
     },
     "execution_count": 18,
     "metadata": {},
     "output_type": "execute_result"
    }
   ],
   "source": [
    "#selecting rows by their positions \n",
    "df.iloc[0:5]\n"
   ]
  },
  {
   "cell_type": "code",
   "execution_count": 19,
   "metadata": {},
   "outputs": [
    {
     "data": {
      "text/html": [
       "<div>\n",
       "<style scoped>\n",
       "    .dataframe tbody tr th:only-of-type {\n",
       "        vertical-align: middle;\n",
       "    }\n",
       "\n",
       "    .dataframe tbody tr th {\n",
       "        vertical-align: top;\n",
       "    }\n",
       "\n",
       "    .dataframe thead th {\n",
       "        text-align: right;\n",
       "    }\n",
       "</style>\n",
       "<table border=\"1\" class=\"dataframe\">\n",
       "  <thead>\n",
       "    <tr style=\"text-align: right;\">\n",
       "      <th></th>\n",
       "      <th>PassengerId</th>\n",
       "      <th>Survived</th>\n",
       "    </tr>\n",
       "  </thead>\n",
       "  <tbody>\n",
       "    <tr>\n",
       "      <td>0</td>\n",
       "      <td>1</td>\n",
       "      <td>0</td>\n",
       "    </tr>\n",
       "    <tr>\n",
       "      <td>1</td>\n",
       "      <td>2</td>\n",
       "      <td>1</td>\n",
       "    </tr>\n",
       "    <tr>\n",
       "      <td>2</td>\n",
       "      <td>3</td>\n",
       "      <td>1</td>\n",
       "    </tr>\n",
       "    <tr>\n",
       "      <td>3</td>\n",
       "      <td>4</td>\n",
       "      <td>1</td>\n",
       "    </tr>\n",
       "    <tr>\n",
       "      <td>4</td>\n",
       "      <td>5</td>\n",
       "      <td>0</td>\n",
       "    </tr>\n",
       "  </tbody>\n",
       "</table>\n",
       "</div>"
      ],
      "text/plain": [
       "   PassengerId  Survived\n",
       "0            1         0\n",
       "1            2         1\n",
       "2            3         1\n",
       "3            4         1\n",
       "4            5         0"
      ]
     },
     "execution_count": 19,
     "metadata": {},
     "output_type": "execute_result"
    }
   ],
   "source": [
    "#selecting columns by their positions\n",
    "\n",
    "df.iloc[0:5,0:2]"
   ]
  },
  {
   "cell_type": "code",
   "execution_count": 20,
   "metadata": {},
   "outputs": [
    {
     "data": {
      "text/plain": [
       "0      False\n",
       "1       True\n",
       "2       True\n",
       "3       True\n",
       "4      False\n",
       "       ...  \n",
       "886    False\n",
       "887     True\n",
       "888    False\n",
       "889     True\n",
       "890    False\n",
       "Name: Survived, Length: 891, dtype: bool"
      ]
     },
     "execution_count": 20,
     "metadata": {},
     "output_type": "execute_result"
    }
   ],
   "source": [
    "df['Survived']==1"
   ]
  },
  {
   "cell_type": "code",
   "execution_count": 21,
   "metadata": {},
   "outputs": [
    {
     "data": {
      "text/html": [
       "<div>\n",
       "<style scoped>\n",
       "    .dataframe tbody tr th:only-of-type {\n",
       "        vertical-align: middle;\n",
       "    }\n",
       "\n",
       "    .dataframe tbody tr th {\n",
       "        vertical-align: top;\n",
       "    }\n",
       "\n",
       "    .dataframe thead th {\n",
       "        text-align: right;\n",
       "    }\n",
       "</style>\n",
       "<table border=\"1\" class=\"dataframe\">\n",
       "  <thead>\n",
       "    <tr style=\"text-align: right;\">\n",
       "      <th></th>\n",
       "      <th>PassengerId</th>\n",
       "      <th>Survived</th>\n",
       "      <th>Pclass</th>\n",
       "      <th>Name</th>\n",
       "      <th>Sex</th>\n",
       "      <th>Age</th>\n",
       "      <th>SibSp</th>\n",
       "      <th>Parch</th>\n",
       "      <th>Ticket</th>\n",
       "      <th>Fare</th>\n",
       "      <th>Cabin</th>\n",
       "      <th>Embarked</th>\n",
       "    </tr>\n",
       "  </thead>\n",
       "  <tbody>\n",
       "    <tr>\n",
       "      <td>1</td>\n",
       "      <td>2</td>\n",
       "      <td>1</td>\n",
       "      <td>1</td>\n",
       "      <td>Cumings, Mrs. John Bradley (Florence Briggs Th...</td>\n",
       "      <td>female</td>\n",
       "      <td>38.0</td>\n",
       "      <td>1</td>\n",
       "      <td>0</td>\n",
       "      <td>PC 17599</td>\n",
       "      <td>71.2833</td>\n",
       "      <td>C85</td>\n",
       "      <td>C</td>\n",
       "    </tr>\n",
       "    <tr>\n",
       "      <td>2</td>\n",
       "      <td>3</td>\n",
       "      <td>1</td>\n",
       "      <td>3</td>\n",
       "      <td>Heikkinen, Miss. Laina</td>\n",
       "      <td>female</td>\n",
       "      <td>26.0</td>\n",
       "      <td>0</td>\n",
       "      <td>0</td>\n",
       "      <td>STON/O2. 3101282</td>\n",
       "      <td>7.9250</td>\n",
       "      <td>NaN</td>\n",
       "      <td>S</td>\n",
       "    </tr>\n",
       "    <tr>\n",
       "      <td>3</td>\n",
       "      <td>4</td>\n",
       "      <td>1</td>\n",
       "      <td>1</td>\n",
       "      <td>Futrelle, Mrs. Jacques Heath (Lily May Peel)</td>\n",
       "      <td>female</td>\n",
       "      <td>35.0</td>\n",
       "      <td>1</td>\n",
       "      <td>0</td>\n",
       "      <td>113803</td>\n",
       "      <td>53.1000</td>\n",
       "      <td>C123</td>\n",
       "      <td>S</td>\n",
       "    </tr>\n",
       "    <tr>\n",
       "      <td>8</td>\n",
       "      <td>9</td>\n",
       "      <td>1</td>\n",
       "      <td>3</td>\n",
       "      <td>Johnson, Mrs. Oscar W (Elisabeth Vilhelmina Berg)</td>\n",
       "      <td>female</td>\n",
       "      <td>27.0</td>\n",
       "      <td>0</td>\n",
       "      <td>2</td>\n",
       "      <td>347742</td>\n",
       "      <td>11.1333</td>\n",
       "      <td>NaN</td>\n",
       "      <td>S</td>\n",
       "    </tr>\n",
       "    <tr>\n",
       "      <td>9</td>\n",
       "      <td>10</td>\n",
       "      <td>1</td>\n",
       "      <td>2</td>\n",
       "      <td>Nasser, Mrs. Nicholas (Adele Achem)</td>\n",
       "      <td>female</td>\n",
       "      <td>14.0</td>\n",
       "      <td>1</td>\n",
       "      <td>0</td>\n",
       "      <td>237736</td>\n",
       "      <td>30.0708</td>\n",
       "      <td>NaN</td>\n",
       "      <td>C</td>\n",
       "    </tr>\n",
       "    <tr>\n",
       "      <td>...</td>\n",
       "      <td>...</td>\n",
       "      <td>...</td>\n",
       "      <td>...</td>\n",
       "      <td>...</td>\n",
       "      <td>...</td>\n",
       "      <td>...</td>\n",
       "      <td>...</td>\n",
       "      <td>...</td>\n",
       "      <td>...</td>\n",
       "      <td>...</td>\n",
       "      <td>...</td>\n",
       "      <td>...</td>\n",
       "    </tr>\n",
       "    <tr>\n",
       "      <td>875</td>\n",
       "      <td>876</td>\n",
       "      <td>1</td>\n",
       "      <td>3</td>\n",
       "      <td>Najib, Miss. Adele Kiamie \"Jane\"</td>\n",
       "      <td>female</td>\n",
       "      <td>15.0</td>\n",
       "      <td>0</td>\n",
       "      <td>0</td>\n",
       "      <td>2667</td>\n",
       "      <td>7.2250</td>\n",
       "      <td>NaN</td>\n",
       "      <td>C</td>\n",
       "    </tr>\n",
       "    <tr>\n",
       "      <td>879</td>\n",
       "      <td>880</td>\n",
       "      <td>1</td>\n",
       "      <td>1</td>\n",
       "      <td>Potter, Mrs. Thomas Jr (Lily Alexenia Wilson)</td>\n",
       "      <td>female</td>\n",
       "      <td>56.0</td>\n",
       "      <td>0</td>\n",
       "      <td>1</td>\n",
       "      <td>11767</td>\n",
       "      <td>83.1583</td>\n",
       "      <td>C50</td>\n",
       "      <td>C</td>\n",
       "    </tr>\n",
       "    <tr>\n",
       "      <td>880</td>\n",
       "      <td>881</td>\n",
       "      <td>1</td>\n",
       "      <td>2</td>\n",
       "      <td>Shelley, Mrs. William (Imanita Parrish Hall)</td>\n",
       "      <td>female</td>\n",
       "      <td>25.0</td>\n",
       "      <td>0</td>\n",
       "      <td>1</td>\n",
       "      <td>230433</td>\n",
       "      <td>26.0000</td>\n",
       "      <td>NaN</td>\n",
       "      <td>S</td>\n",
       "    </tr>\n",
       "    <tr>\n",
       "      <td>887</td>\n",
       "      <td>888</td>\n",
       "      <td>1</td>\n",
       "      <td>1</td>\n",
       "      <td>Graham, Miss. Margaret Edith</td>\n",
       "      <td>female</td>\n",
       "      <td>19.0</td>\n",
       "      <td>0</td>\n",
       "      <td>0</td>\n",
       "      <td>112053</td>\n",
       "      <td>30.0000</td>\n",
       "      <td>B42</td>\n",
       "      <td>S</td>\n",
       "    </tr>\n",
       "    <tr>\n",
       "      <td>889</td>\n",
       "      <td>890</td>\n",
       "      <td>1</td>\n",
       "      <td>1</td>\n",
       "      <td>Behr, Mr. Karl Howell</td>\n",
       "      <td>male</td>\n",
       "      <td>26.0</td>\n",
       "      <td>0</td>\n",
       "      <td>0</td>\n",
       "      <td>111369</td>\n",
       "      <td>30.0000</td>\n",
       "      <td>C148</td>\n",
       "      <td>C</td>\n",
       "    </tr>\n",
       "  </tbody>\n",
       "</table>\n",
       "<p>342 rows × 12 columns</p>\n",
       "</div>"
      ],
      "text/plain": [
       "     PassengerId  Survived  Pclass  \\\n",
       "1              2         1       1   \n",
       "2              3         1       3   \n",
       "3              4         1       1   \n",
       "8              9         1       3   \n",
       "9             10         1       2   \n",
       "..           ...       ...     ...   \n",
       "875          876         1       3   \n",
       "879          880         1       1   \n",
       "880          881         1       2   \n",
       "887          888         1       1   \n",
       "889          890         1       1   \n",
       "\n",
       "                                                  Name     Sex   Age  SibSp  \\\n",
       "1    Cumings, Mrs. John Bradley (Florence Briggs Th...  female  38.0      1   \n",
       "2                               Heikkinen, Miss. Laina  female  26.0      0   \n",
       "3         Futrelle, Mrs. Jacques Heath (Lily May Peel)  female  35.0      1   \n",
       "8    Johnson, Mrs. Oscar W (Elisabeth Vilhelmina Berg)  female  27.0      0   \n",
       "9                  Nasser, Mrs. Nicholas (Adele Achem)  female  14.0      1   \n",
       "..                                                 ...     ...   ...    ...   \n",
       "875                   Najib, Miss. Adele Kiamie \"Jane\"  female  15.0      0   \n",
       "879      Potter, Mrs. Thomas Jr (Lily Alexenia Wilson)  female  56.0      0   \n",
       "880       Shelley, Mrs. William (Imanita Parrish Hall)  female  25.0      0   \n",
       "887                       Graham, Miss. Margaret Edith  female  19.0      0   \n",
       "889                              Behr, Mr. Karl Howell    male  26.0      0   \n",
       "\n",
       "     Parch            Ticket     Fare Cabin Embarked  \n",
       "1        0          PC 17599  71.2833   C85        C  \n",
       "2        0  STON/O2. 3101282   7.9250   NaN        S  \n",
       "3        0            113803  53.1000  C123        S  \n",
       "8        2            347742  11.1333   NaN        S  \n",
       "9        0            237736  30.0708   NaN        C  \n",
       "..     ...               ...      ...   ...      ...  \n",
       "875      0              2667   7.2250   NaN        C  \n",
       "879      1             11767  83.1583   C50        C  \n",
       "880      1            230433  26.0000   NaN        S  \n",
       "887      0            112053  30.0000   B42        S  \n",
       "889      0            111369  30.0000  C148        C  \n",
       "\n",
       "[342 rows x 12 columns]"
      ]
     },
     "execution_count": 21,
     "metadata": {},
     "output_type": "execute_result"
    }
   ],
   "source": [
    "df[df['Survived']==1]"
   ]
  },
  {
   "cell_type": "code",
   "execution_count": 22,
   "metadata": {},
   "outputs": [],
   "source": [
    "df3 = df[df['Survived']==1]"
   ]
  },
  {
   "cell_type": "code",
   "execution_count": 52,
   "metadata": {},
   "outputs": [
    {
     "data": {
      "text/html": [
       "<div>\n",
       "<style scoped>\n",
       "    .dataframe tbody tr th:only-of-type {\n",
       "        vertical-align: middle;\n",
       "    }\n",
       "\n",
       "    .dataframe tbody tr th {\n",
       "        vertical-align: top;\n",
       "    }\n",
       "\n",
       "    .dataframe thead th {\n",
       "        text-align: right;\n",
       "    }\n",
       "</style>\n",
       "<table border=\"1\" class=\"dataframe\">\n",
       "  <thead>\n",
       "    <tr style=\"text-align: right;\">\n",
       "      <th></th>\n",
       "      <th>PassengerId</th>\n",
       "      <th>Survived</th>\n",
       "      <th>Pclass</th>\n",
       "      <th>Name</th>\n",
       "      <th>Sex</th>\n",
       "      <th>Age</th>\n",
       "      <th>SibSp</th>\n",
       "      <th>Parch</th>\n",
       "      <th>Ticket</th>\n",
       "      <th>Fare</th>\n",
       "      <th>Cabin</th>\n",
       "      <th>Embarked</th>\n",
       "    </tr>\n",
       "  </thead>\n",
       "  <tbody>\n",
       "    <tr>\n",
       "      <td>1</td>\n",
       "      <td>2</td>\n",
       "      <td>1</td>\n",
       "      <td>1</td>\n",
       "      <td>Cumings, Mrs. John Bradley (Florence Briggs Th...</td>\n",
       "      <td>female</td>\n",
       "      <td>38.0</td>\n",
       "      <td>1</td>\n",
       "      <td>0</td>\n",
       "      <td>PC 17599</td>\n",
       "      <td>71.2833</td>\n",
       "      <td>C85</td>\n",
       "      <td>C</td>\n",
       "    </tr>\n",
       "    <tr>\n",
       "      <td>2</td>\n",
       "      <td>3</td>\n",
       "      <td>1</td>\n",
       "      <td>3</td>\n",
       "      <td>Heikkinen, Miss. Laina</td>\n",
       "      <td>female</td>\n",
       "      <td>26.0</td>\n",
       "      <td>0</td>\n",
       "      <td>0</td>\n",
       "      <td>STON/O2. 3101282</td>\n",
       "      <td>7.9250</td>\n",
       "      <td>NaN</td>\n",
       "      <td>S</td>\n",
       "    </tr>\n",
       "    <tr>\n",
       "      <td>3</td>\n",
       "      <td>4</td>\n",
       "      <td>1</td>\n",
       "      <td>1</td>\n",
       "      <td>Futrelle, Mrs. Jacques Heath (Lily May Peel)</td>\n",
       "      <td>female</td>\n",
       "      <td>35.0</td>\n",
       "      <td>1</td>\n",
       "      <td>0</td>\n",
       "      <td>113803</td>\n",
       "      <td>53.1000</td>\n",
       "      <td>C123</td>\n",
       "      <td>S</td>\n",
       "    </tr>\n",
       "  </tbody>\n",
       "</table>\n",
       "</div>"
      ],
      "text/plain": [
       "   PassengerId  Survived  Pclass  \\\n",
       "1            2         1       1   \n",
       "2            3         1       3   \n",
       "3            4         1       1   \n",
       "\n",
       "                                                Name     Sex   Age  SibSp  \\\n",
       "1  Cumings, Mrs. John Bradley (Florence Briggs Th...  female  38.0      1   \n",
       "2                             Heikkinen, Miss. Laina  female  26.0      0   \n",
       "3       Futrelle, Mrs. Jacques Heath (Lily May Peel)  female  35.0      1   \n",
       "\n",
       "   Parch            Ticket     Fare Cabin Embarked  \n",
       "1      0          PC 17599  71.2833   C85        C  \n",
       "2      0  STON/O2. 3101282   7.9250   NaN        S  \n",
       "3      0            113803  53.1000  C123        S  "
      ]
     },
     "execution_count": 52,
     "metadata": {},
     "output_type": "execute_result"
    }
   ],
   "source": [
    "df3[:3]"
   ]
  },
  {
   "cell_type": "code",
   "execution_count": 23,
   "metadata": {},
   "outputs": [],
   "source": [
    "#Mode: If you wanted to know fav subject of the student\n",
    "# We cant summarize continuous data using mode\n",
    "\n",
    "import pandas as pd"
   ]
  },
  {
   "cell_type": "code",
   "execution_count": 24,
   "metadata": {},
   "outputs": [],
   "source": [
    "df4 = pd.read_csv(\"./iris/mode.csv\")"
   ]
  },
  {
   "cell_type": "code",
   "execution_count": 55,
   "metadata": {},
   "outputs": [
    {
     "data": {
      "text/html": [
       "<div>\n",
       "<style scoped>\n",
       "    .dataframe tbody tr th:only-of-type {\n",
       "        vertical-align: middle;\n",
       "    }\n",
       "\n",
       "    .dataframe tbody tr th {\n",
       "        vertical-align: top;\n",
       "    }\n",
       "\n",
       "    .dataframe thead th {\n",
       "        text-align: right;\n",
       "    }\n",
       "</style>\n",
       "<table border=\"1\" class=\"dataframe\">\n",
       "  <thead>\n",
       "    <tr style=\"text-align: right;\">\n",
       "      <th></th>\n",
       "      <th>Student</th>\n",
       "      <th>Overall Marks</th>\n",
       "      <th>Gender</th>\n",
       "      <th>Subject</th>\n",
       "    </tr>\n",
       "  </thead>\n",
       "  <tbody>\n",
       "    <tr>\n",
       "      <td>0</td>\n",
       "      <td>Anish</td>\n",
       "      <td>97</td>\n",
       "      <td>Male</td>\n",
       "      <td>English</td>\n",
       "    </tr>\n",
       "    <tr>\n",
       "      <td>1</td>\n",
       "      <td>Rishabh</td>\n",
       "      <td>83</td>\n",
       "      <td>Male</td>\n",
       "      <td>English</td>\n",
       "    </tr>\n",
       "    <tr>\n",
       "      <td>2</td>\n",
       "      <td>Ajay</td>\n",
       "      <td>78</td>\n",
       "      <td>Male</td>\n",
       "      <td>Physics</td>\n",
       "    </tr>\n",
       "    <tr>\n",
       "      <td>3</td>\n",
       "      <td>Abhinav</td>\n",
       "      <td>86</td>\n",
       "      <td>Male</td>\n",
       "      <td>Chemistry</td>\n",
       "    </tr>\n",
       "    <tr>\n",
       "      <td>4</td>\n",
       "      <td>Anurag</td>\n",
       "      <td>91</td>\n",
       "      <td>Male</td>\n",
       "      <td>English</td>\n",
       "    </tr>\n",
       "  </tbody>\n",
       "</table>\n",
       "</div>"
      ],
      "text/plain": [
       "   Student  Overall Marks Gender    Subject\n",
       "0    Anish             97   Male    English\n",
       "1  Rishabh             83   Male    English\n",
       "2     Ajay             78   Male    Physics\n",
       "3  Abhinav             86   Male  Chemistry\n",
       "4   Anurag             91   Male    English"
      ]
     },
     "execution_count": 55,
     "metadata": {},
     "output_type": "execute_result"
    }
   ],
   "source": [
    "df4.head()\n"
   ]
  },
  {
   "cell_type": "code",
   "execution_count": 56,
   "metadata": {},
   "outputs": [],
   "source": [
    "mode_data = df4[\"Subject\"].mode()\n"
   ]
  },
  {
   "cell_type": "code",
   "execution_count": 57,
   "metadata": {},
   "outputs": [
    {
     "name": "stdout",
     "output_type": "stream",
     "text": [
      "0    Chemistry\n",
      "dtype: object\n"
     ]
    }
   ],
   "source": [
    "print(mode_data)"
   ]
  },
  {
   "cell_type": "raw",
   "metadata": {},
   "source": [
    "#Types of variables\n",
    "\n",
    "Continuos Variable : Contineous Numeric Values (Marks), winning time in a race\n",
    "Caegorical Variable: Gender (male, Female)\n",
    "  .Nominal Variable : Those who don't have inherit order to them, Gender (Male, Female)\n",
    "  .Ordinal Variable : Teacher Feedback (Good, Bad, Excellent)\n",
    "      Good is better then bed and excellent is better then good so\n",
    "       Excellent > Good > Bad\n",
    "Discrete: Countable, nothing in between, digital (10:42)\n",
    "Number of oragnes in a bag\n"
   ]
  },
  {
   "cell_type": "code",
   "execution_count": 58,
   "metadata": {},
   "outputs": [
    {
     "name": "stdout",
     "output_type": "stream",
     "text": [
      "68.21\n"
     ]
    }
   ],
   "source": [
    "#Mean: mean is not sifinificant to use when any values changes significantely \n",
    "\n",
    "#Quantify the performance of the class based on the marks recieved to the student\n",
    "\n",
    "import pandas as pd\n",
    "#general use case file\n",
    "df5 = pd.read_csv(\"./iris/mode.csv\")\n",
    " \n",
    "#Overall Marks\n",
    "mean_data = df5[\"Overall Marks\"].mean()\n",
    "print(mean_data)\n",
    "\n"
   ]
  },
  {
   "cell_type": "code",
   "execution_count": 59,
   "metadata": {},
   "outputs": [
    {
     "data": {
      "text/html": [
       "<div>\n",
       "<style scoped>\n",
       "    .dataframe tbody tr th:only-of-type {\n",
       "        vertical-align: middle;\n",
       "    }\n",
       "\n",
       "    .dataframe tbody tr th {\n",
       "        vertical-align: top;\n",
       "    }\n",
       "\n",
       "    .dataframe thead th {\n",
       "        text-align: right;\n",
       "    }\n",
       "</style>\n",
       "<table border=\"1\" class=\"dataframe\">\n",
       "  <thead>\n",
       "    <tr style=\"text-align: right;\">\n",
       "      <th></th>\n",
       "      <th>Student</th>\n",
       "      <th>Overall Marks</th>\n",
       "      <th>Gender</th>\n",
       "      <th>Subject</th>\n",
       "    </tr>\n",
       "  </thead>\n",
       "  <tbody>\n",
       "    <tr>\n",
       "      <td>96</td>\n",
       "      <td>vivek</td>\n",
       "      <td>55</td>\n",
       "      <td>Male</td>\n",
       "      <td>Physics</td>\n",
       "    </tr>\n",
       "    <tr>\n",
       "      <td>97</td>\n",
       "      <td>Tisha</td>\n",
       "      <td>7</td>\n",
       "      <td>Female</td>\n",
       "      <td>English</td>\n",
       "    </tr>\n",
       "    <tr>\n",
       "      <td>98</td>\n",
       "      <td>Raghav</td>\n",
       "      <td>73</td>\n",
       "      <td>Male</td>\n",
       "      <td>English</td>\n",
       "    </tr>\n",
       "    <tr>\n",
       "      <td>99</td>\n",
       "      <td>Ishita</td>\n",
       "      <td>82</td>\n",
       "      <td>Female</td>\n",
       "      <td>Chemistry</td>\n",
       "    </tr>\n",
       "    <tr>\n",
       "      <td>100</td>\n",
       "      <td>Ishita1</td>\n",
       "      <td>10000</td>\n",
       "      <td>Female</td>\n",
       "      <td>Chemistry</td>\n",
       "    </tr>\n",
       "  </tbody>\n",
       "</table>\n",
       "</div>"
      ],
      "text/plain": [
       "     Student  Overall Marks  Gender    Subject\n",
       "96     vivek             55    Male    Physics\n",
       "97     Tisha              7  Female    English\n",
       "98    Raghav             73    Male    English\n",
       "99    Ishita             82  Female  Chemistry\n",
       "100  Ishita1          10000  Female  Chemistry"
      ]
     },
     "execution_count": 59,
     "metadata": {},
     "output_type": "execute_result"
    }
   ],
   "source": [
    "#if the value is very big then the above mean is not usefu, plz see the below example\n",
    "df6 = pd.read_csv(\"./iris/mode-Copy1.csv\")\n",
    "df6.tail()\n",
    "\n"
   ]
  },
  {
   "cell_type": "code",
   "execution_count": 60,
   "metadata": {},
   "outputs": [
    {
     "name": "stdout",
     "output_type": "stream",
     "text": [
      "166.54455445544554\n"
     ]
    }
   ],
   "source": [
    "#Overall Marks\n",
    "mean_data = df6[\"Overall Marks\"].mean()\n",
    "print(mean_data)"
   ]
  },
  {
   "cell_type": "code",
   "execution_count": 61,
   "metadata": {},
   "outputs": [
    {
     "name": "stdout",
     "output_type": "stream",
     "text": [
      "Cost    5.0\n",
      "dtype: float64\n"
     ]
    },
    {
     "data": {
      "text/plain": [
       "(2, 2, 4, 5, 8, 8, 9)"
      ]
     },
     "execution_count": 61,
     "metadata": {},
     "output_type": "execute_result"
    }
   ],
   "source": [
    "#Median: Absoulte central value of the data set\n",
    "#If there is a lot of outliers in the dataset, go with median\n",
    "\n",
    "#Step1: Arrange the data in to Ascending order\n",
    "#Step2: Count the nubmer of elements in the dataset\n",
    "#if the number of elements in the dataset is odd, the middle most element is the median,\n",
    "#i.e  if we have n elements, the median would be n+1/2th element in the sotred series\n",
    "\n",
    "#if the numbers of elements in the data is even, then the median would be the average of two central elements.\n",
    "#So the median would be the average of n/2 th and n/2 +1 the elements\n",
    "\n",
    "# Create the dataframe \n",
    "df = pd.DataFrame({'Cost':[2, 2, 4,8,9, 5,8]}) \n",
    " \n",
    "print(df.median(axis = 0))\n",
    "# Step0: Sort the element first (V.IMP)\n",
    "2,2,4,5,8,8,9\n",
    "# Step1: the no of elements in the dataset is even\n",
    "# 2,2,4,5,8,8,9 : odd (7)\n",
    "# Step2:\n",
    "# n+1/2 433\n",
    "\n",
    "\n"
   ]
  },
  {
   "cell_type": "code",
   "execution_count": 62,
   "metadata": {},
   "outputs": [
    {
     "name": "stdout",
     "output_type": "stream",
     "text": [
      "Cost    4.5\n",
      "dtype: float64\n"
     ]
    },
    {
     "data": {
      "text/plain": [
       "(2, 2, 4, 5, 8, 8)"
      ]
     },
     "execution_count": 62,
     "metadata": {},
     "output_type": "execute_result"
    }
   ],
   "source": [
    "# Create the dataframe \n",
    "medianEven = pd.DataFrame({'Cost':[2,2,4,5,8,8]}) \n",
    " \n",
    "print(medianEven.median(axis = 0))\n",
    "# Step0: Sort the element first (V.IMP)\n",
    "2,2,4,5,8,8\n",
    "# Step1: the no of elements in the dataset is even\n",
    "# 2,2,4,5,8,8 : even (6)\n",
    "# Step2:\n",
    "# n/2, n+1/2\n",
    "# 4+5/2 \n",
    "\n",
    "\n"
   ]
  },
  {
   "cell_type": "code",
   "execution_count": 63,
   "metadata": {},
   "outputs": [],
   "source": [
    "# 0 quartile = 0 quantile = 0 percentile\n",
    "\n",
    "# 1 quartile = 0.25 quantile = 25 percentile\n",
    "\n",
    "# 2 quartile = .5 quantile = 50 percentile (median)\n",
    "\n",
    "# 3 quartile = .75 quantile = 75 percentile\n",
    "\n",
    "# 4 quartile = 1 quantile = 100 percentile"
   ]
  },
  {
   "cell_type": "code",
   "execution_count": 64,
   "metadata": {},
   "outputs": [
    {
     "data": {
      "text/html": [
       "<div>\n",
       "<style scoped>\n",
       "    .dataframe tbody tr th:only-of-type {\n",
       "        vertical-align: middle;\n",
       "    }\n",
       "\n",
       "    .dataframe tbody tr th {\n",
       "        vertical-align: top;\n",
       "    }\n",
       "\n",
       "    .dataframe thead th {\n",
       "        text-align: right;\n",
       "    }\n",
       "</style>\n",
       "<table border=\"1\" class=\"dataframe\">\n",
       "  <thead>\n",
       "    <tr style=\"text-align: right;\">\n",
       "      <th></th>\n",
       "      <th>Student</th>\n",
       "      <th>Overall Marks</th>\n",
       "      <th>Gender</th>\n",
       "      <th>Subject</th>\n",
       "    </tr>\n",
       "  </thead>\n",
       "  <tbody>\n",
       "    <tr>\n",
       "      <td>96</td>\n",
       "      <td>vivek</td>\n",
       "      <td>55</td>\n",
       "      <td>Male</td>\n",
       "      <td>Physics</td>\n",
       "    </tr>\n",
       "    <tr>\n",
       "      <td>97</td>\n",
       "      <td>Tisha</td>\n",
       "      <td>7</td>\n",
       "      <td>Female</td>\n",
       "      <td>English</td>\n",
       "    </tr>\n",
       "    <tr>\n",
       "      <td>98</td>\n",
       "      <td>Raghav</td>\n",
       "      <td>73</td>\n",
       "      <td>Male</td>\n",
       "      <td>English</td>\n",
       "    </tr>\n",
       "    <tr>\n",
       "      <td>99</td>\n",
       "      <td>Ishita</td>\n",
       "      <td>82</td>\n",
       "      <td>Female</td>\n",
       "      <td>Chemistry</td>\n",
       "    </tr>\n",
       "    <tr>\n",
       "      <td>100</td>\n",
       "      <td>Ishita1</td>\n",
       "      <td>10000</td>\n",
       "      <td>Female</td>\n",
       "      <td>Chemistry</td>\n",
       "    </tr>\n",
       "  </tbody>\n",
       "</table>\n",
       "</div>"
      ],
      "text/plain": [
       "     Student  Overall Marks  Gender    Subject\n",
       "96     vivek             55    Male    Physics\n",
       "97     Tisha              7  Female    English\n",
       "98    Raghav             73    Male    English\n",
       "99    Ishita             82  Female  Chemistry\n",
       "100  Ishita1          10000  Female  Chemistry"
      ]
     },
     "execution_count": 64,
     "metadata": {},
     "output_type": "execute_result"
    }
   ],
   "source": [
    "dfMedian = pd.read_csv(\"./iris/mode-Copy1.csv\")\n",
    "dfMedian.tail()\n"
   ]
  },
  {
   "cell_type": "code",
   "execution_count": 65,
   "metadata": {},
   "outputs": [
    {
     "data": {
      "text/plain": [
       "77.0"
      ]
     },
     "execution_count": 65,
     "metadata": {},
     "output_type": "execute_result"
    }
   ],
   "source": [
    "#calculating the median\n",
    "dfMedian['Overall Marks'].median()"
   ]
  },
  {
   "cell_type": "code",
   "execution_count": 66,
   "metadata": {},
   "outputs": [
    {
     "name": "stdout",
     "output_type": "stream",
     "text": [
      "First Quartile 58.0\n",
      "Second Quartile 77.0\n",
      "Third Quartile 88.0\n",
      "Fourth Quartile 10000.0\n",
      "Arbitary  Quartile 73.0\n"
     ]
    }
   ],
   "source": [
    "#quartile: divide the value of dataset into Quarters\n",
    "#Quantile: Any arbitary data, it can take any values between 0 and 1 (0.5,0.42)\n",
    "\n",
    "Q1 = dfMedian['Overall Marks'].quantile(0.25)\n",
    "Q2 = dfMedian['Overall Marks'].quantile(0.5)\n",
    "Q3 = dfMedian['Overall Marks'].quantile(0.75)\n",
    "Q4 = dfMedian['Overall Marks'].quantile(1)\n",
    "\n",
    "\n",
    "Q5 = dfMedian['Overall Marks'].quantile(0.42)\n",
    "\n",
    "\n",
    "print(\"First Quartile\",Q1)\n",
    "print(\"Second Quartile\",Q2)\n",
    "print(\"Third Quartile\",Q3)\n",
    "print(\"Fourth Quartile\",Q4)\n",
    "\n",
    "print(\"Arbitary  Quartile\",Q5)\n",
    "\n"
   ]
  },
  {
   "cell_type": "code",
   "execution_count": 67,
   "metadata": {},
   "outputs": [],
   "source": [
    "# What is the possible value for the median of the below wages?\n",
    "\n",
    "# Wage (in Rs)\tNo. of persons\n",
    "# 20-30         2 \n",
    "# 30-40\t        8\n",
    "# 40-50\t        20\n",
    "# 50-60\t        12\n",
    "# 60-70\t        8\n",
    "\n",
    "# Answer 47.5\n",
    "\n",
    "\n",
    "#Median = L +  [(n/2) − B] / G × w\n",
    "# L is the lower class boundary of the group containing the median \n",
    "# n is the total number of values \n",
    "# B is the cumulative frequency of the groups before the median group \n",
    "# G is the frequency of the median group \n",
    "# w is the group width \n",
    "# If you look at the problem, median class is 40 - 50. So, \n",
    "\n",
    "# L = 40\n",
    "\n",
    "# n = Total number of persons = 50\n",
    "\n",
    "# B = Cumulative frequency till the class 30 - 40 which is = 10\n",
    "\n",
    "# G = 20 \n",
    "\n",
    "# W = 10\n",
    "\n",
    "# If you impute these values in the above formula, you will get 47.5 as the answer.\n",
    "\n",
    "\n"
   ]
  },
  {
   "cell_type": "markdown",
   "metadata": {},
   "source": [
    "# Spread of the data\n",
    "## Range:\n",
    "**The difference b/w the smallest and largest values**\n",
    "\n",
    "The bigger the range the more spread out is the data\n",
    "\n",
    "## InterQunatileRange (IQR)\n",
    "**The difference b/w the third quartile and the first quartile**\n"
   ]
  },
  {
   "cell_type": "code",
   "execution_count": 68,
   "metadata": {},
   "outputs": [
    {
     "name": "stdout",
     "output_type": "stream",
     "text": [
      "Cost    7.0\n",
      "dtype: float64\n",
      "4.0\n",
      "7.0\n",
      "7.5\n",
      "100.0\n",
      "Range 98\n",
      "IQR 3.5\n"
     ]
    }
   ],
   "source": [
    "\n",
    "df1 = pd.DataFrame({'Cost':[2,2,4,4,5,7,7,7,8,9,100]}) \n",
    " \n",
    "print(df1.median(axis = 0))\n",
    "\n",
    "Q1 = df1['Cost'].quantile(0.25)\n",
    "Q2 = df1['Cost'].quantile(0.5)\n",
    "Q3 = df1['Cost'].quantile(0.75)\n",
    "Q4 = df1['Cost'].quantile(1)\n",
    "\n",
    "print(Q1)\n",
    "print(Q2)\n",
    "print(Q3)\n",
    "print(Q4)\n",
    "\n",
    "#Calculating the Range\n",
    "\n",
    "max_data = df1['Cost'].max()\n",
    "min_data = df1['Cost'].min()\n",
    "range_data = max_data - min_data\n",
    "print('Range',range_data)\n",
    "\n",
    "#interQuantile Range\n",
    "\n",
    "IQR = Q3-Q1\n",
    "print('IQR',IQR)\n"
   ]
  },
  {
   "cell_type": "markdown",
   "metadata": {},
   "source": [
    "# Variance of the data"
   ]
  },
  {
   "cell_type": "markdown",
   "metadata": {},
   "source": [
    "**Variance:** *takeing the each value into account, accross the spread of the data*\n",
    "\n",
    "*Are all students performing similarly, are is there any high difference in performance?*\n",
    "\n",
    "#Higher the variance value, consdier the data is spread more"
   ]
  },
  {
   "cell_type": "code",
   "execution_count": 69,
   "metadata": {},
   "outputs": [],
   "source": [
    "df7 = pd.read_csv(\"./iris/mode-Copy1.csv\")"
   ]
  },
  {
   "cell_type": "code",
   "execution_count": 70,
   "metadata": {},
   "outputs": [
    {
     "data": {
      "text/html": [
       "<div>\n",
       "<style scoped>\n",
       "    .dataframe tbody tr th:only-of-type {\n",
       "        vertical-align: middle;\n",
       "    }\n",
       "\n",
       "    .dataframe tbody tr th {\n",
       "        vertical-align: top;\n",
       "    }\n",
       "\n",
       "    .dataframe thead th {\n",
       "        text-align: right;\n",
       "    }\n",
       "</style>\n",
       "<table border=\"1\" class=\"dataframe\">\n",
       "  <thead>\n",
       "    <tr style=\"text-align: right;\">\n",
       "      <th></th>\n",
       "      <th>Student</th>\n",
       "      <th>Overall Marks</th>\n",
       "      <th>Gender</th>\n",
       "      <th>Subject</th>\n",
       "    </tr>\n",
       "  </thead>\n",
       "  <tbody>\n",
       "    <tr>\n",
       "      <td>96</td>\n",
       "      <td>vivek</td>\n",
       "      <td>55</td>\n",
       "      <td>Male</td>\n",
       "      <td>Physics</td>\n",
       "    </tr>\n",
       "    <tr>\n",
       "      <td>97</td>\n",
       "      <td>Tisha</td>\n",
       "      <td>7</td>\n",
       "      <td>Female</td>\n",
       "      <td>English</td>\n",
       "    </tr>\n",
       "    <tr>\n",
       "      <td>98</td>\n",
       "      <td>Raghav</td>\n",
       "      <td>73</td>\n",
       "      <td>Male</td>\n",
       "      <td>English</td>\n",
       "    </tr>\n",
       "    <tr>\n",
       "      <td>99</td>\n",
       "      <td>Ishita</td>\n",
       "      <td>82</td>\n",
       "      <td>Female</td>\n",
       "      <td>Chemistry</td>\n",
       "    </tr>\n",
       "    <tr>\n",
       "      <td>100</td>\n",
       "      <td>Ishita1</td>\n",
       "      <td>10000</td>\n",
       "      <td>Female</td>\n",
       "      <td>Chemistry</td>\n",
       "    </tr>\n",
       "  </tbody>\n",
       "</table>\n",
       "</div>"
      ],
      "text/plain": [
       "     Student  Overall Marks  Gender    Subject\n",
       "96     vivek             55    Male    Physics\n",
       "97     Tisha              7  Female    English\n",
       "98    Raghav             73    Male    English\n",
       "99    Ishita             82  Female  Chemistry\n",
       "100  Ishita1          10000  Female  Chemistry"
      ]
     },
     "execution_count": 70,
     "metadata": {},
     "output_type": "execute_result"
    }
   ],
   "source": [
    "df7.tail()"
   ]
  },
  {
   "cell_type": "code",
   "execution_count": 71,
   "metadata": {},
   "outputs": [],
   "source": [
    "#Steps to calculate the variance \n",
    "\n",
    "#1 Calculate Mean\n",
    "#2 Calculate the distance from mean for each elemenet\n",
    "#3 Calculate squared distance\n",
    "#4 Take average of squared distance\n"
   ]
  },
  {
   "cell_type": "code",
   "execution_count": 72,
   "metadata": {},
   "outputs": [],
   "source": [
    "mean = df7['Overall Marks'].mean()"
   ]
  },
  {
   "cell_type": "code",
   "execution_count": 73,
   "metadata": {},
   "outputs": [],
   "source": [
    "difference = df7['Overall Marks'] - mean"
   ]
  },
  {
   "cell_type": "code",
   "execution_count": 74,
   "metadata": {},
   "outputs": [
    {
     "name": "stdout",
     "output_type": "stream",
     "text": [
      "0       -69.544554\n",
      "1       -83.544554\n",
      "2       -88.544554\n",
      "3       -80.544554\n",
      "4       -75.544554\n",
      "          ...     \n",
      "96     -111.544554\n",
      "97     -159.544554\n",
      "98      -93.544554\n",
      "99      -84.544554\n",
      "100    9833.455446\n",
      "Name: Overall Marks, Length: 101, dtype: float64\n"
     ]
    }
   ],
   "source": [
    "print(difference)"
   ]
  },
  {
   "cell_type": "code",
   "execution_count": 75,
   "metadata": {},
   "outputs": [],
   "source": [
    "squared_difference = difference**2"
   ]
  },
  {
   "cell_type": "code",
   "execution_count": 76,
   "metadata": {},
   "outputs": [],
   "source": [
    "variance = squared_difference.mean()"
   ]
  },
  {
   "cell_type": "code",
   "execution_count": 77,
   "metadata": {},
   "outputs": [
    {
     "name": "stdout",
     "output_type": "stream",
     "text": [
      "967648.7628663855\n"
     ]
    }
   ],
   "source": [
    "print(variance)"
   ]
  },
  {
   "cell_type": "code",
   "execution_count": 78,
   "metadata": {},
   "outputs": [],
   "source": [
    "# python Variance function\n",
    "\n",
    "#ddof in the var function is delta degree of freedom.\n",
    "\n",
    "#The denominator used in the formula of variance is n-ddof where n is the number of samples. \n",
    "\n",
    "#By default the value of ddof is 0. Generally, for samples, ddof is taken as 0 and for population we take ddof as 1\n",
    "\n",
    "var_data = df7['Overall Marks'].var(ddof=0)"
   ]
  },
  {
   "cell_type": "code",
   "execution_count": 79,
   "metadata": {},
   "outputs": [
    {
     "name": "stdout",
     "output_type": "stream",
     "text": [
      "967648.7628663855\n"
     ]
    }
   ],
   "source": [
    "print(var_data)"
   ]
  },
  {
   "cell_type": "code",
   "execution_count": 80,
   "metadata": {},
   "outputs": [],
   "source": [
    "#Calculate the variance of this series : 7, 6, 8, 4, 2, 7, 6, 7, 6, 5.\n",
    "\n",
    "var1 = pd.DataFrame({'Cost':[7, 6, 8, 4, 2, 7, 6, 7, 6, 5]})"
   ]
  },
  {
   "cell_type": "code",
   "execution_count": 81,
   "metadata": {},
   "outputs": [],
   "source": [
    "var1_mean = var1.mean()"
   ]
  },
  {
   "cell_type": "code",
   "execution_count": 82,
   "metadata": {},
   "outputs": [
    {
     "name": "stdout",
     "output_type": "stream",
     "text": [
      "   Cost\n",
      "0   1.2\n",
      "1   0.2\n",
      "2   2.2\n",
      "3  -1.8\n",
      "4  -3.8\n",
      "5   1.2\n",
      "6   0.2\n",
      "7   1.2\n",
      "8   0.2\n",
      "9  -0.8\n"
     ]
    }
   ],
   "source": [
    "var1_difference = var1 - var1_mean\n",
    "print(var1_difference)"
   ]
  },
  {
   "cell_type": "code",
   "execution_count": 83,
   "metadata": {},
   "outputs": [],
   "source": [
    "var1_squarediff = var1_difference**2"
   ]
  },
  {
   "cell_type": "code",
   "execution_count": 84,
   "metadata": {},
   "outputs": [],
   "source": [
    "variance = var1_squarediff.mean()\n"
   ]
  },
  {
   "cell_type": "code",
   "execution_count": 85,
   "metadata": {},
   "outputs": [
    {
     "name": "stdout",
     "output_type": "stream",
     "text": [
      "Cost    2.76\n",
      "dtype: float64\n"
     ]
    }
   ],
   "source": [
    "print(variance)"
   ]
  },
  {
   "cell_type": "code",
   "execution_count": 86,
   "metadata": {},
   "outputs": [
    {
     "name": "stdout",
     "output_type": "stream",
     "text": [
      "Cost    2.76\n",
      "dtype: float64\n"
     ]
    }
   ],
   "source": [
    "# Variance function\n",
    "var_res = var1.var(ddof=0)\n",
    "print(var_res)"
   ]
  },
  {
   "cell_type": "code",
   "execution_count": 87,
   "metadata": {},
   "outputs": [
    {
     "name": "stdout",
     "output_type": "stream",
     "text": [
      "Cost    2.76\n",
      "dtype: float64\n"
     ]
    }
   ],
   "source": [
    "#QA question and answer\n",
    "var_QA = pd.DataFrame({'Cost':[7+20, 6+20, 8+20, 4+20, 2+20, 7+20, 6+20, 7+20, 6+20, 5+20]})\n",
    "\n",
    "print(var_QA.var(ddof=0))"
   ]
  },
  {
   "cell_type": "markdown",
   "metadata": {},
   "source": [
    "# Standard Deviation of the data\n"
   ]
  },
  {
   "cell_type": "code",
   "execution_count": 25,
   "metadata": {},
   "outputs": [],
   "source": [
    "import pandas as pd\n",
    "df7 = pd.read_csv(\"./iris/mode-Copy1.csv\")"
   ]
  },
  {
   "cell_type": "code",
   "execution_count": 26,
   "metadata": {},
   "outputs": [
    {
     "data": {
      "text/html": [
       "<div>\n",
       "<style scoped>\n",
       "    .dataframe tbody tr th:only-of-type {\n",
       "        vertical-align: middle;\n",
       "    }\n",
       "\n",
       "    .dataframe tbody tr th {\n",
       "        vertical-align: top;\n",
       "    }\n",
       "\n",
       "    .dataframe thead th {\n",
       "        text-align: right;\n",
       "    }\n",
       "</style>\n",
       "<table border=\"1\" class=\"dataframe\">\n",
       "  <thead>\n",
       "    <tr style=\"text-align: right;\">\n",
       "      <th></th>\n",
       "      <th>Student</th>\n",
       "      <th>Overall Marks</th>\n",
       "      <th>Gender</th>\n",
       "      <th>Subject</th>\n",
       "    </tr>\n",
       "  </thead>\n",
       "  <tbody>\n",
       "    <tr>\n",
       "      <td>96</td>\n",
       "      <td>vivek</td>\n",
       "      <td>55</td>\n",
       "      <td>Male</td>\n",
       "      <td>Physics</td>\n",
       "    </tr>\n",
       "    <tr>\n",
       "      <td>97</td>\n",
       "      <td>Tisha</td>\n",
       "      <td>7</td>\n",
       "      <td>Female</td>\n",
       "      <td>English</td>\n",
       "    </tr>\n",
       "    <tr>\n",
       "      <td>98</td>\n",
       "      <td>Raghav</td>\n",
       "      <td>73</td>\n",
       "      <td>Male</td>\n",
       "      <td>English</td>\n",
       "    </tr>\n",
       "    <tr>\n",
       "      <td>99</td>\n",
       "      <td>Ishita</td>\n",
       "      <td>82</td>\n",
       "      <td>Female</td>\n",
       "      <td>Chemistry</td>\n",
       "    </tr>\n",
       "    <tr>\n",
       "      <td>100</td>\n",
       "      <td>Ishita1</td>\n",
       "      <td>10000</td>\n",
       "      <td>Female</td>\n",
       "      <td>Chemistry</td>\n",
       "    </tr>\n",
       "  </tbody>\n",
       "</table>\n",
       "</div>"
      ],
      "text/plain": [
       "     Student  Overall Marks  Gender    Subject\n",
       "96     vivek             55    Male    Physics\n",
       "97     Tisha              7  Female    English\n",
       "98    Raghav             73    Male    English\n",
       "99    Ishita             82  Female  Chemistry\n",
       "100  Ishita1          10000  Female  Chemistry"
      ]
     },
     "execution_count": 26,
     "metadata": {},
     "output_type": "execute_result"
    }
   ],
   "source": [
    "df7.tail()"
   ]
  },
  {
   "cell_type": "code",
   "execution_count": 27,
   "metadata": {},
   "outputs": [],
   "source": [
    "mean = df7['Overall Marks'].mean()\n"
   ]
  },
  {
   "cell_type": "code",
   "execution_count": 28,
   "metadata": {},
   "outputs": [],
   "source": [
    "difference = df7['Overall Marks'] - mean\n",
    "\n",
    "\n"
   ]
  },
  {
   "cell_type": "code",
   "execution_count": 29,
   "metadata": {},
   "outputs": [],
   "source": [
    "squared_difference = difference**2"
   ]
  },
  {
   "cell_type": "code",
   "execution_count": 30,
   "metadata": {},
   "outputs": [
    {
     "name": "stdout",
     "output_type": "stream",
     "text": [
      "967648.7628663855\n"
     ]
    }
   ],
   "source": [
    "variance_std = squared_difference.mean()\n",
    "print(variance_std)\n"
   ]
  },
  {
   "cell_type": "code",
   "execution_count": 31,
   "metadata": {},
   "outputs": [
    {
     "data": {
      "text/plain": [
       "983.6913961534814"
      ]
     },
     "execution_count": 31,
     "metadata": {},
     "output_type": "execute_result"
    }
   ],
   "source": [
    "var_std_v = variance_std ** (1/2)\n",
    "var_std_v\n"
   ]
  },
  {
   "cell_type": "code",
   "execution_count": 32,
   "metadata": {},
   "outputs": [
    {
     "data": {
      "text/plain": [
       "983.6913961534814"
      ]
     },
     "execution_count": 32,
     "metadata": {},
     "output_type": "execute_result"
    }
   ],
   "source": [
    "std_Var_func = df7['Overall Marks'].std(ddof=0)\n",
    "std_Var_func"
   ]
  },
  {
   "cell_type": "markdown",
   "metadata": {},
   "source": [
    "Notes:\n",
    "\n",
    "**Standard Deviation**:\n",
    "\n",
    "If you pick a random point from a data, how far should you expect the point to be from the mean of the data (on an average).\n",
    "\n",
    "**Variance**:\n",
    "\n",
    "Variance by itself does not make any sense, but it is the SQUARE magnitude and therefore forms a convex curve. This convex curve can be used in the optimisation techniques which you will encounter in the course later.\n",
    "\n",
    "**population standard deviation**: All the data points (population data)\n",
    "variance is one\n",
    "\n",
    "**sample standard deviation**: taking the small part of the data point from population data.  \n",
    "In Sample Standard Deviation the Variance of two types:\n",
    "\n",
    "***Biased Variance***: While giving the variance, it will give you bigger number.\n",
    "\n",
    "***UnBiased Variance***: It will give smaller number.  (n-1) in the denominator\n",
    "\n"
   ]
  },
  {
   "cell_type": "code",
   "execution_count": 95,
   "metadata": {},
   "outputs": [],
   "source": [
    "var_std_qa = pd.DataFrame({'Cost':[180, 313, 101, 255, 202, 198, 109, 183, 181, 113, 171, 165, 318, 145, 131, 145, 226, 113, 268, 108]})"
   ]
  },
  {
   "cell_type": "code",
   "execution_count": 96,
   "metadata": {},
   "outputs": [
    {
     "name": "stdout",
     "output_type": "stream",
     "text": [
      "Cost    181.25\n",
      "dtype: float64\n"
     ]
    }
   ],
   "source": [
    "print(var_std_qa.mean())\n"
   ]
  },
  {
   "cell_type": "code",
   "execution_count": 97,
   "metadata": {},
   "outputs": [
    {
     "name": "stdout",
     "output_type": "stream",
     "text": [
      "Cost    64.655143\n",
      "dtype: float64\n"
     ]
    }
   ],
   "source": [
    "print(var_std_qa.std(ddof=0))"
   ]
  },
  {
   "cell_type": "code",
   "execution_count": 98,
   "metadata": {},
   "outputs": [
    {
     "name": "stdout",
     "output_type": "stream",
     "text": [
      "116.6\n"
     ]
    }
   ],
   "source": [
    "print(181.25-64.65)\n",
    "\n"
   ]
  },
  {
   "cell_type": "code",
   "execution_count": 99,
   "metadata": {},
   "outputs": [
    {
     "name": "stdout",
     "output_type": "stream",
     "text": [
      "245.9\n"
     ]
    }
   ],
   "source": [
    "print(181.25+64.65)"
   ]
  },
  {
   "cell_type": "code",
   "execution_count": 100,
   "metadata": {},
   "outputs": [],
   "source": [
    "#The No which falls under 116.6 to 245.9 are consider as First Standard devaition data points"
   ]
  },
  {
   "cell_type": "markdown",
   "metadata": {},
   "source": [
    "# Frequency Tables"
   ]
  },
  {
   "cell_type": "markdown",
   "metadata": {},
   "source": [
    "Q/A **Sort all the subjects in descending order of the number of student liked them ?**"
   ]
  },
  {
   "cell_type": "markdown",
   "metadata": {},
   "source": [
    "***Frequnecy Table: It's a table representing the count of the category***"
   ]
  },
  {
   "cell_type": "code",
   "execution_count": 101,
   "metadata": {},
   "outputs": [],
   "source": [
    "df_freq_table = pd.read_csv(\"./iris/mode-Copy1.csv\")"
   ]
  },
  {
   "cell_type": "code",
   "execution_count": 102,
   "metadata": {},
   "outputs": [
    {
     "data": {
      "text/html": [
       "<div>\n",
       "<style scoped>\n",
       "    .dataframe tbody tr th:only-of-type {\n",
       "        vertical-align: middle;\n",
       "    }\n",
       "\n",
       "    .dataframe tbody tr th {\n",
       "        vertical-align: top;\n",
       "    }\n",
       "\n",
       "    .dataframe thead th {\n",
       "        text-align: right;\n",
       "    }\n",
       "</style>\n",
       "<table border=\"1\" class=\"dataframe\">\n",
       "  <thead>\n",
       "    <tr style=\"text-align: right;\">\n",
       "      <th></th>\n",
       "      <th>Student</th>\n",
       "      <th>Overall Marks</th>\n",
       "      <th>Gender</th>\n",
       "      <th>Subject</th>\n",
       "    </tr>\n",
       "  </thead>\n",
       "  <tbody>\n",
       "    <tr>\n",
       "      <td>0</td>\n",
       "      <td>Anish</td>\n",
       "      <td>97</td>\n",
       "      <td>Male</td>\n",
       "      <td>English</td>\n",
       "    </tr>\n",
       "    <tr>\n",
       "      <td>1</td>\n",
       "      <td>Rishabh</td>\n",
       "      <td>83</td>\n",
       "      <td>Male</td>\n",
       "      <td>English</td>\n",
       "    </tr>\n",
       "    <tr>\n",
       "      <td>2</td>\n",
       "      <td>Ajay</td>\n",
       "      <td>78</td>\n",
       "      <td>Male</td>\n",
       "      <td>Physics</td>\n",
       "    </tr>\n",
       "    <tr>\n",
       "      <td>3</td>\n",
       "      <td>Abhinav</td>\n",
       "      <td>86</td>\n",
       "      <td>Male</td>\n",
       "      <td>Chemistry</td>\n",
       "    </tr>\n",
       "    <tr>\n",
       "      <td>4</td>\n",
       "      <td>Anurag</td>\n",
       "      <td>91</td>\n",
       "      <td>Male</td>\n",
       "      <td>English</td>\n",
       "    </tr>\n",
       "  </tbody>\n",
       "</table>\n",
       "</div>"
      ],
      "text/plain": [
       "   Student  Overall Marks Gender    Subject\n",
       "0    Anish             97   Male    English\n",
       "1  Rishabh             83   Male    English\n",
       "2     Ajay             78   Male    Physics\n",
       "3  Abhinav             86   Male  Chemistry\n",
       "4   Anurag             91   Male    English"
      ]
     },
     "execution_count": 102,
     "metadata": {},
     "output_type": "execute_result"
    }
   ],
   "source": [
    "df_freq_table.head()"
   ]
  },
  {
   "cell_type": "markdown",
   "metadata": {},
   "source": [
    "**Subject is a ***Categorical variable*** and each row represent the subject liked by each student**"
   ]
  },
  {
   "cell_type": "markdown",
   "metadata": {},
   "source": [
    "## Frequenc Table for Categorical Variables"
   ]
  },
  {
   "cell_type": "code",
   "execution_count": 103,
   "metadata": {},
   "outputs": [],
   "source": [
    "data_freq_res = df_freq_table['Subject'].value_counts()"
   ]
  },
  {
   "cell_type": "code",
   "execution_count": 104,
   "metadata": {},
   "outputs": [
    {
     "name": "stdout",
     "output_type": "stream",
     "text": [
      "Chemistry    37\n",
      "Physics      35\n",
      "English      29\n",
      "Name: Subject, dtype: int64\n"
     ]
    }
   ],
   "source": [
    "print(data_freq_res)"
   ]
  },
  {
   "cell_type": "markdown",
   "metadata": {},
   "source": [
    "## Histogram\n",
    "**Histogram are used only for contineous variables**\n",
    "\n",
    "**properties of a Histogram**\n",
    "* The bins should be of equal size\n",
    "* The bins should not overlap\n",
    "* The height of the bar denotes the frequency\n",
    "* We get an idea of the distribution from the histogram\n",
    "* Histograms are used for continuous data by putting bins to the numerical data\n",
    "\n",
    "Note: ***Bar Graphs are used for categorical varibles***\n",
    "\n",
    "\n",
    "\n"
   ]
  },
  {
   "cell_type": "code",
   "execution_count": 105,
   "metadata": {},
   "outputs": [],
   "source": [
    "\n",
    "import matplotlib.pyplot as plt"
   ]
  },
  {
   "cell_type": "code",
   "execution_count": 106,
   "metadata": {},
   "outputs": [],
   "source": [
    "df_histo_table = pd.read_csv(\"./iris/Histogram.csv\")"
   ]
  },
  {
   "cell_type": "code",
   "execution_count": 107,
   "metadata": {},
   "outputs": [
    {
     "data": {
      "text/html": [
       "<div>\n",
       "<style scoped>\n",
       "    .dataframe tbody tr th:only-of-type {\n",
       "        vertical-align: middle;\n",
       "    }\n",
       "\n",
       "    .dataframe tbody tr th {\n",
       "        vertical-align: top;\n",
       "    }\n",
       "\n",
       "    .dataframe thead th {\n",
       "        text-align: right;\n",
       "    }\n",
       "</style>\n",
       "<table border=\"1\" class=\"dataframe\">\n",
       "  <thead>\n",
       "    <tr style=\"text-align: right;\">\n",
       "      <th></th>\n",
       "      <th>Student</th>\n",
       "      <th>Overall Marks</th>\n",
       "      <th>Gender</th>\n",
       "      <th>Subject</th>\n",
       "    </tr>\n",
       "  </thead>\n",
       "  <tbody>\n",
       "    <tr>\n",
       "      <td>0</td>\n",
       "      <td>Anish</td>\n",
       "      <td>97</td>\n",
       "      <td>Male</td>\n",
       "      <td>English</td>\n",
       "    </tr>\n",
       "    <tr>\n",
       "      <td>1</td>\n",
       "      <td>Rishabh</td>\n",
       "      <td>83</td>\n",
       "      <td>Male</td>\n",
       "      <td>English</td>\n",
       "    </tr>\n",
       "    <tr>\n",
       "      <td>2</td>\n",
       "      <td>Ajay</td>\n",
       "      <td>78</td>\n",
       "      <td>Male</td>\n",
       "      <td>Physics</td>\n",
       "    </tr>\n",
       "    <tr>\n",
       "      <td>3</td>\n",
       "      <td>Abhinav</td>\n",
       "      <td>86</td>\n",
       "      <td>Male</td>\n",
       "      <td>Chemistry</td>\n",
       "    </tr>\n",
       "    <tr>\n",
       "      <td>4</td>\n",
       "      <td>Anurag</td>\n",
       "      <td>91</td>\n",
       "      <td>Male</td>\n",
       "      <td>English</td>\n",
       "    </tr>\n",
       "  </tbody>\n",
       "</table>\n",
       "</div>"
      ],
      "text/plain": [
       "   Student  Overall Marks Gender    Subject\n",
       "0    Anish             97   Male    English\n",
       "1  Rishabh             83   Male    English\n",
       "2     Ajay             78   Male    Physics\n",
       "3  Abhinav             86   Male  Chemistry\n",
       "4   Anurag             91   Male    English"
      ]
     },
     "execution_count": 107,
     "metadata": {},
     "output_type": "execute_result"
    }
   ],
   "source": [
    "df_freq_table.head()"
   ]
  },
  {
   "cell_type": "code",
   "execution_count": 108,
   "metadata": {},
   "outputs": [
    {
     "data": {
      "image/png": "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\n",
      "text/plain": [
       "<Figure size 432x288 with 1 Axes>"
      ]
     },
     "metadata": {
      "needs_background": "light"
     },
     "output_type": "display_data"
    }
   ],
   "source": [
    "plt.hist(x='Overall Marks',data=df_histo_table)\n",
    "plt.show()\n",
    "\n",
    "#the higher the bar, the higher the frequency"
   ]
  },
  {
   "cell_type": "code",
   "execution_count": 109,
   "metadata": {},
   "outputs": [
    {
     "data": {
      "image/png": "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\n",
      "text/plain": [
       "<Figure size 432x288 with 1 Axes>"
      ]
     },
     "metadata": {
      "needs_background": "light"
     },
     "output_type": "display_data"
    }
   ],
   "source": [
    "plt.hist(x='Overall Marks',data=df_histo_table,bins=9)\n",
    "plt.show()"
   ]
  },
  {
   "cell_type": "markdown",
   "metadata": {},
   "source": [
    "# Probability"
   ]
  },
  {
   "cell_type": "markdown",
   "metadata": {},
   "source": [
    "* Define events without a definitive answer\n",
    "* Define likelihood assigned to the events : Countify the events\n",
    "* Make decisions accroding to the likelihood\n",
    "\n",
    "**Experiment**: An experiment could be something like - whether it rains in New York on daily basis or not.: Uncertain situation which may have various results\n",
    "\n",
    "**Outcome**: Outcome is the result of single trial, if it rains today, the outcome of today's trial would be \"it rained\".\n",
    "\n",
    "***Think it's as a element in array***\n",
    "\n",
    "**Event**: An event is one or more outcomes of an experiment. For the experiment of whether it rains in New York every day the event could be \"it rained\" or \"it didn't rain\".\n",
    "***Think it's as a Array =[outcome,outcome,outcome]***\n",
    "\n",
    "**Probablity**: This is simply the likelihood of an event, So if there's a 60% chance of it raining today, the probability of raining would be 0.6"
   ]
  },
  {
   "cell_type": "markdown",
   "metadata": {},
   "source": [
    "## Random Variables\n",
    "**Discerete Random Variables**: 3,4,21 \n",
    "The outcome of a fight betweeen two people - Win and loss\n",
    "**Bernouli trials** : nck P^k q^n-k\n",
    "**Bernouli trials** works on discrete random variables\n",
    "**Bernouli trials** / The graph results here uses Probability Mass functions\n",
    "\n",
    "\n",
    "**Continuous Random Variables**: 3.1,3.00001,3.00002,5.2 (weight of the sugar)\n",
    "**Bernouli trials** / The graph results here uses Probability density functions\n",
    "\n",
    "\n",
    "\n"
   ]
  },
  {
   "cell_type": "markdown",
   "metadata": {},
   "source": [
    "# Central Limit Theorem"
   ]
  },
  {
   "cell_type": "markdown",
   "metadata": {},
   "source": [
    "* If we take means of random samples form a distribution and we plot the frequency of means,\n",
    "the graph approaches to a normal distribution when we have taken sufficently large number of such samples.\n",
    "\n",
    "* The theorem also says that the mean of means will be approximately equal to the mean of sample means"
   ]
  },
  {
   "cell_type": "markdown",
   "metadata": {},
   "source": [
    "## Types of Distribution\n",
    "\n",
    "* Postive Skewed Distribution or Right Skewe distribution\n",
    "> Mode = 40 Median = 50 Mean = 61.2\n",
    "Mode<Median<Mean\n",
    "\n",
    "\n",
    "* Neative Skewed Distribution or left Skewe distribution\n",
    "> Mode = 40 Median = 20 Mean = 15.2               \n",
    "Mode>Median>Mean\n",
    "    \n",
    "* Normal Distribution\n",
    "    The Empirical rules states that\n",
    "    * 68% of the values fall within 1 standard deviation of the mean\n",
    "    * 95% of the values fall within 2 standard deviation of the mean\n",
    "    * 99.7% of the values fall with in 3 standard devaiations\n",
    "    \n",
    "\n",
    "* Conver standard destribution **Standard Normal Curve**:\n",
    "    * by writing frequency has probablties or Replace frequecies with probablities\n",
    "    > Mean = 0 and Standard deviation =1\n",
    "    \n",
    "    \n",
    "Note: Empirical rule is only applicable on normally distributed data. If the distribution is skewed, this rule is not applicable.\n",
    "   \n",
    "\n"
   ]
  },
  {
   "cell_type": "markdown",
   "metadata": {},
   "source": [
    "**The problem Statement:**\n",
    "\n",
    "Let's see where 172 Falls on the distribution. How many people have cholesterol less than 172.\n",
    "Mean = 150\n",
    "StandardDeviation=15\n",
    "\n",
    "Formula: mean+z*StandardDeviation = 172\n",
    "         z= 172-150/15\n",
    "         z=1.47\n",
    "    \n",
    "If the Z value is positive: it's a right of the mean\n",
    "If the Z value is negative : it's a left of the mean\n",
    "\n",
    "\n",
    "## Z Scores\n",
    "\n",
    "* The distance in terms of number of standard deviations, the observer value is away from the mean, is the standard score or the Z score.\n",
    "\n",
    "* A positive Z score indicates that the observed value is Z standard deviations above the mean, Neagative Z socre indicates that the values is below the mean\n",
    "\n",
    " * mean+z*StandardDeviation = Observed value\n",
    "\n",
    "\n",
    "\n",
    "\n"
   ]
  },
  {
   "cell_type": "markdown",
   "metadata": {},
   "source": [
    "# Inferential Statistics"
   ]
  },
  {
   "cell_type": "markdown",
   "metadata": {},
   "source": [
    "Q/A: Figure out Avg salary of Data scientists in india?\n",
    "    \n",
    "* Method1 : Meet every data scientist in india and note down their salaries\n",
    "* Method2: Get the salaries of Data Scientsi in delhi and use them to infer th salaries of entire country\n",
    "(Method2 is preferbale) but one caviot, \n",
    "what if the population of delhi is not reflective of the entire population of india?\n",
    "it may give the bias results right. This is where **inferential statistics** come into play.\n",
    "\n",
    "* Making inference about the population from the sample\n",
    "* Concluding whether a samples is signficatly different from the population\n",
    "* Hyporthesis testing in genereal\n",
    "\n",
    "\n",
    "\n",
    "\n",
    "    "
   ]
  },
  {
   "cell_type": "markdown",
   "metadata": {},
   "source": [
    "Terminology\n",
    "\n",
    "* Statiscs: A single measure of some attribute of a sample\n",
    "* Population statistic: the statitics of entire population in context\n",
    "* Sample Statistic: The statistic of group taken from a population\n",
    "* Standard Deviation: It is the amount of variation in the population data."
   ]
  },
  {
   "cell_type": "markdown",
   "metadata": {},
   "source": [
    "## The Central Limit Theorem\n",
    "\n",
    "* While plotting a sampling distribution the mean of sample means is equal to the population mean\n",
    "* The sampling distribution approaches a normal distribution\n",
    "\n",
    "* Central limit theorem holds true irrespecitve of the types of distribution of the population\n",
    "* Now, we have a way to estimatie the population mean by just making repeated observations of samples of a fixed size\n",
    "* Greater the sample size, greater is the accuracy in determining the population mean from the sample mean\n"
   ]
  },
  {
   "cell_type": "markdown",
   "metadata": {},
   "source": [
    "## Estimation of Mean\n",
    "Estimating the mean of all Data Scientist in india can be done in following ways\n",
    "\n",
    "* Point Estimation\n",
    "* Interval Estimation\n",
    "\n",
    "**Point Estimation:** Pick a random sample from the poulation and calculate mean of the sample.\n",
    "X=U\n",
    "\n",
    "**Interval Estimation**: Poulation mean(U) is lying between Lower bond and Upper bond with 95% confidence level\n",
    " x-y + x+y\n",
    "\n",
    "\n",
    "## Confidence Interval and Margin of Error\n",
    "\n",
    "**Central Limith Theorem**\n",
    "\n",
    "* If we take means of random samples from a distribution and we plot the frequency of means, the graph approaches to a normal distribution when we have taken sufficiently large number of such samples\n",
    "\n",
    "* The theorem also says that the mean of means will be approximately equal to the mean of sample means.\n",
    "\n",
    "**Confidence Interval:**\n",
    "\n",
    "Confidence interval in a given sample is an interval[LB,UP] with K% of confidence level.\n",
    "\n",
    "The Mathematical Formula for confidence interval is: Check the pic\n",
    " \n",
    "**Margin of Errors:**\n",
    "How far the population of stastics lie from the caluclated sample mean in either direction, which could be positive and negative.\n",
    "\n",
    "\n",
    "\n"
   ]
  },
  {
   "cell_type": "markdown",
   "metadata": {},
   "source": [
    "## Hypothesis Testing"
   ]
  },
  {
   "cell_type": "markdown",
   "metadata": {},
   "source": [
    "* A hypothesis is nothing but a proposed explanation for a phenomenon.\n",
    "\n",
    "> Always Test and Always Verfiry, then think of rejecting it or accepting it.\n",
    "\n",
    "* Hypothesis Testing is diveded into two terms\n",
    "\n",
    "> Null and Alternate Hypothesis\n",
    "\n",
    "* **Null Hypothesis** can be that the sample statstids to be equal to the population statitic or that the intervention doesn't bring any difference to the sample.\n",
    "\n",
    "Null Hypothesis is something which we believe is True by default as it is favour of the Population data.\n",
    "\n",
    "Purpose of conducting a test is to ensure if there is a possibility of a sample being different from the population. Or in other words, if we are able to disapprove the null Hypothesis.\n",
    "\n",
    "We Never accept the null hypothesis, we always reject or fail to reject the null hypothesis.\n",
    "\n",
    "* **Alternate Hypothesis** basically negates the null hypothesis or says that the intervention brings a significant difference to the sample, or that the sample is significatly different from the population.\n",
    "\n",
    "---\n",
    "**Notes:**\n",
    "\n",
    "Let the population distribution be P and sample distribution be \n",
    "\n",
    "if P and S overlap very well, that means they are very similar or perhaps even the same distribution. Therefore we fail to reject the null hypothesis.\n",
    "\n",
    "If the overlap between the P and S is very small, it means that the P and S are from different distribution. We reject the null hypothesis.\n",
    "\n",
    "is it the  overlap of sample population?\n",
    "\n",
    "It is the overlap of sample distribution AND the population distribution.\n",
    "\n",
    "how can we draw the distribution for those?\n",
    "\n",
    "For that you will have to collect a lot of samples and draw it with population distribution. \n",
    "\n",
    "although in case of student example, we are only dealing with one sample and not a distribution of samples \n",
    "\n"
   ]
  },
  {
   "cell_type": "markdown",
   "metadata": {},
   "source": [
    "**Steps to perform Hypothesis Testing**\n",
    "\n",
    "* **Null Hypothesis** - Introducing music did not improve the performance of students.\n",
    "\n",
    "* **Alternate Hypothesis** - Introducing music made a significance improvement in the performance of students.\n"
   ]
  },
  {
   "cell_type": "markdown",
   "metadata": {},
   "source": [
    " **Set the Decision Criteria:**\n",
    "\n",
    "If overlap is **small**, (b/w the distriubiton, berfore music distribution and after the music distribution): Consider that\n",
    "introducing the music helped the student to get the higher score. On the other hand if the overlap is **large**, then\n",
    "consider musics doesn't made any effect on the student.\n",
    "\n",
    "**Technical words:**\n",
    "* **Null Hypothesis:** Introducing music made no difference. Increase in marks is a random chance.\n",
    "\n",
    "* Null Hypothesis: music made no difference (negative statment)\n",
    "* think Null Hypothesis  is **\"-\"** (Minus)\n",
    "\n",
    "\n",
    "**Rejecting Null hypothesis means**\n",
    "- Reject = -\n",
    "- Null hypothesis = -\n",
    "- Rejecting Null hypothesis means =  (-)(-) Null hypothesis) = (-) (-) Music made no difference)  = Music Made a difference\n",
    "\n",
    "**Failed to reject the null hypothesis** (or) **Accept the null hypothesis**\n",
    "- failed = -\n",
    "- Reject = -\n",
    "- Null hypothesis = -\n",
    "- Failed to reject the null hypothesis = (-)(-)(-) Null hypothesis) = - Null hypothesis = Music made no difference\n",
    "\n",
    "\n",
    "* **Alternate Hypothesis:** Introducing music made a signficatne difference. Increase in marks is not a random chance.\n",
    "In mathematical represention of Alternative Hypothesis: \n",
    "- (Not Equal)\n",
    "- (Greater then) >\n",
    "- (Less then) <\n",
    "\n",
    "\n",
    "***\n",
    "## Statistics AtoZ videos\n",
    "\n",
    "1. \"**Reject the null hypothesis**\" is 1 0f 2 posssible conclusions from a hypothesis test.\n",
    "    The other conculsion is \"Fail to reject the null hoypothesis\"\n",
    "2. If p <(equal) alpha, then we **Reject the null hypothesis**\n",
    "3. The null hypothesis states that there is no (statictically singificant)\n",
    "    * difference or\n",
    "    * change or \n",
    "    * effect\n",
    "4. So, to **Reject the null hypothesis** is to conculde that there is a statictically singificant)\n",
    "    * difference or\n",
    "    * change or \n",
    "    * effect\n",
    "\n",
    "***\n",
    "## 5 - Steps method for Hypothesis Testing\n",
    "\n",
    "1. State the problem or question in the form of a null hypothessis and (optional) an Alternative Hypothesis\n",
    "2. Select a level of significance, Alpha\n",
    "3. Collect a sample of data\n",
    "4. Perform a statical analysis (e.g. t-test, F-test, ANOVA) on the sample data. This analysis calculates a value for p\n",
    "5. Come to a conclusion about the null hypothesis by comparing p to alpha. Reject the null hypothesis, or Fail to reject it.\n",
    "\n",
    "if p<(equal) alpha, then we Reject the null hypothesis\n",
    "if p > alpha, we fail to reject the null hypothesis\n",
    "\n",
    "***\n",
    "\n",
    "\n",
    "\n",
    "Setting the Criteria for particular example above for the student.\n",
    "Ask yourself this question to yourself, how much cut off percentage is acceptable?\n",
    "For this above example, **5%,(Percentage)**, that is callled has **Signficance Level** or **Alpha Level**\n",
    "the alpha is = 0.05\n",
    "If the random chance probablity is less then 5%, then we conculde, there is a difference, in two different populations.\n",
    "**confidence level** = 1 - **Signficance Level** \n",
    "**confidence level** = 1 -  0.05 = 95% , I'm 95% percent sure that, increasing in marks isn't by chance, but actually music being introduced.\n",
    "\n",
    "\n",
    "\n",
    "*** \n",
    "## Notes \n",
    "It is common knowledge that significance level is often chosen to be at 5% or p = 0.05\n",
    "\n",
    "\n",
    "\n",
    "Before we handle the Question let's understand the p value.\n",
    "\n",
    "\n",
    "\n",
    "p value basically tells us about the the probability of an event happening with respect to a distribution.\n",
    "\n",
    "\n",
    "\n",
    "if the p value is very low, then it is said that the event we are are considering is an extremely rare event with respect to the original distribution. As a Result, there is a good probability that it might belong to other distribution.\n",
    "\n",
    "\n",
    "\n",
    "Now the question says that the result lies EXACTLY at the 5% level.\n",
    "\n",
    "and this mark of 5% is a grey area, either side of which the result is either significant or not significant.\n",
    "\n",
    "So we cannot decide whether the results are positive or not!!\n",
    "\n"
   ]
  },
  {
   "cell_type": "markdown",
   "metadata": {},
   "source": [
    "**Compute the random chance of probability**\n",
    "* We have to find, the proabability on increase in marks is by a random chance. If the probablity is high then we **failed to reject the null hypothesis.**, since you set the  **Signficance Level**  is 0.05 (5%), so if the proabability is greater then 5%, **failed to reject the null hypothesis.**, which means that increase in average marks is by a chance, not because we introduced the music.\n",
    "\n",
    "* If the the proabability is less then **Signficance Level**  is 0.05 (5%), then we can project the null hypothesis.\n",
    "\n",
    "* The value of the proabability is called **\"P\"** Value, which states that, what is the proabability of getting the observed value of the test statistics.\n",
    "\n",
    "* Z Table is used to caluclate the P Value\n",
    "\n",
    "The Value, repsent the area under the curve, can be taken has probablity values.\n",
    "\n",
    "1. All we need to do is determine the Z values\n",
    "2. Find the P value correspoinding to the Z value.\n",
    "\n"
   ]
  },
  {
   "cell_type": "markdown",
   "metadata": {},
   "source": [
    "## They are two types of hypothesis\n",
    "* **Directionl Hypthesis**, the null hypothesis is tested in only one direction, in this case, one tail is used.\n",
    "\n",
    "* **Non Directional Hypthesis**, the null hypothesis is tested in both the directions, in this case, two tail is used.\n",
    "\n",
    "> **Alpha / 2**\n",
    "\n",
    "\n"
   ]
  },
  {
   "cell_type": "markdown",
   "metadata": {},
   "source": [
    "## Understanding T Test "
   ]
  },
  {
   "cell_type": "markdown",
   "metadata": {},
   "source": [
    "*T Test*: Used sample with known parameters, such has mean and Standard Deviation, it's useful when the Population distribution Std Deviation is not avaialble\n",
    "\n",
    "* **Properties of T test**\n",
    "* Similar to Z score (but, Z score are not viable when we don't know Std deviation of population distribution)\n",
    "* When Population standard deviation is not available\n",
    "* **T test is used when the sample size < 30**\n",
    "\n",
    "Note: In the T test the no of sample is prity low, there are higher chances of getting an error.\n"
   ]
  },
  {
   "cell_type": "markdown",
   "metadata": {},
   "source": [
    "## Degree of Freedom\n",
    "Degree of freedom means that how many observations can be chosen at free will without changing the  given mean.\n",
    "\n",
    "Example: I have 3 values and the mean is given as 50.\n",
    "\n",
    "Now I can choose the values as follows\n",
    "\n",
    "100, 0, 50\n",
    "\n",
    "75, 72, 3\n",
    "\n",
    "200, -100, 50\n",
    "\n",
    "If you would notice, I need a sum of 150 to keep the mean = 50.\n",
    "\n",
    "As a result I can freely choose any value for the first two numbers, But my third value should be such that my mean value does not change.\n",
    "\n",
    "Therefore in this case. degree of freedom = (n - 1) or (3 - 1) = 2"
   ]
  },
  {
   "cell_type": "markdown",
   "metadata": {},
   "source": [
    "## T-Critical Value : we need to compute a value, for population and sample\n",
    "\n",
    "**To read the T table we need two values**\n",
    "* Degree of Freedom: Number of instances in sample -1\n",
    "* Significance level (sample is similar or different from the population distribution)\n",
    "\n",
    "Notes:\n",
    "Normal is a type of distribution\n",
    "\n",
    "skewness is a property of a distribution\n",
    "\n",
    "Z distribution is always normal in nature because it is a CLT distribution ( Central Limit Theorem).\n",
    "\n",
    "T distribution is like a Z distribution with very small sample size.\n",
    "\n",
    "\n",
    "\n",
    "\n",
    "\n",
    "    "
   ]
  },
  {
   "cell_type": "markdown",
   "metadata": {},
   "source": [
    "Steps to perform T-test\n",
    "\n",
    "1. **Define null and alternative hypothesis**:\n",
    "2. **Compute T statisitic**: SD, Mean of the sample,Mean of the population\n",
    "3. **Get T critical from T-table**: Fetch the T critical value to the problem using degree of freedom and choosen significance level.\n",
    "4. **Compare the computed T-Statistic and the critical value**: if the T statistics within the T critical value, there **no difference b/w sample and population data**, hence **we failed to reject the null hypothesis**, if T statistics exceeds the T critical value **sample and population data are different from each other**, we **reject the null hypothesis testing**.\n",
    "\n",
    "Note:\n",
    "why we are talking about Normal distribution everywhere , it could be left and right skewed also.. what is the impact on Z and T value on other type of distribution.\n",
    "\n",
    "Normal is a type of distribution\n",
    "\n",
    "skewness is a property of a distribution\n",
    "\n",
    "Z distribution is always normal in nature because it is a CLT distribution ( Central Limit Theorem).\n",
    "\n",
    "T distribution is like a Z distribution with very small sample size.\n",
    "\n"
   ]
  },
  {
   "cell_type": "markdown",
   "metadata": {},
   "source": [
    "# Conducting One sample test\n",
    "\n",
    "**When to use one sample T-test?**: When you have very small sample, or **Sample population is the part of the Population(All)**\n",
    " are the mean of the sample and population of mean are similar? or different?\n",
    " \n",
    " The formula for Sample T test\n",
    "  1. the difference b/w sample mean and the population mean\n",
    "  2. Divided by Standard deviation, upon the Standard deviation, divide by root n\n",
    "  \n",
    " \n"
   ]
  },
  {
   "cell_type": "markdown",
   "metadata": {},
   "source": [
    "Setps to Conduct T Test\n",
    "\n",
    "1. Define null and alternate hypothesis\n",
    "2. Compute T statistic\n",
    "3. Get T Critical from T - Table\n",
    "4 Compare the computed T-statistics and critical T value\n",
    "\n",
    " "
   ]
  },
  {
   "cell_type": "markdown",
   "metadata": {},
   "source": [
    "# T-Test (One Sample T test)\n",
    "    "
   ]
  },
  {
   "cell_type": "code",
   "execution_count": 1,
   "metadata": {},
   "outputs": [],
   "source": [
    "#Importing libraries\n",
    "import pandas as pd\n",
    "import scipy.stats as stats\n",
    "from scipy.stats import ttest_1samp"
   ]
  },
  {
   "cell_type": "code",
   "execution_count": 3,
   "metadata": {},
   "outputs": [],
   "source": [
    "#loading data\n",
    "data = pd.read_csv(\"./iris/onesample.csv\")\n",
    "#data.head()\n",
    "data = data['Insect Length']"
   ]
  },
  {
   "cell_type": "code",
   "execution_count": 5,
   "metadata": {},
   "outputs": [
    {
     "data": {
      "text/plain": [
       "(29,)"
      ]
     },
     "execution_count": 5,
     "metadata": {},
     "output_type": "execute_result"
    }
   ],
   "source": [
    "# n is 29, degree of freedom is 28\n",
    "data.shape"
   ]
  },
  {
   "cell_type": "markdown",
   "metadata": {},
   "source": [
    "Let's conduct a one sample t-test to check if the mean of the sample insects is similar to the mean of earlier insects,\n",
    "mean of earlier is 6.09.\n",
    "We have the degree of freedom that is 28 and taking significance level to be 0.05, the t-critical value come out to be 2.048.\n"
   ]
  },
  {
   "cell_type": "code",
   "execution_count": 11,
   "metadata": {},
   "outputs": [],
   "source": [
    "t_statistic,_ = ttest_1samp(data,6.09)"
   ]
  },
  {
   "cell_type": "code",
   "execution_count": 12,
   "metadata": {},
   "outputs": [
    {
     "name": "stdout",
     "output_type": "stream",
     "text": [
      "5.466112820736585\n"
     ]
    }
   ],
   "source": [
    "print(t_statistic)"
   ]
  },
  {
   "cell_type": "markdown",
   "metadata": {},
   "source": [
    "t_statistic>t-critical value, We reject null hypothesis\n",
    "> 5.466112820736585 > 2.048"
   ]
  },
  {
   "cell_type": "markdown",
   "metadata": {},
   "source": [
    "# Paired T-test\n",
    "* Paired t-test is performed to check whether there is a difference in mean after a treatment on a sample in comparison to before\n"
   ]
  },
  {
   "cell_type": "code",
   "execution_count": 3,
   "metadata": {},
   "outputs": [],
   "source": [
    "#Importing libraries\n",
    "import pandas as pd\n",
    "import scipy.stats as stats\n",
    "from scipy.stats import ttest_rel"
   ]
  },
  {
   "cell_type": "code",
   "execution_count": 7,
   "metadata": {},
   "outputs": [
    {
     "data": {
      "text/html": [
       "<div>\n",
       "<style scoped>\n",
       "    .dataframe tbody tr th:only-of-type {\n",
       "        vertical-align: middle;\n",
       "    }\n",
       "\n",
       "    .dataframe tbody tr th {\n",
       "        vertical-align: top;\n",
       "    }\n",
       "\n",
       "    .dataframe thead th {\n",
       "        text-align: right;\n",
       "    }\n",
       "</style>\n",
       "<table border=\"1\" class=\"dataframe\">\n",
       "  <thead>\n",
       "    <tr style=\"text-align: right;\">\n",
       "      <th></th>\n",
       "      <th>Errors using typewriter</th>\n",
       "      <th>Errors using a computer</th>\n",
       "    </tr>\n",
       "  </thead>\n",
       "  <tbody>\n",
       "    <tr>\n",
       "      <th>0</th>\n",
       "      <td>8</td>\n",
       "      <td>8</td>\n",
       "    </tr>\n",
       "    <tr>\n",
       "      <th>1</th>\n",
       "      <td>13</td>\n",
       "      <td>8</td>\n",
       "    </tr>\n",
       "    <tr>\n",
       "      <th>2</th>\n",
       "      <td>10</td>\n",
       "      <td>4</td>\n",
       "    </tr>\n",
       "    <tr>\n",
       "      <th>3</th>\n",
       "      <td>7</td>\n",
       "      <td>9</td>\n",
       "    </tr>\n",
       "    <tr>\n",
       "      <th>4</th>\n",
       "      <td>13</td>\n",
       "      <td>10</td>\n",
       "    </tr>\n",
       "  </tbody>\n",
       "</table>\n",
       "</div>"
      ],
      "text/plain": [
       "   Errors using typewriter  Errors using a computer\n",
       "0                        8                        8\n",
       "1                       13                        8\n",
       "2                       10                        4\n",
       "3                        7                        9\n",
       "4                       13                       10"
      ]
     },
     "execution_count": 7,
     "metadata": {},
     "output_type": "execute_result"
    }
   ],
   "source": [
    "#loading data\n",
    "data = pd.read_csv(\"./iris/Data for paired t test.csv\")\n",
    "data.head()\n",
    " "
   ]
  },
  {
   "cell_type": "code",
   "execution_count": 12,
   "metadata": {},
   "outputs": [],
   "source": [
    "t_statistics,_ = stats.ttest_rel(data[\"Errors using typewriter\"],data[\"Errors using a computer\"])"
   ]
  },
  {
   "cell_type": "code",
   "execution_count": 13,
   "metadata": {},
   "outputs": [
    {
     "data": {
      "text/plain": [
       "3.6842075835369266"
      ]
     },
     "execution_count": 13,
     "metadata": {},
     "output_type": "execute_result"
    }
   ],
   "source": [
    "t_statistics"
   ]
  },
  {
   "cell_type": "markdown",
   "metadata": {},
   "source": [
    "T critical from the table at 0.05 significance level and degree of freedom 24 is 1.711"
   ]
  },
  {
   "cell_type": "markdown",
   "metadata": {},
   "source": [
    "t_statistics > t-critical value\n",
    "3.6842075835369266 > 1.711 ,  We reject null hypothesis"
   ]
  },
  {
   "cell_type": "markdown",
   "metadata": {},
   "source": [
    "# Two Sample T test:\n",
    "we have two samples with, each of them having there mean, SD, no of Samples.\n",
    "**Note: The two samples are completely independent**\n",
    "\n",
    "Two sample t test helps in establishing a relation between two independent samples either they are completely similar or stastically different.\n"
   ]
  },
  {
   "cell_type": "code",
   "execution_count": 10,
   "metadata": {},
   "outputs": [],
   "source": [
    "#Importing libraries\n",
    "import pandas as pd\n",
    "import scipy.stats as stats\n",
    "from scipy.stats import ttest_ind"
   ]
  },
  {
   "cell_type": "code",
   "execution_count": 11,
   "metadata": {},
   "outputs": [
    {
     "data": {
      "text/html": [
       "<div>\n",
       "<style scoped>\n",
       "    .dataframe tbody tr th:only-of-type {\n",
       "        vertical-align: middle;\n",
       "    }\n",
       "\n",
       "    .dataframe tbody tr th {\n",
       "        vertical-align: top;\n",
       "    }\n",
       "\n",
       "    .dataframe thead th {\n",
       "        text-align: right;\n",
       "    }\n",
       "</style>\n",
       "<table border=\"1\" class=\"dataframe\">\n",
       "  <thead>\n",
       "    <tr style=\"text-align: right;\">\n",
       "      <th></th>\n",
       "      <th>Hauz Khas</th>\n",
       "      <th>Defence Colony</th>\n",
       "    </tr>\n",
       "  </thead>\n",
       "  <tbody>\n",
       "    <tr>\n",
       "      <th>0</th>\n",
       "      <td>180</td>\n",
       "      <td>220</td>\n",
       "    </tr>\n",
       "    <tr>\n",
       "      <th>1</th>\n",
       "      <td>100</td>\n",
       "      <td>200</td>\n",
       "    </tr>\n",
       "    <tr>\n",
       "      <th>2</th>\n",
       "      <td>120</td>\n",
       "      <td>240</td>\n",
       "    </tr>\n",
       "    <tr>\n",
       "      <th>3</th>\n",
       "      <td>220</td>\n",
       "      <td>180</td>\n",
       "    </tr>\n",
       "    <tr>\n",
       "      <th>4</th>\n",
       "      <td>160</td>\n",
       "      <td>160</td>\n",
       "    </tr>\n",
       "  </tbody>\n",
       "</table>\n",
       "</div>"
      ],
      "text/plain": [
       "   Hauz Khas  Defence Colony\n",
       "0        180             220\n",
       "1        100             200\n",
       "2        120             240\n",
       "3        220             180\n",
       "4        160             160"
      ]
     },
     "execution_count": 11,
     "metadata": {},
     "output_type": "execute_result"
    }
   ],
   "source": [
    "#loading data\n",
    "data = pd.read_csv(\"./iris/Data for 2 sample test.csv\")\n",
    "data.head()"
   ]
  },
  {
   "cell_type": "code",
   "execution_count": 12,
   "metadata": {},
   "outputs": [],
   "source": [
    "# Calculating t-statistics and p-value using 2 sample t-test\n",
    "t_statistics,_ = stats.ttest_ind(data[\"Defence Colony\"],data[\"Hauz Khas\"])"
   ]
  },
  {
   "cell_type": "code",
   "execution_count": 13,
   "metadata": {},
   "outputs": [
    {
     "data": {
      "text/plain": [
       "2.569593732633792"
      ]
     },
     "execution_count": 13,
     "metadata": {},
     "output_type": "execute_result"
    }
   ],
   "source": [
    "t_statistics"
   ]
  },
  {
   "cell_type": "markdown",
   "metadata": {},
   "source": [
    "t-statistics > t-critical therefore we reject the null hypothesis"
   ]
  },
  {
   "cell_type": "markdown",
   "metadata": {},
   "source": [
    "# Chi Squared Tests:\n",
    "* When the variables are in categorical in nature, in such cases,testing the difference of the mean is not really viable option.\n",
    "* When  we have categorical variables,we use frequencies, and when we need to test categorical variables we Chi Squared Test.\n",
    "   "
   ]
  },
  {
   "cell_type": "code",
   "execution_count": 15,
   "metadata": {},
   "outputs": [],
   "source": [
    "#Importing libraries\n",
    "import pandas as pd\n",
    "import scipy.stats as stats\n",
    "from scipy.stats import chisquare"
   ]
  },
  {
   "cell_type": "code",
   "execution_count": 16,
   "metadata": {},
   "outputs": [
    {
     "data": {
      "text/html": [
       "<div>\n",
       "<style scoped>\n",
       "    .dataframe tbody tr th:only-of-type {\n",
       "        vertical-align: middle;\n",
       "    }\n",
       "\n",
       "    .dataframe tbody tr th {\n",
       "        vertical-align: top;\n",
       "    }\n",
       "\n",
       "    .dataframe thead th {\n",
       "        text-align: right;\n",
       "    }\n",
       "</style>\n",
       "<table border=\"1\" class=\"dataframe\">\n",
       "  <thead>\n",
       "    <tr style=\"text-align: right;\">\n",
       "      <th></th>\n",
       "      <th>Event</th>\n",
       "      <th>Observed</th>\n",
       "      <th>Expected</th>\n",
       "    </tr>\n",
       "  </thead>\n",
       "  <tbody>\n",
       "    <tr>\n",
       "      <th>0</th>\n",
       "      <td>Successful</td>\n",
       "      <td>41</td>\n",
       "      <td>33</td>\n",
       "    </tr>\n",
       "    <tr>\n",
       "      <th>1</th>\n",
       "      <td>Unsuccessful</td>\n",
       "      <td>59</td>\n",
       "      <td>67</td>\n",
       "    </tr>\n",
       "  </tbody>\n",
       "</table>\n",
       "</div>"
      ],
      "text/plain": [
       "          Event  Observed  Expected\n",
       "0    Successful        41        33\n",
       "1  Unsuccessful        59        67"
      ]
     },
     "execution_count": 16,
     "metadata": {},
     "output_type": "execute_result"
    }
   ],
   "source": [
    "#loading data\n",
    "data = pd.read_csv(\"./iris/chi_square.csv\")\n",
    "data.head()"
   ]
  },
  {
   "cell_type": "code",
   "execution_count": 17,
   "metadata": {},
   "outputs": [],
   "source": [
    "t_statistic,p_value = chisquare(f_obs= data['Observed'],f_exp=data['Expected'])"
   ]
  },
  {
   "cell_type": "code",
   "execution_count": 18,
   "metadata": {},
   "outputs": [
    {
     "data": {
      "text/plain": [
       "(2.8946178199909545, 0.08887585044058065)"
      ]
     },
     "execution_count": 18,
     "metadata": {},
     "output_type": "execute_result"
    }
   ],
   "source": [
    "t_statistic,p_value \n"
   ]
  },
  {
   "cell_type": "markdown",
   "metadata": {},
   "source": [
    "t_statistic < t_statistic\n",
    "2.86 < 3.84 \n",
    "\n",
    "P_value > cutoff value of P (0.05)\n",
    "0.08 > 0.05\n",
    "\n",
    "Hence as p>0.05, we fail to reject the null hypothesis i.e the observed and expected frequency are similar"
   ]
  },
  {
   "cell_type": "markdown",
   "metadata": {},
   "source": [
    "# Correlation"
   ]
  },
  {
   "cell_type": "markdown",
   "metadata": {},
   "source": [
    "* It is used to determine the relationship between two variables\n",
    "* It is denoated by r\n",
    "* The value ranges from -1 to 1. Here 0 means no correlation\n",
    "* The covariance shows how much of these variables vary with eachother. While the standard deviation shows how much these\n",
    "variables vary apart from each other.\n",
    "* If the data falls perfectly in the positive direction then the  value of r=1 and if the data falls in the negative direction, r=-1\n",
    "* R lies within 1 and -1\n",
    "* Data that is not correleated at all has r value of 0\n"
   ]
  },
  {
   "cell_type": "code",
   "execution_count": 2,
   "metadata": {},
   "outputs": [],
   "source": [
    "#Importing libraries\n",
    "import pandas as pd\n",
    "import numpy as np"
   ]
  },
  {
   "cell_type": "code",
   "execution_count": 3,
   "metadata": {},
   "outputs": [],
   "source": [
    "#Loading data\n",
    "data = pd.read_csv('./iris/correlation.csv')"
   ]
  },
  {
   "cell_type": "code",
   "execution_count": 4,
   "metadata": {},
   "outputs": [
    {
     "data": {
      "text/html": [
       "<div>\n",
       "<style scoped>\n",
       "    .dataframe tbody tr th:only-of-type {\n",
       "        vertical-align: middle;\n",
       "    }\n",
       "\n",
       "    .dataframe tbody tr th {\n",
       "        vertical-align: top;\n",
       "    }\n",
       "\n",
       "    .dataframe thead th {\n",
       "        text-align: right;\n",
       "    }\n",
       "</style>\n",
       "<table border=\"1\" class=\"dataframe\">\n",
       "  <thead>\n",
       "    <tr style=\"text-align: right;\">\n",
       "      <th></th>\n",
       "      <th>Item_Identifier</th>\n",
       "      <th>Item_Weight</th>\n",
       "      <th>Item_MRP</th>\n",
       "      <th>Item_Outlet_Sales</th>\n",
       "    </tr>\n",
       "  </thead>\n",
       "  <tbody>\n",
       "    <tr>\n",
       "      <th>0</th>\n",
       "      <td>FDA15</td>\n",
       "      <td>9.30</td>\n",
       "      <td>249.8092</td>\n",
       "      <td>3735.1380</td>\n",
       "    </tr>\n",
       "    <tr>\n",
       "      <th>1</th>\n",
       "      <td>DRC01</td>\n",
       "      <td>5.92</td>\n",
       "      <td>48.2692</td>\n",
       "      <td>443.4228</td>\n",
       "    </tr>\n",
       "    <tr>\n",
       "      <th>2</th>\n",
       "      <td>FDN15</td>\n",
       "      <td>17.50</td>\n",
       "      <td>141.6180</td>\n",
       "      <td>2097.2700</td>\n",
       "    </tr>\n",
       "    <tr>\n",
       "      <th>3</th>\n",
       "      <td>FDX07</td>\n",
       "      <td>19.20</td>\n",
       "      <td>182.0950</td>\n",
       "      <td>732.3800</td>\n",
       "    </tr>\n",
       "    <tr>\n",
       "      <th>4</th>\n",
       "      <td>NCD19</td>\n",
       "      <td>8.93</td>\n",
       "      <td>53.8614</td>\n",
       "      <td>994.7052</td>\n",
       "    </tr>\n",
       "  </tbody>\n",
       "</table>\n",
       "</div>"
      ],
      "text/plain": [
       "  Item_Identifier  Item_Weight  Item_MRP  Item_Outlet_Sales\n",
       "0           FDA15         9.30  249.8092          3735.1380\n",
       "1           DRC01         5.92   48.2692           443.4228\n",
       "2           FDN15        17.50  141.6180          2097.2700\n",
       "3           FDX07        19.20  182.0950           732.3800\n",
       "4           NCD19         8.93   53.8614           994.7052"
      ]
     },
     "execution_count": 4,
     "metadata": {},
     "output_type": "execute_result"
    }
   ],
   "source": [
    "#Printing first 5 rows\n",
    "data.head()"
   ]
  },
  {
   "cell_type": "code",
   "execution_count": 5,
   "metadata": {},
   "outputs": [
    {
     "data": {
      "text/html": [
       "<div>\n",
       "<style scoped>\n",
       "    .dataframe tbody tr th:only-of-type {\n",
       "        vertical-align: middle;\n",
       "    }\n",
       "\n",
       "    .dataframe tbody tr th {\n",
       "        vertical-align: top;\n",
       "    }\n",
       "\n",
       "    .dataframe thead th {\n",
       "        text-align: right;\n",
       "    }\n",
       "</style>\n",
       "<table border=\"1\" class=\"dataframe\">\n",
       "  <thead>\n",
       "    <tr style=\"text-align: right;\">\n",
       "      <th></th>\n",
       "      <th>Item_Weight</th>\n",
       "      <th>Item_MRP</th>\n",
       "    </tr>\n",
       "  </thead>\n",
       "  <tbody>\n",
       "    <tr>\n",
       "      <th>Item_Weight</th>\n",
       "      <td>1.000000</td>\n",
       "      <td>0.027141</td>\n",
       "    </tr>\n",
       "    <tr>\n",
       "      <th>Item_MRP</th>\n",
       "      <td>0.027141</td>\n",
       "      <td>1.000000</td>\n",
       "    </tr>\n",
       "  </tbody>\n",
       "</table>\n",
       "</div>"
      ],
      "text/plain": [
       "             Item_Weight  Item_MRP\n",
       "Item_Weight     1.000000  0.027141\n",
       "Item_MRP        0.027141  1.000000"
      ]
     },
     "execution_count": 5,
     "metadata": {},
     "output_type": "execute_result"
    }
   ],
   "source": [
    "#Correlation between Item_Weight and Item_MRP\n",
    "\n",
    "data[['Item_Weight','Item_MRP']].corr()"
   ]
  },
  {
   "cell_type": "code",
   "execution_count": 6,
   "metadata": {},
   "outputs": [
    {
     "data": {
      "text/html": [
       "<div>\n",
       "<style scoped>\n",
       "    .dataframe tbody tr th:only-of-type {\n",
       "        vertical-align: middle;\n",
       "    }\n",
       "\n",
       "    .dataframe tbody tr th {\n",
       "        vertical-align: top;\n",
       "    }\n",
       "\n",
       "    .dataframe thead th {\n",
       "        text-align: right;\n",
       "    }\n",
       "</style>\n",
       "<table border=\"1\" class=\"dataframe\">\n",
       "  <thead>\n",
       "    <tr style=\"text-align: right;\">\n",
       "      <th></th>\n",
       "      <th>Item_Weight</th>\n",
       "      <th>Item_Outlet_Sales</th>\n",
       "    </tr>\n",
       "  </thead>\n",
       "  <tbody>\n",
       "    <tr>\n",
       "      <th>Item_Weight</th>\n",
       "      <td>1.000000</td>\n",
       "      <td>0.014123</td>\n",
       "    </tr>\n",
       "    <tr>\n",
       "      <th>Item_Outlet_Sales</th>\n",
       "      <td>0.014123</td>\n",
       "      <td>1.000000</td>\n",
       "    </tr>\n",
       "  </tbody>\n",
       "</table>\n",
       "</div>"
      ],
      "text/plain": [
       "                   Item_Weight  Item_Outlet_Sales\n",
       "Item_Weight           1.000000           0.014123\n",
       "Item_Outlet_Sales     0.014123           1.000000"
      ]
     },
     "execution_count": 6,
     "metadata": {},
     "output_type": "execute_result"
    }
   ],
   "source": [
    "#Correlation between Item_Weight and Item_Outlet_Sales\n",
    "\n",
    "data[['Item_Weight','Item_Outlet_Sales']].corr()"
   ]
  },
  {
   "cell_type": "code",
   "execution_count": 8,
   "metadata": {},
   "outputs": [
    {
     "data": {
      "text/html": [
       "<div>\n",
       "<style scoped>\n",
       "    .dataframe tbody tr th:only-of-type {\n",
       "        vertical-align: middle;\n",
       "    }\n",
       "\n",
       "    .dataframe tbody tr th {\n",
       "        vertical-align: top;\n",
       "    }\n",
       "\n",
       "    .dataframe thead th {\n",
       "        text-align: right;\n",
       "    }\n",
       "</style>\n",
       "<table border=\"1\" class=\"dataframe\">\n",
       "  <thead>\n",
       "    <tr style=\"text-align: right;\">\n",
       "      <th></th>\n",
       "      <th>Item_MRP</th>\n",
       "      <th>Item_Outlet_Sales</th>\n",
       "    </tr>\n",
       "  </thead>\n",
       "  <tbody>\n",
       "    <tr>\n",
       "      <th>Item_MRP</th>\n",
       "      <td>1.000000</td>\n",
       "      <td>0.567574</td>\n",
       "    </tr>\n",
       "    <tr>\n",
       "      <th>Item_Outlet_Sales</th>\n",
       "      <td>0.567574</td>\n",
       "      <td>1.000000</td>\n",
       "    </tr>\n",
       "  </tbody>\n",
       "</table>\n",
       "</div>"
      ],
      "text/plain": [
       "                   Item_MRP  Item_Outlet_Sales\n",
       "Item_MRP           1.000000           0.567574\n",
       "Item_Outlet_Sales  0.567574           1.000000"
      ]
     },
     "execution_count": 8,
     "metadata": {},
     "output_type": "execute_result"
    }
   ],
   "source": [
    "#Correlation between Item_MRP and Item_Outlet_Sales\n",
    "\n",
    "data[['Item_MRP','Item_Outlet_Sales']].corr()"
   ]
  },
  {
   "cell_type": "code",
   "execution_count": 9,
   "metadata": {},
   "outputs": [],
   "source": [
    "# Importing plotting libraries\n",
    "import matplotlib.pyplot as plt\n",
    "%matplotlib inline\n",
    "import seaborn as sns"
   ]
  },
  {
   "cell_type": "code",
   "execution_count": 10,
   "metadata": {},
   "outputs": [
    {
     "data": {
      "text/html": [
       "<div>\n",
       "<style scoped>\n",
       "    .dataframe tbody tr th:only-of-type {\n",
       "        vertical-align: middle;\n",
       "    }\n",
       "\n",
       "    .dataframe tbody tr th {\n",
       "        vertical-align: top;\n",
       "    }\n",
       "\n",
       "    .dataframe thead th {\n",
       "        text-align: right;\n",
       "    }\n",
       "</style>\n",
       "<table border=\"1\" class=\"dataframe\">\n",
       "  <thead>\n",
       "    <tr style=\"text-align: right;\">\n",
       "      <th></th>\n",
       "      <th>Item_Weight</th>\n",
       "      <th>Item_MRP</th>\n",
       "      <th>Item_Outlet_Sales</th>\n",
       "    </tr>\n",
       "  </thead>\n",
       "  <tbody>\n",
       "    <tr>\n",
       "      <th>Item_Weight</th>\n",
       "      <td>1.000000</td>\n",
       "      <td>0.027141</td>\n",
       "      <td>0.014123</td>\n",
       "    </tr>\n",
       "    <tr>\n",
       "      <th>Item_MRP</th>\n",
       "      <td>0.027141</td>\n",
       "      <td>1.000000</td>\n",
       "      <td>0.567574</td>\n",
       "    </tr>\n",
       "    <tr>\n",
       "      <th>Item_Outlet_Sales</th>\n",
       "      <td>0.014123</td>\n",
       "      <td>0.567574</td>\n",
       "      <td>1.000000</td>\n",
       "    </tr>\n",
       "  </tbody>\n",
       "</table>\n",
       "</div>"
      ],
      "text/plain": [
       "                   Item_Weight  Item_MRP  Item_Outlet_Sales\n",
       "Item_Weight           1.000000  0.027141           0.014123\n",
       "Item_MRP              0.027141  1.000000           0.567574\n",
       "Item_Outlet_Sales     0.014123  0.567574           1.000000"
      ]
     },
     "execution_count": 10,
     "metadata": {},
     "output_type": "execute_result"
    }
   ],
   "source": [
    "data.corr()"
   ]
  },
  {
   "cell_type": "code",
   "execution_count": 11,
   "metadata": {},
   "outputs": [
    {
     "data": {
      "text/plain": [
       "<matplotlib.axes._subplots.AxesSubplot at 0x7f1f5b003eb8>"
      ]
     },
     "execution_count": 11,
     "metadata": {},
     "output_type": "execute_result"
    },
    {
     "data": {
      "image/png": "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\n",
      "text/plain": [
       "<Figure size 1152x720 with 2 Axes>"
      ]
     },
     "metadata": {
      "needs_background": "light"
     },
     "output_type": "display_data"
    }
   ],
   "source": [
    "#Plotting correlation between different features\n",
    "cor = data.corr()\n",
    "plt.figure(figsize=(16,10))\n",
    "sns.heatmap(cor)"
   ]
  },
  {
   "cell_type": "markdown",
   "metadata": {},
   "source": [
    "We can see that there is a good correlation between Item_MRP and Item_Outlet_Sales"
   ]
  },
  {
   "cell_type": "markdown",
   "metadata": {},
   "source": [
    "# Predictive Modeling\n",
    "\n",
    "What is Predictive Modeling?\n",
    "Making use of past data and other attributes an trying to predict the future using the past data.\n",
    "\n",
    "## Detective Analysis\n",
    "Identifying the decline sales in shampoo product?\n",
    "Analyzing the past sales data, identifying the factors without predicting the future sales\n",
    "\n",
    "---\n",
    "\n",
    "## Types of Predictive Modeling\n",
    "\n",
    "* House Price Prediction (supervised Learning)\n",
    "* Google news clustering (Un-supervised Learning)"
   ]
  },
  {
   "cell_type": "markdown",
   "metadata": {},
   "source": [
    "## supervised Learning\n",
    "\n",
    "**House Price Prediction (supervised Learning)**\n",
    "The values for the **price_col** would be **continuous** so, the problem we called as **Regression problem.**\n",
    "\n",
    "**Cancer Prediction (supervised Learning)**\n",
    "We are looking for **Cancer_type**, the values are discrete i.e 0 or 1. the problem we called as **Classification problem.**\n",
    "\n",
    "## Un-supervised Learning\n",
    "Document Clustering: \n",
    "Market Segmentation: grouping the customer \n",
    "This both are called **clustering**\n",
    "\n",
    "Notes:\n",
    "Predicting whether a student passes or fails is classification.\n",
    "\n",
    "What about predicting the score of a student between 0 and 100? Is this also classification or is regression?\n"
   ]
  },
  {
   "cell_type": "markdown",
   "metadata": {},
   "source": [
    "## Steps of Predictive Modeling\n",
    "1. Problem Definition: Identify the right problem statement, ideally formulate the problem mathematically.\n",
    "\n",
    "2. Hypothesis Generation: List down all possible variables, which might influence problem objective.\n",
    "\n",
    "Hypothesis generation should be done before or after the data?\n",
    "Before having the data.\n",
    "\n",
    "3. Data Extraction / Collection: collect the data from the various sources.\n",
    "\n",
    "4. Data Exploration: Will gain the insights from the data\n",
    "    1. Reading the Data\n",
    "    2. Variable Identification\n",
    "    3. Univariate Analysis\n",
    "    4. Bi-Variant Analysis\n",
    "    5. Missing Value Treatment\n",
    "    6. Outlier Treatment\n",
    "    7. Variable Transformation\n",
    "    \n",
    "\n",
    "# 1.Reading the Data: Reading the data from csv or excel\n",
    "# 2.Variable Identification:\n",
    "\n",
    "What is Variable identification?\n",
    "* We need identify which variable are independent and dependent variables\n",
    "* We identify the above variables as continuous and categorical variables too.\n",
    "\n",
    "Why do we perform Variable identification?\n",
    "* **Techniques like supervised learning require identification of Dependent variable**: All supervised learning like linear regression, logistic regression etc, requires a dependent variables.\n",
    "* **Different data processing techniques for Categorical and Continuous data:** Also algorithms handles Categorical and Continuous variables differently.\n",
    "\n",
    "Difference between Dependent and Independent variables\n",
    "\n",
    "1. Dependent Variable - the variable we are trying to predict\n",
    "    Example: Survived variable in titanic problem\n",
    "\n",
    "2. Independent Variable - The variables which helps in predicting the Dependent Variables\n",
    "    Example: Sex,Fare Etc, in titanic problem.\n",
    "    \n",
    "How to identify Dependent and Independent variables?\n",
    "Can only be identified from the problem statement.\n",
    "\n",
    "How to identify categorical and continuous variables?\n",
    "**In pandas,  dtypes method in pandas helps you to find out **\n",
    "Categorical Variables : stored as object\n",
    "Continuous Variables: stored as int or float\n"
   ]
  },
  {
   "cell_type": "code",
   "execution_count": 1,
   "metadata": {},
   "outputs": [],
   "source": [
    "#Variable Indentification: Implementation\n",
    "\n",
    "import pandas as pd"
   ]
  },
  {
   "cell_type": "code",
   "execution_count": 2,
   "metadata": {},
   "outputs": [],
   "source": [
    "file = pd.read_csv('./iris/data.csv')\n"
   ]
  },
  {
   "cell_type": "code",
   "execution_count": 4,
   "metadata": {},
   "outputs": [
    {
     "data": {
      "text/plain": [
       "(891, 12)"
      ]
     },
     "execution_count": 4,
     "metadata": {},
     "output_type": "execute_result"
    }
   ],
   "source": [
    "# there are 891 rows and 12 columns in the dataset\n",
    "file.shape"
   ]
  },
  {
   "cell_type": "code",
   "execution_count": 5,
   "metadata": {},
   "outputs": [
    {
     "data": {
      "text/html": [
       "<div>\n",
       "<style scoped>\n",
       "    .dataframe tbody tr th:only-of-type {\n",
       "        vertical-align: middle;\n",
       "    }\n",
       "\n",
       "    .dataframe tbody tr th {\n",
       "        vertical-align: top;\n",
       "    }\n",
       "\n",
       "    .dataframe thead th {\n",
       "        text-align: right;\n",
       "    }\n",
       "</style>\n",
       "<table border=\"1\" class=\"dataframe\">\n",
       "  <thead>\n",
       "    <tr style=\"text-align: right;\">\n",
       "      <th></th>\n",
       "      <th>PassengerId</th>\n",
       "      <th>Survived</th>\n",
       "      <th>Pclass</th>\n",
       "      <th>Name</th>\n",
       "      <th>Sex</th>\n",
       "      <th>Age</th>\n",
       "      <th>SibSp</th>\n",
       "      <th>Parch</th>\n",
       "      <th>Ticket</th>\n",
       "      <th>Fare</th>\n",
       "      <th>Cabin</th>\n",
       "      <th>Embarked</th>\n",
       "    </tr>\n",
       "  </thead>\n",
       "  <tbody>\n",
       "    <tr>\n",
       "      <th>0</th>\n",
       "      <td>1</td>\n",
       "      <td>0</td>\n",
       "      <td>3</td>\n",
       "      <td>Braund, Mr. Owen Harris</td>\n",
       "      <td>male</td>\n",
       "      <td>22.0</td>\n",
       "      <td>1</td>\n",
       "      <td>0</td>\n",
       "      <td>A/5 21171</td>\n",
       "      <td>7.2500</td>\n",
       "      <td>NaN</td>\n",
       "      <td>S</td>\n",
       "    </tr>\n",
       "    <tr>\n",
       "      <th>1</th>\n",
       "      <td>2</td>\n",
       "      <td>1</td>\n",
       "      <td>1</td>\n",
       "      <td>Cumings, Mrs. John Bradley (Florence Briggs Th...</td>\n",
       "      <td>female</td>\n",
       "      <td>38.0</td>\n",
       "      <td>1</td>\n",
       "      <td>0</td>\n",
       "      <td>PC 17599</td>\n",
       "      <td>71.2833</td>\n",
       "      <td>C85</td>\n",
       "      <td>C</td>\n",
       "    </tr>\n",
       "    <tr>\n",
       "      <th>2</th>\n",
       "      <td>3</td>\n",
       "      <td>1</td>\n",
       "      <td>3</td>\n",
       "      <td>Heikkinen, Miss. Laina</td>\n",
       "      <td>female</td>\n",
       "      <td>26.0</td>\n",
       "      <td>0</td>\n",
       "      <td>0</td>\n",
       "      <td>STON/O2. 3101282</td>\n",
       "      <td>7.9250</td>\n",
       "      <td>NaN</td>\n",
       "      <td>S</td>\n",
       "    </tr>\n",
       "    <tr>\n",
       "      <th>3</th>\n",
       "      <td>4</td>\n",
       "      <td>1</td>\n",
       "      <td>1</td>\n",
       "      <td>Futrelle, Mrs. Jacques Heath (Lily May Peel)</td>\n",
       "      <td>female</td>\n",
       "      <td>35.0</td>\n",
       "      <td>1</td>\n",
       "      <td>0</td>\n",
       "      <td>113803</td>\n",
       "      <td>53.1000</td>\n",
       "      <td>C123</td>\n",
       "      <td>S</td>\n",
       "    </tr>\n",
       "    <tr>\n",
       "      <th>4</th>\n",
       "      <td>5</td>\n",
       "      <td>0</td>\n",
       "      <td>3</td>\n",
       "      <td>Allen, Mr. William Henry</td>\n",
       "      <td>male</td>\n",
       "      <td>35.0</td>\n",
       "      <td>0</td>\n",
       "      <td>0</td>\n",
       "      <td>373450</td>\n",
       "      <td>8.0500</td>\n",
       "      <td>NaN</td>\n",
       "      <td>S</td>\n",
       "    </tr>\n",
       "  </tbody>\n",
       "</table>\n",
       "</div>"
      ],
      "text/plain": [
       "   PassengerId  Survived  Pclass  \\\n",
       "0            1         0       3   \n",
       "1            2         1       1   \n",
       "2            3         1       3   \n",
       "3            4         1       1   \n",
       "4            5         0       3   \n",
       "\n",
       "                                                Name     Sex   Age  SibSp  \\\n",
       "0                            Braund, Mr. Owen Harris    male  22.0      1   \n",
       "1  Cumings, Mrs. John Bradley (Florence Briggs Th...  female  38.0      1   \n",
       "2                             Heikkinen, Miss. Laina  female  26.0      0   \n",
       "3       Futrelle, Mrs. Jacques Heath (Lily May Peel)  female  35.0      1   \n",
       "4                           Allen, Mr. William Henry    male  35.0      0   \n",
       "\n",
       "   Parch            Ticket     Fare Cabin Embarked  \n",
       "0      0         A/5 21171   7.2500   NaN        S  \n",
       "1      0          PC 17599  71.2833   C85        C  \n",
       "2      0  STON/O2. 3101282   7.9250   NaN        S  \n",
       "3      0            113803  53.1000  C123        S  \n",
       "4      0            373450   8.0500   NaN        S  "
      ]
     },
     "execution_count": 5,
     "metadata": {},
     "output_type": "execute_result"
    }
   ],
   "source": [
    "file.head()"
   ]
  },
  {
   "cell_type": "code",
   "execution_count": 6,
   "metadata": {},
   "outputs": [
    {
     "data": {
      "text/plain": [
       "PassengerId      int64\n",
       "Survived         int64\n",
       "Pclass           int64\n",
       "Name            object\n",
       "Sex             object\n",
       "Age            float64\n",
       "SibSp            int64\n",
       "Parch            int64\n",
       "Ticket          object\n",
       "Fare           float64\n",
       "Cabin           object\n",
       "Embarked        object\n",
       "dtype: object"
      ]
     },
     "execution_count": 6,
     "metadata": {},
     "output_type": "execute_result"
    }
   ],
   "source": [
    "# Identify categorical and continuous variables\n",
    "\n",
    "file.dtypes"
   ]
  },
  {
   "cell_type": "markdown",
   "metadata": {},
   "source": [
    "# 3.Univariate Analysis\n",
    "\n",
    "**Topic to be covered:**\n",
    "1. What is Univariate Analysis?\n",
    "2. Why do we need Univariate Analysis?\n",
    "3. What do we look in Univariate Analysis?\n",
    "4. How do we perform Univariate Analysis?\n",
    "\n",
    "### What is Univariate Analysis?\n",
    "> **Where we focus on single variable at a time, summarize it,use this summary to understand the data better.**\n",
    "1. Explore one variable at a time\n",
    "2. Summarize the variable\n",
    "3. Make sense out of that summary to discover insights, anomalies etc.\n",
    "\n",
    ">**1)In Univariate Analysis, we understand several aspects of the data, 2) what is the type of available data, does the distribution of the data looks correct, are there anomalies in the data etc.**\n",
    "\n",
    "###  Why do we need Univariate Analysis?\n",
    "> **Univariate Analysis, helps in detecting anomalies in the data for example age is 450 in the titanic data, which is not possible.**\n",
    "\n",
    "### What do we look in Univariate Analysis? \n",
    "\n",
    "* ### Continuous Variables\n",
    "* ### Categorical Variables\n",
    "\n",
    "### Continuous Variables :\n",
    "* *Central Tendency and dispersion:* mean,median, standard deviation\n",
    "* *Distribution of variable:* Symmetric/Right Skewed/ Left Skewed\\\n",
    "* *Presence of Missing Values in a variable*\n",
    "* *Presence of Outliers*\n",
    "\n",
    "###  How do we perform Univariate Analysis?\n",
    "* Tabular Methods - Mean, Median, Standard Deviation and missing values, **In pandas we use describe() method which yields (Mean, Median, Standard Deviation) all the info on continuous variable*\n",
    "* Graphical Methods - checking the distribution of variables, detecting the Outliers\n",
    " **Histogram - Distribution of a variable** (Age on X-axis, Frequency on Y-axis)\n",
    " syntax: pd.DataFrame.hist()\n",
    " \n",
    " **Boxplot - Detection of Outliers**\n",
    " syntax: pd.DataFrame.boxplot()\n",
    " \n",
    " "
   ]
  },
  {
   "cell_type": "code",
   "execution_count": 7,
   "metadata": {},
   "outputs": [],
   "source": [
    "# Univariate Analysis for Continuous Variables : Implementation\n",
    "\n",
    "import pandas as pd\n",
    "import matplotlib.pyplot as plt\n",
    "%matplotlib inline\n"
   ]
  },
  {
   "cell_type": "code",
   "execution_count": 8,
   "metadata": {},
   "outputs": [],
   "source": [
    "file = pd.read_csv('./iris/train.csv')"
   ]
  },
  {
   "cell_type": "code",
   "execution_count": 10,
   "metadata": {},
   "outputs": [
    {
     "data": {
      "text/plain": [
       "(891, 12)"
      ]
     },
     "execution_count": 10,
     "metadata": {},
     "output_type": "execute_result"
    }
   ],
   "source": [
    "file.shape"
   ]
  },
  {
   "cell_type": "code",
   "execution_count": 12,
   "metadata": {},
   "outputs": [
    {
     "data": {
      "text/plain": [
       "Index(['PassengerId', 'Survived', 'Pclass', 'Name', 'Sex', 'Age', 'SibSp',\n",
       "       'Parch', 'Ticket', 'Fare', 'Cabin', 'Embarked'],\n",
       "      dtype='object')"
      ]
     },
     "execution_count": 12,
     "metadata": {},
     "output_type": "execute_result"
    }
   ],
   "source": [
    "file.columns"
   ]
  },
  {
   "cell_type": "code",
   "execution_count": 13,
   "metadata": {
    "collapsed": true,
    "jupyter": {
     "outputs_hidden": true
    }
   },
   "outputs": [
    {
     "data": {
      "text/html": [
       "<div>\n",
       "<style scoped>\n",
       "    .dataframe tbody tr th:only-of-type {\n",
       "        vertical-align: middle;\n",
       "    }\n",
       "\n",
       "    .dataframe tbody tr th {\n",
       "        vertical-align: top;\n",
       "    }\n",
       "\n",
       "    .dataframe thead th {\n",
       "        text-align: right;\n",
       "    }\n",
       "</style>\n",
       "<table border=\"1\" class=\"dataframe\">\n",
       "  <thead>\n",
       "    <tr style=\"text-align: right;\">\n",
       "      <th></th>\n",
       "      <th>PassengerId</th>\n",
       "      <th>Survived</th>\n",
       "      <th>Pclass</th>\n",
       "      <th>Name</th>\n",
       "      <th>Sex</th>\n",
       "      <th>Age</th>\n",
       "      <th>SibSp</th>\n",
       "      <th>Parch</th>\n",
       "      <th>Ticket</th>\n",
       "      <th>Fare</th>\n",
       "      <th>Cabin</th>\n",
       "      <th>Embarked</th>\n",
       "    </tr>\n",
       "  </thead>\n",
       "  <tbody>\n",
       "    <tr>\n",
       "      <th>0</th>\n",
       "      <td>1</td>\n",
       "      <td>0</td>\n",
       "      <td>3</td>\n",
       "      <td>Braund, Mr. Owen Harris</td>\n",
       "      <td>male</td>\n",
       "      <td>22.0</td>\n",
       "      <td>1</td>\n",
       "      <td>0</td>\n",
       "      <td>A/5 21171</td>\n",
       "      <td>7.2500</td>\n",
       "      <td>NaN</td>\n",
       "      <td>S</td>\n",
       "    </tr>\n",
       "    <tr>\n",
       "      <th>1</th>\n",
       "      <td>2</td>\n",
       "      <td>1</td>\n",
       "      <td>1</td>\n",
       "      <td>Cumings, Mrs. John Bradley (Florence Briggs Th...</td>\n",
       "      <td>female</td>\n",
       "      <td>38.0</td>\n",
       "      <td>1</td>\n",
       "      <td>0</td>\n",
       "      <td>PC 17599</td>\n",
       "      <td>71.2833</td>\n",
       "      <td>C85</td>\n",
       "      <td>C</td>\n",
       "    </tr>\n",
       "    <tr>\n",
       "      <th>2</th>\n",
       "      <td>3</td>\n",
       "      <td>1</td>\n",
       "      <td>3</td>\n",
       "      <td>Heikkinen, Miss. Laina</td>\n",
       "      <td>female</td>\n",
       "      <td>26.0</td>\n",
       "      <td>0</td>\n",
       "      <td>0</td>\n",
       "      <td>STON/O2. 3101282</td>\n",
       "      <td>7.9250</td>\n",
       "      <td>NaN</td>\n",
       "      <td>S</td>\n",
       "    </tr>\n",
       "    <tr>\n",
       "      <th>3</th>\n",
       "      <td>4</td>\n",
       "      <td>1</td>\n",
       "      <td>1</td>\n",
       "      <td>Futrelle, Mrs. Jacques Heath (Lily May Peel)</td>\n",
       "      <td>female</td>\n",
       "      <td>35.0</td>\n",
       "      <td>1</td>\n",
       "      <td>0</td>\n",
       "      <td>113803</td>\n",
       "      <td>53.1000</td>\n",
       "      <td>C123</td>\n",
       "      <td>S</td>\n",
       "    </tr>\n",
       "    <tr>\n",
       "      <th>4</th>\n",
       "      <td>5</td>\n",
       "      <td>0</td>\n",
       "      <td>3</td>\n",
       "      <td>Allen, Mr. William Henry</td>\n",
       "      <td>male</td>\n",
       "      <td>35.0</td>\n",
       "      <td>0</td>\n",
       "      <td>0</td>\n",
       "      <td>373450</td>\n",
       "      <td>8.0500</td>\n",
       "      <td>NaN</td>\n",
       "      <td>S</td>\n",
       "    </tr>\n",
       "  </tbody>\n",
       "</table>\n",
       "</div>"
      ],
      "text/plain": [
       "   PassengerId  Survived  Pclass  \\\n",
       "0            1         0       3   \n",
       "1            2         1       1   \n",
       "2            3         1       3   \n",
       "3            4         1       1   \n",
       "4            5         0       3   \n",
       "\n",
       "                                                Name     Sex   Age  SibSp  \\\n",
       "0                            Braund, Mr. Owen Harris    male  22.0      1   \n",
       "1  Cumings, Mrs. John Bradley (Florence Briggs Th...  female  38.0      1   \n",
       "2                             Heikkinen, Miss. Laina  female  26.0      0   \n",
       "3       Futrelle, Mrs. Jacques Heath (Lily May Peel)  female  35.0      1   \n",
       "4                           Allen, Mr. William Henry    male  35.0      0   \n",
       "\n",
       "   Parch            Ticket     Fare Cabin Embarked  \n",
       "0      0         A/5 21171   7.2500   NaN        S  \n",
       "1      0          PC 17599  71.2833   C85        C  \n",
       "2      0  STON/O2. 3101282   7.9250   NaN        S  \n",
       "3      0            113803  53.1000  C123        S  \n",
       "4      0            373450   8.0500   NaN        S  "
      ]
     },
     "execution_count": 13,
     "metadata": {},
     "output_type": "execute_result"
    }
   ],
   "source": [
    "file.head()"
   ]
  },
  {
   "cell_type": "code",
   "execution_count": 13,
   "metadata": {},
   "outputs": [
    {
     "data": {
      "text/plain": [
       "PassengerId      int64\n",
       "Survived         int64\n",
       "Pclass           int64\n",
       "Name            object\n",
       "Sex             object\n",
       "Age            float64\n",
       "SibSp            int64\n",
       "Parch            int64\n",
       "Ticket          object\n",
       "Fare           float64\n",
       "Cabin           object\n",
       "Embarked        object\n",
       "dtype: object"
      ]
     },
     "execution_count": 13,
     "metadata": {},
     "output_type": "execute_result"
    }
   ],
   "source": [
    "# Variable Identification\n",
    "file.dtypes\n"
   ]
  },
  {
   "cell_type": "markdown",
   "metadata": {},
   "source": [
    "# Univariate analysis of continuous variables\n"
   ]
  },
  {
   "cell_type": "code",
   "execution_count": 21,
   "metadata": {},
   "outputs": [
    {
     "data": {
      "text/html": [
       "<div>\n",
       "<style scoped>\n",
       "    .dataframe tbody tr th:only-of-type {\n",
       "        vertical-align: middle;\n",
       "    }\n",
       "\n",
       "    .dataframe tbody tr th {\n",
       "        vertical-align: top;\n",
       "    }\n",
       "\n",
       "    .dataframe thead th {\n",
       "        text-align: right;\n",
       "    }\n",
       "</style>\n",
       "<table border=\"1\" class=\"dataframe\">\n",
       "  <thead>\n",
       "    <tr style=\"text-align: right;\">\n",
       "      <th></th>\n",
       "      <th>PassengerId</th>\n",
       "      <th>Survived</th>\n",
       "      <th>Pclass</th>\n",
       "      <th>Age</th>\n",
       "      <th>SibSp</th>\n",
       "      <th>Parch</th>\n",
       "      <th>Fare</th>\n",
       "    </tr>\n",
       "  </thead>\n",
       "  <tbody>\n",
       "    <tr>\n",
       "      <th>count</th>\n",
       "      <td>891.000000</td>\n",
       "      <td>891.000000</td>\n",
       "      <td>891.000000</td>\n",
       "      <td>714.000000</td>\n",
       "      <td>891.000000</td>\n",
       "      <td>891.000000</td>\n",
       "      <td>891.000000</td>\n",
       "    </tr>\n",
       "    <tr>\n",
       "      <th>mean</th>\n",
       "      <td>446.000000</td>\n",
       "      <td>0.383838</td>\n",
       "      <td>2.308642</td>\n",
       "      <td>29.699118</td>\n",
       "      <td>0.523008</td>\n",
       "      <td>0.381594</td>\n",
       "      <td>32.204208</td>\n",
       "    </tr>\n",
       "    <tr>\n",
       "      <th>std</th>\n",
       "      <td>257.353842</td>\n",
       "      <td>0.486592</td>\n",
       "      <td>0.836071</td>\n",
       "      <td>14.526497</td>\n",
       "      <td>1.102743</td>\n",
       "      <td>0.806057</td>\n",
       "      <td>49.693429</td>\n",
       "    </tr>\n",
       "    <tr>\n",
       "      <th>min</th>\n",
       "      <td>1.000000</td>\n",
       "      <td>0.000000</td>\n",
       "      <td>1.000000</td>\n",
       "      <td>0.420000</td>\n",
       "      <td>0.000000</td>\n",
       "      <td>0.000000</td>\n",
       "      <td>0.000000</td>\n",
       "    </tr>\n",
       "    <tr>\n",
       "      <th>25%</th>\n",
       "      <td>223.500000</td>\n",
       "      <td>0.000000</td>\n",
       "      <td>2.000000</td>\n",
       "      <td>20.125000</td>\n",
       "      <td>0.000000</td>\n",
       "      <td>0.000000</td>\n",
       "      <td>7.910400</td>\n",
       "    </tr>\n",
       "    <tr>\n",
       "      <th>50%</th>\n",
       "      <td>446.000000</td>\n",
       "      <td>0.000000</td>\n",
       "      <td>3.000000</td>\n",
       "      <td>28.000000</td>\n",
       "      <td>0.000000</td>\n",
       "      <td>0.000000</td>\n",
       "      <td>14.454200</td>\n",
       "    </tr>\n",
       "    <tr>\n",
       "      <th>75%</th>\n",
       "      <td>668.500000</td>\n",
       "      <td>1.000000</td>\n",
       "      <td>3.000000</td>\n",
       "      <td>38.000000</td>\n",
       "      <td>1.000000</td>\n",
       "      <td>0.000000</td>\n",
       "      <td>31.000000</td>\n",
       "    </tr>\n",
       "    <tr>\n",
       "      <th>max</th>\n",
       "      <td>891.000000</td>\n",
       "      <td>1.000000</td>\n",
       "      <td>3.000000</td>\n",
       "      <td>80.000000</td>\n",
       "      <td>8.000000</td>\n",
       "      <td>6.000000</td>\n",
       "      <td>512.329200</td>\n",
       "    </tr>\n",
       "  </tbody>\n",
       "</table>\n",
       "</div>"
      ],
      "text/plain": [
       "       PassengerId    Survived      Pclass         Age       SibSp  \\\n",
       "count   891.000000  891.000000  891.000000  714.000000  891.000000   \n",
       "mean    446.000000    0.383838    2.308642   29.699118    0.523008   \n",
       "std     257.353842    0.486592    0.836071   14.526497    1.102743   \n",
       "min       1.000000    0.000000    1.000000    0.420000    0.000000   \n",
       "25%     223.500000    0.000000    2.000000   20.125000    0.000000   \n",
       "50%     446.000000    0.000000    3.000000   28.000000    0.000000   \n",
       "75%     668.500000    1.000000    3.000000   38.000000    1.000000   \n",
       "max     891.000000    1.000000    3.000000   80.000000    8.000000   \n",
       "\n",
       "            Parch        Fare  \n",
       "count  891.000000  891.000000  \n",
       "mean     0.381594   32.204208  \n",
       "std      0.806057   49.693429  \n",
       "min      0.000000    0.000000  \n",
       "25%      0.000000    7.910400  \n",
       "50%      0.000000   14.454200  \n",
       "75%      0.000000   31.000000  \n",
       "max      6.000000  512.329200  "
      ]
     },
     "execution_count": 21,
     "metadata": {},
     "output_type": "execute_result"
    }
   ],
   "source": [
    "file.describe()\n",
    "\n",
    "# Note: describe fundtion only retuns the output of continuos variables, not the categorical variables"
   ]
  },
  {
   "cell_type": "code",
   "execution_count": 22,
   "metadata": {},
   "outputs": [
    {
     "data": {
      "text/plain": [
       "<matplotlib.axes._subplots.AxesSubplot at 0x7fc19fbb7048>"
      ]
     },
     "execution_count": 22,
     "metadata": {},
     "output_type": "execute_result"
    },
    {
     "data": {
      "image/png": "iVBORw0KGgoAAAANSUhEUgAAAYUAAAD4CAYAAAAD6PrjAAAABHNCSVQICAgIfAhkiAAAAAlwSFlzAAALEgAACxIB0t1+/AAAADh0RVh0U29mdHdhcmUAbWF0cGxvdGxpYiB2ZXJzaW9uMy4xLjEsIGh0dHA6Ly9tYXRwbG90bGliLm9yZy8QZhcZAAATCUlEQVR4nO3df7BddX3u8fdjsCpUCzTRpkB6wEFadDTgkdr64yJoi9hC6UxtMm0vba3RKU61daYG26q9M8xw70Wpd3qvNlQuaDUKIkrBViPtlWmniolEDAIFJMWQlKTQFisUDH7uH3udxSaekH2SrL12st+vmT1nre/+sR4OyTxZ37XWXqkqJEkCeErfASRJk8NSkCS1LAVJUstSkCS1LAVJUuuQvgPsi8WLF9fMzEzfMSTpgLJhw4Z/qaol8z13QJfCzMwM69ev7zuGJB1QkvzT7p5z+kiS1LIUJEktS0GS1LIUJEktS0GS1LIUJEktS0GS1LIUJEmtzkohyaVJtifZNDT2iSQbm8fmJBub8ZkkDw8998GuckmSdq/LK5ovA/4U+PDcQFX98txykvcC/z70+ruqanmHeabezOrretv25gtf19u2JY2us1KoqhuSzMz3XJIArwdO62r7kqSF6+uYwiuA+6rqjqGxY5PclOSLSV6xuzcmWZVkfZL1O3bs6D6pJE2RvkphJbB2aH0bsKyqTgJ+D/hYkmfN98aqWlNVs1U1u2TJvF/yJ0naS2MvhSSHAL8IfGJurKoeqar7m+UNwF3A88adTZKmXR97Cq8GbquqLXMDSZYkWdQsHwccD3yzh2ySNNW6PCV1LfAPwAlJtiR5Q/PUCp44dQTwSuDmJF8DPgm8uaoe6CqbJGl+XZ59tHI3478+z9hVwFVdZZEkjcYrmiVJrQP6dpw6cPR14ZwXzUkL456CJKllKUiSWpaCJKllKUiSWpaCJKllKUiSWpaCJKllKUiSWpaCJKllKUiSWpaCJKllKUiSWpaCJKllKUiSWpaCJKllKUiSWpaCJKllKUiSWp2VQpJLk2xPsmlo7D1J7k2ysXmcOfTc+UnuTHJ7kp/tKpckafe63FO4DDhjnvGLq2p58/gsQJITgRXA85v3/J8kizrMJkmaR2elUFU3AA+M+PKzgY9X1SNVdTdwJ3BKV9kkSfPr45jCW5Lc3EwvHdGMHQV8a+g1W5qx75NkVZL1Sdbv2LGj66ySNFXGXQofAJ4LLAe2Ae9txjPPa2u+D6iqNVU1W1WzS5Ys6SalJE2psZZCVd1XVY9V1feAS3h8imgLcMzQS48Gto4zmyRpzKWQZOnQ6jnA3JlJ1wArkjwtybHA8cCN48wmSYJDuvrgJGuBU4HFSbYA7wZOTbKcwdTQZuBNAFV1S5IrgG8AO4HzquqxrrJJkubXWSlU1cp5hj/0JK+/ALigqzySpD3zimZJUstSkCS1LAVJUstSkCS1LAVJUstSkCS1LAVJUstSkCS1LAVJUstSkCS1LAVJUstSkCS1LAVJUstSkCS1LAVJUstSkCS1LAVJUstSkCS1LAVJUstSkCS1OiuFJJcm2Z5k09DY/0xyW5Kbk1yd5PBmfCbJw0k2No8PdpVLkrR7Xe4pXAacscvYOuAFVfVC4B+B84eeu6uqljePN3eYS5K0G52VQlXdADywy9jnq2pns/ol4Oiuti9JWrg+jyn8JvBXQ+vHJrkpyReTvKKvUJI0zQ7pY6NJ/gDYCXy0GdoGLKuq+5O8GPh0kudX1YPzvHcVsApg2bJl44osSVNh7HsKSc4Ffg74laoqgKp6pKrub5Y3AHcBz5vv/VW1pqpmq2p2yZIl44otSVNhrKWQ5AzgHcBZVfXQ0PiSJIua5eOA44FvjjObJKnD6aMka4FTgcVJtgDvZnC20dOAdUkAvtScafRK4L8l2Qk8Bry5qh6Y94MlSZ3prBSqauU8wx/azWuvAq7qKoskaTRe0SxJalkKkqSWpSBJavVynYI0LjOrr+tt25svfF1v25b2lnsKkqSWpSBJalkKkqSWpSBJao1UCkle0HUQSVL/Rt1T+GCSG5P89tzd0iRJB5+RSqGqXg78CnAMsD7Jx5K8ptNkkqSxG/mYQlXdAfwhg285/S/A/2rut/yLXYWTJI3XqMcUXpjkYuBW4DTg56vqJ5rlizvMJ0kao1GvaP5T4BLgnVX18NxgVW1N8oedJJMkjd2opXAm8HBVPQaQ5CnA06vqoar6SGfpJEljNeoxhS8AzxhaP7QZkyQdREYthadX1X/MrTTLh3YTSZLUl1FL4TtJTp5bSfJi4OEneb0k6QA06jGFtwFXJtnarC8FfrmbSJKkvoxUClX1lSQ/DpwABLitqr7baTJJ0tgt5CY7LwFmmveclISq+nAnqSRJvRj14rWPABcBL2dQDi8BZvfwnkuTbE+yaWjsyCTrktzR/Dxi6Lnzk9yZ5PYkP7tX/zWSpH0y6p7CLHBiVdUCPvsyBhe9De9NrAaur6oLk6xu1t+R5ERgBfB84EeBLyR53tx1EZKk8Rj17KNNwI8s5IOr6gbggV2GzwYub5YvB35haPzjVfVIVd0N3AmcspDtSZL23ah7CouBbyS5EXhkbrCqzlrg9p5TVdua925L8uxm/CjgS0Ov29KMfZ8kq4BVAMuWLVvg5iVJT2bUUnhPlyEYnNG0q3mnqqpqDbAGYHZ2diHTWZKkPRj1lNQvJvkx4Piq+kKSQ4FFe7G9+5IsbfYSlgLbm/EtDO7VMOdoYOv3vVuS1KlRzz56I/BJ4M+aoaOAT+/F9q4Bzm2WzwU+MzS+IsnTkhwLHA/cuBefL0naB6NOH53H4MDvl2Fww52h4wHzSrIWOBVYnGQL8G7gQuCKJG8A7gF+qfm8W5JcAXwD2Amc55lHkjR+o5bCI1X1aDKY+k9yCLuZ859TVSt389Tpu3n9BcAFI+aRJHVg1FNSv5jkncAzmnszXwn8ZXexJEl9GLUUVgM7gK8DbwI+y+B+zZKkg8ioZx99j8HtOC/pNo4kqU8jlUKSu5nnGEJVHbffE0mSerOQ7z6a83QGZw0duf/jSJL6NNIxhaq6f+hxb1X9CXBax9kkSWM26vTRyUOrT2Gw5/DMThJJknoz6vTRe4eWdwKbgdfv9zSSpF6NevbRq7oOIknq36jTR7/3ZM9X1fv2TxxJUp8WcvbRSxh8cR3AzwM3AN/qIpQkqR8LucnOyVX1bYAk7wGurKrf6iqYJGn8Rv2ai2XAo0PrjwIz+z2NJKlXo+4pfAS4McnVDK5sPgf4cGepJEm9GPXsowuS/BXwimboN6rqpu5iSZL6MOr0EcChwINV9X5gS3OHNEnSQWTU23G+G3gHcH4z9FTgL7oKJUnqx6h7CucAZwHfAaiqrfg1F5J00Bm1FB6tqqL5+uwkh3UXSZLUl1FL4YokfwYcnuSNwBfwhjuSdNAZ9eyji5p7Mz8InAC8q6rW7c0Gk5wAfGJo6DjgXcDhwBsZ3PYT4J1V9dm92YYkae/ssRSSLAI+V1WvBvaqCIZV1e3A8qHPvhe4GvgN4OKqumhftyFJ2jt7nD6qqseAh5L8UAfbPx24q6r+qYPPliQt0KhXNP8n8PUk62jOQAKoqt/Zx+2vANYOrb8lyX8F1gNvr6p/3fUNSVYBqwCWLVu2j5uXJA0b9UDzdcAfMfhm1A1Dj72W5AcYnOZ6ZTP0AeC5DKaWtvHEG/u0qmpNVc1W1eySJUv2JYIkaRdPuqeQZFlV3VNVl3ew7dcCX62q+wDmfjbbvQS4toNtSpKexJ72FD49t5Dkqv287ZUMTR0lWTr03DnApv28PUnSHuzpmEKGlo/bXxtNcijwGuBNQ8P/I8lyBhfIbd7lOUnSGOypFGo3y/ukqh4CfniXsV/bX58vSdo7eyqFFyV5kMEewzOaZZr1qqpndZpOOoDNrL6ul+1uvvB1vWxXB4cnLYWqWjSuIJKk/i3kfgqSpIOcpSBJalkKkqSWpSBJalkKkqSWpSBJalkKkqSWpSBJalkKkqSWpSBJalkKkqSWpSBJalkKkqSWpSBJalkKkqSWpSBJalkKkqTWnm7HeVDzdomS9ES9lEKSzcC3gceAnVU1m+RI4BPADLAZeH1V/Wsf+SRpWvU5ffSqqlpeVbPN+mrg+qo6Hri+WZckjdEkHVM4G7i8Wb4c+IUes0jSVOqrFAr4fJINSVY1Y8+pqm0Azc9nz/fGJKuSrE+yfseOHWOKK0nToa8DzS+rqq1Jng2sS3LbqG+sqjXAGoDZ2dnqKqAkTaNe9hSqamvzcztwNXAKcF+SpQDNz+19ZJOkaTb2UkhyWJJnzi0DPwNsAq4Bzm1edi7wmXFnk6Rp18f00XOAq5PMbf9jVfXXSb4CXJHkDcA9wC/1kE2SptrYS6Gqvgm8aJ7x+4HTx52nD31dNCdJezLVVzRLB6M+/9Hh1foHvkm6TkGS1DNLQZLUshQkSS1LQZLUshQkSS1LQZLUshQkSS1LQZLUshQkSS1LQZLUshQkSS1LQZLUshQkSS1LQZLUshQkSS1LQZLUshQkSS1LQZLUshQkSa2xl0KSY5L8bZJbk9yS5K3N+HuS3JtkY/M4c9zZJGnaHdLDNncCb6+qryZ5JrAhybrmuYur6qIeMkmS6KEUqmobsK1Z/naSW4Gjxp1DkvT9ej2mkGQGOAn4cjP0liQ3J7k0yRG9BZOkKdVbKST5QeAq4G1V9SDwAeC5wHIGexLv3c37ViVZn2T9jh07xpZXkqZBH8cUSPJUBoXw0ar6FEBV3Tf0/CXAtfO9t6rWAGsAZmdnq/u0kkY1s/q6Xra7+cLX9bLdg1EfZx8F+BBwa1W9b2h86dDLzgE2jTubJE27PvYUXgb8GvD1JBubsXcCK5MsBwrYDLyph2ySNNX6OPvo74DM89Rnx51FkvREXtEsSWpZCpKklqUgSWpZCpKklqUgSWpZCpKklqUgSWpZCpKklqUgSWpZCpKklqUgSWpZCpKklqUgSWr1cpMdSdqfvLnP/uOegiSpZSlIklqWgiSpZSlIklqWgiSpZSlIklqWgiSpNXHXKSQ5A3g/sAj486q6sOdIkjSvvq6PgO6ukZioPYUki4D/DbwWOBFYmeTEflNJ0vSYqFIATgHurKpvVtWjwMeBs3vOJElTY9Kmj44CvjW0vgX4yeEXJFkFrGpW/yPJ7XuxncXAv+xVwm6Za+EmNZu5FmZSc8GEZst/36dcP7a7JyatFDLPWD1hpWoNsGafNpKsr6rZffmMLphr4SY1m7kWZlJzweRm6yrXpE0fbQGOGVo/GtjaUxZJmjqTVgpfAY5PcmySHwBWANf0nEmSpsZETR9V1c4kbwE+x+CU1Eur6pYONrVP008dMtfCTWo2cy3MpOaCyc3WSa5U1Z5fJUmaCpM2fSRJ6pGlIElqTVUpJDkjye1J7kyyuucslybZnmTT0NiRSdYluaP5eUQPuY5J8rdJbk1yS5K3TkK2JE9PcmOSrzW5/ngScg3lW5TkpiTXTliuzUm+nmRjkvWTki3J4Uk+meS25s/aT/WdK8kJze9p7vFgkrf1navJ9rvNn/tNSdY2fx86yTU1pTCBX6FxGXDGLmOrgeur6njg+mZ93HYCb6+qnwBeCpzX/J76zvYIcFpVvQhYDpyR5KUTkGvOW4Fbh9YnJRfAq6pq+dA57ZOQ7f3AX1fVjwMvYvC76zVXVd3e/J6WAy8GHgKu7jtXkqOA3wFmq+oFDE7CWdFZrqqaigfwU8DnhtbPB87vOdMMsGlo/XZgabO8FLh9An5vnwFeM0nZgEOBrzK42r33XAyup7keOA24dpL+XwKbgcW7jPWaDXgWcDfNiS6TkmuXLD8D/P0k5OLxb3o4ksEZo9c2+TrJNTV7Csz/FRpH9ZRld55TVdsAmp/P7jNMkhngJODLTEC2ZopmI7AdWFdVE5EL+BPg94HvDY1NQi4YfCPA55NsaL4iZhKyHQfsAP5vM+X250kOm4Bcw1YAa5vlXnNV1b3ARcA9wDbg36vq813lmqZS2ONXaOhxSX4QuAp4W1U92HcegKp6rAa79kcDpyR5Qd+ZkvwcsL2qNvSdZTdeVlUnM5g2PS/JK/sOxOBfuycDH6iqk4Dv0O/02hM0F86eBVzZdxaA5ljB2cCxwI8ChyX51a62N02lcCB8hcZ9SZYCND+39xEiyVMZFMJHq+pTk5QNoKr+Dfh/DI7J9J3rZcBZSTYz+Fbf05L8xQTkAqCqtjY/tzOYHz9lArJtAbY0e3oAn2RQEn3nmvNa4KtVdV+z3neuVwN3V9WOqvou8Cngp7vKNU2lcCB8hcY1wLnN8rkM5vPHKkmADwG3VtX7JiVbkiVJDm+Wn8HgL8ptfeeqqvOr6uiqmmHwZ+pvqupX+84FkOSwJM+cW2YwD72p72xV9c/At5Kc0AydDnyj71xDVvL41BH0n+se4KVJDm3+fp7O4MB8N7n6OpDTxwM4E/hH4C7gD3rOspbB/OB3GfzL6Q3ADzM4YHlH8/PIHnK9nMG02s3AxuZxZt/ZgBcCNzW5NgHvasZ7/50NZTyVxw80956Lwdz915rHLXN/5ick23JgffP/89PAEROS61DgfuCHhsYmIdcfM/hH0CbgI8DTusrl11xIklrTNH0kSdoDS0GS1LIUJEktS0GS1LIUJEktS0GS1LIUJEmt/w96NiaJkUaybwAAAABJRU5ErkJggg==\n",
      "text/plain": [
       "<Figure size 432x288 with 1 Axes>"
      ]
     },
     "metadata": {
      "needs_background": "light"
     },
     "output_type": "display_data"
    }
   ],
   "source": [
    "# plotting a histogram of the age variable\n",
    "\n",
    "file['Age'].plot.hist()"
   ]
  },
  {
   "cell_type": "code",
   "execution_count": 17,
   "metadata": {},
   "outputs": [
    {
     "data": {
      "text/plain": [
       "<matplotlib.axes._subplots.AxesSubplot at 0x7fc19f949828>"
      ]
     },
     "execution_count": 17,
     "metadata": {},
     "output_type": "execute_result"
    },
    {
     "data": {
      "image/png": "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\n",
      "text/plain": [
       "<Figure size 432x288 with 1 Axes>"
      ]
     },
     "metadata": {
      "needs_background": "light"
     },
     "output_type": "display_data"
    }
   ],
   "source": [
    "#plotting a boxplot for the age variable\n",
    "file['Age'].plot.box()"
   ]
  },
  {
   "cell_type": "markdown",
   "metadata": {},
   "source": [
    "### Categorical Variables:\n",
    "Univariate analysis on categorical variables we look for **frequency of categories, representing the ferquency in percentages then the absoulte values**\n",
    "Eg: Sex,class,port of Embarkation\n",
    "Note: each of them will take the discrete variables\n",
    "\n",
    "* Count - absoulte frequency of each category in a categorical variable\n",
    "* Count% - proportion of different categories in a categorical variable express as %\n",
    "\n",
    "Eg: Then number of males and females onbard titanic?\n",
    "    What percentage of the total people on titanic were females?\n",
    "    \n",
    "    \n",
    "\n",
    "How do we perform Univariate Analysis?\n",
    "* Tabular Methods -  **Frequncy Table**\n",
    "Syntax:df['Sex'].value_counts(): It will return absolute value, i.e. count of male and females\n",
    "\n",
    "* Graphical Methods - **Bar plots**\n",
    "Syntax: df['Sex'].value_counts().plot.bar()\n"
   ]
  },
  {
   "cell_type": "markdown",
   "metadata": {},
   "source": [
    "# Univariate analysis for Categorical Variables : Implementation"
   ]
  },
  {
   "cell_type": "code",
   "execution_count": 1,
   "metadata": {},
   "outputs": [],
   "source": [
    "# Univariate Analysis for Continuous Variables : Implementation\n",
    "\n",
    "import pandas as pd\n",
    "import matplotlib.pyplot as plt\n",
    "%matplotlib inline\n"
   ]
  },
  {
   "cell_type": "code",
   "execution_count": 2,
   "metadata": {},
   "outputs": [],
   "source": [
    "file = pd.read_csv('./iris/train.csv')"
   ]
  },
  {
   "cell_type": "code",
   "execution_count": 3,
   "metadata": {},
   "outputs": [
    {
     "data": {
      "text/plain": [
       "(891, 12)"
      ]
     },
     "execution_count": 3,
     "metadata": {},
     "output_type": "execute_result"
    }
   ],
   "source": [
    "file.shape"
   ]
  },
  {
   "cell_type": "code",
   "execution_count": 4,
   "metadata": {},
   "outputs": [
    {
     "data": {
      "text/plain": [
       "Index(['PassengerId', 'Survived', 'Pclass', 'Name', 'Sex', 'Age', 'SibSp',\n",
       "       'Parch', 'Ticket', 'Fare', 'Cabin', 'Embarked'],\n",
       "      dtype='object')"
      ]
     },
     "execution_count": 4,
     "metadata": {},
     "output_type": "execute_result"
    }
   ],
   "source": [
    "file.columns"
   ]
  },
  {
   "cell_type": "code",
   "execution_count": 5,
   "metadata": {},
   "outputs": [
    {
     "data": {
      "text/html": [
       "<div>\n",
       "<style scoped>\n",
       "    .dataframe tbody tr th:only-of-type {\n",
       "        vertical-align: middle;\n",
       "    }\n",
       "\n",
       "    .dataframe tbody tr th {\n",
       "        vertical-align: top;\n",
       "    }\n",
       "\n",
       "    .dataframe thead th {\n",
       "        text-align: right;\n",
       "    }\n",
       "</style>\n",
       "<table border=\"1\" class=\"dataframe\">\n",
       "  <thead>\n",
       "    <tr style=\"text-align: right;\">\n",
       "      <th></th>\n",
       "      <th>PassengerId</th>\n",
       "      <th>Survived</th>\n",
       "      <th>Pclass</th>\n",
       "      <th>Name</th>\n",
       "      <th>Sex</th>\n",
       "      <th>Age</th>\n",
       "      <th>SibSp</th>\n",
       "      <th>Parch</th>\n",
       "      <th>Ticket</th>\n",
       "      <th>Fare</th>\n",
       "      <th>Cabin</th>\n",
       "      <th>Embarked</th>\n",
       "    </tr>\n",
       "  </thead>\n",
       "  <tbody>\n",
       "    <tr>\n",
       "      <th>0</th>\n",
       "      <td>1</td>\n",
       "      <td>0</td>\n",
       "      <td>3</td>\n",
       "      <td>Braund, Mr. Owen Harris</td>\n",
       "      <td>male</td>\n",
       "      <td>22.0</td>\n",
       "      <td>1</td>\n",
       "      <td>0</td>\n",
       "      <td>A/5 21171</td>\n",
       "      <td>7.2500</td>\n",
       "      <td>NaN</td>\n",
       "      <td>S</td>\n",
       "    </tr>\n",
       "    <tr>\n",
       "      <th>1</th>\n",
       "      <td>2</td>\n",
       "      <td>1</td>\n",
       "      <td>1</td>\n",
       "      <td>Cumings, Mrs. John Bradley (Florence Briggs Th...</td>\n",
       "      <td>female</td>\n",
       "      <td>38.0</td>\n",
       "      <td>1</td>\n",
       "      <td>0</td>\n",
       "      <td>PC 17599</td>\n",
       "      <td>71.2833</td>\n",
       "      <td>C85</td>\n",
       "      <td>C</td>\n",
       "    </tr>\n",
       "    <tr>\n",
       "      <th>2</th>\n",
       "      <td>3</td>\n",
       "      <td>1</td>\n",
       "      <td>3</td>\n",
       "      <td>Heikkinen, Miss. Laina</td>\n",
       "      <td>female</td>\n",
       "      <td>26.0</td>\n",
       "      <td>0</td>\n",
       "      <td>0</td>\n",
       "      <td>STON/O2. 3101282</td>\n",
       "      <td>7.9250</td>\n",
       "      <td>NaN</td>\n",
       "      <td>S</td>\n",
       "    </tr>\n",
       "    <tr>\n",
       "      <th>3</th>\n",
       "      <td>4</td>\n",
       "      <td>1</td>\n",
       "      <td>1</td>\n",
       "      <td>Futrelle, Mrs. Jacques Heath (Lily May Peel)</td>\n",
       "      <td>female</td>\n",
       "      <td>35.0</td>\n",
       "      <td>1</td>\n",
       "      <td>0</td>\n",
       "      <td>113803</td>\n",
       "      <td>53.1000</td>\n",
       "      <td>C123</td>\n",
       "      <td>S</td>\n",
       "    </tr>\n",
       "    <tr>\n",
       "      <th>4</th>\n",
       "      <td>5</td>\n",
       "      <td>0</td>\n",
       "      <td>3</td>\n",
       "      <td>Allen, Mr. William Henry</td>\n",
       "      <td>male</td>\n",
       "      <td>35.0</td>\n",
       "      <td>0</td>\n",
       "      <td>0</td>\n",
       "      <td>373450</td>\n",
       "      <td>8.0500</td>\n",
       "      <td>NaN</td>\n",
       "      <td>S</td>\n",
       "    </tr>\n",
       "  </tbody>\n",
       "</table>\n",
       "</div>"
      ],
      "text/plain": [
       "   PassengerId  Survived  Pclass  \\\n",
       "0            1         0       3   \n",
       "1            2         1       1   \n",
       "2            3         1       3   \n",
       "3            4         1       1   \n",
       "4            5         0       3   \n",
       "\n",
       "                                                Name     Sex   Age  SibSp  \\\n",
       "0                            Braund, Mr. Owen Harris    male  22.0      1   \n",
       "1  Cumings, Mrs. John Bradley (Florence Briggs Th...  female  38.0      1   \n",
       "2                             Heikkinen, Miss. Laina  female  26.0      0   \n",
       "3       Futrelle, Mrs. Jacques Heath (Lily May Peel)  female  35.0      1   \n",
       "4                           Allen, Mr. William Henry    male  35.0      0   \n",
       "\n",
       "   Parch            Ticket     Fare Cabin Embarked  \n",
       "0      0         A/5 21171   7.2500   NaN        S  \n",
       "1      0          PC 17599  71.2833   C85        C  \n",
       "2      0  STON/O2. 3101282   7.9250   NaN        S  \n",
       "3      0            113803  53.1000  C123        S  \n",
       "4      0            373450   8.0500   NaN        S  "
      ]
     },
     "execution_count": 5,
     "metadata": {},
     "output_type": "execute_result"
    }
   ],
   "source": [
    "file.head()"
   ]
  },
  {
   "cell_type": "code",
   "execution_count": 6,
   "metadata": {},
   "outputs": [
    {
     "data": {
      "text/plain": [
       "PassengerId      int64\n",
       "Survived         int64\n",
       "Pclass           int64\n",
       "Name            object\n",
       "Sex             object\n",
       "Age            float64\n",
       "SibSp            int64\n",
       "Parch            int64\n",
       "Ticket          object\n",
       "Fare           float64\n",
       "Cabin           object\n",
       "Embarked        object\n",
       "dtype: object"
      ]
     },
     "execution_count": 6,
     "metadata": {},
     "output_type": "execute_result"
    }
   ],
   "source": [
    "# Variable Identification\n",
    "file.dtypes"
   ]
  },
  {
   "cell_type": "code",
   "execution_count": 8,
   "metadata": {},
   "outputs": [
    {
     "data": {
      "text/plain": [
       "male      577\n",
       "female    314\n",
       "Name: Sex, dtype: int64"
      ]
     },
     "execution_count": 8,
     "metadata": {},
     "output_type": "execute_result"
    }
   ],
   "source": [
    "# Creating frequency table for categorical variable sex\n",
    "file['Sex'].value_counts()"
   ]
  },
  {
   "cell_type": "code",
   "execution_count": 10,
   "metadata": {},
   "outputs": [
    {
     "data": {
      "text/plain": [
       "male      0.647587\n",
       "female    0.352413\n",
       "Name: Sex, dtype: float64"
      ]
     },
     "execution_count": 10,
     "metadata": {},
     "output_type": "execute_result"
    }
   ],
   "source": [
    "# Creating percentage from frequencies\n",
    "\n",
    "file['Sex'].value_counts()/len(file['Sex'])"
   ]
  },
  {
   "cell_type": "code",
   "execution_count": 11,
   "metadata": {},
   "outputs": [
    {
     "data": {
      "text/plain": [
       "<matplotlib.axes._subplots.AxesSubplot at 0x7fad5a07a320>"
      ]
     },
     "execution_count": 11,
     "metadata": {},
     "output_type": "execute_result"
    },
    {
     "data": {
      "image/png": "iVBORw0KGgoAAAANSUhEUgAAAXcAAAETCAYAAADNpUayAAAABHNCSVQICAgIfAhkiAAAAAlwSFlzAAALEgAACxIB0t1+/AAAADh0RVh0U29mdHdhcmUAbWF0cGxvdGxpYiB2ZXJzaW9uMy4xLjEsIGh0dHA6Ly9tYXRwbG90bGliLm9yZy8QZhcZAAAQWElEQVR4nO3df6zdd13H8edr7Rg/xLBlt7VpO9ppBTtkG9xUFE2AGlqC0P3hkkLQRpc0MVNAjKb1R8SYhvkjRP9wmKpABaRpEFwFs9lU5o/wo9xBYWtH08rGem1Z78DxQ0Ox5e0f51s9u71396z3np7xuc9HcvP9ft/n8z3nfZKb1/3ez/l+vydVhSSpLVeMugFJ0sIz3CWpQYa7JDXIcJekBhnuktQgw12SGjRQuCd5XpIPJflikgeT/HiSa5IcSHK8W17dN35nkhNJjiXZNLz2JUkzGfTI/U+Bu6vqhcCNwIPADuBgVa0DDnbbJFkPbAVuADYDdyZZstCNS5Jml7kuYkry/cDngeurb3CSY8Arqup0khXAvVX1giQ7AarqHd24e4C3V9UnZ3uNa6+9ttasWTPvNyNJi8l99933WFWNzfTY0gH2vx6YAt6T5EbgPuAtwPKqOg3QBfyybvxK4FN9+092tVmtWbOGiYmJAVqRJF2Q5MuzPTbItMxS4CXAu6rqZuC/6KZgZnu9GWoX/XuQZHuSiSQTU1NTA7QhSRrUIOE+CUxW1ae77Q/RC/tHu+kYuuWZvvGr+/ZfBZya/qRVtbuqxqtqfGxsxv8qJEmXaM5wr6qvACeTvKArbQSOAvuBbV1tG3BXt74f2JrkqiRrgXXAoQXtWpL0pAaZcwf4FeADSZ4BfAn4BXp/GPYluQ14BLgVoKqOJNlH7w/AOeD2qjq/4J1LkmY1ULhX1WFgfIaHNs4yfhewax59SZLmwStUJalBhrskNchwl6QGDfqBqoA1Oz426haa8vAdrx11C1KzPHKXpAYZ7pLUIMNdkhpkuEtSgwx3SWqQ4S5JDTLcJalBhrskNchwl6QGGe6S1CDDXZIaZLhLUoMMd0lqkOEuSQ0y3CWpQYa7JDXIcJekBhnuktQgw12SGmS4S1KDDHdJapDhLkkNMtwlqUEDhXuSh5Pcn+Rwkomudk2SA0mOd8ur+8bvTHIiybEkm4bVvCRpZk/lyP2VVXVTVY132zuAg1W1DjjYbZNkPbAVuAHYDNyZZMkC9ixJmsN8pmW2AHu69T3ALX31vVV1tqoeAk4AG+bxOpKkp2jQcC/gH5Pcl2R7V1teVacBuuWyrr4SONm372RXkyRdJksHHPfyqjqVZBlwIMkXn2RsZqjVRYN6fyS2A1x33XUDtiFJGsRAR+5VdapbngE+Qm+a5dEkKwC65Zlu+CSwum/3VcCpGZ5zd1WNV9X42NjYpb8DSdJF5gz3JM9J8twL68CrgQeA/cC2btg24K5ufT+wNclVSdYC64BDC924JGl2g0zLLAc+kuTC+L+pqruTfAbYl+Q24BHgVoCqOpJkH3AUOAfcXlXnh9K9JGlGc4Z7VX0JuHGG+leBjbPsswvYNe/uJEmXxCtUJalBhrskNchwl6QGGe6S1CDDXZIaZLhLUoMMd0lqkOEuSQ0y3CWpQYa7JDXIcJekBhnuktQgw12SGmS4S1KDDHdJapDhLkkNMtwlqUGGuyQ1yHCXpAYZ7pLUIMNdkhpkuEtSgwx3SWqQ4S5JDTLcJalBhrskNchwl6QGDRzuSZYk+VySj3bb1yQ5kOR4t7y6b+zOJCeSHEuyaRiNS5Jm91SO3N8CPNi3vQM4WFXrgIPdNknWA1uBG4DNwJ1JlixMu5KkQQwU7klWAa8F/rKvvAXY063vAW7pq++tqrNV9RBwAtiwMO1KkgYx6JH7nwC/AXy3r7a8qk4DdMtlXX0lcLJv3GRXkyRdJnOGe5KfAc5U1X0DPmdmqNUMz7s9yUSSiampqQGfWpI0iEGO3F8OvD7Jw8Be4FVJ3g88mmQFQLc8042fBFb37b8KODX9Satqd1WNV9X42NjYPN6CJGm6OcO9qnZW1aqqWkPvg9J/qqo3AfuBbd2wbcBd3fp+YGuSq5KsBdYBhxa8c0nSrJbOY987gH1JbgMeAW4FqKojSfYBR4FzwO1VdX7enUqSBvaUwr2q7gXu7da/CmycZdwuYNc8e5MkXSKvUJWkBhnuktQgw12SGmS4S1KDDHdJapDhLkkNMtwlqUGGuyQ1yHCXpAYZ7pLUIMNdkhpkuEtSgwx3SWqQ4S5JDTLcJalBhrskNchwl6QGGe6S1CDDXZIaZLhLUoMMd0lqkOEuSQ0y3CWpQYa7JDXIcJekBhnuktSgpaNuQNLCWLPjY6NuoRkP3/HaUbcwb3MeuSd5ZpJDST6f5EiS3+vq1yQ5kOR4t7y6b5+dSU4kOZZk0zDfgCTpYoNMy5wFXlVVNwI3AZuTvAzYARysqnXAwW6bJOuBrcANwGbgziRLhtG8JGlmc4Z79Xyr27yy+ylgC7Cnq+8BbunWtwB7q+psVT0EnAA2LGjXkqQnNdAHqkmWJDkMnAEOVNWngeVVdRqgWy7rhq8ETvbtPtnVJEmXyUDhXlXnq+omYBWwIcmLnmR4ZnqKiwYl25NMJJmYmpoarFtJ0kCe0qmQVfU4cC+9ufRHk6wA6JZnumGTwOq+3VYBp2Z4rt1VNV5V42NjY5fQuiRpNoOcLTOW5Hnd+rOAnwa+COwHtnXDtgF3dev7ga1JrkqyFlgHHFroxiVJsxvkPPcVwJ7ujJcrgH1V9dEknwT2JbkNeAS4FaCqjiTZBxwFzgG3V9X54bQvSZrJnOFeVV8Abp6h/lVg4yz77AJ2zbs7SdIl8fYDktQgw12SGmS4S1KDDHdJapDhLkkNMtwlqUGGuyQ1yHCXpAYZ7pLUIMNdkhpkuEtSgwx3SWqQ4S5JDTLcJalBhrskNchwl6QGGe6S1CDDXZIaZLhLUoMMd0lqkOEuSQ0y3CWpQYa7JDXIcJekBhnuktQgw12SGmS4S1KD5gz3JKuTfDzJg0mOJHlLV78myYEkx7vl1X377ExyIsmxJJuG+QYkSRcb5Mj9HPBrVfUjwMuA25OsB3YAB6tqHXCw26Z7bCtwA7AZuDPJkmE0L0ma2ZzhXlWnq+qz3fo3gQeBlcAWYE83bA9wS7e+BdhbVWer6iHgBLBhoRuXJM3uKc25J1kD3Ax8GlheVaeh9wcAWNYNWwmc7NttsqtJki6TgcM9yfcBfwu8taq+8WRDZ6jVDM+3PclEkompqalB25AkDWCgcE9yJb1g/0BVfbgrP5pkRff4CuBMV58EVvftvgo4Nf05q2p3VY1X1fjY2Nil9i9JmsEgZ8sE+Cvgwap6Z99D+4Ft3fo24K6++tYkVyVZC6wDDi1cy5KkuSwdYMzLgZ8D7k9yuKv9JnAHsC/JbcAjwK0AVXUkyT7gKL0zbW6vqvML3rkkaVZzhntV/Rszz6MDbJxln13Arnn0JUmaB69QlaQGGe6S1CDDXZIaZLhLUoMMd0lqkOEuSQ0y3CWpQYa7JDXIcJekBhnuktQgw12SGmS4S1KDDHdJapDhLkkNMtwlqUGGuyQ1yHCXpAYZ7pLUIMNdkhpkuEtSgwx3SWqQ4S5JDTLcJalBhrskNchwl6QGGe6S1CDDXZIaNGe4J3l3kjNJHuirXZPkQJLj3fLqvsd2JjmR5FiSTcNqXJI0u0GO3N8LbJ5W2wEcrKp1wMFumyTrga3ADd0+dyZZsmDdSpIGMme4V9W/AF+bVt4C7OnW9wC39NX3VtXZqnoIOAFsWKBeJUkDutQ59+VVdRqgWy7r6iuBk33jJrvaRZJsTzKRZGJqauoS25AkzWShP1DNDLWaaWBV7a6q8aoaHxsbW+A2JGlxu9RwfzTJCoBueaarTwKr+8atAk5denuSpEtxqeG+H9jWrW8D7uqrb01yVZK1wDrg0PxalCQ9VUvnGpDkg8ArgGuTTAK/C9wB7EtyG/AIcCtAVR1Jsg84CpwDbq+q80PqXZI0iznDvareMMtDG2cZvwvYNZ+mJEnz4xWqktQgw12SGmS4S1KDDHdJapDhLkkNMtwlqUGGuyQ1yHCXpAYZ7pLUIMNdkhpkuEtSgwx3SWqQ4S5JDTLcJalBhrskNchwl6QGGe6S1CDDXZIaZLhLUoMMd0lqkOEuSQ0y3CWpQYa7JDXIcJekBhnuktQgw12SGmS4S1KDhhbuSTYnOZbkRJIdw3odSdLFhhLuSZYAfwa8BlgPvCHJ+mG8liTpYsM6ct8AnKiqL1XVd4C9wJYhvZYkaZqlQ3relcDJvu1J4Mf6ByTZDmzvNr+V5NiQelmMrgUeG3UTc8kfjLoDjYC/mwvr+bM9MKxwzwy1esJG1W5g95Bef1FLMlFV46PuQ5rO383LZ1jTMpPA6r7tVcCpIb2WJGmaYYX7Z4B1SdYmeQawFdg/pNeSJE0zlGmZqjqX5JeBe4AlwLur6sgwXkszcrpLT1f+bl4mqaq5R0mSvqd4haokNchwl6QGGe6S1CDDvSFJnpXkBaPuQ9LoGe6NSPI64DBwd7d9UxJPP9XIJfnhJAeTPNBtvzjJb4+6r9YZ7u14O717+jwOUFWHgTUj7Ee64C+AncD/AFTVF+hd+6IhMtzbca6qvj7qJqQZPLuqDk2rnRtJJ4vIsO4to8vvgSRvBJYkWQe8GfjEiHuSAB5L8oN095dK8rPA6dG21D4vYmpEkmcDvwW8mt6N2+4Bfr+qvj3SxrToJbme3pWpPwH8J/AQ8KaqeniUfbXOcJd0WSR5DnBFVX1z1L0sBob797gkf8+02yn3q6rXX8Z2pP+T5G1P9nhVvfNy9bIYOef+ve+PR92ANIvnjrqBxcwjd0lqkEfujejOkHkHvS8kf+aFelVdP7KmJCDJM4HbgBt44u/mL46sqUXA89zb8R7gXfTOH34l8NfA+0bakdTzPuAHgE3AP9P7ZjY/VB0yp2UakeS+qnppkvur6ke72r9W1U+Nujctbkk+V1U3J/lCVb04yZXAPVX1qlH31jKnZdrx7SRXAMe7b8H6D2DZiHuSoLvtAPB4khcBX8FbYwyd0zLteCvwbHpXpr4UeBPw8yPtSOrZneRq4HfofZfyUeAPR9tS+5yWaUSScXpXqD4fuLIrV1W9eHRdSRoVw70RSY4Bvw7cD3z3Qr2qvjyypiQgyfPo/Re5hr6p4Kp686h6Wgycc2/HVFV5/3Y9Hf0D8CmmHXhouDxyb0SSjcAbgIPA2Qv1qvrwyJqSgCSfraqXjLqPxcZwb0SS9wMvBI7w/0dH5YUiGrUkvwp8C/goTzzw+NrImloEnJZpx40Xzm+Xnma+A/wRvQ/8LxxNFuDV00NkuLfjU0nWV9XRUTciTfM24Ieq6rFRN7KYGO7t+ElgW5KH6P3rGzwVUk8PR4D/HnUTi43h3o7No25AmsV54HCSj/PEOXdPhRwiw70Rns+up7G/6350GXm2jKShS/Is4LqqOjbqXhYL7y0jaaiSvA44DNzdbd+UxAvuhsxwlzRsbwc2AI8DVNVhYO0oG1oMDHdJw3auqr4+reZ88JD5gaqkYXsgyRuBJd3XQb4Z+MSIe2qeR+6ShiLJha95/Hd63596Fvgg8A163z+gIfJsGUlDkeQo8Bp6X9DxyumPe2+Z4XJaRtKw/Dm9M2SuByb66sF7ywydR+6ShirJu6rql0bdx2JjuEtSg/xAVZIaZLhLUoMMd0lqkOEuSQ0y3CWpQf8LEcIMjANTG90AAAAASUVORK5CYII=\n",
      "text/plain": [
       "<Figure size 432x288 with 1 Axes>"
      ]
     },
     "metadata": {
      "needs_background": "light"
     },
     "output_type": "display_data"
    }
   ],
   "source": [
    "# Creating a bar plot for sex frequencies\n",
    "\n",
    "file['Sex'].value_counts().plot.bar()"
   ]
  },
  {
   "cell_type": "code",
   "execution_count": 12,
   "metadata": {},
   "outputs": [
    {
     "data": {
      "text/plain": [
       "<matplotlib.axes._subplots.AxesSubplot at 0x7fad57fae518>"
      ]
     },
     "execution_count": 12,
     "metadata": {},
     "output_type": "execute_result"
    },
    {
     "data": {
      "image/png": "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\n",
      "text/plain": [
       "<Figure size 432x288 with 1 Axes>"
      ]
     },
     "metadata": {
      "needs_background": "light"
     },
     "output_type": "display_data"
    }
   ],
   "source": [
    "# Creating percentage of male and female\n",
    "\n",
    "(file['Sex'].value_counts()/len(file['Sex'])).plot.bar()"
   ]
  },
  {
   "cell_type": "markdown",
   "metadata": {},
   "source": [
    "# Understanding Bivariate Analysis\n",
    "\n",
    "**Topic to be covered:**\n",
    "1. What is Bivariate Analysis?\n",
    "2. Why do we need Bivariate Analysis?\n",
    "3. How do we perform Bivariate Analysis?"
   ]
  },
  {
   "cell_type": "markdown",
   "metadata": {},
   "source": [
    "### What is Bivariate Analysis?\n",
    "> * **When two variables are studied together for their empiricial relationship.**\n",
    "> * **When you want to see whether the two variables are associated with each other.**"
   ]
  },
  {
   "cell_type": "markdown",
   "metadata": {},
   "source": [
    "### Why do we need Bivariate Analysis?\n",
    "> * **It helps in prediction, when two variables are associated one may be used to infer the other.**\n",
    "> * **It helps in detecting anomalies**\n"
   ]
  },
  {
   "cell_type": "markdown",
   "metadata": {},
   "source": [
    "## Types of Bivariate Analysis\n",
    "\n",
    "* Relationship between Age and Fair, whether fare increases by increasing the age?\n",
    "* Is the mean age of men is different from the mean age of women?\n",
    "* Whether the females more likely to survive then males?\n",
    "\n",
    "1. whether fare increases by increasing the age?\n",
    "fare and age are continuous variables, we check the correlation between two variables, **correlation measures strength of the linear relationship between two continuous variables, along with their directions.** by taking into the account of covariance between two variables involved and their variances.\n",
    "\n",
    "* Positive Correlation(r): 0.4\n",
    "* No Correlation(r): 0.0\n",
    "* Negative Correlation(r): - 0.4\n",
    "\n",
    "\n"
   ]
  },
  {
   "cell_type": "markdown",
   "metadata": {},
   "source": [
    "### Categorical - Continuous Analysis\n",
    "### Is the mean age of men is different from the mean age of women? \n",
    "Ans: Use Bar Graph this kind of Analysis.\n",
    "We use two sample **T-test when we want to compare means of two samples or groups**. the result return **P** and if the **P** is less then **0.05**, then the difference between the mean is statistically different.\n",
    "\n",
    "### Relationship between two categorical variables\n",
    "### Catgorical - Categorical Analysis\n",
    "### Whether the females more likely to survive then males (or) Does **gender** have any effect on the **survival** rates?\n",
    "Both, gender and survival are categorical values.\n",
    "We use two sample **Chi-square test**, observed percentages of survival males and females and percentage that we expect, use this difference to calculate the probability, tells is there any statistically different or not\n"
   ]
  },
  {
   "cell_type": "markdown",
   "metadata": {},
   "source": [
    "## Bivariate Analysis : Implementation"
   ]
  },
  {
   "cell_type": "code",
   "execution_count": 2,
   "metadata": {},
   "outputs": [],
   "source": [
    "import pandas as pd\n",
    "import matplotlib.pyplot as plt\n",
    "%matplotlib inline"
   ]
  },
  {
   "cell_type": "code",
   "execution_count": 3,
   "metadata": {},
   "outputs": [],
   "source": [
    "file = pd.read_csv('./iris/titanic.csv')"
   ]
  },
  {
   "cell_type": "code",
   "execution_count": 4,
   "metadata": {},
   "outputs": [
    {
     "data": {
      "text/html": [
       "<div>\n",
       "<style scoped>\n",
       "    .dataframe tbody tr th:only-of-type {\n",
       "        vertical-align: middle;\n",
       "    }\n",
       "\n",
       "    .dataframe tbody tr th {\n",
       "        vertical-align: top;\n",
       "    }\n",
       "\n",
       "    .dataframe thead th {\n",
       "        text-align: right;\n",
       "    }\n",
       "</style>\n",
       "<table border=\"1\" class=\"dataframe\">\n",
       "  <thead>\n",
       "    <tr style=\"text-align: right;\">\n",
       "      <th></th>\n",
       "      <th>PassengerId</th>\n",
       "      <th>Survived</th>\n",
       "      <th>Pclass</th>\n",
       "      <th>Name</th>\n",
       "      <th>Sex</th>\n",
       "      <th>Age</th>\n",
       "      <th>SibSp</th>\n",
       "      <th>Parch</th>\n",
       "      <th>Ticket</th>\n",
       "      <th>Fare</th>\n",
       "      <th>Cabin</th>\n",
       "      <th>Embarked</th>\n",
       "    </tr>\n",
       "  </thead>\n",
       "  <tbody>\n",
       "    <tr>\n",
       "      <th>0</th>\n",
       "      <td>1</td>\n",
       "      <td>0</td>\n",
       "      <td>3</td>\n",
       "      <td>Braund, Mr. Owen Harris</td>\n",
       "      <td>male</td>\n",
       "      <td>22.0</td>\n",
       "      <td>1</td>\n",
       "      <td>0</td>\n",
       "      <td>A/5 21171</td>\n",
       "      <td>7.2500</td>\n",
       "      <td>NaN</td>\n",
       "      <td>S</td>\n",
       "    </tr>\n",
       "    <tr>\n",
       "      <th>1</th>\n",
       "      <td>2</td>\n",
       "      <td>1</td>\n",
       "      <td>1</td>\n",
       "      <td>Cumings, Mrs. John Bradley (Florence Briggs Th...</td>\n",
       "      <td>female</td>\n",
       "      <td>38.0</td>\n",
       "      <td>1</td>\n",
       "      <td>0</td>\n",
       "      <td>PC 17599</td>\n",
       "      <td>71.2833</td>\n",
       "      <td>C85</td>\n",
       "      <td>C</td>\n",
       "    </tr>\n",
       "    <tr>\n",
       "      <th>2</th>\n",
       "      <td>3</td>\n",
       "      <td>1</td>\n",
       "      <td>3</td>\n",
       "      <td>Heikkinen, Miss. Laina</td>\n",
       "      <td>female</td>\n",
       "      <td>26.0</td>\n",
       "      <td>0</td>\n",
       "      <td>0</td>\n",
       "      <td>STON/O2. 3101282</td>\n",
       "      <td>7.9250</td>\n",
       "      <td>NaN</td>\n",
       "      <td>S</td>\n",
       "    </tr>\n",
       "    <tr>\n",
       "      <th>3</th>\n",
       "      <td>4</td>\n",
       "      <td>1</td>\n",
       "      <td>1</td>\n",
       "      <td>Futrelle, Mrs. Jacques Heath (Lily May Peel)</td>\n",
       "      <td>female</td>\n",
       "      <td>35.0</td>\n",
       "      <td>1</td>\n",
       "      <td>0</td>\n",
       "      <td>113803</td>\n",
       "      <td>53.1000</td>\n",
       "      <td>C123</td>\n",
       "      <td>S</td>\n",
       "    </tr>\n",
       "    <tr>\n",
       "      <th>4</th>\n",
       "      <td>5</td>\n",
       "      <td>0</td>\n",
       "      <td>3</td>\n",
       "      <td>Allen, Mr. William Henry</td>\n",
       "      <td>male</td>\n",
       "      <td>35.0</td>\n",
       "      <td>0</td>\n",
       "      <td>0</td>\n",
       "      <td>373450</td>\n",
       "      <td>8.0500</td>\n",
       "      <td>NaN</td>\n",
       "      <td>S</td>\n",
       "    </tr>\n",
       "  </tbody>\n",
       "</table>\n",
       "</div>"
      ],
      "text/plain": [
       "   PassengerId  Survived  Pclass  \\\n",
       "0            1         0       3   \n",
       "1            2         1       1   \n",
       "2            3         1       3   \n",
       "3            4         1       1   \n",
       "4            5         0       3   \n",
       "\n",
       "                                                Name     Sex   Age  SibSp  \\\n",
       "0                            Braund, Mr. Owen Harris    male  22.0      1   \n",
       "1  Cumings, Mrs. John Bradley (Florence Briggs Th...  female  38.0      1   \n",
       "2                             Heikkinen, Miss. Laina  female  26.0      0   \n",
       "3       Futrelle, Mrs. Jacques Heath (Lily May Peel)  female  35.0      1   \n",
       "4                           Allen, Mr. William Henry    male  35.0      0   \n",
       "\n",
       "   Parch            Ticket     Fare Cabin Embarked  \n",
       "0      0         A/5 21171   7.2500   NaN        S  \n",
       "1      0          PC 17599  71.2833   C85        C  \n",
       "2      0  STON/O2. 3101282   7.9250   NaN        S  \n",
       "3      0            113803  53.1000  C123        S  \n",
       "4      0            373450   8.0500   NaN        S  "
      ]
     },
     "execution_count": 4,
     "metadata": {},
     "output_type": "execute_result"
    }
   ],
   "source": [
    "file.head()"
   ]
  },
  {
   "cell_type": "code",
   "execution_count": 5,
   "metadata": {},
   "outputs": [
    {
     "data": {
      "text/plain": [
       "PassengerId      int64\n",
       "Survived         int64\n",
       "Pclass           int64\n",
       "Name            object\n",
       "Sex             object\n",
       "Age            float64\n",
       "SibSp            int64\n",
       "Parch            int64\n",
       "Ticket          object\n",
       "Fare           float64\n",
       "Cabin           object\n",
       "Embarked        object\n",
       "dtype: object"
      ]
     },
     "execution_count": 5,
     "metadata": {},
     "output_type": "execute_result"
    }
   ],
   "source": [
    "# Variable Identification\n",
    "file.dtypes"
   ]
  },
  {
   "cell_type": "markdown",
   "metadata": {},
   "source": [
    "## Continuous - Continuous Bivariate Analysis"
   ]
  },
  {
   "cell_type": "code",
   "execution_count": 8,
   "metadata": {},
   "outputs": [
    {
     "data": {
      "text/plain": [
       "<matplotlib.axes._subplots.AxesSubplot at 0x7f87fbe8e940>"
      ]
     },
     "execution_count": 8,
     "metadata": {},
     "output_type": "execute_result"
    },
    {
     "data": {
      "image/png": "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\n",
      "text/plain": [
       "<Figure size 432x288 with 1 Axes>"
      ]
     },
     "metadata": {
      "needs_background": "light"
     },
     "output_type": "display_data"
    }
   ],
   "source": [
    "#Is the fare increasing, increase in age ?\n",
    "file.plot.scatter('Age','Fare')"
   ]
  },
  {
   "cell_type": "code",
   "execution_count": 9,
   "metadata": {},
   "outputs": [
    {
     "data": {
      "text/html": [
       "<div>\n",
       "<style scoped>\n",
       "    .dataframe tbody tr th:only-of-type {\n",
       "        vertical-align: middle;\n",
       "    }\n",
       "\n",
       "    .dataframe tbody tr th {\n",
       "        vertical-align: top;\n",
       "    }\n",
       "\n",
       "    .dataframe thead th {\n",
       "        text-align: right;\n",
       "    }\n",
       "</style>\n",
       "<table border=\"1\" class=\"dataframe\">\n",
       "  <thead>\n",
       "    <tr style=\"text-align: right;\">\n",
       "      <th></th>\n",
       "      <th>PassengerId</th>\n",
       "      <th>Survived</th>\n",
       "      <th>Pclass</th>\n",
       "      <th>Age</th>\n",
       "      <th>SibSp</th>\n",
       "      <th>Parch</th>\n",
       "      <th>Fare</th>\n",
       "    </tr>\n",
       "  </thead>\n",
       "  <tbody>\n",
       "    <tr>\n",
       "      <th>PassengerId</th>\n",
       "      <td>1.000000</td>\n",
       "      <td>-0.005007</td>\n",
       "      <td>-0.035144</td>\n",
       "      <td>0.036847</td>\n",
       "      <td>-0.057527</td>\n",
       "      <td>-0.001652</td>\n",
       "      <td>0.012658</td>\n",
       "    </tr>\n",
       "    <tr>\n",
       "      <th>Survived</th>\n",
       "      <td>-0.005007</td>\n",
       "      <td>1.000000</td>\n",
       "      <td>-0.338481</td>\n",
       "      <td>-0.077221</td>\n",
       "      <td>-0.035322</td>\n",
       "      <td>0.081629</td>\n",
       "      <td>0.257307</td>\n",
       "    </tr>\n",
       "    <tr>\n",
       "      <th>Pclass</th>\n",
       "      <td>-0.035144</td>\n",
       "      <td>-0.338481</td>\n",
       "      <td>1.000000</td>\n",
       "      <td>-0.369226</td>\n",
       "      <td>0.083081</td>\n",
       "      <td>0.018443</td>\n",
       "      <td>-0.549500</td>\n",
       "    </tr>\n",
       "    <tr>\n",
       "      <th>Age</th>\n",
       "      <td>0.036847</td>\n",
       "      <td>-0.077221</td>\n",
       "      <td>-0.369226</td>\n",
       "      <td>1.000000</td>\n",
       "      <td>-0.308247</td>\n",
       "      <td>-0.189119</td>\n",
       "      <td>0.096067</td>\n",
       "    </tr>\n",
       "    <tr>\n",
       "      <th>SibSp</th>\n",
       "      <td>-0.057527</td>\n",
       "      <td>-0.035322</td>\n",
       "      <td>0.083081</td>\n",
       "      <td>-0.308247</td>\n",
       "      <td>1.000000</td>\n",
       "      <td>0.414838</td>\n",
       "      <td>0.159651</td>\n",
       "    </tr>\n",
       "    <tr>\n",
       "      <th>Parch</th>\n",
       "      <td>-0.001652</td>\n",
       "      <td>0.081629</td>\n",
       "      <td>0.018443</td>\n",
       "      <td>-0.189119</td>\n",
       "      <td>0.414838</td>\n",
       "      <td>1.000000</td>\n",
       "      <td>0.216225</td>\n",
       "    </tr>\n",
       "    <tr>\n",
       "      <th>Fare</th>\n",
       "      <td>0.012658</td>\n",
       "      <td>0.257307</td>\n",
       "      <td>-0.549500</td>\n",
       "      <td>0.096067</td>\n",
       "      <td>0.159651</td>\n",
       "      <td>0.216225</td>\n",
       "      <td>1.000000</td>\n",
       "    </tr>\n",
       "  </tbody>\n",
       "</table>\n",
       "</div>"
      ],
      "text/plain": [
       "             PassengerId  Survived    Pclass       Age     SibSp     Parch  \\\n",
       "PassengerId     1.000000 -0.005007 -0.035144  0.036847 -0.057527 -0.001652   \n",
       "Survived       -0.005007  1.000000 -0.338481 -0.077221 -0.035322  0.081629   \n",
       "Pclass         -0.035144 -0.338481  1.000000 -0.369226  0.083081  0.018443   \n",
       "Age             0.036847 -0.077221 -0.369226  1.000000 -0.308247 -0.189119   \n",
       "SibSp          -0.057527 -0.035322  0.083081 -0.308247  1.000000  0.414838   \n",
       "Parch          -0.001652  0.081629  0.018443 -0.189119  0.414838  1.000000   \n",
       "Fare            0.012658  0.257307 -0.549500  0.096067  0.159651  0.216225   \n",
       "\n",
       "                 Fare  \n",
       "PassengerId  0.012658  \n",
       "Survived     0.257307  \n",
       "Pclass      -0.549500  \n",
       "Age          0.096067  \n",
       "SibSp        0.159651  \n",
       "Parch        0.216225  \n",
       "Fare         1.000000  "
      ]
     },
     "execution_count": 9,
     "metadata": {},
     "output_type": "execute_result"
    }
   ],
   "source": [
    "file.corr()"
   ]
  },
  {
   "cell_type": "code",
   "execution_count": 11,
   "metadata": {},
   "outputs": [
    {
     "data": {
      "text/plain": [
       "0.0960666917690389"
      ]
     },
     "execution_count": 11,
     "metadata": {},
     "output_type": "execute_result"
    }
   ],
   "source": [
    "file['Age'].corr(file['Fare'])"
   ]
  },
  {
   "cell_type": "markdown",
   "metadata": {},
   "source": [
    "## categorical - continuous Bivariate Analysis"
   ]
  },
  {
   "cell_type": "code",
   "execution_count": 19,
   "metadata": {},
   "outputs": [
    {
     "data": {
      "text/plain": [
       "Sex\n",
       "female    27.915709\n",
       "male      30.726645\n",
       "Name: Age, dtype: float64"
      ]
     },
     "execution_count": 19,
     "metadata": {},
     "output_type": "execute_result"
    }
   ],
   "source": [
    "#Is the mean age of men is different from the mean age of women?\n",
    "file.groupby('Sex')['Age'].mean()"
   ]
  },
  {
   "cell_type": "code",
   "execution_count": 20,
   "metadata": {},
   "outputs": [
    {
     "data": {
      "text/plain": [
       "<matplotlib.axes._subplots.AxesSubplot at 0x7f87f8a0c860>"
      ]
     },
     "execution_count": 20,
     "metadata": {},
     "output_type": "execute_result"
    },
    {
     "data": {
      "image/png": "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\n",
      "text/plain": [
       "<Figure size 432x288 with 1 Axes>"
      ]
     },
     "metadata": {
      "needs_background": "light"
     },
     "output_type": "display_data"
    }
   ],
   "source": [
    "file.groupby('Sex')['Age'].mean().plot.bar()"
   ]
  },
  {
   "cell_type": "code",
   "execution_count": 22,
   "metadata": {},
   "outputs": [],
   "source": [
    "# Performing two sample T test\n",
    "from scipy.stats import ttest_ind"
   ]
  },
  {
   "cell_type": "code",
   "execution_count": 28,
   "metadata": {},
   "outputs": [
    {
     "data": {
      "text/html": [
       "<div>\n",
       "<style scoped>\n",
       "    .dataframe tbody tr th:only-of-type {\n",
       "        vertical-align: middle;\n",
       "    }\n",
       "\n",
       "    .dataframe tbody tr th {\n",
       "        vertical-align: top;\n",
       "    }\n",
       "\n",
       "    .dataframe thead th {\n",
       "        text-align: right;\n",
       "    }\n",
       "</style>\n",
       "<table border=\"1\" class=\"dataframe\">\n",
       "  <thead>\n",
       "    <tr style=\"text-align: right;\">\n",
       "      <th></th>\n",
       "      <th>PassengerId</th>\n",
       "      <th>Survived</th>\n",
       "      <th>Pclass</th>\n",
       "      <th>Name</th>\n",
       "      <th>Sex</th>\n",
       "      <th>Age</th>\n",
       "      <th>SibSp</th>\n",
       "      <th>Parch</th>\n",
       "      <th>Ticket</th>\n",
       "      <th>Fare</th>\n",
       "      <th>Cabin</th>\n",
       "      <th>Embarked</th>\n",
       "    </tr>\n",
       "  </thead>\n",
       "  <tbody>\n",
       "    <tr>\n",
       "      <th>0</th>\n",
       "      <td>1</td>\n",
       "      <td>0</td>\n",
       "      <td>3</td>\n",
       "      <td>Braund, Mr. Owen Harris</td>\n",
       "      <td>male</td>\n",
       "      <td>22.0</td>\n",
       "      <td>1</td>\n",
       "      <td>0</td>\n",
       "      <td>A/5 21171</td>\n",
       "      <td>7.2500</td>\n",
       "      <td>NaN</td>\n",
       "      <td>S</td>\n",
       "    </tr>\n",
       "    <tr>\n",
       "      <th>4</th>\n",
       "      <td>5</td>\n",
       "      <td>0</td>\n",
       "      <td>3</td>\n",
       "      <td>Allen, Mr. William Henry</td>\n",
       "      <td>male</td>\n",
       "      <td>35.0</td>\n",
       "      <td>0</td>\n",
       "      <td>0</td>\n",
       "      <td>373450</td>\n",
       "      <td>8.0500</td>\n",
       "      <td>NaN</td>\n",
       "      <td>S</td>\n",
       "    </tr>\n",
       "    <tr>\n",
       "      <th>5</th>\n",
       "      <td>6</td>\n",
       "      <td>0</td>\n",
       "      <td>3</td>\n",
       "      <td>Moran, Mr. James</td>\n",
       "      <td>male</td>\n",
       "      <td>NaN</td>\n",
       "      <td>0</td>\n",
       "      <td>0</td>\n",
       "      <td>330877</td>\n",
       "      <td>8.4583</td>\n",
       "      <td>NaN</td>\n",
       "      <td>Q</td>\n",
       "    </tr>\n",
       "    <tr>\n",
       "      <th>6</th>\n",
       "      <td>7</td>\n",
       "      <td>0</td>\n",
       "      <td>1</td>\n",
       "      <td>McCarthy, Mr. Timothy J</td>\n",
       "      <td>male</td>\n",
       "      <td>54.0</td>\n",
       "      <td>0</td>\n",
       "      <td>0</td>\n",
       "      <td>17463</td>\n",
       "      <td>51.8625</td>\n",
       "      <td>E46</td>\n",
       "      <td>S</td>\n",
       "    </tr>\n",
       "    <tr>\n",
       "      <th>7</th>\n",
       "      <td>8</td>\n",
       "      <td>0</td>\n",
       "      <td>3</td>\n",
       "      <td>Palsson, Master. Gosta Leonard</td>\n",
       "      <td>male</td>\n",
       "      <td>2.0</td>\n",
       "      <td>3</td>\n",
       "      <td>1</td>\n",
       "      <td>349909</td>\n",
       "      <td>21.0750</td>\n",
       "      <td>NaN</td>\n",
       "      <td>S</td>\n",
       "    </tr>\n",
       "  </tbody>\n",
       "</table>\n",
       "</div>"
      ],
      "text/plain": [
       "   PassengerId  Survived  Pclass                            Name   Sex   Age  \\\n",
       "0            1         0       3         Braund, Mr. Owen Harris  male  22.0   \n",
       "4            5         0       3        Allen, Mr. William Henry  male  35.0   \n",
       "5            6         0       3                Moran, Mr. James  male   NaN   \n",
       "6            7         0       1         McCarthy, Mr. Timothy J  male  54.0   \n",
       "7            8         0       3  Palsson, Master. Gosta Leonard  male   2.0   \n",
       "\n",
       "   SibSp  Parch     Ticket     Fare Cabin Embarked  \n",
       "0      1      0  A/5 21171   7.2500   NaN        S  \n",
       "4      0      0     373450   8.0500   NaN        S  \n",
       "5      0      0     330877   8.4583   NaN        Q  \n",
       "6      0      0      17463  51.8625   E46        S  \n",
       "7      3      1     349909  21.0750   NaN        S  "
      ]
     },
     "execution_count": 28,
     "metadata": {},
     "output_type": "execute_result"
    }
   ],
   "source": [
    "# to perform t-test we need to two seprate group, one for male and one for female\n",
    "males = file[file['Sex']=='male']\n",
    "males.head()"
   ]
  },
  {
   "cell_type": "code",
   "execution_count": 29,
   "metadata": {},
   "outputs": [
    {
     "data": {
      "text/html": [
       "<div>\n",
       "<style scoped>\n",
       "    .dataframe tbody tr th:only-of-type {\n",
       "        vertical-align: middle;\n",
       "    }\n",
       "\n",
       "    .dataframe tbody tr th {\n",
       "        vertical-align: top;\n",
       "    }\n",
       "\n",
       "    .dataframe thead th {\n",
       "        text-align: right;\n",
       "    }\n",
       "</style>\n",
       "<table border=\"1\" class=\"dataframe\">\n",
       "  <thead>\n",
       "    <tr style=\"text-align: right;\">\n",
       "      <th></th>\n",
       "      <th>PassengerId</th>\n",
       "      <th>Survived</th>\n",
       "      <th>Pclass</th>\n",
       "      <th>Name</th>\n",
       "      <th>Sex</th>\n",
       "      <th>Age</th>\n",
       "      <th>SibSp</th>\n",
       "      <th>Parch</th>\n",
       "      <th>Ticket</th>\n",
       "      <th>Fare</th>\n",
       "      <th>Cabin</th>\n",
       "      <th>Embarked</th>\n",
       "    </tr>\n",
       "  </thead>\n",
       "  <tbody>\n",
       "    <tr>\n",
       "      <th>1</th>\n",
       "      <td>2</td>\n",
       "      <td>1</td>\n",
       "      <td>1</td>\n",
       "      <td>Cumings, Mrs. John Bradley (Florence Briggs Th...</td>\n",
       "      <td>female</td>\n",
       "      <td>38.0</td>\n",
       "      <td>1</td>\n",
       "      <td>0</td>\n",
       "      <td>PC 17599</td>\n",
       "      <td>71.2833</td>\n",
       "      <td>C85</td>\n",
       "      <td>C</td>\n",
       "    </tr>\n",
       "    <tr>\n",
       "      <th>2</th>\n",
       "      <td>3</td>\n",
       "      <td>1</td>\n",
       "      <td>3</td>\n",
       "      <td>Heikkinen, Miss. Laina</td>\n",
       "      <td>female</td>\n",
       "      <td>26.0</td>\n",
       "      <td>0</td>\n",
       "      <td>0</td>\n",
       "      <td>STON/O2. 3101282</td>\n",
       "      <td>7.9250</td>\n",
       "      <td>NaN</td>\n",
       "      <td>S</td>\n",
       "    </tr>\n",
       "    <tr>\n",
       "      <th>3</th>\n",
       "      <td>4</td>\n",
       "      <td>1</td>\n",
       "      <td>1</td>\n",
       "      <td>Futrelle, Mrs. Jacques Heath (Lily May Peel)</td>\n",
       "      <td>female</td>\n",
       "      <td>35.0</td>\n",
       "      <td>1</td>\n",
       "      <td>0</td>\n",
       "      <td>113803</td>\n",
       "      <td>53.1000</td>\n",
       "      <td>C123</td>\n",
       "      <td>S</td>\n",
       "    </tr>\n",
       "    <tr>\n",
       "      <th>8</th>\n",
       "      <td>9</td>\n",
       "      <td>1</td>\n",
       "      <td>3</td>\n",
       "      <td>Johnson, Mrs. Oscar W (Elisabeth Vilhelmina Berg)</td>\n",
       "      <td>female</td>\n",
       "      <td>27.0</td>\n",
       "      <td>0</td>\n",
       "      <td>2</td>\n",
       "      <td>347742</td>\n",
       "      <td>11.1333</td>\n",
       "      <td>NaN</td>\n",
       "      <td>S</td>\n",
       "    </tr>\n",
       "    <tr>\n",
       "      <th>9</th>\n",
       "      <td>10</td>\n",
       "      <td>1</td>\n",
       "      <td>2</td>\n",
       "      <td>Nasser, Mrs. Nicholas (Adele Achem)</td>\n",
       "      <td>female</td>\n",
       "      <td>14.0</td>\n",
       "      <td>1</td>\n",
       "      <td>0</td>\n",
       "      <td>237736</td>\n",
       "      <td>30.0708</td>\n",
       "      <td>NaN</td>\n",
       "      <td>C</td>\n",
       "    </tr>\n",
       "  </tbody>\n",
       "</table>\n",
       "</div>"
      ],
      "text/plain": [
       "   PassengerId  Survived  Pclass  \\\n",
       "1            2         1       1   \n",
       "2            3         1       3   \n",
       "3            4         1       1   \n",
       "8            9         1       3   \n",
       "9           10         1       2   \n",
       "\n",
       "                                                Name     Sex   Age  SibSp  \\\n",
       "1  Cumings, Mrs. John Bradley (Florence Briggs Th...  female  38.0      1   \n",
       "2                             Heikkinen, Miss. Laina  female  26.0      0   \n",
       "3       Futrelle, Mrs. Jacques Heath (Lily May Peel)  female  35.0      1   \n",
       "8  Johnson, Mrs. Oscar W (Elisabeth Vilhelmina Berg)  female  27.0      0   \n",
       "9                Nasser, Mrs. Nicholas (Adele Achem)  female  14.0      1   \n",
       "\n",
       "   Parch            Ticket     Fare Cabin Embarked  \n",
       "1      0          PC 17599  71.2833   C85        C  \n",
       "2      0  STON/O2. 3101282   7.9250   NaN        S  \n",
       "3      0            113803  53.1000  C123        S  \n",
       "8      2            347742  11.1333   NaN        S  \n",
       "9      0            237736  30.0708   NaN        C  "
      ]
     },
     "execution_count": 29,
     "metadata": {},
     "output_type": "execute_result"
    }
   ],
   "source": [
    "females = file[file['Sex']=='female']\n",
    "females.head()"
   ]
  },
  {
   "cell_type": "code",
   "execution_count": 30,
   "metadata": {},
   "outputs": [
    {
     "data": {
      "text/plain": [
       "Ttest_indResult(statistic=2.499206354920835, pvalue=0.012671296797014266)"
      ]
     },
     "execution_count": 30,
     "metadata": {},
     "output_type": "execute_result"
    }
   ],
   "source": [
    "# to support missing values, emit the missing  policy\n",
    "ttest_ind(males['Age'],females['Age'],nan_policy='omit')"
   ]
  },
  {
   "cell_type": "markdown",
   "metadata": {},
   "source": [
    "So the difference to be statistically different we need a **pvalue which is less then :**0.05** and the result we got here is **pvalue = 0.01**.\n",
    "So we can say that the difference between mean age of males and females are statically different."
   ]
  },
  {
   "cell_type": "markdown",
   "metadata": {},
   "source": [
    "## Categorical - Categorical Bivariate Analysis\n"
   ]
  },
  {
   "cell_type": "code",
   "execution_count": 32,
   "metadata": {},
   "outputs": [],
   "source": [
    "# Step1: we need to create two way table"
   ]
  },
  {
   "cell_type": "code",
   "execution_count": 33,
   "metadata": {},
   "outputs": [
    {
     "data": {
      "text/html": [
       "<div>\n",
       "<style scoped>\n",
       "    .dataframe tbody tr th:only-of-type {\n",
       "        vertical-align: middle;\n",
       "    }\n",
       "\n",
       "    .dataframe tbody tr th {\n",
       "        vertical-align: top;\n",
       "    }\n",
       "\n",
       "    .dataframe thead th {\n",
       "        text-align: right;\n",
       "    }\n",
       "</style>\n",
       "<table border=\"1\" class=\"dataframe\">\n",
       "  <thead>\n",
       "    <tr style=\"text-align: right;\">\n",
       "      <th>Survived</th>\n",
       "      <th>0</th>\n",
       "      <th>1</th>\n",
       "    </tr>\n",
       "    <tr>\n",
       "      <th>Sex</th>\n",
       "      <th></th>\n",
       "      <th></th>\n",
       "    </tr>\n",
       "  </thead>\n",
       "  <tbody>\n",
       "    <tr>\n",
       "      <th>female</th>\n",
       "      <td>81</td>\n",
       "      <td>233</td>\n",
       "    </tr>\n",
       "    <tr>\n",
       "      <th>male</th>\n",
       "      <td>468</td>\n",
       "      <td>109</td>\n",
       "    </tr>\n",
       "  </tbody>\n",
       "</table>\n",
       "</div>"
      ],
      "text/plain": [
       "Survived    0    1\n",
       "Sex               \n",
       "female     81  233\n",
       "male      468  109"
      ]
     },
     "execution_count": 33,
     "metadata": {},
     "output_type": "execute_result"
    }
   ],
   "source": [
    "pd.crosstab(file['Sex'],file['Survived'])"
   ]
  },
  {
   "cell_type": "code",
   "execution_count": 34,
   "metadata": {},
   "outputs": [],
   "source": [
    "# 233 female survived and 81 not survived, 109 male survived and 468 is not survived"
   ]
  },
  {
   "cell_type": "code",
   "execution_count": 36,
   "metadata": {},
   "outputs": [],
   "source": [
    "from scipy.stats import chi2_contingency\n",
    "#chi2_contingency to return chi_sq value and p value."
   ]
  },
  {
   "cell_type": "code",
   "execution_count": 37,
   "metadata": {},
   "outputs": [
    {
     "data": {
      "text/plain": [
       "(260.71702016732104,\n",
       " 1.1973570627755645e-58,\n",
       " 1,\n",
       " array([[193.47474747, 120.52525253],\n",
       "        [355.52525253, 221.47474747]]))"
      ]
     },
     "execution_count": 37,
     "metadata": {},
     "output_type": "execute_result"
    }
   ],
   "source": [
    "chi2_contingency(pd.crosstab(file['Sex'],file['Survived']))"
   ]
  },
  {
   "cell_type": "markdown",
   "metadata": {},
   "source": [
    "chi_sq statistics: 260.717..\n",
    "pvalue: 1.19 and e to the power of x (-58):** which is less then 0.05**\n",
    "conclusion: the surviavl rate between male and females are actually different, **Females are more likely to survive then males**"
   ]
  },
  {
   "cell_type": "markdown",
   "metadata": {},
   "source": [
    "## Understanding and treating missing values:\n",
    "Topic to be covered:\n",
    "1. Reason for missing values?\n",
    "2. Types of missing values?\n",
    "3. Identifying missing values?\n",
    "4. Different methods to deal with missing values?\n",
    "\n",
    "1. Reason for missing values?\n",
    "non -response, error in data collection, error in reading data because of special characters.\n",
    "\n",
    "2. Types of missing values?\n",
    "* **Missing completely at Random (MCAR):** Missing values has no relation to --\n",
    "> 1. The variable in which missing values exists: The values missing in the IQ column is nothing to do with the IQ values. i.e all the values in the IQ is equally likely to be missing.\n",
    "> 2. Other variables in the dataset: the values in the IQ is missing nothing to do with the \"Age\"\n",
    "\n",
    "2. **Missing at Random**\n",
    "> Missing values has not relation to the variable in which missing value exist, **but they do have a relation to other variable**\n",
    "> The values missing in the IQ column, and the values are equally likely to be missing, **but the missing values whose age is less then 60**\n",
    "3. **Missing not at Random (MNAR)**\n",
    "> Missing values have relation to the variable in which missing value exists. **IQ values with the lower values are missing** \n",
    "\n",
    "\n"
   ]
  },
  {
   "cell_type": "markdown",
   "metadata": {},
   "source": [
    "## Missing Value Treatement\n",
    "\n",
    "*Identifying Missing Values*  \n",
    "* **describe():** Works only for contiuous variables.\n",
    "* **isnull():** all variables both categorical values and continuous values."
   ]
  },
  {
   "cell_type": "markdown",
   "metadata": {},
   "source": [
    "## Different methods to deal with missing values.\n",
    "1. Imputation\n",
    "2. Deletion\n",
    "\n",
    "### Imputation: \n",
    "> * **Imputation on Continuous Variable** : Mean, Median, Regression Model\n",
    ">* **Imputation on Categorical Variable** : Mode, Classification Model\n",
    "\n",
    "### Deletion:\n",
    ">* **Row Wise Deletion**: which deletes the entire rows, even if there is one missing value any row.\n",
    ">* **Column Wise Deletion**: which removes the entire Column, if a column has a missing values in it.\n",
    "\n"
   ]
  },
  {
   "cell_type": "markdown",
   "metadata": {},
   "source": [
    "## Treating missing values : Implementation"
   ]
  },
  {
   "cell_type": "code",
   "execution_count": 39,
   "metadata": {},
   "outputs": [],
   "source": [
    "import pandas as pd\n",
    "import matplotlib.pyplot as plt\n",
    "%matplotlib inline"
   ]
  },
  {
   "cell_type": "code",
   "execution_count": 40,
   "metadata": {},
   "outputs": [],
   "source": [
    "file = pd.read_csv('./iris/data.csv')"
   ]
  },
  {
   "cell_type": "code",
   "execution_count": 41,
   "metadata": {},
   "outputs": [
    {
     "data": {
      "text/plain": [
       "(891, 12)"
      ]
     },
     "execution_count": 41,
     "metadata": {},
     "output_type": "execute_result"
    }
   ],
   "source": [
    "file.shape\n"
   ]
  },
  {
   "cell_type": "code",
   "execution_count": 42,
   "metadata": {},
   "outputs": [
    {
     "data": {
      "text/html": [
       "<div>\n",
       "<style scoped>\n",
       "    .dataframe tbody tr th:only-of-type {\n",
       "        vertical-align: middle;\n",
       "    }\n",
       "\n",
       "    .dataframe tbody tr th {\n",
       "        vertical-align: top;\n",
       "    }\n",
       "\n",
       "    .dataframe thead th {\n",
       "        text-align: right;\n",
       "    }\n",
       "</style>\n",
       "<table border=\"1\" class=\"dataframe\">\n",
       "  <thead>\n",
       "    <tr style=\"text-align: right;\">\n",
       "      <th></th>\n",
       "      <th>PassengerId</th>\n",
       "      <th>Survived</th>\n",
       "      <th>Pclass</th>\n",
       "      <th>Age</th>\n",
       "      <th>SibSp</th>\n",
       "      <th>Parch</th>\n",
       "      <th>Fare</th>\n",
       "    </tr>\n",
       "  </thead>\n",
       "  <tbody>\n",
       "    <tr>\n",
       "      <th>count</th>\n",
       "      <td>891.000000</td>\n",
       "      <td>891.000000</td>\n",
       "      <td>891.000000</td>\n",
       "      <td>714.000000</td>\n",
       "      <td>891.000000</td>\n",
       "      <td>891.000000</td>\n",
       "      <td>891.000000</td>\n",
       "    </tr>\n",
       "    <tr>\n",
       "      <th>mean</th>\n",
       "      <td>446.000000</td>\n",
       "      <td>0.383838</td>\n",
       "      <td>2.308642</td>\n",
       "      <td>29.699118</td>\n",
       "      <td>0.523008</td>\n",
       "      <td>0.381594</td>\n",
       "      <td>32.204208</td>\n",
       "    </tr>\n",
       "    <tr>\n",
       "      <th>std</th>\n",
       "      <td>257.353842</td>\n",
       "      <td>0.486592</td>\n",
       "      <td>0.836071</td>\n",
       "      <td>14.526497</td>\n",
       "      <td>1.102743</td>\n",
       "      <td>0.806057</td>\n",
       "      <td>49.693429</td>\n",
       "    </tr>\n",
       "    <tr>\n",
       "      <th>min</th>\n",
       "      <td>1.000000</td>\n",
       "      <td>0.000000</td>\n",
       "      <td>1.000000</td>\n",
       "      <td>0.420000</td>\n",
       "      <td>0.000000</td>\n",
       "      <td>0.000000</td>\n",
       "      <td>0.000000</td>\n",
       "    </tr>\n",
       "    <tr>\n",
       "      <th>25%</th>\n",
       "      <td>223.500000</td>\n",
       "      <td>0.000000</td>\n",
       "      <td>2.000000</td>\n",
       "      <td>20.125000</td>\n",
       "      <td>0.000000</td>\n",
       "      <td>0.000000</td>\n",
       "      <td>7.910400</td>\n",
       "    </tr>\n",
       "    <tr>\n",
       "      <th>50%</th>\n",
       "      <td>446.000000</td>\n",
       "      <td>0.000000</td>\n",
       "      <td>3.000000</td>\n",
       "      <td>28.000000</td>\n",
       "      <td>0.000000</td>\n",
       "      <td>0.000000</td>\n",
       "      <td>14.454200</td>\n",
       "    </tr>\n",
       "    <tr>\n",
       "      <th>75%</th>\n",
       "      <td>668.500000</td>\n",
       "      <td>1.000000</td>\n",
       "      <td>3.000000</td>\n",
       "      <td>38.000000</td>\n",
       "      <td>1.000000</td>\n",
       "      <td>0.000000</td>\n",
       "      <td>31.000000</td>\n",
       "    </tr>\n",
       "    <tr>\n",
       "      <th>max</th>\n",
       "      <td>891.000000</td>\n",
       "      <td>1.000000</td>\n",
       "      <td>3.000000</td>\n",
       "      <td>80.000000</td>\n",
       "      <td>8.000000</td>\n",
       "      <td>6.000000</td>\n",
       "      <td>512.329200</td>\n",
       "    </tr>\n",
       "  </tbody>\n",
       "</table>\n",
       "</div>"
      ],
      "text/plain": [
       "       PassengerId    Survived      Pclass         Age       SibSp  \\\n",
       "count   891.000000  891.000000  891.000000  714.000000  891.000000   \n",
       "mean    446.000000    0.383838    2.308642   29.699118    0.523008   \n",
       "std     257.353842    0.486592    0.836071   14.526497    1.102743   \n",
       "min       1.000000    0.000000    1.000000    0.420000    0.000000   \n",
       "25%     223.500000    0.000000    2.000000   20.125000    0.000000   \n",
       "50%     446.000000    0.000000    3.000000   28.000000    0.000000   \n",
       "75%     668.500000    1.000000    3.000000   38.000000    1.000000   \n",
       "max     891.000000    1.000000    3.000000   80.000000    8.000000   \n",
       "\n",
       "            Parch        Fare  \n",
       "count  891.000000  891.000000  \n",
       "mean     0.381594   32.204208  \n",
       "std      0.806057   49.693429  \n",
       "min      0.000000    0.000000  \n",
       "25%      0.000000    7.910400  \n",
       "50%      0.000000   14.454200  \n",
       "75%      0.000000   31.000000  \n",
       "max      6.000000  512.329200  "
      ]
     },
     "execution_count": 42,
     "metadata": {},
     "output_type": "execute_result"
    }
   ],
   "source": [
    "# describe function\n",
    "file.describe()"
   ]
  },
  {
   "cell_type": "code",
   "execution_count": 44,
   "metadata": {},
   "outputs": [
    {
     "data": {
      "text/plain": [
       "PassengerId      0\n",
       "Survived         0\n",
       "Pclass           0\n",
       "Name             0\n",
       "Sex              0\n",
       "Age            177\n",
       "SibSp            0\n",
       "Parch            0\n",
       "Ticket           0\n",
       "Fare             0\n",
       "Cabin          687\n",
       "Embarked         2\n",
       "dtype: int64"
      ]
     },
     "execution_count": 44,
     "metadata": {},
     "output_type": "execute_result"
    }
   ],
   "source": [
    "file.isnull().sum()"
   ]
  },
  {
   "cell_type": "code",
   "execution_count": 46,
   "metadata": {},
   "outputs": [
    {
     "data": {
      "text/html": [
       "<div>\n",
       "<style scoped>\n",
       "    .dataframe tbody tr th:only-of-type {\n",
       "        vertical-align: middle;\n",
       "    }\n",
       "\n",
       "    .dataframe tbody tr th {\n",
       "        vertical-align: top;\n",
       "    }\n",
       "\n",
       "    .dataframe thead th {\n",
       "        text-align: right;\n",
       "    }\n",
       "</style>\n",
       "<table border=\"1\" class=\"dataframe\">\n",
       "  <thead>\n",
       "    <tr style=\"text-align: right;\">\n",
       "      <th></th>\n",
       "      <th>PassengerId</th>\n",
       "      <th>Survived</th>\n",
       "      <th>Pclass</th>\n",
       "      <th>Name</th>\n",
       "      <th>Sex</th>\n",
       "      <th>Age</th>\n",
       "      <th>SibSp</th>\n",
       "      <th>Parch</th>\n",
       "      <th>Ticket</th>\n",
       "      <th>Fare</th>\n",
       "      <th>Cabin</th>\n",
       "      <th>Embarked</th>\n",
       "    </tr>\n",
       "  </thead>\n",
       "  <tbody>\n",
       "    <tr>\n",
       "      <th>1</th>\n",
       "      <td>2</td>\n",
       "      <td>1</td>\n",
       "      <td>1</td>\n",
       "      <td>Cumings, Mrs. John Bradley (Florence Briggs Th...</td>\n",
       "      <td>female</td>\n",
       "      <td>38.0</td>\n",
       "      <td>1</td>\n",
       "      <td>0</td>\n",
       "      <td>PC 17599</td>\n",
       "      <td>71.2833</td>\n",
       "      <td>C85</td>\n",
       "      <td>C</td>\n",
       "    </tr>\n",
       "    <tr>\n",
       "      <th>3</th>\n",
       "      <td>4</td>\n",
       "      <td>1</td>\n",
       "      <td>1</td>\n",
       "      <td>Futrelle, Mrs. Jacques Heath (Lily May Peel)</td>\n",
       "      <td>female</td>\n",
       "      <td>35.0</td>\n",
       "      <td>1</td>\n",
       "      <td>0</td>\n",
       "      <td>113803</td>\n",
       "      <td>53.1000</td>\n",
       "      <td>C123</td>\n",
       "      <td>S</td>\n",
       "    </tr>\n",
       "    <tr>\n",
       "      <th>6</th>\n",
       "      <td>7</td>\n",
       "      <td>0</td>\n",
       "      <td>1</td>\n",
       "      <td>McCarthy, Mr. Timothy J</td>\n",
       "      <td>male</td>\n",
       "      <td>54.0</td>\n",
       "      <td>0</td>\n",
       "      <td>0</td>\n",
       "      <td>17463</td>\n",
       "      <td>51.8625</td>\n",
       "      <td>E46</td>\n",
       "      <td>S</td>\n",
       "    </tr>\n",
       "    <tr>\n",
       "      <th>10</th>\n",
       "      <td>11</td>\n",
       "      <td>1</td>\n",
       "      <td>3</td>\n",
       "      <td>Sandstrom, Miss. Marguerite Rut</td>\n",
       "      <td>female</td>\n",
       "      <td>4.0</td>\n",
       "      <td>1</td>\n",
       "      <td>1</td>\n",
       "      <td>PP 9549</td>\n",
       "      <td>16.7000</td>\n",
       "      <td>G6</td>\n",
       "      <td>S</td>\n",
       "    </tr>\n",
       "    <tr>\n",
       "      <th>11</th>\n",
       "      <td>12</td>\n",
       "      <td>1</td>\n",
       "      <td>1</td>\n",
       "      <td>Bonnell, Miss. Elizabeth</td>\n",
       "      <td>female</td>\n",
       "      <td>58.0</td>\n",
       "      <td>0</td>\n",
       "      <td>0</td>\n",
       "      <td>113783</td>\n",
       "      <td>26.5500</td>\n",
       "      <td>C103</td>\n",
       "      <td>S</td>\n",
       "    </tr>\n",
       "    <tr>\n",
       "      <th>...</th>\n",
       "      <td>...</td>\n",
       "      <td>...</td>\n",
       "      <td>...</td>\n",
       "      <td>...</td>\n",
       "      <td>...</td>\n",
       "      <td>...</td>\n",
       "      <td>...</td>\n",
       "      <td>...</td>\n",
       "      <td>...</td>\n",
       "      <td>...</td>\n",
       "      <td>...</td>\n",
       "      <td>...</td>\n",
       "    </tr>\n",
       "    <tr>\n",
       "      <th>871</th>\n",
       "      <td>872</td>\n",
       "      <td>1</td>\n",
       "      <td>1</td>\n",
       "      <td>Beckwith, Mrs. Richard Leonard (Sallie Monypeny)</td>\n",
       "      <td>female</td>\n",
       "      <td>47.0</td>\n",
       "      <td>1</td>\n",
       "      <td>1</td>\n",
       "      <td>11751</td>\n",
       "      <td>52.5542</td>\n",
       "      <td>D35</td>\n",
       "      <td>S</td>\n",
       "    </tr>\n",
       "    <tr>\n",
       "      <th>872</th>\n",
       "      <td>873</td>\n",
       "      <td>0</td>\n",
       "      <td>1</td>\n",
       "      <td>Carlsson, Mr. Frans Olof</td>\n",
       "      <td>male</td>\n",
       "      <td>33.0</td>\n",
       "      <td>0</td>\n",
       "      <td>0</td>\n",
       "      <td>695</td>\n",
       "      <td>5.0000</td>\n",
       "      <td>B51 B53 B55</td>\n",
       "      <td>S</td>\n",
       "    </tr>\n",
       "    <tr>\n",
       "      <th>879</th>\n",
       "      <td>880</td>\n",
       "      <td>1</td>\n",
       "      <td>1</td>\n",
       "      <td>Potter, Mrs. Thomas Jr (Lily Alexenia Wilson)</td>\n",
       "      <td>female</td>\n",
       "      <td>56.0</td>\n",
       "      <td>0</td>\n",
       "      <td>1</td>\n",
       "      <td>11767</td>\n",
       "      <td>83.1583</td>\n",
       "      <td>C50</td>\n",
       "      <td>C</td>\n",
       "    </tr>\n",
       "    <tr>\n",
       "      <th>887</th>\n",
       "      <td>888</td>\n",
       "      <td>1</td>\n",
       "      <td>1</td>\n",
       "      <td>Graham, Miss. Margaret Edith</td>\n",
       "      <td>female</td>\n",
       "      <td>19.0</td>\n",
       "      <td>0</td>\n",
       "      <td>0</td>\n",
       "      <td>112053</td>\n",
       "      <td>30.0000</td>\n",
       "      <td>B42</td>\n",
       "      <td>S</td>\n",
       "    </tr>\n",
       "    <tr>\n",
       "      <th>889</th>\n",
       "      <td>890</td>\n",
       "      <td>1</td>\n",
       "      <td>1</td>\n",
       "      <td>Behr, Mr. Karl Howell</td>\n",
       "      <td>male</td>\n",
       "      <td>26.0</td>\n",
       "      <td>0</td>\n",
       "      <td>0</td>\n",
       "      <td>111369</td>\n",
       "      <td>30.0000</td>\n",
       "      <td>C148</td>\n",
       "      <td>C</td>\n",
       "    </tr>\n",
       "  </tbody>\n",
       "</table>\n",
       "<p>183 rows × 12 columns</p>\n",
       "</div>"
      ],
      "text/plain": [
       "     PassengerId  Survived  Pclass  \\\n",
       "1              2         1       1   \n",
       "3              4         1       1   \n",
       "6              7         0       1   \n",
       "10            11         1       3   \n",
       "11            12         1       1   \n",
       "..           ...       ...     ...   \n",
       "871          872         1       1   \n",
       "872          873         0       1   \n",
       "879          880         1       1   \n",
       "887          888         1       1   \n",
       "889          890         1       1   \n",
       "\n",
       "                                                  Name     Sex   Age  SibSp  \\\n",
       "1    Cumings, Mrs. John Bradley (Florence Briggs Th...  female  38.0      1   \n",
       "3         Futrelle, Mrs. Jacques Heath (Lily May Peel)  female  35.0      1   \n",
       "6                              McCarthy, Mr. Timothy J    male  54.0      0   \n",
       "10                     Sandstrom, Miss. Marguerite Rut  female   4.0      1   \n",
       "11                            Bonnell, Miss. Elizabeth  female  58.0      0   \n",
       "..                                                 ...     ...   ...    ...   \n",
       "871   Beckwith, Mrs. Richard Leonard (Sallie Monypeny)  female  47.0      1   \n",
       "872                           Carlsson, Mr. Frans Olof    male  33.0      0   \n",
       "879      Potter, Mrs. Thomas Jr (Lily Alexenia Wilson)  female  56.0      0   \n",
       "887                       Graham, Miss. Margaret Edith  female  19.0      0   \n",
       "889                              Behr, Mr. Karl Howell    male  26.0      0   \n",
       "\n",
       "     Parch    Ticket     Fare        Cabin Embarked  \n",
       "1        0  PC 17599  71.2833          C85        C  \n",
       "3        0    113803  53.1000         C123        S  \n",
       "6        0     17463  51.8625          E46        S  \n",
       "10       1   PP 9549  16.7000           G6        S  \n",
       "11       0    113783  26.5500         C103        S  \n",
       "..     ...       ...      ...          ...      ...  \n",
       "871      1     11751  52.5542          D35        S  \n",
       "872      0       695   5.0000  B51 B53 B55        S  \n",
       "879      1     11767  83.1583          C50        C  \n",
       "887      0    112053  30.0000          B42        S  \n",
       "889      0    111369  30.0000         C148        C  \n",
       "\n",
       "[183 rows x 12 columns]"
      ]
     },
     "execution_count": 46,
     "metadata": {},
     "output_type": "execute_result"
    }
   ],
   "source": [
    "# droping all the rows wherever are they are missing values: If there's a single value missng it will remove that row\n",
    "file.dropna()"
   ]
  },
  {
   "cell_type": "code",
   "execution_count": 61,
   "metadata": {},
   "outputs": [
    {
     "data": {
      "text/plain": [
       "PassengerId    0\n",
       "Survived       0\n",
       "Pclass         0\n",
       "Name           0\n",
       "Sex            0\n",
       "Age            0\n",
       "SibSp          0\n",
       "Parch          0\n",
       "Ticket         0\n",
       "Fare           0\n",
       "Cabin          0\n",
       "Embarked       0\n",
       "dtype: int64"
      ]
     },
     "execution_count": 61,
     "metadata": {},
     "output_type": "execute_result"
    }
   ],
   "source": [
    "# valiate all the misssing value are dropped\n",
    "file.dropna().isnull().sum()"
   ]
  },
  {
   "cell_type": "code",
   "execution_count": 62,
   "metadata": {},
   "outputs": [
    {
     "data": {
      "text/html": [
       "<div>\n",
       "<style scoped>\n",
       "    .dataframe tbody tr th:only-of-type {\n",
       "        vertical-align: middle;\n",
       "    }\n",
       "\n",
       "    .dataframe tbody tr th {\n",
       "        vertical-align: top;\n",
       "    }\n",
       "\n",
       "    .dataframe thead th {\n",
       "        text-align: right;\n",
       "    }\n",
       "</style>\n",
       "<table border=\"1\" class=\"dataframe\">\n",
       "  <thead>\n",
       "    <tr style=\"text-align: right;\">\n",
       "      <th></th>\n",
       "      <th>PassengerId</th>\n",
       "      <th>Survived</th>\n",
       "      <th>Pclass</th>\n",
       "      <th>Name</th>\n",
       "      <th>Sex</th>\n",
       "      <th>Age</th>\n",
       "      <th>SibSp</th>\n",
       "      <th>Parch</th>\n",
       "      <th>Ticket</th>\n",
       "      <th>Fare</th>\n",
       "      <th>Cabin</th>\n",
       "      <th>Embarked</th>\n",
       "    </tr>\n",
       "  </thead>\n",
       "  <tbody>\n",
       "    <tr>\n",
       "      <th>0</th>\n",
       "      <td>1</td>\n",
       "      <td>0</td>\n",
       "      <td>3</td>\n",
       "      <td>Braund, Mr. Owen Harris</td>\n",
       "      <td>male</td>\n",
       "      <td>22.0</td>\n",
       "      <td>1</td>\n",
       "      <td>0</td>\n",
       "      <td>A/5 21171</td>\n",
       "      <td>7.2500</td>\n",
       "      <td>NaN</td>\n",
       "      <td>S</td>\n",
       "    </tr>\n",
       "    <tr>\n",
       "      <th>1</th>\n",
       "      <td>2</td>\n",
       "      <td>1</td>\n",
       "      <td>1</td>\n",
       "      <td>Cumings, Mrs. John Bradley (Florence Briggs Th...</td>\n",
       "      <td>female</td>\n",
       "      <td>38.0</td>\n",
       "      <td>1</td>\n",
       "      <td>0</td>\n",
       "      <td>PC 17599</td>\n",
       "      <td>71.2833</td>\n",
       "      <td>C85</td>\n",
       "      <td>C</td>\n",
       "    </tr>\n",
       "    <tr>\n",
       "      <th>2</th>\n",
       "      <td>3</td>\n",
       "      <td>1</td>\n",
       "      <td>3</td>\n",
       "      <td>Heikkinen, Miss. Laina</td>\n",
       "      <td>female</td>\n",
       "      <td>26.0</td>\n",
       "      <td>0</td>\n",
       "      <td>0</td>\n",
       "      <td>STON/O2. 3101282</td>\n",
       "      <td>7.9250</td>\n",
       "      <td>NaN</td>\n",
       "      <td>S</td>\n",
       "    </tr>\n",
       "    <tr>\n",
       "      <th>3</th>\n",
       "      <td>4</td>\n",
       "      <td>1</td>\n",
       "      <td>1</td>\n",
       "      <td>Futrelle, Mrs. Jacques Heath (Lily May Peel)</td>\n",
       "      <td>female</td>\n",
       "      <td>35.0</td>\n",
       "      <td>1</td>\n",
       "      <td>0</td>\n",
       "      <td>113803</td>\n",
       "      <td>53.1000</td>\n",
       "      <td>C123</td>\n",
       "      <td>S</td>\n",
       "    </tr>\n",
       "    <tr>\n",
       "      <th>4</th>\n",
       "      <td>5</td>\n",
       "      <td>0</td>\n",
       "      <td>3</td>\n",
       "      <td>Allen, Mr. William Henry</td>\n",
       "      <td>male</td>\n",
       "      <td>35.0</td>\n",
       "      <td>0</td>\n",
       "      <td>0</td>\n",
       "      <td>373450</td>\n",
       "      <td>8.0500</td>\n",
       "      <td>NaN</td>\n",
       "      <td>S</td>\n",
       "    </tr>\n",
       "    <tr>\n",
       "      <th>...</th>\n",
       "      <td>...</td>\n",
       "      <td>...</td>\n",
       "      <td>...</td>\n",
       "      <td>...</td>\n",
       "      <td>...</td>\n",
       "      <td>...</td>\n",
       "      <td>...</td>\n",
       "      <td>...</td>\n",
       "      <td>...</td>\n",
       "      <td>...</td>\n",
       "      <td>...</td>\n",
       "      <td>...</td>\n",
       "    </tr>\n",
       "    <tr>\n",
       "      <th>886</th>\n",
       "      <td>887</td>\n",
       "      <td>0</td>\n",
       "      <td>2</td>\n",
       "      <td>Montvila, Rev. Juozas</td>\n",
       "      <td>male</td>\n",
       "      <td>27.0</td>\n",
       "      <td>0</td>\n",
       "      <td>0</td>\n",
       "      <td>211536</td>\n",
       "      <td>13.0000</td>\n",
       "      <td>NaN</td>\n",
       "      <td>S</td>\n",
       "    </tr>\n",
       "    <tr>\n",
       "      <th>887</th>\n",
       "      <td>888</td>\n",
       "      <td>1</td>\n",
       "      <td>1</td>\n",
       "      <td>Graham, Miss. Margaret Edith</td>\n",
       "      <td>female</td>\n",
       "      <td>19.0</td>\n",
       "      <td>0</td>\n",
       "      <td>0</td>\n",
       "      <td>112053</td>\n",
       "      <td>30.0000</td>\n",
       "      <td>B42</td>\n",
       "      <td>S</td>\n",
       "    </tr>\n",
       "    <tr>\n",
       "      <th>888</th>\n",
       "      <td>889</td>\n",
       "      <td>0</td>\n",
       "      <td>3</td>\n",
       "      <td>Johnston, Miss. Catherine Helen \"Carrie\"</td>\n",
       "      <td>female</td>\n",
       "      <td>NaN</td>\n",
       "      <td>1</td>\n",
       "      <td>2</td>\n",
       "      <td>W./C. 6607</td>\n",
       "      <td>23.4500</td>\n",
       "      <td>NaN</td>\n",
       "      <td>S</td>\n",
       "    </tr>\n",
       "    <tr>\n",
       "      <th>889</th>\n",
       "      <td>890</td>\n",
       "      <td>1</td>\n",
       "      <td>1</td>\n",
       "      <td>Behr, Mr. Karl Howell</td>\n",
       "      <td>male</td>\n",
       "      <td>26.0</td>\n",
       "      <td>0</td>\n",
       "      <td>0</td>\n",
       "      <td>111369</td>\n",
       "      <td>30.0000</td>\n",
       "      <td>C148</td>\n",
       "      <td>C</td>\n",
       "    </tr>\n",
       "    <tr>\n",
       "      <th>890</th>\n",
       "      <td>891</td>\n",
       "      <td>0</td>\n",
       "      <td>3</td>\n",
       "      <td>Dooley, Mr. Patrick</td>\n",
       "      <td>male</td>\n",
       "      <td>32.0</td>\n",
       "      <td>0</td>\n",
       "      <td>0</td>\n",
       "      <td>370376</td>\n",
       "      <td>7.7500</td>\n",
       "      <td>NaN</td>\n",
       "      <td>Q</td>\n",
       "    </tr>\n",
       "  </tbody>\n",
       "</table>\n",
       "<p>891 rows × 12 columns</p>\n",
       "</div>"
      ],
      "text/plain": [
       "     PassengerId  Survived  Pclass  \\\n",
       "0              1         0       3   \n",
       "1              2         1       1   \n",
       "2              3         1       3   \n",
       "3              4         1       1   \n",
       "4              5         0       3   \n",
       "..           ...       ...     ...   \n",
       "886          887         0       2   \n",
       "887          888         1       1   \n",
       "888          889         0       3   \n",
       "889          890         1       1   \n",
       "890          891         0       3   \n",
       "\n",
       "                                                  Name     Sex   Age  SibSp  \\\n",
       "0                              Braund, Mr. Owen Harris    male  22.0      1   \n",
       "1    Cumings, Mrs. John Bradley (Florence Briggs Th...  female  38.0      1   \n",
       "2                               Heikkinen, Miss. Laina  female  26.0      0   \n",
       "3         Futrelle, Mrs. Jacques Heath (Lily May Peel)  female  35.0      1   \n",
       "4                             Allen, Mr. William Henry    male  35.0      0   \n",
       "..                                                 ...     ...   ...    ...   \n",
       "886                              Montvila, Rev. Juozas    male  27.0      0   \n",
       "887                       Graham, Miss. Margaret Edith  female  19.0      0   \n",
       "888           Johnston, Miss. Catherine Helen \"Carrie\"  female   NaN      1   \n",
       "889                              Behr, Mr. Karl Howell    male  26.0      0   \n",
       "890                                Dooley, Mr. Patrick    male  32.0      0   \n",
       "\n",
       "     Parch            Ticket     Fare Cabin Embarked  \n",
       "0        0         A/5 21171   7.2500   NaN        S  \n",
       "1        0          PC 17599  71.2833   C85        C  \n",
       "2        0  STON/O2. 3101282   7.9250   NaN        S  \n",
       "3        0            113803  53.1000  C123        S  \n",
       "4        0            373450   8.0500   NaN        S  \n",
       "..     ...               ...      ...   ...      ...  \n",
       "886      0            211536  13.0000   NaN        S  \n",
       "887      0            112053  30.0000   B42        S  \n",
       "888      2        W./C. 6607  23.4500   NaN        S  \n",
       "889      0            111369  30.0000  C148        C  \n",
       "890      0            370376   7.7500   NaN        Q  \n",
       "\n",
       "[891 rows x 12 columns]"
      ]
     },
     "execution_count": 62,
     "metadata": {},
     "output_type": "execute_result"
    }
   ],
   "source": [
    "# If there's all the missng values then only remove that row\n",
    "file.dropna(how='all')"
   ]
  },
  {
   "cell_type": "code",
   "execution_count": 50,
   "metadata": {},
   "outputs": [
    {
     "data": {
      "text/plain": [
       "(891, 12)"
      ]
     },
     "execution_count": 50,
     "metadata": {},
     "output_type": "execute_result"
    }
   ],
   "source": [
    "file.dropna(how='all').shape"
   ]
  },
  {
   "cell_type": "code",
   "execution_count": 51,
   "metadata": {},
   "outputs": [
    {
     "data": {
      "text/html": [
       "<div>\n",
       "<style scoped>\n",
       "    .dataframe tbody tr th:only-of-type {\n",
       "        vertical-align: middle;\n",
       "    }\n",
       "\n",
       "    .dataframe tbody tr th {\n",
       "        vertical-align: top;\n",
       "    }\n",
       "\n",
       "    .dataframe thead th {\n",
       "        text-align: right;\n",
       "    }\n",
       "</style>\n",
       "<table border=\"1\" class=\"dataframe\">\n",
       "  <thead>\n",
       "    <tr style=\"text-align: right;\">\n",
       "      <th></th>\n",
       "      <th>PassengerId</th>\n",
       "      <th>Survived</th>\n",
       "      <th>Pclass</th>\n",
       "      <th>Name</th>\n",
       "      <th>Sex</th>\n",
       "      <th>SibSp</th>\n",
       "      <th>Parch</th>\n",
       "      <th>Ticket</th>\n",
       "      <th>Fare</th>\n",
       "    </tr>\n",
       "  </thead>\n",
       "  <tbody>\n",
       "    <tr>\n",
       "      <th>0</th>\n",
       "      <td>1</td>\n",
       "      <td>0</td>\n",
       "      <td>3</td>\n",
       "      <td>Braund, Mr. Owen Harris</td>\n",
       "      <td>male</td>\n",
       "      <td>1</td>\n",
       "      <td>0</td>\n",
       "      <td>A/5 21171</td>\n",
       "      <td>7.2500</td>\n",
       "    </tr>\n",
       "    <tr>\n",
       "      <th>1</th>\n",
       "      <td>2</td>\n",
       "      <td>1</td>\n",
       "      <td>1</td>\n",
       "      <td>Cumings, Mrs. John Bradley (Florence Briggs Th...</td>\n",
       "      <td>female</td>\n",
       "      <td>1</td>\n",
       "      <td>0</td>\n",
       "      <td>PC 17599</td>\n",
       "      <td>71.2833</td>\n",
       "    </tr>\n",
       "    <tr>\n",
       "      <th>2</th>\n",
       "      <td>3</td>\n",
       "      <td>1</td>\n",
       "      <td>3</td>\n",
       "      <td>Heikkinen, Miss. Laina</td>\n",
       "      <td>female</td>\n",
       "      <td>0</td>\n",
       "      <td>0</td>\n",
       "      <td>STON/O2. 3101282</td>\n",
       "      <td>7.9250</td>\n",
       "    </tr>\n",
       "    <tr>\n",
       "      <th>3</th>\n",
       "      <td>4</td>\n",
       "      <td>1</td>\n",
       "      <td>1</td>\n",
       "      <td>Futrelle, Mrs. Jacques Heath (Lily May Peel)</td>\n",
       "      <td>female</td>\n",
       "      <td>1</td>\n",
       "      <td>0</td>\n",
       "      <td>113803</td>\n",
       "      <td>53.1000</td>\n",
       "    </tr>\n",
       "    <tr>\n",
       "      <th>4</th>\n",
       "      <td>5</td>\n",
       "      <td>0</td>\n",
       "      <td>3</td>\n",
       "      <td>Allen, Mr. William Henry</td>\n",
       "      <td>male</td>\n",
       "      <td>0</td>\n",
       "      <td>0</td>\n",
       "      <td>373450</td>\n",
       "      <td>8.0500</td>\n",
       "    </tr>\n",
       "    <tr>\n",
       "      <th>...</th>\n",
       "      <td>...</td>\n",
       "      <td>...</td>\n",
       "      <td>...</td>\n",
       "      <td>...</td>\n",
       "      <td>...</td>\n",
       "      <td>...</td>\n",
       "      <td>...</td>\n",
       "      <td>...</td>\n",
       "      <td>...</td>\n",
       "    </tr>\n",
       "    <tr>\n",
       "      <th>886</th>\n",
       "      <td>887</td>\n",
       "      <td>0</td>\n",
       "      <td>2</td>\n",
       "      <td>Montvila, Rev. Juozas</td>\n",
       "      <td>male</td>\n",
       "      <td>0</td>\n",
       "      <td>0</td>\n",
       "      <td>211536</td>\n",
       "      <td>13.0000</td>\n",
       "    </tr>\n",
       "    <tr>\n",
       "      <th>887</th>\n",
       "      <td>888</td>\n",
       "      <td>1</td>\n",
       "      <td>1</td>\n",
       "      <td>Graham, Miss. Margaret Edith</td>\n",
       "      <td>female</td>\n",
       "      <td>0</td>\n",
       "      <td>0</td>\n",
       "      <td>112053</td>\n",
       "      <td>30.0000</td>\n",
       "    </tr>\n",
       "    <tr>\n",
       "      <th>888</th>\n",
       "      <td>889</td>\n",
       "      <td>0</td>\n",
       "      <td>3</td>\n",
       "      <td>Johnston, Miss. Catherine Helen \"Carrie\"</td>\n",
       "      <td>female</td>\n",
       "      <td>1</td>\n",
       "      <td>2</td>\n",
       "      <td>W./C. 6607</td>\n",
       "      <td>23.4500</td>\n",
       "    </tr>\n",
       "    <tr>\n",
       "      <th>889</th>\n",
       "      <td>890</td>\n",
       "      <td>1</td>\n",
       "      <td>1</td>\n",
       "      <td>Behr, Mr. Karl Howell</td>\n",
       "      <td>male</td>\n",
       "      <td>0</td>\n",
       "      <td>0</td>\n",
       "      <td>111369</td>\n",
       "      <td>30.0000</td>\n",
       "    </tr>\n",
       "    <tr>\n",
       "      <th>890</th>\n",
       "      <td>891</td>\n",
       "      <td>0</td>\n",
       "      <td>3</td>\n",
       "      <td>Dooley, Mr. Patrick</td>\n",
       "      <td>male</td>\n",
       "      <td>0</td>\n",
       "      <td>0</td>\n",
       "      <td>370376</td>\n",
       "      <td>7.7500</td>\n",
       "    </tr>\n",
       "  </tbody>\n",
       "</table>\n",
       "<p>891 rows × 9 columns</p>\n",
       "</div>"
      ],
      "text/plain": [
       "     PassengerId  Survived  Pclass  \\\n",
       "0              1         0       3   \n",
       "1              2         1       1   \n",
       "2              3         1       3   \n",
       "3              4         1       1   \n",
       "4              5         0       3   \n",
       "..           ...       ...     ...   \n",
       "886          887         0       2   \n",
       "887          888         1       1   \n",
       "888          889         0       3   \n",
       "889          890         1       1   \n",
       "890          891         0       3   \n",
       "\n",
       "                                                  Name     Sex  SibSp  Parch  \\\n",
       "0                              Braund, Mr. Owen Harris    male      1      0   \n",
       "1    Cumings, Mrs. John Bradley (Florence Briggs Th...  female      1      0   \n",
       "2                               Heikkinen, Miss. Laina  female      0      0   \n",
       "3         Futrelle, Mrs. Jacques Heath (Lily May Peel)  female      1      0   \n",
       "4                             Allen, Mr. William Henry    male      0      0   \n",
       "..                                                 ...     ...    ...    ...   \n",
       "886                              Montvila, Rev. Juozas    male      0      0   \n",
       "887                       Graham, Miss. Margaret Edith  female      0      0   \n",
       "888           Johnston, Miss. Catherine Helen \"Carrie\"  female      1      2   \n",
       "889                              Behr, Mr. Karl Howell    male      0      0   \n",
       "890                                Dooley, Mr. Patrick    male      0      0   \n",
       "\n",
       "               Ticket     Fare  \n",
       "0           A/5 21171   7.2500  \n",
       "1            PC 17599  71.2833  \n",
       "2    STON/O2. 3101282   7.9250  \n",
       "3              113803  53.1000  \n",
       "4              373450   8.0500  \n",
       "..                ...      ...  \n",
       "886            211536  13.0000  \n",
       "887            112053  30.0000  \n",
       "888        W./C. 6607  23.4500  \n",
       "889            111369  30.0000  \n",
       "890            370376   7.7500  \n",
       "\n",
       "[891 rows x 9 columns]"
      ]
     },
     "execution_count": 51,
     "metadata": {},
     "output_type": "execute_result"
    }
   ],
   "source": [
    "# dropping columns with any missing values\n",
    "file.dropna(axis=1)"
   ]
  },
  {
   "cell_type": "code",
   "execution_count": 52,
   "metadata": {},
   "outputs": [
    {
     "data": {
      "text/plain": [
       "(891, 9)"
      ]
     },
     "execution_count": 52,
     "metadata": {},
     "output_type": "execute_result"
    }
   ],
   "source": [
    "file.dropna(axis=1).shape"
   ]
  },
  {
   "cell_type": "code",
   "execution_count": 53,
   "metadata": {},
   "outputs": [
    {
     "data": {
      "text/plain": [
       "(891, 12)"
      ]
     },
     "execution_count": 53,
     "metadata": {},
     "output_type": "execute_result"
    }
   ],
   "source": [
    "# If there's all the missng values then only remove that column\n",
    "file.dropna(axis=1,how='all').shape"
   ]
  },
  {
   "cell_type": "code",
   "execution_count": 55,
   "metadata": {},
   "outputs": [
    {
     "data": {
      "text/html": [
       "<div>\n",
       "<style scoped>\n",
       "    .dataframe tbody tr th:only-of-type {\n",
       "        vertical-align: middle;\n",
       "    }\n",
       "\n",
       "    .dataframe tbody tr th {\n",
       "        vertical-align: top;\n",
       "    }\n",
       "\n",
       "    .dataframe thead th {\n",
       "        text-align: right;\n",
       "    }\n",
       "</style>\n",
       "<table border=\"1\" class=\"dataframe\">\n",
       "  <thead>\n",
       "    <tr style=\"text-align: right;\">\n",
       "      <th></th>\n",
       "      <th>PassengerId</th>\n",
       "      <th>Survived</th>\n",
       "      <th>Pclass</th>\n",
       "      <th>Name</th>\n",
       "      <th>Sex</th>\n",
       "      <th>Age</th>\n",
       "      <th>SibSp</th>\n",
       "      <th>Parch</th>\n",
       "      <th>Ticket</th>\n",
       "      <th>Fare</th>\n",
       "      <th>Cabin</th>\n",
       "      <th>Embarked</th>\n",
       "    </tr>\n",
       "  </thead>\n",
       "  <tbody>\n",
       "    <tr>\n",
       "      <th>0</th>\n",
       "      <td>1</td>\n",
       "      <td>0</td>\n",
       "      <td>3</td>\n",
       "      <td>Braund, Mr. Owen Harris</td>\n",
       "      <td>male</td>\n",
       "      <td>22.0</td>\n",
       "      <td>1</td>\n",
       "      <td>0</td>\n",
       "      <td>A/5 21171</td>\n",
       "      <td>7.2500</td>\n",
       "      <td>0</td>\n",
       "      <td>S</td>\n",
       "    </tr>\n",
       "    <tr>\n",
       "      <th>1</th>\n",
       "      <td>2</td>\n",
       "      <td>1</td>\n",
       "      <td>1</td>\n",
       "      <td>Cumings, Mrs. John Bradley (Florence Briggs Th...</td>\n",
       "      <td>female</td>\n",
       "      <td>38.0</td>\n",
       "      <td>1</td>\n",
       "      <td>0</td>\n",
       "      <td>PC 17599</td>\n",
       "      <td>71.2833</td>\n",
       "      <td>C85</td>\n",
       "      <td>C</td>\n",
       "    </tr>\n",
       "    <tr>\n",
       "      <th>2</th>\n",
       "      <td>3</td>\n",
       "      <td>1</td>\n",
       "      <td>3</td>\n",
       "      <td>Heikkinen, Miss. Laina</td>\n",
       "      <td>female</td>\n",
       "      <td>26.0</td>\n",
       "      <td>0</td>\n",
       "      <td>0</td>\n",
       "      <td>STON/O2. 3101282</td>\n",
       "      <td>7.9250</td>\n",
       "      <td>0</td>\n",
       "      <td>S</td>\n",
       "    </tr>\n",
       "    <tr>\n",
       "      <th>3</th>\n",
       "      <td>4</td>\n",
       "      <td>1</td>\n",
       "      <td>1</td>\n",
       "      <td>Futrelle, Mrs. Jacques Heath (Lily May Peel)</td>\n",
       "      <td>female</td>\n",
       "      <td>35.0</td>\n",
       "      <td>1</td>\n",
       "      <td>0</td>\n",
       "      <td>113803</td>\n",
       "      <td>53.1000</td>\n",
       "      <td>C123</td>\n",
       "      <td>S</td>\n",
       "    </tr>\n",
       "    <tr>\n",
       "      <th>4</th>\n",
       "      <td>5</td>\n",
       "      <td>0</td>\n",
       "      <td>3</td>\n",
       "      <td>Allen, Mr. William Henry</td>\n",
       "      <td>male</td>\n",
       "      <td>35.0</td>\n",
       "      <td>0</td>\n",
       "      <td>0</td>\n",
       "      <td>373450</td>\n",
       "      <td>8.0500</td>\n",
       "      <td>0</td>\n",
       "      <td>S</td>\n",
       "    </tr>\n",
       "    <tr>\n",
       "      <th>...</th>\n",
       "      <td>...</td>\n",
       "      <td>...</td>\n",
       "      <td>...</td>\n",
       "      <td>...</td>\n",
       "      <td>...</td>\n",
       "      <td>...</td>\n",
       "      <td>...</td>\n",
       "      <td>...</td>\n",
       "      <td>...</td>\n",
       "      <td>...</td>\n",
       "      <td>...</td>\n",
       "      <td>...</td>\n",
       "    </tr>\n",
       "    <tr>\n",
       "      <th>886</th>\n",
       "      <td>887</td>\n",
       "      <td>0</td>\n",
       "      <td>2</td>\n",
       "      <td>Montvila, Rev. Juozas</td>\n",
       "      <td>male</td>\n",
       "      <td>27.0</td>\n",
       "      <td>0</td>\n",
       "      <td>0</td>\n",
       "      <td>211536</td>\n",
       "      <td>13.0000</td>\n",
       "      <td>0</td>\n",
       "      <td>S</td>\n",
       "    </tr>\n",
       "    <tr>\n",
       "      <th>887</th>\n",
       "      <td>888</td>\n",
       "      <td>1</td>\n",
       "      <td>1</td>\n",
       "      <td>Graham, Miss. Margaret Edith</td>\n",
       "      <td>female</td>\n",
       "      <td>19.0</td>\n",
       "      <td>0</td>\n",
       "      <td>0</td>\n",
       "      <td>112053</td>\n",
       "      <td>30.0000</td>\n",
       "      <td>B42</td>\n",
       "      <td>S</td>\n",
       "    </tr>\n",
       "    <tr>\n",
       "      <th>888</th>\n",
       "      <td>889</td>\n",
       "      <td>0</td>\n",
       "      <td>3</td>\n",
       "      <td>Johnston, Miss. Catherine Helen \"Carrie\"</td>\n",
       "      <td>female</td>\n",
       "      <td>0.0</td>\n",
       "      <td>1</td>\n",
       "      <td>2</td>\n",
       "      <td>W./C. 6607</td>\n",
       "      <td>23.4500</td>\n",
       "      <td>0</td>\n",
       "      <td>S</td>\n",
       "    </tr>\n",
       "    <tr>\n",
       "      <th>889</th>\n",
       "      <td>890</td>\n",
       "      <td>1</td>\n",
       "      <td>1</td>\n",
       "      <td>Behr, Mr. Karl Howell</td>\n",
       "      <td>male</td>\n",
       "      <td>26.0</td>\n",
       "      <td>0</td>\n",
       "      <td>0</td>\n",
       "      <td>111369</td>\n",
       "      <td>30.0000</td>\n",
       "      <td>C148</td>\n",
       "      <td>C</td>\n",
       "    </tr>\n",
       "    <tr>\n",
       "      <th>890</th>\n",
       "      <td>891</td>\n",
       "      <td>0</td>\n",
       "      <td>3</td>\n",
       "      <td>Dooley, Mr. Patrick</td>\n",
       "      <td>male</td>\n",
       "      <td>32.0</td>\n",
       "      <td>0</td>\n",
       "      <td>0</td>\n",
       "      <td>370376</td>\n",
       "      <td>7.7500</td>\n",
       "      <td>0</td>\n",
       "      <td>Q</td>\n",
       "    </tr>\n",
       "  </tbody>\n",
       "</table>\n",
       "<p>891 rows × 12 columns</p>\n",
       "</div>"
      ],
      "text/plain": [
       "     PassengerId  Survived  Pclass  \\\n",
       "0              1         0       3   \n",
       "1              2         1       1   \n",
       "2              3         1       3   \n",
       "3              4         1       1   \n",
       "4              5         0       3   \n",
       "..           ...       ...     ...   \n",
       "886          887         0       2   \n",
       "887          888         1       1   \n",
       "888          889         0       3   \n",
       "889          890         1       1   \n",
       "890          891         0       3   \n",
       "\n",
       "                                                  Name     Sex   Age  SibSp  \\\n",
       "0                              Braund, Mr. Owen Harris    male  22.0      1   \n",
       "1    Cumings, Mrs. John Bradley (Florence Briggs Th...  female  38.0      1   \n",
       "2                               Heikkinen, Miss. Laina  female  26.0      0   \n",
       "3         Futrelle, Mrs. Jacques Heath (Lily May Peel)  female  35.0      1   \n",
       "4                             Allen, Mr. William Henry    male  35.0      0   \n",
       "..                                                 ...     ...   ...    ...   \n",
       "886                              Montvila, Rev. Juozas    male  27.0      0   \n",
       "887                       Graham, Miss. Margaret Edith  female  19.0      0   \n",
       "888           Johnston, Miss. Catherine Helen \"Carrie\"  female   0.0      1   \n",
       "889                              Behr, Mr. Karl Howell    male  26.0      0   \n",
       "890                                Dooley, Mr. Patrick    male  32.0      0   \n",
       "\n",
       "     Parch            Ticket     Fare Cabin Embarked  \n",
       "0        0         A/5 21171   7.2500     0        S  \n",
       "1        0          PC 17599  71.2833   C85        C  \n",
       "2        0  STON/O2. 3101282   7.9250     0        S  \n",
       "3        0            113803  53.1000  C123        S  \n",
       "4        0            373450   8.0500     0        S  \n",
       "..     ...               ...      ...   ...      ...  \n",
       "886      0            211536  13.0000     0        S  \n",
       "887      0            112053  30.0000   B42        S  \n",
       "888      2        W./C. 6607  23.4500     0        S  \n",
       "889      0            111369  30.0000  C148        C  \n",
       "890      0            370376   7.7500     0        Q  \n",
       "\n",
       "[891 rows x 12 columns]"
      ]
     },
     "execution_count": 55,
     "metadata": {},
     "output_type": "execute_result"
    }
   ],
   "source": [
    "#filling all the missing values in a dataframe with 0\n",
    "\n",
    "file.fillna(0)"
   ]
  },
  {
   "cell_type": "code",
   "execution_count": 57,
   "metadata": {},
   "outputs": [
    {
     "data": {
      "text/plain": [
       "0      22.0\n",
       "1      38.0\n",
       "2      26.0\n",
       "3      35.0\n",
       "4      35.0\n",
       "       ... \n",
       "886    27.0\n",
       "887    19.0\n",
       "888     0.0\n",
       "889    26.0\n",
       "890    32.0\n",
       "Name: Age, Length: 891, dtype: float64"
      ]
     },
     "execution_count": 57,
     "metadata": {},
     "output_type": "execute_result"
    }
   ],
   "source": [
    "file['Age'].fillna(0)"
   ]
  },
  {
   "cell_type": "code",
   "execution_count": 66,
   "metadata": {},
   "outputs": [
    {
     "data": {
      "text/plain": [
       "0      22.000000\n",
       "1      38.000000\n",
       "2      26.000000\n",
       "3      35.000000\n",
       "4      35.000000\n",
       "         ...    \n",
       "886    27.000000\n",
       "887    19.000000\n",
       "888    29.699118\n",
       "889    26.000000\n",
       "890    32.000000\n",
       "Name: Age, Length: 891, dtype: float64"
      ]
     },
     "execution_count": 66,
     "metadata": {},
     "output_type": "execute_result"
    }
   ],
   "source": [
    "# adding the mean values at the missing value on the age column\n",
    "file['Age'].fillna(file['Age'].mean())"
   ]
  },
  {
   "cell_type": "markdown",
   "metadata": {},
   "source": [
    "## Understanding Outlier Treatment"
   ]
  },
  {
   "cell_type": "markdown",
   "metadata": {},
   "source": [
    "Topic to be covered:\n",
    "1. Reason for Outliers\n",
    "2. Types of Outliers\n",
    "3. Identifying Outliers\n",
    "4. Different methods to deal with Outliers"
   ]
  },
  {
   "cell_type": "markdown",
   "metadata": {},
   "source": [
    "### Reason for Outliers\n",
    "* **Data Entry Errors** : Entering salary of a professional as 1000000 instead of 10000\n",
    "* **Measurement Error:** Mesuring some particular data in km instead of m\n",
    "* **Processing Errors**\n",
    "* **Change in the underlying population**\n",
    "\n"
   ]
  },
  {
   "cell_type": "markdown",
   "metadata": {},
   "source": [
    "### Types of Outliers\n",
    "\n",
    "* **Univariate Outliers**: single variable for the outlier, eg: any outlier on Height \n",
    "* **Bivariate Outliers**: We analyze two variables together for the outliers\n",
    "\n",
    "## Treating Outliers\n",
    "\n",
    "* **Deleting Observations**:\n",
    "* **Transforming and Binning Values**:\n",
    "* **Imputing Outliers like missing values**\n",
    "* **Treat them separately**\n",
    "\n"
   ]
  },
  {
   "cell_type": "markdown",
   "metadata": {},
   "source": [
    "# Outlier Treatment in Python\n"
   ]
  },
  {
   "cell_type": "code",
   "execution_count": 1,
   "metadata": {},
   "outputs": [],
   "source": [
    "import pandas as pd\n",
    "import matplotlib.pyplot as plt\n",
    "%matplotlib inline"
   ]
  },
  {
   "cell_type": "code",
   "execution_count": 4,
   "metadata": {},
   "outputs": [],
   "source": [
    "df = pd.read_csv('./iris/data.csv')"
   ]
  },
  {
   "cell_type": "code",
   "execution_count": 5,
   "metadata": {},
   "outputs": [
    {
     "data": {
      "text/html": [
       "<div>\n",
       "<style scoped>\n",
       "    .dataframe tbody tr th:only-of-type {\n",
       "        vertical-align: middle;\n",
       "    }\n",
       "\n",
       "    .dataframe tbody tr th {\n",
       "        vertical-align: top;\n",
       "    }\n",
       "\n",
       "    .dataframe thead th {\n",
       "        text-align: right;\n",
       "    }\n",
       "</style>\n",
       "<table border=\"1\" class=\"dataframe\">\n",
       "  <thead>\n",
       "    <tr style=\"text-align: right;\">\n",
       "      <th></th>\n",
       "      <th>PassengerId</th>\n",
       "      <th>Survived</th>\n",
       "      <th>Pclass</th>\n",
       "      <th>Name</th>\n",
       "      <th>Sex</th>\n",
       "      <th>Age</th>\n",
       "      <th>SibSp</th>\n",
       "      <th>Parch</th>\n",
       "      <th>Ticket</th>\n",
       "      <th>Fare</th>\n",
       "      <th>Cabin</th>\n",
       "      <th>Embarked</th>\n",
       "    </tr>\n",
       "  </thead>\n",
       "  <tbody>\n",
       "    <tr>\n",
       "      <th>0</th>\n",
       "      <td>1</td>\n",
       "      <td>0</td>\n",
       "      <td>3</td>\n",
       "      <td>Braund, Mr. Owen Harris</td>\n",
       "      <td>male</td>\n",
       "      <td>22.0</td>\n",
       "      <td>1</td>\n",
       "      <td>0</td>\n",
       "      <td>A/5 21171</td>\n",
       "      <td>7.2500</td>\n",
       "      <td>NaN</td>\n",
       "      <td>S</td>\n",
       "    </tr>\n",
       "    <tr>\n",
       "      <th>1</th>\n",
       "      <td>2</td>\n",
       "      <td>1</td>\n",
       "      <td>1</td>\n",
       "      <td>Cumings, Mrs. John Bradley (Florence Briggs Th...</td>\n",
       "      <td>female</td>\n",
       "      <td>38.0</td>\n",
       "      <td>1</td>\n",
       "      <td>0</td>\n",
       "      <td>PC 17599</td>\n",
       "      <td>71.2833</td>\n",
       "      <td>C85</td>\n",
       "      <td>C</td>\n",
       "    </tr>\n",
       "    <tr>\n",
       "      <th>2</th>\n",
       "      <td>3</td>\n",
       "      <td>1</td>\n",
       "      <td>3</td>\n",
       "      <td>Heikkinen, Miss. Laina</td>\n",
       "      <td>female</td>\n",
       "      <td>26.0</td>\n",
       "      <td>0</td>\n",
       "      <td>0</td>\n",
       "      <td>STON/O2. 3101282</td>\n",
       "      <td>7.9250</td>\n",
       "      <td>NaN</td>\n",
       "      <td>S</td>\n",
       "    </tr>\n",
       "    <tr>\n",
       "      <th>3</th>\n",
       "      <td>4</td>\n",
       "      <td>1</td>\n",
       "      <td>1</td>\n",
       "      <td>Futrelle, Mrs. Jacques Heath (Lily May Peel)</td>\n",
       "      <td>female</td>\n",
       "      <td>35.0</td>\n",
       "      <td>1</td>\n",
       "      <td>0</td>\n",
       "      <td>113803</td>\n",
       "      <td>53.1000</td>\n",
       "      <td>C123</td>\n",
       "      <td>S</td>\n",
       "    </tr>\n",
       "    <tr>\n",
       "      <th>4</th>\n",
       "      <td>5</td>\n",
       "      <td>0</td>\n",
       "      <td>3</td>\n",
       "      <td>Allen, Mr. William Henry</td>\n",
       "      <td>male</td>\n",
       "      <td>35.0</td>\n",
       "      <td>0</td>\n",
       "      <td>0</td>\n",
       "      <td>373450</td>\n",
       "      <td>8.0500</td>\n",
       "      <td>NaN</td>\n",
       "      <td>S</td>\n",
       "    </tr>\n",
       "  </tbody>\n",
       "</table>\n",
       "</div>"
      ],
      "text/plain": [
       "   PassengerId  Survived  Pclass  \\\n",
       "0            1         0       3   \n",
       "1            2         1       1   \n",
       "2            3         1       3   \n",
       "3            4         1       1   \n",
       "4            5         0       3   \n",
       "\n",
       "                                                Name     Sex   Age  SibSp  \\\n",
       "0                            Braund, Mr. Owen Harris    male  22.0      1   \n",
       "1  Cumings, Mrs. John Bradley (Florence Briggs Th...  female  38.0      1   \n",
       "2                             Heikkinen, Miss. Laina  female  26.0      0   \n",
       "3       Futrelle, Mrs. Jacques Heath (Lily May Peel)  female  35.0      1   \n",
       "4                           Allen, Mr. William Henry    male  35.0      0   \n",
       "\n",
       "   Parch            Ticket     Fare Cabin Embarked  \n",
       "0      0         A/5 21171   7.2500   NaN        S  \n",
       "1      0          PC 17599  71.2833   C85        C  \n",
       "2      0  STON/O2. 3101282   7.9250   NaN        S  \n",
       "3      0            113803  53.1000  C123        S  \n",
       "4      0            373450   8.0500   NaN        S  "
      ]
     },
     "execution_count": 5,
     "metadata": {},
     "output_type": "execute_result"
    }
   ],
   "source": [
    "df.head()"
   ]
  },
  {
   "cell_type": "markdown",
   "metadata": {},
   "source": [
    "# Univariate Outlier Detection"
   ]
  },
  {
   "cell_type": "code",
   "execution_count": 7,
   "metadata": {},
   "outputs": [
    {
     "data": {
      "text/plain": [
       "<matplotlib.axes._subplots.AxesSubplot at 0x7f2495d37780>"
      ]
     },
     "execution_count": 7,
     "metadata": {},
     "output_type": "execute_result"
    },
    {
     "data": {
      "image/png": "iVBORw0KGgoAAAANSUhEUgAAAXAAAAD4CAYAAAD1jb0+AAAABHNCSVQICAgIfAhkiAAAAAlwSFlzAAALEgAACxIB0t1+/AAAADh0RVh0U29mdHdhcmUAbWF0cGxvdGxpYiB2ZXJzaW9uMy4xLjEsIGh0dHA6Ly9tYXRwbG90bGliLm9yZy8QZhcZAAAQz0lEQVR4nO3dcYzXd33H8eeb6xlAnBR7ELQimpCKYlrtxak1yxBLSlwG28SVzOWynCGk282sSzY2khmz0OA/xOWyLiPidssc2qkNpBiR3tCFxFQPqRv1dDhta1OEsy2NUqt38N4f94XhcXDfu/v97seH3/ORkO/v+/l9f7/v6x9efPPh9/1+IjORJJVnXqsDSJJmxgKXpEJZ4JJUKAtckgplgUtSoW6ay5PdcsstuXLlyrk8pSQV79ixYz/JzK6J43Na4CtXrmRoaGguTylJxYuIpyYbdwpFkgplgUtSoSxwSSqUBS5JhbLAJalQtQo8Iv4sIp6IiBMRsS8i5kfEkog4HBEnq+3NzQ4rNdq+fftYs2YNHR0drFmzhn379rU6klTblAUeEa8D/hTozsw1QAdwL7AdGMzMVcBgtS8VY9++fezYsYP+/n5efvll+vv72bFjhyWuYtSdQrkJWBARNwELgWeBjcBA9f4AsKnx8aTm2blzJ3v37mXt2rV0dnaydu1a9u7dy86dO1sdTaol6jwPPCI+CuwEfg58JTP/ICLOZubiy455ITOvmEaJiK3AVoAVK1bc+dRTk/4eXZpzHR0dvPzyy3R2dl4aGx0dZf78+Zw/f76FyaRfFRHHMrN74nidKZSbGb/afiPwWuCVEfHhuifOzD2Z2Z2Z3V1dV9wJKrXM6tWrOXr06K+MHT16lNWrV7cokTQ9daZQ3g/8MDNHMnMU+CLwHuB0RCwHqLZnmhdTarwdO3bQ29vLkSNHGB0d5ciRI/T29rJjx45WR5NqqfMslKeBd0XEQsanUNYBQ8A5oAfYVW33Nyuk1AxbtmwBoK+vj+HhYVavXs3OnTsvjUvXu7pz4B8Hfh8YA44DHwEWAQ8BKxgv+c2Z+fy1vqe7uzt9mJUkTc/V5sBrPY0wMz8GfGzC8C8YvxqXJLWAd2JKUqEscEkqlAUuSYWywCWpUBa4JBXKApekQlngams+TlYlm9NV6aXrycXHye7du5f3vve9HD16lN7eXgDvxlQRat2J2SjeianryZo1a+jv72ft2rWXxo4cOUJfXx8nTpxoYTLpV13tTkwLXG3Lx8mqFDN+nKx0o/JxsiqdBa625eNkVTr/E1Nty8fJqnTOgUvSdc45cGkSfX19zJ8/n4hg/vz59PX1tTqSVJsFrrbV19fHgw8+yOLFi4kIFi9ezIMPPmiJqxhTTqFExG3A5y4behPwN8C/VOMrgSeBD2XmC9f6LqdQdD3p7Oyko6ODCxcuMDo6SmdnJ/PmzeP8+fOMjo62Op50yYynUDLze5l5R2beAdwJvAQ8DGwHBjNzFTBY7UvFGBsbY2xsjF27dnHu3Dl27dp1aUwqwXSnUNYB/5uZTwEbgYFqfADY1Mhg0lzYsGED999/PwsXLuT+++9nw4YNrY4k1TbdAr8XuPi0n2WZeQqg2i6d7AMRsTUihiJiaGRkZOZJpSY4ePAgu3fv5qWXXmL37t0cPHiw1ZGk2mr/jDAiXgE8C7w1M09HxNnMXHzZ+y9k5s3X+g7nwHU9uTjnnZmX5sAj4tKcuHS9aMTPCDcA38rM09X+6YhYXn35cuDM7GNKc2fbtm2MjY2xZMkSAJYsWcLY2Bjbtm1rcTKpnukU+Bb+f/oE4ADQU73uAfY3KpQ0F/r7+7nvvvs4e/YsAGfPnuW+++6jv7+/xcmkempNoUTEQuBHwJsy88Vq7DXAQ8AK4Glgc2Y+f63vcQpFkqbvalMotZ6FkpkvAa+ZMPYc479KkSS1gHdiSlKhLHC1NdfEVMl8nKzalmtiqnQ+TlZtyzUxVQofJytNMDw8zAMPPMC8efOICObNm8cDDzzA8PBwq6NJtVjgalsLFizg0UcfZdu2bZw9e5Zt27bx6KOPsmDBglZHk2qxwNW2zp07x6JFi9i8eTMLFy5k8+bNLFq0iHPnzrU6mlSLBa62tnv37kur8vT19bF79+5WR5Jqs8DVtiKC48ePc+LECc6fP8+JEyc4fvw4EdHqaFIt/gpFN6S5KuG5/Puj9uWvUNRWMrPWn/Xr118q+4hg/fr1tT9reavVLHC1tUOHDnHhwgXe8JePcOHCBQ4dOtTqSFJtFrgkFcoCl6RCWeCSVCgLXJIKVavAI2JxRHw+Ir4bEcMR8e6IWBIRhyPiZLW95oLGkqTGqnsF/nfAlzPzzcDtwDCwHRjMzFXAYLUvSZojUxZ4RPwa8BvAXoDM/GVmngU2AgPVYQPApmaFlCRdqc4V+JuAEeCfIuJ4RHwqIl4JLMvMUwDVdulkH46IrRExFBFDIyMjDQsuSe2uToHfBLwD+IfMfDtwjmlMl2Tmnszszszurq6uGcaUJE1Up8CfAZ7JzMeq/c8zXuinI2I5QLU905yIkqTJTFngmflj4EcRcVs1tA74DnAA6KnGeoD9TUkoSZpU3UWN+4DPRMQrgB8Af8R4+T8UEb3A08Dm5kSUJE2mVoFn5uPAFY8yZPxqXJLUAt6JKUmFssAlqVAWuCQVygKXpEJZ4JJUKAtckgplgUtSoSxwSSqUBS5JhbLAJalQFrgkFcoCl6RCWeCSVCgLXJIKZYFLUqEscEkqVK0FHSLiSeCnwHlgLDO7I2IJ8DlgJfAk8KHMfKE5MSVJE03nCnxtZt6RmRdX5tkODGbmKmCQaaxUL0mavdlMoWwEBqrXA8Cm2ceRJNVVt8AT+EpEHIuIrdXYssw8BVBtl072wYjYGhFDETE0MjIy+8SSJKD+qvR3ZeazEbEUOBwR3617gszcA+wB6O7uzhlklCRNotYVeGY+W23PAA8D7wROR8RygGp7plkhJUlXmrLAI+KVEfGqi6+B9cAJ4ADQUx3WA+xvVkhJ0pXqTKEsAx6OiIvH/1tmfjkivgk8FBG9wNPA5ubFlCRNNGWBZ+YPgNsnGX8OWNeMUJKkqXknpiQVygKXpEJZ4JJUKAtckgplgUtSoSxwSSqUBS5JhbLAJalQFrgkFcoCl6RCWeCSVCgLXJIKZYFLUqEscEkqlAUuSYWqXeAR0RERxyPikWp/SUQcjoiT1fbm5sWUJE00nSvwjwLDl+1vBwYzcxUwWO1LkuZIrQKPiFuBDwCfumx4IzBQvR4ANjU2miTpWupegX8S+AvgwmVjyzLzFEC1XdrgbJKka6izKv1vAWcy89hMThARWyNiKCKGRkZGZvIVkqRJ1LkCvwv47Yh4Evgs8L6I+FfgdEQsB6i2Zyb7cGbuyczuzOzu6upqUGxJ0pQFnpl/lZm3ZuZK4F7gPzLzw8ABoKc6rAfY37SUkqQrzOZ34LuAuyPiJHB3tS9JmiM3TefgzPwq8NXq9XPAusZHkiTVMa0Cl1rh9o9/hRd/Ptr086zcfrCp3//qBZ18+2Prm3oOtRcLXNe9F38+ypO7PtDqGLPW7H8g1H58FookFcoCl6RCWeCSVCgLXJIKZYFLUqEscEkqlAUuSYWywCWpUBa4JBXKApekQlngklQoC1ySCmWBS1KhLHBJKlSdRY3nR8Q3IuLbEfFERHy8Gl8SEYcj4mS1vbn5cSVJF9W5Av8F8L7MvB24A7gnIt4FbAcGM3MVMFjtS5LmSJ1FjTMzf1btdlZ/EtgIDFTjA8CmpiSUJE2q1hx4RHRExOPAGeBwZj4GLMvMUwDVdulVPrs1IoYiYmhkZKRRuSWp7dUq8Mw8n5l3ALcC74yINXVPkJl7MrM7M7u7urpmmlOSNMG0foWSmWcZX5X+HuB0RCwHqLZnGp5OknRVdX6F0hURi6vXC4D3A98FDgA91WE9wP5mhZQkXanOqvTLgYGI6GC88B/KzEci4uvAQxHRCzwNbG5iTknSBFMWeGb+F/D2ScafA9Y1I5R0uVet3s7bBsr/leqrVgN8oNUxdAOpcwUutdRPh3fx5K7yi2/l9oOtjqAbjLfSS1KhLHBJKpQFLkmFssAlqVAWuCQVygKXpEJZ4JJUKAtckgplgUtSoSxwSSqUBS5JhbLAJalQFrgkFcoCl6RCWeCSVKg6S6q9PiKORMRwRDwRER+txpdExOGIOFltb25+XEnSRXWuwMeAP8/M1cC7gD+OiLcA24HBzFwFDFb7kqQ5MmWBZ+apzPxW9fqnwDDwOmAjMFAdNgBsalZISdKVprWkWkSsZHx9zMeAZZl5CsZLPiKWXuUzW4GtACtWrJhNVrWxG2E5slcv6Gx1BN1gIjPrHRixCPgasDMzvxgRZzNz8WXvv5CZ15wH7+7uzqGhoVkFlpph5faDN8S6m7oxRcSxzOyeOF7rVygR0Ql8AfhMZn6xGj4dEcur95cDZxoVVpI0tTq/QglgLzCcmbsve+sA0FO97gH2Nz6eJOlq6syB3wX8IfDfEfF4NfbXwC7goYjoBZ4GNjcnoiRpMlMWeGYeBeIqb69rbBxJUl3eiSlJhbLAJalQFrgkFcoCl6RCWeCSVCgLXJIKZYFLUqEscEkqlAUuSYWywCWpUBa4JBXKApekQlngklQoC1ySCmWBS1KhLHBJKlSdJdU+HRFnIuLEZWNLIuJwRJysttdczFiS1Hh1rsD/Gbhnwth2YDAzVwGD1b4kaQ5NWeCZ+Z/A8xOGNwID1esBYFODc0mSpjDTOfBlmXkKoNouvdqBEbE1IoYiYmhkZGSGp5MkTdT0/8TMzD2Z2Z2Z3V1dXc0+nSS1jZkW+OmIWA5Qbc80LpIkqY6ZFvgBoKd63QPsb0wcSVJddX5GuA/4OnBbRDwTEb3ALuDuiDgJ3F3tS5Lm0E1THZCZW67y1roGZ5EkTYN3YkpSoSxwSSqUBS5JhbLAJalQFrgkFcoCl6RCWeCSVCgLXJIKZYFLUqEscEkqlAUuSYWywCWpUBa4JBXKApekQlngklQoC1ySCjWrAo+IeyLiexHx/YjY3qhQkqSpzbjAI6ID+HtgA/AWYEtEvKVRwSRJ1zblkmrX8E7g+5n5A4CI+CywEfhOI4JJsxER0//MJ6Z/nsyc/oekBplNgb8O+NFl+88Avz7xoIjYCmwFWLFixSxOJ9VnsaodzGYOfLJLnCv+1mTmnszszszurq6uWZxOknS52RT4M8DrL9u/FXh2dnEkSXXNpsC/CayKiDdGxCuAe4EDjYklSZrKjOfAM3MsIv4EOAR0AJ/OzCcalkySdE2z+U9MMvNLwJcalEWSNA3eiSlJhbLAJalQFrgkFSrm8oaHiBgBnpqzE0r13QL8pNUhpKt4Q2ZecSPNnBa4dL2KiKHM7G51Dmk6nEKRpEJZ4JJUKAtcGren1QGk6XIOXJIK5RW4JBXKApekQlngahsR8TsRkRHx5lZnkRrBAlc72QIcZfzRx1LxLHC1hYhYBNwF9FIVeETMi4gHI+KJiHgkIr4UER+s3rszIr4WEcci4lBELG9hfGlSFrjaxSbgy5n5P8DzEfEO4HeBlcDbgI8A7waIiE6gH/hgZt4JfBrY2YrQ0rXM6nngUkG2AJ+sXn+22u8E/j0zLwA/jogj1fu3AWuAw9Xq9h3AqbmNK03NAtcNLyJeA7wPWBMRyXghJ/Dw1T4CPJGZ756jiNKMOIWidvBB4F8y8w2ZuTIzXw/8kPGnD/5eNRe+DPjN6vjvAV0RcWlKJSLe2org0rVY4GoHW7jyavsLwGuBZ4ATwD8CjwEvZuYvGS/9T0TEt4HHgffMXVypHm+lV1uLiEWZ+bNqmuUbwF2Z+eNW55LqcA5c7e6RiFgMvAL4W8tbJfEKXJIK5Ry4JBXKApekQlngklQoC1ySCmWBS1Kh/g9O7BtQER/M7QAAAABJRU5ErkJggg==\n",
      "text/plain": [
       "<Figure size 432x288 with 1 Axes>"
      ]
     },
     "metadata": {
      "needs_background": "light"
     },
     "output_type": "display_data"
    }
   ],
   "source": [
    "df['Age'].plot.box()"
   ]
  },
  {
   "cell_type": "markdown",
   "metadata": {},
   "source": [
    "# Bivariate Outlier Detection"
   ]
  },
  {
   "cell_type": "code",
   "execution_count": 8,
   "metadata": {},
   "outputs": [
    {
     "data": {
      "text/plain": [
       "<matplotlib.axes._subplots.AxesSubplot at 0x7f2493c138d0>"
      ]
     },
     "execution_count": 8,
     "metadata": {},
     "output_type": "execute_result"
    },
    {
     "data": {
      "image/png": "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\n",
      "text/plain": [
       "<Figure size 432x288 with 1 Axes>"
      ]
     },
     "metadata": {
      "needs_background": "light"
     },
     "output_type": "display_data"
    }
   ],
   "source": [
    "df.plot.scatter('Age','Fare')"
   ]
  },
  {
   "cell_type": "markdown",
   "metadata": {},
   "source": [
    "## Removing Outliers from the dataset"
   ]
  },
  {
   "cell_type": "code",
   "execution_count": 11,
   "metadata": {},
   "outputs": [],
   "source": [
    "df=df[df['Fare']<300]"
   ]
  },
  {
   "cell_type": "code",
   "execution_count": 12,
   "metadata": {},
   "outputs": [
    {
     "data": {
      "text/plain": [
       "<matplotlib.axes._subplots.AxesSubplot at 0x7f2493b8a710>"
      ]
     },
     "execution_count": 12,
     "metadata": {},
     "output_type": "execute_result"
    },
    {
     "data": {
      "image/png": "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\n",
      "text/plain": [
       "<Figure size 432x288 with 1 Axes>"
      ]
     },
     "metadata": {
      "needs_background": "light"
     },
     "output_type": "display_data"
    }
   ],
   "source": [
    "df.plot.scatter('Age','Fare')"
   ]
  },
  {
   "cell_type": "markdown",
   "metadata": {},
   "source": [
    "## Replacing outliers in age with the mean age value"
   ]
  },
  {
   "cell_type": "code",
   "execution_count": 14,
   "metadata": {},
   "outputs": [],
   "source": [
    "import numpy as np\n",
    "df.loc[df['Age']>65,'Age'] = np.mean(df['Age'])"
   ]
  },
  {
   "cell_type": "code",
   "execution_count": 16,
   "metadata": {},
   "outputs": [
    {
     "data": {
      "text/plain": [
       "<matplotlib.axes._subplots.AxesSubplot at 0x7f2493ad8cc0>"
      ]
     },
     "execution_count": 16,
     "metadata": {},
     "output_type": "execute_result"
    },
    {
     "data": {
      "image/png": "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\n",
      "text/plain": [
       "<Figure size 432x288 with 1 Axes>"
      ]
     },
     "metadata": {
      "needs_background": "light"
     },
     "output_type": "display_data"
    }
   ],
   "source": [
    "df['Age'].plot.box()"
   ]
  },
  {
   "cell_type": "markdown",
   "metadata": {},
   "source": [
    "# Understanding Variable Transformation"
   ]
  },
  {
   "cell_type": "markdown",
   "metadata": {},
   "source": [
    "### What is Variable Transformation?\n",
    "Variable transformation is the process which,\n",
    "1. We repalace a variable with some function of that variable. Exmple: replacing variable x with its logarithm\n",
    "2. We change the distribution or relation of avariable with others"
   ]
  },
  {
   "cell_type": "markdown",
   "metadata": {},
   "source": [
    "### Why do we use variable transformation?\n",
    "1. When we want to change the scale of the variable: for example - Let's suppose you have **11 variables** in the dataset in which, if we have **10 variables** area measured in **km** and **1** in **miles.**, this difference of scale can cause accurate **prediction**, so we convert back **1 miles into km** using variable transformation method.\n",
    "2. When you want to convert no-linear relationship into linear relationship.\n",
    "3. Helps in converting skewed distribution into symmetric distribution.\n",
    "4. Why do we create Symmetric distributions? \n",
    "> It's coz symmetric distribution are easy to interpretate, 2. normaly distributed errors\n",
    "\n",
    "### Common methods of variable transformation?\n",
    "1. **Logarithm**: Taking log of the variable reduces right skewedness of the variable.\n",
    "2. **Square root** - used for right skewed variable with positive values only, i.e **doesn't work for negative values.**\n",
    "3. **Cube Root**: Used for right skewed variable with positive or negative values.\n",
    "4. **Binning**: Used for converting continuous variables to categorical variables.\n"
   ]
  },
  {
   "cell_type": "markdown",
   "metadata": {},
   "source": [
    "# Variable Transformation in Python"
   ]
  },
  {
   "cell_type": "code",
   "execution_count": 1,
   "metadata": {},
   "outputs": [],
   "source": [
    "import pandas as pd\n",
    "import matplotlib.pyplot as plt\n",
    "%matplotlib inline"
   ]
  },
  {
   "cell_type": "code",
   "execution_count": 2,
   "metadata": {},
   "outputs": [],
   "source": [
    "df = pd.read_csv('./iris/data.csv')"
   ]
  },
  {
   "cell_type": "code",
   "execution_count": 3,
   "metadata": {},
   "outputs": [
    {
     "data": {
      "text/html": [
       "<div>\n",
       "<style scoped>\n",
       "    .dataframe tbody tr th:only-of-type {\n",
       "        vertical-align: middle;\n",
       "    }\n",
       "\n",
       "    .dataframe tbody tr th {\n",
       "        vertical-align: top;\n",
       "    }\n",
       "\n",
       "    .dataframe thead th {\n",
       "        text-align: right;\n",
       "    }\n",
       "</style>\n",
       "<table border=\"1\" class=\"dataframe\">\n",
       "  <thead>\n",
       "    <tr style=\"text-align: right;\">\n",
       "      <th></th>\n",
       "      <th>PassengerId</th>\n",
       "      <th>Survived</th>\n",
       "      <th>Pclass</th>\n",
       "      <th>Name</th>\n",
       "      <th>Sex</th>\n",
       "      <th>Age</th>\n",
       "      <th>SibSp</th>\n",
       "      <th>Parch</th>\n",
       "      <th>Ticket</th>\n",
       "      <th>Fare</th>\n",
       "      <th>Cabin</th>\n",
       "      <th>Embarked</th>\n",
       "    </tr>\n",
       "  </thead>\n",
       "  <tbody>\n",
       "    <tr>\n",
       "      <th>0</th>\n",
       "      <td>1</td>\n",
       "      <td>0</td>\n",
       "      <td>3</td>\n",
       "      <td>Braund, Mr. Owen Harris</td>\n",
       "      <td>male</td>\n",
       "      <td>22.0</td>\n",
       "      <td>1</td>\n",
       "      <td>0</td>\n",
       "      <td>A/5 21171</td>\n",
       "      <td>7.2500</td>\n",
       "      <td>NaN</td>\n",
       "      <td>S</td>\n",
       "    </tr>\n",
       "    <tr>\n",
       "      <th>1</th>\n",
       "      <td>2</td>\n",
       "      <td>1</td>\n",
       "      <td>1</td>\n",
       "      <td>Cumings, Mrs. John Bradley (Florence Briggs Th...</td>\n",
       "      <td>female</td>\n",
       "      <td>38.0</td>\n",
       "      <td>1</td>\n",
       "      <td>0</td>\n",
       "      <td>PC 17599</td>\n",
       "      <td>71.2833</td>\n",
       "      <td>C85</td>\n",
       "      <td>C</td>\n",
       "    </tr>\n",
       "    <tr>\n",
       "      <th>2</th>\n",
       "      <td>3</td>\n",
       "      <td>1</td>\n",
       "      <td>3</td>\n",
       "      <td>Heikkinen, Miss. Laina</td>\n",
       "      <td>female</td>\n",
       "      <td>26.0</td>\n",
       "      <td>0</td>\n",
       "      <td>0</td>\n",
       "      <td>STON/O2. 3101282</td>\n",
       "      <td>7.9250</td>\n",
       "      <td>NaN</td>\n",
       "      <td>S</td>\n",
       "    </tr>\n",
       "    <tr>\n",
       "      <th>3</th>\n",
       "      <td>4</td>\n",
       "      <td>1</td>\n",
       "      <td>1</td>\n",
       "      <td>Futrelle, Mrs. Jacques Heath (Lily May Peel)</td>\n",
       "      <td>female</td>\n",
       "      <td>35.0</td>\n",
       "      <td>1</td>\n",
       "      <td>0</td>\n",
       "      <td>113803</td>\n",
       "      <td>53.1000</td>\n",
       "      <td>C123</td>\n",
       "      <td>S</td>\n",
       "    </tr>\n",
       "    <tr>\n",
       "      <th>4</th>\n",
       "      <td>5</td>\n",
       "      <td>0</td>\n",
       "      <td>3</td>\n",
       "      <td>Allen, Mr. William Henry</td>\n",
       "      <td>male</td>\n",
       "      <td>35.0</td>\n",
       "      <td>0</td>\n",
       "      <td>0</td>\n",
       "      <td>373450</td>\n",
       "      <td>8.0500</td>\n",
       "      <td>NaN</td>\n",
       "      <td>S</td>\n",
       "    </tr>\n",
       "  </tbody>\n",
       "</table>\n",
       "</div>"
      ],
      "text/plain": [
       "   PassengerId  Survived  Pclass  \\\n",
       "0            1         0       3   \n",
       "1            2         1       1   \n",
       "2            3         1       3   \n",
       "3            4         1       1   \n",
       "4            5         0       3   \n",
       "\n",
       "                                                Name     Sex   Age  SibSp  \\\n",
       "0                            Braund, Mr. Owen Harris    male  22.0      1   \n",
       "1  Cumings, Mrs. John Bradley (Florence Briggs Th...  female  38.0      1   \n",
       "2                             Heikkinen, Miss. Laina  female  26.0      0   \n",
       "3       Futrelle, Mrs. Jacques Heath (Lily May Peel)  female  35.0      1   \n",
       "4                           Allen, Mr. William Henry    male  35.0      0   \n",
       "\n",
       "   Parch            Ticket     Fare Cabin Embarked  \n",
       "0      0         A/5 21171   7.2500   NaN        S  \n",
       "1      0          PC 17599  71.2833   C85        C  \n",
       "2      0  STON/O2. 3101282   7.9250   NaN        S  \n",
       "3      0            113803  53.1000  C123        S  \n",
       "4      0            373450   8.0500   NaN        S  "
      ]
     },
     "execution_count": 3,
     "metadata": {},
     "output_type": "execute_result"
    }
   ],
   "source": [
    "df.head()"
   ]
  },
  {
   "cell_type": "code",
   "execution_count": 4,
   "metadata": {},
   "outputs": [
    {
     "data": {
      "text/plain": [
       "<matplotlib.axes._subplots.AxesSubplot at 0x7fb9d7057940>"
      ]
     },
     "execution_count": 4,
     "metadata": {},
     "output_type": "execute_result"
    },
    {
     "data": {
      "image/png": "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\n",
      "text/plain": [
       "<Figure size 432x288 with 1 Axes>"
      ]
     },
     "metadata": {
      "needs_background": "light"
     },
     "output_type": "display_data"
    }
   ],
   "source": [
    "df['Age'].plot.hist()"
   ]
  },
  {
   "cell_type": "code",
   "execution_count": 5,
   "metadata": {},
   "outputs": [],
   "source": [
    "import numpy as np"
   ]
  },
  {
   "cell_type": "code",
   "execution_count": 6,
   "metadata": {},
   "outputs": [
    {
     "data": {
      "text/plain": [
       "<matplotlib.axes._subplots.AxesSubplot at 0x7fb9d4fb9780>"
      ]
     },
     "execution_count": 6,
     "metadata": {},
     "output_type": "execute_result"
    },
    {
     "data": {
      "image/png": "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\n",
      "text/plain": [
       "<Figure size 432x288 with 1 Axes>"
      ]
     },
     "metadata": {
      "needs_background": "light"
     },
     "output_type": "display_data"
    }
   ],
   "source": [
    "np.log(df['Age']).plot.hist()"
   ]
  },
  {
   "cell_type": "code",
   "execution_count": 7,
   "metadata": {},
   "outputs": [
    {
     "data": {
      "text/plain": [
       "<matplotlib.axes._subplots.AxesSubplot at 0x7fb9d4ed4e10>"
      ]
     },
     "execution_count": 7,
     "metadata": {},
     "output_type": "execute_result"
    },
    {
     "data": {
      "image/png": "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\n",
      "text/plain": [
       "<Figure size 432x288 with 1 Axes>"
      ]
     },
     "metadata": {
      "needs_background": "light"
     },
     "output_type": "display_data"
    }
   ],
   "source": [
    "np.sqrt(df['Age']).plot.hist()"
   ]
  },
  {
   "cell_type": "code",
   "execution_count": 8,
   "metadata": {},
   "outputs": [
    {
     "data": {
      "text/plain": [
       "<matplotlib.axes._subplots.AxesSubplot at 0x7fb9d4ec5cf8>"
      ]
     },
     "execution_count": 8,
     "metadata": {},
     "output_type": "execute_result"
    },
    {
     "data": {
      "image/png": "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\n",
      "text/plain": [
       "<Figure size 432x288 with 1 Axes>"
      ]
     },
     "metadata": {
      "needs_background": "light"
     },
     "output_type": "display_data"
    }
   ],
   "source": [
    "np.power(df['Age'],1/3).plot.hist()"
   ]
  },
  {
   "cell_type": "code",
   "execution_count": 9,
   "metadata": {},
   "outputs": [
    {
     "data": {
      "text/plain": [
       "<matplotlib.axes._subplots.AxesSubplot at 0x7fb9d4e3d240>"
      ]
     },
     "execution_count": 9,
     "metadata": {},
     "output_type": "execute_result"
    },
    {
     "data": {
      "image/png": "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\n",
      "text/plain": [
       "<Figure size 432x288 with 1 Axes>"
      ]
     },
     "metadata": {
      "needs_background": "light"
     },
     "output_type": "display_data"
    }
   ],
   "source": [
    "# In the above histogram, sqrt turns to be better option for the symmetric, so will use that.\n",
    "\n",
    "np.sqrt(df['Age']).plot.hist()\n"
   ]
  },
  {
   "cell_type": "markdown",
   "metadata": {},
   "source": [
    "## Binning"
   ]
  },
  {
   "cell_type": "code",
   "execution_count": 17,
   "metadata": {},
   "outputs": [],
   "source": [
    "#0-15 is one group that is childrens\n",
    "#15-80 is another group that is Adults\n",
    "bins=[0,15,80]\n",
    "group=['children','Adult']"
   ]
  },
  {
   "cell_type": "code",
   "execution_count": 18,
   "metadata": {},
   "outputs": [],
   "source": [
    "df['type'] = pd.cut(df['Age'],bins,labels=group)"
   ]
  },
  {
   "cell_type": "code",
   "execution_count": 19,
   "metadata": {},
   "outputs": [
    {
     "data": {
      "text/html": [
       "<div>\n",
       "<style scoped>\n",
       "    .dataframe tbody tr th:only-of-type {\n",
       "        vertical-align: middle;\n",
       "    }\n",
       "\n",
       "    .dataframe tbody tr th {\n",
       "        vertical-align: top;\n",
       "    }\n",
       "\n",
       "    .dataframe thead th {\n",
       "        text-align: right;\n",
       "    }\n",
       "</style>\n",
       "<table border=\"1\" class=\"dataframe\">\n",
       "  <thead>\n",
       "    <tr style=\"text-align: right;\">\n",
       "      <th></th>\n",
       "      <th>PassengerId</th>\n",
       "      <th>Survived</th>\n",
       "      <th>Pclass</th>\n",
       "      <th>Name</th>\n",
       "      <th>Sex</th>\n",
       "      <th>Age</th>\n",
       "      <th>SibSp</th>\n",
       "      <th>Parch</th>\n",
       "      <th>Ticket</th>\n",
       "      <th>Fare</th>\n",
       "      <th>Cabin</th>\n",
       "      <th>Embarked</th>\n",
       "      <th>type</th>\n",
       "    </tr>\n",
       "  </thead>\n",
       "  <tbody>\n",
       "    <tr>\n",
       "      <th>0</th>\n",
       "      <td>1</td>\n",
       "      <td>0</td>\n",
       "      <td>3</td>\n",
       "      <td>Braund, Mr. Owen Harris</td>\n",
       "      <td>male</td>\n",
       "      <td>22.0</td>\n",
       "      <td>1</td>\n",
       "      <td>0</td>\n",
       "      <td>A/5 21171</td>\n",
       "      <td>7.2500</td>\n",
       "      <td>NaN</td>\n",
       "      <td>S</td>\n",
       "      <td>Adult</td>\n",
       "    </tr>\n",
       "    <tr>\n",
       "      <th>1</th>\n",
       "      <td>2</td>\n",
       "      <td>1</td>\n",
       "      <td>1</td>\n",
       "      <td>Cumings, Mrs. John Bradley (Florence Briggs Th...</td>\n",
       "      <td>female</td>\n",
       "      <td>38.0</td>\n",
       "      <td>1</td>\n",
       "      <td>0</td>\n",
       "      <td>PC 17599</td>\n",
       "      <td>71.2833</td>\n",
       "      <td>C85</td>\n",
       "      <td>C</td>\n",
       "      <td>Adult</td>\n",
       "    </tr>\n",
       "    <tr>\n",
       "      <th>2</th>\n",
       "      <td>3</td>\n",
       "      <td>1</td>\n",
       "      <td>3</td>\n",
       "      <td>Heikkinen, Miss. Laina</td>\n",
       "      <td>female</td>\n",
       "      <td>26.0</td>\n",
       "      <td>0</td>\n",
       "      <td>0</td>\n",
       "      <td>STON/O2. 3101282</td>\n",
       "      <td>7.9250</td>\n",
       "      <td>NaN</td>\n",
       "      <td>S</td>\n",
       "      <td>Adult</td>\n",
       "    </tr>\n",
       "    <tr>\n",
       "      <th>3</th>\n",
       "      <td>4</td>\n",
       "      <td>1</td>\n",
       "      <td>1</td>\n",
       "      <td>Futrelle, Mrs. Jacques Heath (Lily May Peel)</td>\n",
       "      <td>female</td>\n",
       "      <td>35.0</td>\n",
       "      <td>1</td>\n",
       "      <td>0</td>\n",
       "      <td>113803</td>\n",
       "      <td>53.1000</td>\n",
       "      <td>C123</td>\n",
       "      <td>S</td>\n",
       "      <td>Adult</td>\n",
       "    </tr>\n",
       "    <tr>\n",
       "      <th>4</th>\n",
       "      <td>5</td>\n",
       "      <td>0</td>\n",
       "      <td>3</td>\n",
       "      <td>Allen, Mr. William Henry</td>\n",
       "      <td>male</td>\n",
       "      <td>35.0</td>\n",
       "      <td>0</td>\n",
       "      <td>0</td>\n",
       "      <td>373450</td>\n",
       "      <td>8.0500</td>\n",
       "      <td>NaN</td>\n",
       "      <td>S</td>\n",
       "      <td>Adult</td>\n",
       "    </tr>\n",
       "  </tbody>\n",
       "</table>\n",
       "</div>"
      ],
      "text/plain": [
       "   PassengerId  Survived  Pclass  \\\n",
       "0            1         0       3   \n",
       "1            2         1       1   \n",
       "2            3         1       3   \n",
       "3            4         1       1   \n",
       "4            5         0       3   \n",
       "\n",
       "                                                Name     Sex   Age  SibSp  \\\n",
       "0                            Braund, Mr. Owen Harris    male  22.0      1   \n",
       "1  Cumings, Mrs. John Bradley (Florence Briggs Th...  female  38.0      1   \n",
       "2                             Heikkinen, Miss. Laina  female  26.0      0   \n",
       "3       Futrelle, Mrs. Jacques Heath (Lily May Peel)  female  35.0      1   \n",
       "4                           Allen, Mr. William Henry    male  35.0      0   \n",
       "\n",
       "   Parch            Ticket     Fare Cabin Embarked   type  \n",
       "0      0         A/5 21171   7.2500   NaN        S  Adult  \n",
       "1      0          PC 17599  71.2833   C85        C  Adult  \n",
       "2      0  STON/O2. 3101282   7.9250   NaN        S  Adult  \n",
       "3      0            113803  53.1000  C123        S  Adult  \n",
       "4      0            373450   8.0500   NaN        S  Adult  "
      ]
     },
     "execution_count": 19,
     "metadata": {},
     "output_type": "execute_result"
    }
   ],
   "source": [
    "df.head()"
   ]
  },
  {
   "cell_type": "code",
   "execution_count": 20,
   "metadata": {},
   "outputs": [
    {
     "data": {
      "text/plain": [
       "Adult       631\n",
       "children     83\n",
       "Name: type, dtype: int64"
      ]
     },
     "execution_count": 20,
     "metadata": {},
     "output_type": "execute_result"
    }
   ],
   "source": [
    "df['type'].value_counts()"
   ]
  },
  {
   "cell_type": "markdown",
   "metadata": {},
   "source": [
    "# Basics of Model Building"
   ]
  },
  {
   "cell_type": "markdown",
   "metadata": {},
   "source": [
    "**Model Building** : It's a process of creating mathematical model, which can learn from past data, and make prediction of future, as best as possible."
   ]
  },
  {
   "cell_type": "markdown",
   "metadata": {},
   "source": [
    "Example: A retail bank wants to know the default behaviour of its credit card customers. They want to predict the **probability** of default for each customer with in next 3 months.\n",
    "1. So, the company is interested in knowing the probability then the default would lie between 0 and 1 (**Probablity of default would lie b/w 0 and 1)\n",
    "2. Assume every customer has a 10% default rate initially.\n",
    "3. Probability of default for each customer in next 3 months =0.1\n",
    "\n",
    "Now, what these **\"Predctive Models do\"** ?\n",
    "It moves the Probability towards one of the two extremes based on attributes from past information.\n",
    "* A customer with volatile income is more likely (closer to 1) to default.\n",
    "* A Customer with healthy credit history for last 10 years has low chances of default (closer to 0)\n",
    "\n",
    "# Steps of Model Building\n",
    "### Algorithm Selection\n",
    "1) Supervised Learning or Unsupervised Learning\n",
    "2) Regression or Classification\n",
    "### Training Model\n",
    "**It's a process to learn relationship/correlation between independent and dependent variables**\n",
    "Credit Limit is dependent on Age\n",
    "> **Age:** Independent Variable\n",
    "> **Credit Limit:** Dependent Variable\n",
    "y= 1.4904x-16.838\n",
    "y= Credit Limit\n",
    "x= Age | \n",
    "> **This equation is used to predict / estimate dependent variable to test data set**\n",
    "\n",
    "#### DataSet\n",
    "* Train:Using the train dataset, we train our model or learn the relationship b/w indepedent and dependent variables, **It represent the past data**, \n",
    "\n",
    "* Test: In this dataset we don't have dependent variable and used to make predictions, it also represents the future data was dependent variables are unknown.\n",
    "\n",
    "\n",
    "### Prediction / Scoring: \n",
    "**Making the predicition based on the train model, will score the model based to check the quality of the model build.**\n",
    "* We use the learnt  relationship to make predictions on the test data. \n",
    "y= 1.4904x-16.838\n",
    "*in place of x (Age) you can you provide certain value and predict the credit limit*\n",
    "> Age = 40; Y= 1.4908(40)-16.838 = 42.794\n",
    "> Age = 50; Y= 1.4908(50)-16.838 = 57.702\n",
    "\n",
    "Note: We make prediction of Test data set, not on the training dataset, to check the quality of our model, as making prediction on train data set may provide inaccurate and overly optimistic results.\n"
   ]
  },
  {
   "cell_type": "markdown",
   "metadata": {},
   "source": [
    "# Data Manipulation and Visulization\n",
    "\n",
    "\n"
   ]
  },
  {
   "cell_type": "code",
   "execution_count": 50,
   "metadata": {},
   "outputs": [
    {
     "data": {
      "text/html": [
       "<div>\n",
       "<style scoped>\n",
       "    .dataframe tbody tr th:only-of-type {\n",
       "        vertical-align: middle;\n",
       "    }\n",
       "\n",
       "    .dataframe tbody tr th {\n",
       "        vertical-align: top;\n",
       "    }\n",
       "\n",
       "    .dataframe thead th {\n",
       "        text-align: right;\n",
       "    }\n",
       "</style>\n",
       "<table border=\"1\" class=\"dataframe\">\n",
       "  <thead>\n",
       "    <tr style=\"text-align: right;\">\n",
       "      <th></th>\n",
       "      <th>Item_Identifier</th>\n",
       "      <th>Item_Weight</th>\n",
       "      <th>Item_Fat_Content</th>\n",
       "      <th>Item_Visibility</th>\n",
       "      <th>Item_Type</th>\n",
       "      <th>Item_MRP</th>\n",
       "      <th>Outlet_Identifier</th>\n",
       "      <th>Outlet_Establishment_Year</th>\n",
       "      <th>Outlet_Size</th>\n",
       "      <th>Outlet_Location_Type</th>\n",
       "      <th>Outlet_Type</th>\n",
       "      <th>Item_Outlet_Sales</th>\n",
       "    </tr>\n",
       "  </thead>\n",
       "  <tbody>\n",
       "    <tr>\n",
       "      <th>0</th>\n",
       "      <td>FDA15</td>\n",
       "      <td>9.300</td>\n",
       "      <td>Low Fat</td>\n",
       "      <td>0.016047</td>\n",
       "      <td>Dairy</td>\n",
       "      <td>249.8092</td>\n",
       "      <td>OUT049</td>\n",
       "      <td>1999</td>\n",
       "      <td>Medium</td>\n",
       "      <td>Tier 1</td>\n",
       "      <td>Supermarket Type1</td>\n",
       "      <td>3735.1380</td>\n",
       "    </tr>\n",
       "    <tr>\n",
       "      <th>1</th>\n",
       "      <td>DRC01</td>\n",
       "      <td>5.920</td>\n",
       "      <td>Regular</td>\n",
       "      <td>0.019278</td>\n",
       "      <td>Soft Drinks</td>\n",
       "      <td>48.2692</td>\n",
       "      <td>OUT018</td>\n",
       "      <td>2009</td>\n",
       "      <td>Medium</td>\n",
       "      <td>Tier 3</td>\n",
       "      <td>Supermarket Type2</td>\n",
       "      <td>443.4228</td>\n",
       "    </tr>\n",
       "    <tr>\n",
       "      <th>2</th>\n",
       "      <td>FDN15</td>\n",
       "      <td>17.500</td>\n",
       "      <td>Low Fat</td>\n",
       "      <td>0.016760</td>\n",
       "      <td>Meat</td>\n",
       "      <td>141.6180</td>\n",
       "      <td>OUT049</td>\n",
       "      <td>1999</td>\n",
       "      <td>Medium</td>\n",
       "      <td>Tier 1</td>\n",
       "      <td>Supermarket Type1</td>\n",
       "      <td>2097.2700</td>\n",
       "    </tr>\n",
       "    <tr>\n",
       "      <th>4</th>\n",
       "      <td>NCD19</td>\n",
       "      <td>8.930</td>\n",
       "      <td>Low Fat</td>\n",
       "      <td>0.000000</td>\n",
       "      <td>Household</td>\n",
       "      <td>53.8614</td>\n",
       "      <td>OUT013</td>\n",
       "      <td>1987</td>\n",
       "      <td>High</td>\n",
       "      <td>Tier 3</td>\n",
       "      <td>Supermarket Type1</td>\n",
       "      <td>994.7052</td>\n",
       "    </tr>\n",
       "    <tr>\n",
       "      <th>5</th>\n",
       "      <td>FDP36</td>\n",
       "      <td>10.395</td>\n",
       "      <td>Regular</td>\n",
       "      <td>0.000000</td>\n",
       "      <td>Baking Goods</td>\n",
       "      <td>51.4008</td>\n",
       "      <td>OUT018</td>\n",
       "      <td>2009</td>\n",
       "      <td>Medium</td>\n",
       "      <td>Tier 3</td>\n",
       "      <td>Supermarket Type2</td>\n",
       "      <td>556.6088</td>\n",
       "    </tr>\n",
       "  </tbody>\n",
       "</table>\n",
       "</div>"
      ],
      "text/plain": [
       "  Item_Identifier  Item_Weight Item_Fat_Content  Item_Visibility  \\\n",
       "0           FDA15        9.300          Low Fat         0.016047   \n",
       "1           DRC01        5.920          Regular         0.019278   \n",
       "2           FDN15       17.500          Low Fat         0.016760   \n",
       "4           NCD19        8.930          Low Fat         0.000000   \n",
       "5           FDP36       10.395          Regular         0.000000   \n",
       "\n",
       "      Item_Type  Item_MRP Outlet_Identifier  Outlet_Establishment_Year  \\\n",
       "0         Dairy  249.8092            OUT049                       1999   \n",
       "1   Soft Drinks   48.2692            OUT018                       2009   \n",
       "2          Meat  141.6180            OUT049                       1999   \n",
       "4     Household   53.8614            OUT013                       1987   \n",
       "5  Baking Goods   51.4008            OUT018                       2009   \n",
       "\n",
       "  Outlet_Size Outlet_Location_Type        Outlet_Type  Item_Outlet_Sales  \n",
       "0      Medium               Tier 1  Supermarket Type1          3735.1380  \n",
       "1      Medium               Tier 3  Supermarket Type2           443.4228  \n",
       "2      Medium               Tier 1  Supermarket Type1          2097.2700  \n",
       "4        High               Tier 3  Supermarket Type1           994.7052  \n",
       "5      Medium               Tier 3  Supermarket Type2           556.6088  "
      ]
     },
     "execution_count": 50,
     "metadata": {},
     "output_type": "execute_result"
    }
   ],
   "source": [
    "import pandas as pd\n",
    "import numpy as np\n",
    "\n",
    "# read the dataset\n",
    "data_BM = pd.read_csv('./iris/bigmart_data.csv')\n",
    "\n",
    "#drop the null values\n",
    "data_BM = data_BM.dropna(how=\"any\")\n",
    "data_BM.head()\n"
   ]
  },
  {
   "cell_type": "markdown",
   "metadata": {},
   "source": [
    "### 1. Sorting dataframes\n",
    "\n",
    "Pandas data frame has two useful functions\n",
    "\n",
    "- **sort_values()**: to sort pandas data frame by one or more columns\n",
    "- **sort_index()**: to sort pandas data frame by row index\n",
    "\n",
    "Each of these functions come with numerous options, like sorting the data frame in specific order (ascending or descending), sorting in place, sorting with missing values, sorting by specific algorithm etc.\n",
    "\n",
    "Suppose you want to sort the dataframe by \"Outlet_Establishment_Year\" then you will use **sort_values**"
   ]
  },
  {
   "cell_type": "code",
   "execution_count": 5,
   "metadata": {},
   "outputs": [],
   "source": [
    " sorted_data = data_BM.sort_values(by='Outlet_Establishment_Year')"
   ]
  },
  {
   "cell_type": "code",
   "execution_count": 7,
   "metadata": {},
   "outputs": [
    {
     "data": {
      "text/html": [
       "<div>\n",
       "<style scoped>\n",
       "    .dataframe tbody tr th:only-of-type {\n",
       "        vertical-align: middle;\n",
       "    }\n",
       "\n",
       "    .dataframe tbody tr th {\n",
       "        vertical-align: top;\n",
       "    }\n",
       "\n",
       "    .dataframe thead th {\n",
       "        text-align: right;\n",
       "    }\n",
       "</style>\n",
       "<table border=\"1\" class=\"dataframe\">\n",
       "  <thead>\n",
       "    <tr style=\"text-align: right;\">\n",
       "      <th></th>\n",
       "      <th>Item_Identifier</th>\n",
       "      <th>Item_Weight</th>\n",
       "      <th>Item_Fat_Content</th>\n",
       "      <th>Item_Visibility</th>\n",
       "      <th>Item_Type</th>\n",
       "      <th>Item_MRP</th>\n",
       "      <th>Outlet_Identifier</th>\n",
       "      <th>Outlet_Establishment_Year</th>\n",
       "      <th>Outlet_Size</th>\n",
       "      <th>Outlet_Location_Type</th>\n",
       "      <th>Outlet_Type</th>\n",
       "      <th>Item_Outlet_Sales</th>\n",
       "    </tr>\n",
       "  </thead>\n",
       "  <tbody>\n",
       "    <tr>\n",
       "      <th>2812</th>\n",
       "      <td>FDR60</td>\n",
       "      <td>14.30</td>\n",
       "      <td>Low Fat</td>\n",
       "      <td>0.130307</td>\n",
       "      <td>Baking Goods</td>\n",
       "      <td>75.7328</td>\n",
       "      <td>OUT013</td>\n",
       "      <td>1987</td>\n",
       "      <td>High</td>\n",
       "      <td>Tier 3</td>\n",
       "      <td>Supermarket Type1</td>\n",
       "      <td>617.8624</td>\n",
       "    </tr>\n",
       "    <tr>\n",
       "      <th>5938</th>\n",
       "      <td>NCJ06</td>\n",
       "      <td>20.10</td>\n",
       "      <td>Low Fat</td>\n",
       "      <td>0.034624</td>\n",
       "      <td>Household</td>\n",
       "      <td>118.9782</td>\n",
       "      <td>OUT013</td>\n",
       "      <td>1987</td>\n",
       "      <td>High</td>\n",
       "      <td>Tier 3</td>\n",
       "      <td>Supermarket Type1</td>\n",
       "      <td>1549.3166</td>\n",
       "    </tr>\n",
       "    <tr>\n",
       "      <th>3867</th>\n",
       "      <td>FDY38</td>\n",
       "      <td>13.60</td>\n",
       "      <td>Regular</td>\n",
       "      <td>0.119077</td>\n",
       "      <td>Dairy</td>\n",
       "      <td>231.2300</td>\n",
       "      <td>OUT013</td>\n",
       "      <td>1987</td>\n",
       "      <td>High</td>\n",
       "      <td>Tier 3</td>\n",
       "      <td>Supermarket Type1</td>\n",
       "      <td>2330.3000</td>\n",
       "    </tr>\n",
       "    <tr>\n",
       "      <th>1307</th>\n",
       "      <td>FDB37</td>\n",
       "      <td>20.25</td>\n",
       "      <td>Regular</td>\n",
       "      <td>0.022922</td>\n",
       "      <td>Baking Goods</td>\n",
       "      <td>240.7538</td>\n",
       "      <td>OUT013</td>\n",
       "      <td>1987</td>\n",
       "      <td>High</td>\n",
       "      <td>Tier 3</td>\n",
       "      <td>Supermarket Type1</td>\n",
       "      <td>3364.9532</td>\n",
       "    </tr>\n",
       "    <tr>\n",
       "      <th>5930</th>\n",
       "      <td>NCA18</td>\n",
       "      <td>10.10</td>\n",
       "      <td>Low Fat</td>\n",
       "      <td>0.056031</td>\n",
       "      <td>Household</td>\n",
       "      <td>115.1492</td>\n",
       "      <td>OUT013</td>\n",
       "      <td>1987</td>\n",
       "      <td>High</td>\n",
       "      <td>Tier 3</td>\n",
       "      <td>Supermarket Type1</td>\n",
       "      <td>1737.7380</td>\n",
       "    </tr>\n",
       "  </tbody>\n",
       "</table>\n",
       "</div>"
      ],
      "text/plain": [
       "     Item_Identifier  Item_Weight Item_Fat_Content  Item_Visibility  \\\n",
       "2812           FDR60        14.30          Low Fat         0.130307   \n",
       "5938           NCJ06        20.10          Low Fat         0.034624   \n",
       "3867           FDY38        13.60          Regular         0.119077   \n",
       "1307           FDB37        20.25          Regular         0.022922   \n",
       "5930           NCA18        10.10          Low Fat         0.056031   \n",
       "\n",
       "         Item_Type  Item_MRP Outlet_Identifier  Outlet_Establishment_Year  \\\n",
       "2812  Baking Goods   75.7328            OUT013                       1987   \n",
       "5938     Household  118.9782            OUT013                       1987   \n",
       "3867         Dairy  231.2300            OUT013                       1987   \n",
       "1307  Baking Goods  240.7538            OUT013                       1987   \n",
       "5930     Household  115.1492            OUT013                       1987   \n",
       "\n",
       "     Outlet_Size Outlet_Location_Type        Outlet_Type  Item_Outlet_Sales  \n",
       "2812        High               Tier 3  Supermarket Type1           617.8624  \n",
       "5938        High               Tier 3  Supermarket Type1          1549.3166  \n",
       "3867        High               Tier 3  Supermarket Type1          2330.3000  \n",
       "1307        High               Tier 3  Supermarket Type1          3364.9532  \n",
       "5930        High               Tier 3  Supermarket Type1          1737.7380  "
      ]
     },
     "execution_count": 7,
     "metadata": {},
     "output_type": "execute_result"
    }
   ],
   "source": [
    "sorted_data[:5]"
   ]
  },
  {
   "cell_type": "markdown",
   "metadata": {},
   "source": [
    "- Now `sort_values` takes multiple options like:\n",
    "    - `ascending`: The default sorting order is ascending, when you pass False here then it sorts in descending order.\n",
    "    - `inplace`: whether to do inplace sorting or not (It means wit will change on the actual dataset)"
   ]
  },
  {
   "cell_type": "code",
   "execution_count": 8,
   "metadata": {},
   "outputs": [],
   "source": [
    "data_BM.sort_values(by='Outlet_Establishment_Year',ascending=False,inplace=True)"
   ]
  },
  {
   "cell_type": "code",
   "execution_count": 10,
   "metadata": {},
   "outputs": [
    {
     "data": {
      "text/html": [
       "<div>\n",
       "<style scoped>\n",
       "    .dataframe tbody tr th:only-of-type {\n",
       "        vertical-align: middle;\n",
       "    }\n",
       "\n",
       "    .dataframe tbody tr th {\n",
       "        vertical-align: top;\n",
       "    }\n",
       "\n",
       "    .dataframe thead th {\n",
       "        text-align: right;\n",
       "    }\n",
       "</style>\n",
       "<table border=\"1\" class=\"dataframe\">\n",
       "  <thead>\n",
       "    <tr style=\"text-align: right;\">\n",
       "      <th></th>\n",
       "      <th>Item_Identifier</th>\n",
       "      <th>Item_Weight</th>\n",
       "      <th>Item_Fat_Content</th>\n",
       "      <th>Item_Visibility</th>\n",
       "      <th>Item_Type</th>\n",
       "      <th>Item_MRP</th>\n",
       "      <th>Outlet_Identifier</th>\n",
       "      <th>Outlet_Establishment_Year</th>\n",
       "      <th>Outlet_Size</th>\n",
       "      <th>Outlet_Location_Type</th>\n",
       "      <th>Outlet_Type</th>\n",
       "      <th>Item_Outlet_Sales</th>\n",
       "    </tr>\n",
       "  </thead>\n",
       "  <tbody>\n",
       "    <tr>\n",
       "      <th>2825</th>\n",
       "      <td>FDL16</td>\n",
       "      <td>12.85</td>\n",
       "      <td>Low Fat</td>\n",
       "      <td>0.169139</td>\n",
       "      <td>Frozen Foods</td>\n",
       "      <td>46.4060</td>\n",
       "      <td>OUT018</td>\n",
       "      <td>2009</td>\n",
       "      <td>Medium</td>\n",
       "      <td>Tier 3</td>\n",
       "      <td>Supermarket Type2</td>\n",
       "      <td>186.4240</td>\n",
       "    </tr>\n",
       "    <tr>\n",
       "      <th>7389</th>\n",
       "      <td>NCD42</td>\n",
       "      <td>16.50</td>\n",
       "      <td>Low Fat</td>\n",
       "      <td>0.012689</td>\n",
       "      <td>Health and Hygiene</td>\n",
       "      <td>39.7506</td>\n",
       "      <td>OUT018</td>\n",
       "      <td>2009</td>\n",
       "      <td>Medium</td>\n",
       "      <td>Tier 3</td>\n",
       "      <td>Supermarket Type2</td>\n",
       "      <td>227.7036</td>\n",
       "    </tr>\n",
       "    <tr>\n",
       "      <th>2165</th>\n",
       "      <td>DRJ39</td>\n",
       "      <td>20.25</td>\n",
       "      <td>Low Fat</td>\n",
       "      <td>0.036474</td>\n",
       "      <td>Dairy</td>\n",
       "      <td>218.3482</td>\n",
       "      <td>OUT018</td>\n",
       "      <td>2009</td>\n",
       "      <td>Medium</td>\n",
       "      <td>Tier 3</td>\n",
       "      <td>Supermarket Type2</td>\n",
       "      <td>2409.5302</td>\n",
       "    </tr>\n",
       "    <tr>\n",
       "      <th>2162</th>\n",
       "      <td>FDR60</td>\n",
       "      <td>14.30</td>\n",
       "      <td>Low Fat</td>\n",
       "      <td>0.130946</td>\n",
       "      <td>Baking Goods</td>\n",
       "      <td>76.7328</td>\n",
       "      <td>OUT018</td>\n",
       "      <td>2009</td>\n",
       "      <td>Medium</td>\n",
       "      <td>Tier 3</td>\n",
       "      <td>Supermarket Type2</td>\n",
       "      <td>1312.9576</td>\n",
       "    </tr>\n",
       "    <tr>\n",
       "      <th>2158</th>\n",
       "      <td>FDM58</td>\n",
       "      <td>16.85</td>\n",
       "      <td>Regular</td>\n",
       "      <td>0.080015</td>\n",
       "      <td>Snack Foods</td>\n",
       "      <td>111.8544</td>\n",
       "      <td>OUT018</td>\n",
       "      <td>2009</td>\n",
       "      <td>Medium</td>\n",
       "      <td>Tier 3</td>\n",
       "      <td>Supermarket Type2</td>\n",
       "      <td>1677.8160</td>\n",
       "    </tr>\n",
       "  </tbody>\n",
       "</table>\n",
       "</div>"
      ],
      "text/plain": [
       "     Item_Identifier  Item_Weight Item_Fat_Content  Item_Visibility  \\\n",
       "2825           FDL16        12.85          Low Fat         0.169139   \n",
       "7389           NCD42        16.50          Low Fat         0.012689   \n",
       "2165           DRJ39        20.25          Low Fat         0.036474   \n",
       "2162           FDR60        14.30          Low Fat         0.130946   \n",
       "2158           FDM58        16.85          Regular         0.080015   \n",
       "\n",
       "               Item_Type  Item_MRP Outlet_Identifier  \\\n",
       "2825        Frozen Foods   46.4060            OUT018   \n",
       "7389  Health and Hygiene   39.7506            OUT018   \n",
       "2165               Dairy  218.3482            OUT018   \n",
       "2162        Baking Goods   76.7328            OUT018   \n",
       "2158         Snack Foods  111.8544            OUT018   \n",
       "\n",
       "      Outlet_Establishment_Year Outlet_Size Outlet_Location_Type  \\\n",
       "2825                       2009      Medium               Tier 3   \n",
       "7389                       2009      Medium               Tier 3   \n",
       "2165                       2009      Medium               Tier 3   \n",
       "2162                       2009      Medium               Tier 3   \n",
       "2158                       2009      Medium               Tier 3   \n",
       "\n",
       "            Outlet_Type  Item_Outlet_Sales  \n",
       "2825  Supermarket Type2           186.4240  \n",
       "7389  Supermarket Type2           227.7036  \n",
       "2165  Supermarket Type2          2409.5302  \n",
       "2162  Supermarket Type2          1312.9576  \n",
       "2158  Supermarket Type2          1677.8160  "
      ]
     },
     "execution_count": 10,
     "metadata": {},
     "output_type": "execute_result"
    }
   ],
   "source": [
    "data_BM[:5]"
   ]
  },
  {
   "cell_type": "markdown",
   "metadata": {},
   "source": [
    "You might want to sort a data frame based on the values of multiple columns. We can specify the columns we want to sort by as a list in the argument for sort_values()."
   ]
  },
  {
   "cell_type": "code",
   "execution_count": 51,
   "metadata": {},
   "outputs": [
    {
     "data": {
      "text/html": [
       "<div>\n",
       "<style scoped>\n",
       "    .dataframe tbody tr th:only-of-type {\n",
       "        vertical-align: middle;\n",
       "    }\n",
       "\n",
       "    .dataframe tbody tr th {\n",
       "        vertical-align: top;\n",
       "    }\n",
       "\n",
       "    .dataframe thead th {\n",
       "        text-align: right;\n",
       "    }\n",
       "</style>\n",
       "<table border=\"1\" class=\"dataframe\">\n",
       "  <thead>\n",
       "    <tr style=\"text-align: right;\">\n",
       "      <th></th>\n",
       "      <th>Item_Identifier</th>\n",
       "      <th>Item_Weight</th>\n",
       "      <th>Item_Fat_Content</th>\n",
       "      <th>Item_Visibility</th>\n",
       "      <th>Item_Type</th>\n",
       "      <th>Item_MRP</th>\n",
       "      <th>Outlet_Identifier</th>\n",
       "      <th>Outlet_Establishment_Year</th>\n",
       "      <th>Outlet_Size</th>\n",
       "      <th>Outlet_Location_Type</th>\n",
       "      <th>Outlet_Type</th>\n",
       "      <th>Item_Outlet_Sales</th>\n",
       "    </tr>\n",
       "  </thead>\n",
       "  <tbody>\n",
       "    <tr>\n",
       "      <th>43</th>\n",
       "      <td>FDC02</td>\n",
       "      <td>21.35</td>\n",
       "      <td>Low Fat</td>\n",
       "      <td>0.069103</td>\n",
       "      <td>Canned</td>\n",
       "      <td>259.9278</td>\n",
       "      <td>OUT018</td>\n",
       "      <td>2009</td>\n",
       "      <td>Medium</td>\n",
       "      <td>Tier 3</td>\n",
       "      <td>Supermarket Type2</td>\n",
       "      <td>6768.5228</td>\n",
       "    </tr>\n",
       "    <tr>\n",
       "      <th>2803</th>\n",
       "      <td>FDU51</td>\n",
       "      <td>20.20</td>\n",
       "      <td>Regular</td>\n",
       "      <td>0.096907</td>\n",
       "      <td>Meat</td>\n",
       "      <td>175.5028</td>\n",
       "      <td>OUT018</td>\n",
       "      <td>2009</td>\n",
       "      <td>Medium</td>\n",
       "      <td>Tier 3</td>\n",
       "      <td>Supermarket Type2</td>\n",
       "      <td>6729.9064</td>\n",
       "    </tr>\n",
       "    <tr>\n",
       "      <th>641</th>\n",
       "      <td>FDY51</td>\n",
       "      <td>12.50</td>\n",
       "      <td>Low Fat</td>\n",
       "      <td>0.081465</td>\n",
       "      <td>Meat</td>\n",
       "      <td>220.7798</td>\n",
       "      <td>OUT018</td>\n",
       "      <td>2009</td>\n",
       "      <td>Medium</td>\n",
       "      <td>Tier 3</td>\n",
       "      <td>Supermarket Type2</td>\n",
       "      <td>6611.3940</td>\n",
       "    </tr>\n",
       "    <tr>\n",
       "      <th>2282</th>\n",
       "      <td>NCX30</td>\n",
       "      <td>16.70</td>\n",
       "      <td>Low Fat</td>\n",
       "      <td>0.026729</td>\n",
       "      <td>Household</td>\n",
       "      <td>248.4776</td>\n",
       "      <td>OUT018</td>\n",
       "      <td>2009</td>\n",
       "      <td>Medium</td>\n",
       "      <td>Tier 3</td>\n",
       "      <td>Supermarket Type2</td>\n",
       "      <td>6439.6176</td>\n",
       "    </tr>\n",
       "    <tr>\n",
       "      <th>2887</th>\n",
       "      <td>FDR25</td>\n",
       "      <td>17.00</td>\n",
       "      <td>Regular</td>\n",
       "      <td>0.140090</td>\n",
       "      <td>Canned</td>\n",
       "      <td>265.1884</td>\n",
       "      <td>OUT018</td>\n",
       "      <td>2009</td>\n",
       "      <td>Medium</td>\n",
       "      <td>Tier 3</td>\n",
       "      <td>Supermarket Type2</td>\n",
       "      <td>6359.7216</td>\n",
       "    </tr>\n",
       "  </tbody>\n",
       "</table>\n",
       "</div>"
      ],
      "text/plain": [
       "     Item_Identifier  Item_Weight Item_Fat_Content  Item_Visibility  \\\n",
       "43             FDC02        21.35          Low Fat         0.069103   \n",
       "2803           FDU51        20.20          Regular         0.096907   \n",
       "641            FDY51        12.50          Low Fat         0.081465   \n",
       "2282           NCX30        16.70          Low Fat         0.026729   \n",
       "2887           FDR25        17.00          Regular         0.140090   \n",
       "\n",
       "      Item_Type  Item_MRP Outlet_Identifier  Outlet_Establishment_Year  \\\n",
       "43       Canned  259.9278            OUT018                       2009   \n",
       "2803       Meat  175.5028            OUT018                       2009   \n",
       "641        Meat  220.7798            OUT018                       2009   \n",
       "2282  Household  248.4776            OUT018                       2009   \n",
       "2887     Canned  265.1884            OUT018                       2009   \n",
       "\n",
       "     Outlet_Size Outlet_Location_Type        Outlet_Type  Item_Outlet_Sales  \n",
       "43        Medium               Tier 3  Supermarket Type2          6768.5228  \n",
       "2803      Medium               Tier 3  Supermarket Type2          6729.9064  \n",
       "641       Medium               Tier 3  Supermarket Type2          6611.3940  \n",
       "2282      Medium               Tier 3  Supermarket Type2          6439.6176  \n",
       "2887      Medium               Tier 3  Supermarket Type2          6359.7216  "
      ]
     },
     "execution_count": 51,
     "metadata": {},
     "output_type": "execute_result"
    }
   ],
   "source": [
    "data_BM = pd.read_csv('./iris/bigmart_data.csv')\n",
    "\n",
    "#drop the null values\n",
    "data_BM = data_BM.dropna(how=\"any\")\n",
    "\n",
    "#sort by multiple columns\n",
    "data_BM.sort_values(by=['Outlet_Establishment_Year','Item_Outlet_Sales'],ascending=False)[:5]"
   ]
  },
  {
   "cell_type": "markdown",
   "metadata": {},
   "source": [
    "- Note that when sorting by multiple columns, pandas sort_value() uses the first variable first and second variable next. \n",
    "- We can see the difference by switching the order of column names in the list."
   ]
  },
  {
   "cell_type": "code",
   "execution_count": 48,
   "metadata": {},
   "outputs": [
    {
     "data": {
      "text/html": [
       "<div>\n",
       "<style scoped>\n",
       "    .dataframe tbody tr th:only-of-type {\n",
       "        vertical-align: middle;\n",
       "    }\n",
       "\n",
       "    .dataframe tbody tr th {\n",
       "        vertical-align: top;\n",
       "    }\n",
       "\n",
       "    .dataframe thead th {\n",
       "        text-align: right;\n",
       "    }\n",
       "</style>\n",
       "<table border=\"1\" class=\"dataframe\">\n",
       "  <thead>\n",
       "    <tr style=\"text-align: right;\">\n",
       "      <th></th>\n",
       "      <th>Item_Identifier</th>\n",
       "      <th>Item_Weight</th>\n",
       "      <th>Item_Fat_Content</th>\n",
       "      <th>Item_Visibility</th>\n",
       "      <th>Item_Type</th>\n",
       "      <th>Item_MRP</th>\n",
       "      <th>Outlet_Identifier</th>\n",
       "      <th>Outlet_Establishment_Year</th>\n",
       "      <th>Outlet_Size</th>\n",
       "      <th>Outlet_Location_Type</th>\n",
       "      <th>Outlet_Type</th>\n",
       "      <th>Item_Outlet_Sales</th>\n",
       "    </tr>\n",
       "  </thead>\n",
       "  <tbody>\n",
       "    <tr>\n",
       "      <th>4888</th>\n",
       "      <td>FDF39</td>\n",
       "      <td>14.850</td>\n",
       "      <td>Regular</td>\n",
       "      <td>0.019495</td>\n",
       "      <td>Dairy</td>\n",
       "      <td>261.2910</td>\n",
       "      <td>OUT013</td>\n",
       "      <td>1987</td>\n",
       "      <td>High</td>\n",
       "      <td>Tier 3</td>\n",
       "      <td>Supermarket Type1</td>\n",
       "      <td>10256.6490</td>\n",
       "    </tr>\n",
       "    <tr>\n",
       "      <th>4289</th>\n",
       "      <td>NCM05</td>\n",
       "      <td>6.825</td>\n",
       "      <td>Low Fat</td>\n",
       "      <td>0.059847</td>\n",
       "      <td>Health and Hygiene</td>\n",
       "      <td>262.5226</td>\n",
       "      <td>OUT046</td>\n",
       "      <td>1997</td>\n",
       "      <td>Small</td>\n",
       "      <td>Tier 1</td>\n",
       "      <td>Supermarket Type1</td>\n",
       "      <td>9779.9362</td>\n",
       "    </tr>\n",
       "    <tr>\n",
       "      <th>6409</th>\n",
       "      <td>FDA21</td>\n",
       "      <td>13.650</td>\n",
       "      <td>Low Fat</td>\n",
       "      <td>0.035931</td>\n",
       "      <td>Snack Foods</td>\n",
       "      <td>184.4924</td>\n",
       "      <td>OUT013</td>\n",
       "      <td>1987</td>\n",
       "      <td>High</td>\n",
       "      <td>Tier 3</td>\n",
       "      <td>Supermarket Type1</td>\n",
       "      <td>9069.5276</td>\n",
       "    </tr>\n",
       "    <tr>\n",
       "      <th>4991</th>\n",
       "      <td>NCQ53</td>\n",
       "      <td>17.600</td>\n",
       "      <td>Low Fat</td>\n",
       "      <td>0.018905</td>\n",
       "      <td>Health and Hygiene</td>\n",
       "      <td>234.6590</td>\n",
       "      <td>OUT046</td>\n",
       "      <td>1997</td>\n",
       "      <td>Small</td>\n",
       "      <td>Tier 1</td>\n",
       "      <td>Supermarket Type1</td>\n",
       "      <td>8508.9240</td>\n",
       "    </tr>\n",
       "    <tr>\n",
       "      <th>5752</th>\n",
       "      <td>FDI15</td>\n",
       "      <td>13.800</td>\n",
       "      <td>Low Fat</td>\n",
       "      <td>0.141326</td>\n",
       "      <td>Dairy</td>\n",
       "      <td>265.0884</td>\n",
       "      <td>OUT035</td>\n",
       "      <td>2004</td>\n",
       "      <td>Small</td>\n",
       "      <td>Tier 2</td>\n",
       "      <td>Supermarket Type1</td>\n",
       "      <td>8479.6288</td>\n",
       "    </tr>\n",
       "  </tbody>\n",
       "</table>\n",
       "</div>"
      ],
      "text/plain": [
       "     Item_Identifier  Item_Weight Item_Fat_Content  Item_Visibility  \\\n",
       "4888           FDF39       14.850          Regular         0.019495   \n",
       "4289           NCM05        6.825          Low Fat         0.059847   \n",
       "6409           FDA21       13.650          Low Fat         0.035931   \n",
       "4991           NCQ53       17.600          Low Fat         0.018905   \n",
       "5752           FDI15       13.800          Low Fat         0.141326   \n",
       "\n",
       "               Item_Type  Item_MRP Outlet_Identifier  \\\n",
       "4888               Dairy  261.2910            OUT013   \n",
       "4289  Health and Hygiene  262.5226            OUT046   \n",
       "6409         Snack Foods  184.4924            OUT013   \n",
       "4991  Health and Hygiene  234.6590            OUT046   \n",
       "5752               Dairy  265.0884            OUT035   \n",
       "\n",
       "      Outlet_Establishment_Year Outlet_Size Outlet_Location_Type  \\\n",
       "4888                       1987        High               Tier 3   \n",
       "4289                       1997       Small               Tier 1   \n",
       "6409                       1987        High               Tier 3   \n",
       "4991                       1997       Small               Tier 1   \n",
       "5752                       2004       Small               Tier 2   \n",
       "\n",
       "            Outlet_Type  Item_Outlet_Sales  \n",
       "4888  Supermarket Type1         10256.6490  \n",
       "4289  Supermarket Type1          9779.9362  \n",
       "6409  Supermarket Type1          9069.5276  \n",
       "4991  Supermarket Type1          8508.9240  \n",
       "5752  Supermarket Type1          8479.6288  "
      ]
     },
     "execution_count": 48,
     "metadata": {},
     "output_type": "execute_result"
    }
   ],
   "source": [
    "#changed the sort of columns\n",
    "data_BM.sort_values(by=['Item_Outlet_Sales','Outlet_Establishment_Year'],ascending=False)[:5]"
   ]
  },
  {
   "cell_type": "markdown",
   "metadata": {},
   "source": [
    "- We can use **sort_index()** to sort pandas dataframe to sort by row index or names. \n",
    "- In this example, row index are numbers and in the earlier example we sorted data frame by 'Item_Outlet_Sales', 'Outlet_Establishment_Year' and therefore the row index are jumbled up. \n",
    "- We can sort by row index (with inplace=True option) and retrieve the original dataframe."
   ]
  },
  {
   "cell_type": "code",
   "execution_count": 16,
   "metadata": {},
   "outputs": [
    {
     "data": {
      "text/html": [
       "<div>\n",
       "<style scoped>\n",
       "    .dataframe tbody tr th:only-of-type {\n",
       "        vertical-align: middle;\n",
       "    }\n",
       "\n",
       "    .dataframe tbody tr th {\n",
       "        vertical-align: top;\n",
       "    }\n",
       "\n",
       "    .dataframe thead th {\n",
       "        text-align: right;\n",
       "    }\n",
       "</style>\n",
       "<table border=\"1\" class=\"dataframe\">\n",
       "  <thead>\n",
       "    <tr style=\"text-align: right;\">\n",
       "      <th></th>\n",
       "      <th>Item_Identifier</th>\n",
       "      <th>Item_Weight</th>\n",
       "      <th>Item_Fat_Content</th>\n",
       "      <th>Item_Visibility</th>\n",
       "      <th>Item_Type</th>\n",
       "      <th>Item_MRP</th>\n",
       "      <th>Outlet_Identifier</th>\n",
       "      <th>Outlet_Establishment_Year</th>\n",
       "      <th>Outlet_Size</th>\n",
       "      <th>Outlet_Location_Type</th>\n",
       "      <th>Outlet_Type</th>\n",
       "      <th>Item_Outlet_Sales</th>\n",
       "    </tr>\n",
       "  </thead>\n",
       "  <tbody>\n",
       "    <tr>\n",
       "      <th>0</th>\n",
       "      <td>FDA15</td>\n",
       "      <td>9.300</td>\n",
       "      <td>Low Fat</td>\n",
       "      <td>0.016047</td>\n",
       "      <td>Dairy</td>\n",
       "      <td>249.8092</td>\n",
       "      <td>OUT049</td>\n",
       "      <td>1999</td>\n",
       "      <td>Medium</td>\n",
       "      <td>Tier 1</td>\n",
       "      <td>Supermarket Type1</td>\n",
       "      <td>3735.1380</td>\n",
       "    </tr>\n",
       "    <tr>\n",
       "      <th>1</th>\n",
       "      <td>DRC01</td>\n",
       "      <td>5.920</td>\n",
       "      <td>Regular</td>\n",
       "      <td>0.019278</td>\n",
       "      <td>Soft Drinks</td>\n",
       "      <td>48.2692</td>\n",
       "      <td>OUT018</td>\n",
       "      <td>2009</td>\n",
       "      <td>Medium</td>\n",
       "      <td>Tier 3</td>\n",
       "      <td>Supermarket Type2</td>\n",
       "      <td>443.4228</td>\n",
       "    </tr>\n",
       "    <tr>\n",
       "      <th>2</th>\n",
       "      <td>FDN15</td>\n",
       "      <td>17.500</td>\n",
       "      <td>Low Fat</td>\n",
       "      <td>0.016760</td>\n",
       "      <td>Meat</td>\n",
       "      <td>141.6180</td>\n",
       "      <td>OUT049</td>\n",
       "      <td>1999</td>\n",
       "      <td>Medium</td>\n",
       "      <td>Tier 1</td>\n",
       "      <td>Supermarket Type1</td>\n",
       "      <td>2097.2700</td>\n",
       "    </tr>\n",
       "    <tr>\n",
       "      <th>4</th>\n",
       "      <td>NCD19</td>\n",
       "      <td>8.930</td>\n",
       "      <td>Low Fat</td>\n",
       "      <td>0.000000</td>\n",
       "      <td>Household</td>\n",
       "      <td>53.8614</td>\n",
       "      <td>OUT013</td>\n",
       "      <td>1987</td>\n",
       "      <td>High</td>\n",
       "      <td>Tier 3</td>\n",
       "      <td>Supermarket Type1</td>\n",
       "      <td>994.7052</td>\n",
       "    </tr>\n",
       "    <tr>\n",
       "      <th>5</th>\n",
       "      <td>FDP36</td>\n",
       "      <td>10.395</td>\n",
       "      <td>Regular</td>\n",
       "      <td>0.000000</td>\n",
       "      <td>Baking Goods</td>\n",
       "      <td>51.4008</td>\n",
       "      <td>OUT018</td>\n",
       "      <td>2009</td>\n",
       "      <td>Medium</td>\n",
       "      <td>Tier 3</td>\n",
       "      <td>Supermarket Type2</td>\n",
       "      <td>556.6088</td>\n",
       "    </tr>\n",
       "  </tbody>\n",
       "</table>\n",
       "</div>"
      ],
      "text/plain": [
       "  Item_Identifier  Item_Weight Item_Fat_Content  Item_Visibility  \\\n",
       "0           FDA15        9.300          Low Fat         0.016047   \n",
       "1           DRC01        5.920          Regular         0.019278   \n",
       "2           FDN15       17.500          Low Fat         0.016760   \n",
       "4           NCD19        8.930          Low Fat         0.000000   \n",
       "5           FDP36       10.395          Regular         0.000000   \n",
       "\n",
       "      Item_Type  Item_MRP Outlet_Identifier  Outlet_Establishment_Year  \\\n",
       "0         Dairy  249.8092            OUT049                       1999   \n",
       "1   Soft Drinks   48.2692            OUT018                       2009   \n",
       "2          Meat  141.6180            OUT049                       1999   \n",
       "4     Household   53.8614            OUT013                       1987   \n",
       "5  Baking Goods   51.4008            OUT018                       2009   \n",
       "\n",
       "  Outlet_Size Outlet_Location_Type        Outlet_Type  Item_Outlet_Sales  \n",
       "0      Medium               Tier 1  Supermarket Type1          3735.1380  \n",
       "1      Medium               Tier 3  Supermarket Type2           443.4228  \n",
       "2      Medium               Tier 1  Supermarket Type1          2097.2700  \n",
       "4        High               Tier 3  Supermarket Type1           994.7052  \n",
       "5      Medium               Tier 3  Supermarket Type2           556.6088  "
      ]
     },
     "execution_count": 16,
     "metadata": {},
     "output_type": "execute_result"
    }
   ],
   "source": [
    "# sort by index\n",
    "data_BM.sort_index(inplace=True)\n",
    "data_BM[:5]"
   ]
  },
  {
   "cell_type": "markdown",
   "metadata": {},
   "source": [
    "### 2. Merging dataframes\n",
    "\n",
    "- Joining and merging DataFrames is the core process to start with data analysis and machine learning tasks. \n",
    "- It is one of the toolkits which every Data Analyst or Data Scientist should master because in almost all the cases data comes from multiple source and files.\n",
    "- Pandas has two useful functions for merging dataframes:\n",
    "    - **concat()**\n",
    "    - **merge()** \n",
    "    \n",
    " "
   ]
  },
  {
   "cell_type": "code",
   "execution_count": 17,
   "metadata": {},
   "outputs": [],
   "source": [
    "# create dummy data\n",
    "df1 = pd.DataFrame({'A': ['A0', 'A1', 'A2', 'A3'],\n",
    "                     'B': ['B0', 'B1', 'B2', 'B3'],\n",
    "                     'C': ['C0', 'C1', 'C2', 'C3'],\n",
    "                     'D': ['D0', 'D1', 'D2', 'D3']},\n",
    "                    index=[0, 1, 2, 3])"
   ]
  },
  {
   "cell_type": "code",
   "execution_count": 18,
   "metadata": {},
   "outputs": [
    {
     "data": {
      "text/html": [
       "<div>\n",
       "<style scoped>\n",
       "    .dataframe tbody tr th:only-of-type {\n",
       "        vertical-align: middle;\n",
       "    }\n",
       "\n",
       "    .dataframe tbody tr th {\n",
       "        vertical-align: top;\n",
       "    }\n",
       "\n",
       "    .dataframe thead th {\n",
       "        text-align: right;\n",
       "    }\n",
       "</style>\n",
       "<table border=\"1\" class=\"dataframe\">\n",
       "  <thead>\n",
       "    <tr style=\"text-align: right;\">\n",
       "      <th></th>\n",
       "      <th>A</th>\n",
       "      <th>B</th>\n",
       "      <th>C</th>\n",
       "      <th>D</th>\n",
       "    </tr>\n",
       "  </thead>\n",
       "  <tbody>\n",
       "    <tr>\n",
       "      <th>0</th>\n",
       "      <td>A0</td>\n",
       "      <td>B0</td>\n",
       "      <td>C0</td>\n",
       "      <td>D0</td>\n",
       "    </tr>\n",
       "    <tr>\n",
       "      <th>1</th>\n",
       "      <td>A1</td>\n",
       "      <td>B1</td>\n",
       "      <td>C1</td>\n",
       "      <td>D1</td>\n",
       "    </tr>\n",
       "    <tr>\n",
       "      <th>2</th>\n",
       "      <td>A2</td>\n",
       "      <td>B2</td>\n",
       "      <td>C2</td>\n",
       "      <td>D2</td>\n",
       "    </tr>\n",
       "    <tr>\n",
       "      <th>3</th>\n",
       "      <td>A3</td>\n",
       "      <td>B3</td>\n",
       "      <td>C3</td>\n",
       "      <td>D3</td>\n",
       "    </tr>\n",
       "  </tbody>\n",
       "</table>\n",
       "</div>"
      ],
      "text/plain": [
       "    A   B   C   D\n",
       "0  A0  B0  C0  D0\n",
       "1  A1  B1  C1  D1\n",
       "2  A2  B2  C2  D2\n",
       "3  A3  B3  C3  D3"
      ]
     },
     "execution_count": 18,
     "metadata": {},
     "output_type": "execute_result"
    }
   ],
   "source": [
    "df1"
   ]
  },
  {
   "cell_type": "code",
   "execution_count": 20,
   "metadata": {},
   "outputs": [],
   "source": [
    "df2 = pd.DataFrame({'A': ['A4', 'A5', 'A6', 'A7'],\n",
    "                     'B': ['B4', 'B5', 'B6', 'B7'],\n",
    "                     'C': ['C4', 'C5', 'C6', 'C7'],\n",
    "                     'D': ['D4', 'D5', 'D6', 'D7']},\n",
    "                    index=[4, 5, 6, 7])\n",
    "df3 = pd.DataFrame({'A': ['A8', 'A9', 'A10', 'A11'],\n",
    "                     'B': ['B8', 'B9', 'B10', 'B11'],\n",
    "                     'C': ['C8', 'C9', 'C10', 'C11'],\n",
    "                     'D': ['D8', 'D9', 'D10', 'D11']},\n",
    "                    index=[8, 9, 10, 11])"
   ]
  },
  {
   "cell_type": "markdown",
   "metadata": {},
   "source": [
    "### a. concat() for combining dataframes\n",
    "- Suppose you have the following three dataframes: df1, df2 and df3 and you want to combine them **\"row-wise\"** so that they become a single dataframe like the given image:\n",
    "![Image](./images/concat_1_a.png)\n",
    "- You can use **concat()** here. You will have to pass the names of the DataFrames in a list as the argument to the concat(). "
   ]
  },
  {
   "cell_type": "code",
   "execution_count": 25,
   "metadata": {},
   "outputs": [
    {
     "data": {
      "text/html": [
       "<div>\n",
       "<style scoped>\n",
       "    .dataframe tbody tr th:only-of-type {\n",
       "        vertical-align: middle;\n",
       "    }\n",
       "\n",
       "    .dataframe tbody tr th {\n",
       "        vertical-align: top;\n",
       "    }\n",
       "\n",
       "    .dataframe thead th {\n",
       "        text-align: right;\n",
       "    }\n",
       "</style>\n",
       "<table border=\"1\" class=\"dataframe\">\n",
       "  <thead>\n",
       "    <tr style=\"text-align: right;\">\n",
       "      <th></th>\n",
       "      <th>A</th>\n",
       "      <th>B</th>\n",
       "      <th>C</th>\n",
       "      <th>D</th>\n",
       "    </tr>\n",
       "  </thead>\n",
       "  <tbody>\n",
       "    <tr>\n",
       "      <th>0</th>\n",
       "      <td>A0</td>\n",
       "      <td>B0</td>\n",
       "      <td>C0</td>\n",
       "      <td>D0</td>\n",
       "    </tr>\n",
       "    <tr>\n",
       "      <th>1</th>\n",
       "      <td>A1</td>\n",
       "      <td>B1</td>\n",
       "      <td>C1</td>\n",
       "      <td>D1</td>\n",
       "    </tr>\n",
       "    <tr>\n",
       "      <th>2</th>\n",
       "      <td>A2</td>\n",
       "      <td>B2</td>\n",
       "      <td>C2</td>\n",
       "      <td>D2</td>\n",
       "    </tr>\n",
       "    <tr>\n",
       "      <th>3</th>\n",
       "      <td>A3</td>\n",
       "      <td>B3</td>\n",
       "      <td>C3</td>\n",
       "      <td>D3</td>\n",
       "    </tr>\n",
       "    <tr>\n",
       "      <th>4</th>\n",
       "      <td>A4</td>\n",
       "      <td>B4</td>\n",
       "      <td>C4</td>\n",
       "      <td>D4</td>\n",
       "    </tr>\n",
       "    <tr>\n",
       "      <th>5</th>\n",
       "      <td>A5</td>\n",
       "      <td>B5</td>\n",
       "      <td>C5</td>\n",
       "      <td>D5</td>\n",
       "    </tr>\n",
       "    <tr>\n",
       "      <th>6</th>\n",
       "      <td>A6</td>\n",
       "      <td>B6</td>\n",
       "      <td>C6</td>\n",
       "      <td>D6</td>\n",
       "    </tr>\n",
       "    <tr>\n",
       "      <th>7</th>\n",
       "      <td>A7</td>\n",
       "      <td>B7</td>\n",
       "      <td>C7</td>\n",
       "      <td>D7</td>\n",
       "    </tr>\n",
       "    <tr>\n",
       "      <th>8</th>\n",
       "      <td>A8</td>\n",
       "      <td>B8</td>\n",
       "      <td>C8</td>\n",
       "      <td>D8</td>\n",
       "    </tr>\n",
       "    <tr>\n",
       "      <th>9</th>\n",
       "      <td>A9</td>\n",
       "      <td>B9</td>\n",
       "      <td>C9</td>\n",
       "      <td>D9</td>\n",
       "    </tr>\n",
       "    <tr>\n",
       "      <th>10</th>\n",
       "      <td>A10</td>\n",
       "      <td>B10</td>\n",
       "      <td>C10</td>\n",
       "      <td>D10</td>\n",
       "    </tr>\n",
       "    <tr>\n",
       "      <th>11</th>\n",
       "      <td>A11</td>\n",
       "      <td>B11</td>\n",
       "      <td>C11</td>\n",
       "      <td>D11</td>\n",
       "    </tr>\n",
       "  </tbody>\n",
       "</table>\n",
       "</div>"
      ],
      "text/plain": [
       "      A    B    C    D\n",
       "0    A0   B0   C0   D0\n",
       "1    A1   B1   C1   D1\n",
       "2    A2   B2   C2   D2\n",
       "3    A3   B3   C3   D3\n",
       "4    A4   B4   C4   D4\n",
       "5    A5   B5   C5   D5\n",
       "6    A6   B6   C6   D6\n",
       "7    A7   B7   C7   D7\n",
       "8    A8   B8   C8   D8\n",
       "9    A9   B9   C9   D9\n",
       "10  A10  B10  C10  D10\n",
       "11  A11  B11  C11  D11"
      ]
     },
     "execution_count": 25,
     "metadata": {},
     "output_type": "execute_result"
    }
   ],
   "source": [
    "result= pd.concat([df1,df2,df3])\n",
    "result"
   ]
  },
  {
   "cell_type": "code",
   "execution_count": 26,
   "metadata": {},
   "outputs": [
    {
     "data": {
      "text/html": [
       "<div>\n",
       "<style scoped>\n",
       "    .dataframe tbody tr th:only-of-type {\n",
       "        vertical-align: middle;\n",
       "    }\n",
       "\n",
       "    .dataframe tbody tr th {\n",
       "        vertical-align: top;\n",
       "    }\n",
       "\n",
       "    .dataframe thead th {\n",
       "        text-align: right;\n",
       "    }\n",
       "</style>\n",
       "<table border=\"1\" class=\"dataframe\">\n",
       "  <thead>\n",
       "    <tr style=\"text-align: right;\">\n",
       "      <th></th>\n",
       "      <th></th>\n",
       "      <th>A</th>\n",
       "      <th>B</th>\n",
       "      <th>C</th>\n",
       "      <th>D</th>\n",
       "    </tr>\n",
       "  </thead>\n",
       "  <tbody>\n",
       "    <tr>\n",
       "      <th rowspan=\"4\" valign=\"top\">x</th>\n",
       "      <th>0</th>\n",
       "      <td>A0</td>\n",
       "      <td>B0</td>\n",
       "      <td>C0</td>\n",
       "      <td>D0</td>\n",
       "    </tr>\n",
       "    <tr>\n",
       "      <th>1</th>\n",
       "      <td>A1</td>\n",
       "      <td>B1</td>\n",
       "      <td>C1</td>\n",
       "      <td>D1</td>\n",
       "    </tr>\n",
       "    <tr>\n",
       "      <th>2</th>\n",
       "      <td>A2</td>\n",
       "      <td>B2</td>\n",
       "      <td>C2</td>\n",
       "      <td>D2</td>\n",
       "    </tr>\n",
       "    <tr>\n",
       "      <th>3</th>\n",
       "      <td>A3</td>\n",
       "      <td>B3</td>\n",
       "      <td>C3</td>\n",
       "      <td>D3</td>\n",
       "    </tr>\n",
       "    <tr>\n",
       "      <th rowspan=\"4\" valign=\"top\">y</th>\n",
       "      <th>4</th>\n",
       "      <td>A4</td>\n",
       "      <td>B4</td>\n",
       "      <td>C4</td>\n",
       "      <td>D4</td>\n",
       "    </tr>\n",
       "    <tr>\n",
       "      <th>5</th>\n",
       "      <td>A5</td>\n",
       "      <td>B5</td>\n",
       "      <td>C5</td>\n",
       "      <td>D5</td>\n",
       "    </tr>\n",
       "    <tr>\n",
       "      <th>6</th>\n",
       "      <td>A6</td>\n",
       "      <td>B6</td>\n",
       "      <td>C6</td>\n",
       "      <td>D6</td>\n",
       "    </tr>\n",
       "    <tr>\n",
       "      <th>7</th>\n",
       "      <td>A7</td>\n",
       "      <td>B7</td>\n",
       "      <td>C7</td>\n",
       "      <td>D7</td>\n",
       "    </tr>\n",
       "    <tr>\n",
       "      <th rowspan=\"4\" valign=\"top\">z</th>\n",
       "      <th>8</th>\n",
       "      <td>A8</td>\n",
       "      <td>B8</td>\n",
       "      <td>C8</td>\n",
       "      <td>D8</td>\n",
       "    </tr>\n",
       "    <tr>\n",
       "      <th>9</th>\n",
       "      <td>A9</td>\n",
       "      <td>B9</td>\n",
       "      <td>C9</td>\n",
       "      <td>D9</td>\n",
       "    </tr>\n",
       "    <tr>\n",
       "      <th>10</th>\n",
       "      <td>A10</td>\n",
       "      <td>B10</td>\n",
       "      <td>C10</td>\n",
       "      <td>D10</td>\n",
       "    </tr>\n",
       "    <tr>\n",
       "      <th>11</th>\n",
       "      <td>A11</td>\n",
       "      <td>B11</td>\n",
       "      <td>C11</td>\n",
       "      <td>D11</td>\n",
       "    </tr>\n",
       "  </tbody>\n",
       "</table>\n",
       "</div>"
      ],
      "text/plain": [
       "        A    B    C    D\n",
       "x 0    A0   B0   C0   D0\n",
       "  1    A1   B1   C1   D1\n",
       "  2    A2   B2   C2   D2\n",
       "  3    A3   B3   C3   D3\n",
       "y 4    A4   B4   C4   D4\n",
       "  5    A5   B5   C5   D5\n",
       "  6    A6   B6   C6   D6\n",
       "  7    A7   B7   C7   D7\n",
       "z 8    A8   B8   C8   D8\n",
       "  9    A9   B9   C9   D9\n",
       "  10  A10  B10  C10  D10\n",
       "  11  A11  B11  C11  D11"
      ]
     },
     "execution_count": 26,
     "metadata": {},
     "output_type": "execute_result"
    }
   ],
   "source": [
    "result= pd.concat([df1,df2,df3],keys=['x','y','z'])\n",
    "result"
   ]
  },
  {
   "cell_type": "markdown",
   "metadata": {},
   "source": [
    "- Mentioning the keys also makes it easy to retrieve data corresponding to a particular DataFrame. \n",
    "- You can retrieve the data of DataFrame df2 which had the label `y` by using the `loc` method."
   ]
  },
  {
   "cell_type": "code",
   "execution_count": 27,
   "metadata": {},
   "outputs": [
    {
     "data": {
      "text/html": [
       "<div>\n",
       "<style scoped>\n",
       "    .dataframe tbody tr th:only-of-type {\n",
       "        vertical-align: middle;\n",
       "    }\n",
       "\n",
       "    .dataframe tbody tr th {\n",
       "        vertical-align: top;\n",
       "    }\n",
       "\n",
       "    .dataframe thead th {\n",
       "        text-align: right;\n",
       "    }\n",
       "</style>\n",
       "<table border=\"1\" class=\"dataframe\">\n",
       "  <thead>\n",
       "    <tr style=\"text-align: right;\">\n",
       "      <th></th>\n",
       "      <th>A</th>\n",
       "      <th>B</th>\n",
       "      <th>C</th>\n",
       "      <th>D</th>\n",
       "    </tr>\n",
       "  </thead>\n",
       "  <tbody>\n",
       "    <tr>\n",
       "      <th>4</th>\n",
       "      <td>A4</td>\n",
       "      <td>B4</td>\n",
       "      <td>C4</td>\n",
       "      <td>D4</td>\n",
       "    </tr>\n",
       "    <tr>\n",
       "      <th>5</th>\n",
       "      <td>A5</td>\n",
       "      <td>B5</td>\n",
       "      <td>C5</td>\n",
       "      <td>D5</td>\n",
       "    </tr>\n",
       "    <tr>\n",
       "      <th>6</th>\n",
       "      <td>A6</td>\n",
       "      <td>B6</td>\n",
       "      <td>C6</td>\n",
       "      <td>D6</td>\n",
       "    </tr>\n",
       "    <tr>\n",
       "      <th>7</th>\n",
       "      <td>A7</td>\n",
       "      <td>B7</td>\n",
       "      <td>C7</td>\n",
       "      <td>D7</td>\n",
       "    </tr>\n",
       "  </tbody>\n",
       "</table>\n",
       "</div>"
      ],
      "text/plain": [
       "    A   B   C   D\n",
       "4  A4  B4  C4  D4\n",
       "5  A5  B5  C5  D5\n",
       "6  A6  B6  C6  D6\n",
       "7  A7  B7  C7  D7"
      ]
     },
     "execution_count": 27,
     "metadata": {},
     "output_type": "execute_result"
    }
   ],
   "source": [
    "result.loc['y']"
   ]
  },
  {
   "cell_type": "markdown",
   "metadata": {},
   "source": [
    "- When gluing together multiple DataFrames, you have a choice of how to handle the other axes (other than the one being concatenated). This can be done in the following three ways:\n",
    "\n",
    "    - Take the union of them all, `join='outer'`. This is the default option as it results in zero information loss.\n",
    "    - Take the intersection, `join='inner'`.\n",
    "    - Use a specific index, as passed to the `join_axes` argument.\n",
    "\n",
    "- Here is an example of each of these methods. First, the default `join='outer'` behavior:\n",
    "![Image](./images/concat_2.png)\n"
   ]
  },
  {
   "cell_type": "code",
   "execution_count": 29,
   "metadata": {},
   "outputs": [
    {
     "data": {
      "text/html": [
       "<div>\n",
       "<style scoped>\n",
       "    .dataframe tbody tr th:only-of-type {\n",
       "        vertical-align: middle;\n",
       "    }\n",
       "\n",
       "    .dataframe tbody tr th {\n",
       "        vertical-align: top;\n",
       "    }\n",
       "\n",
       "    .dataframe thead th {\n",
       "        text-align: right;\n",
       "    }\n",
       "</style>\n",
       "<table border=\"1\" class=\"dataframe\">\n",
       "  <thead>\n",
       "    <tr style=\"text-align: right;\">\n",
       "      <th></th>\n",
       "      <th>B</th>\n",
       "      <th>D</th>\n",
       "      <th>F</th>\n",
       "    </tr>\n",
       "  </thead>\n",
       "  <tbody>\n",
       "    <tr>\n",
       "      <th>2</th>\n",
       "      <td>B2</td>\n",
       "      <td>D2</td>\n",
       "      <td>F2</td>\n",
       "    </tr>\n",
       "    <tr>\n",
       "      <th>3</th>\n",
       "      <td>B3</td>\n",
       "      <td>D3</td>\n",
       "      <td>F3</td>\n",
       "    </tr>\n",
       "    <tr>\n",
       "      <th>6</th>\n",
       "      <td>B6</td>\n",
       "      <td>D6</td>\n",
       "      <td>F6</td>\n",
       "    </tr>\n",
       "    <tr>\n",
       "      <th>7</th>\n",
       "      <td>B7</td>\n",
       "      <td>D7</td>\n",
       "      <td>F7</td>\n",
       "    </tr>\n",
       "  </tbody>\n",
       "</table>\n",
       "</div>"
      ],
      "text/plain": [
       "    B   D   F\n",
       "2  B2  D2  F2\n",
       "3  B3  D3  F3\n",
       "6  B6  D6  F6\n",
       "7  B7  D7  F7"
      ]
     },
     "execution_count": 29,
     "metadata": {},
     "output_type": "execute_result"
    }
   ],
   "source": [
    "df4 = pd.DataFrame({'B': ['B2', 'B3', 'B6', 'B7'],\n",
    "                        'D': ['D2', 'D3', 'D6', 'D7'],\n",
    "                        'F': ['F2', 'F3', 'F6', 'F7']},\n",
    "                       index=[2, 3, 6, 7])\n",
    "\n",
    "df4"
   ]
  },
  {
   "cell_type": "code",
   "execution_count": 32,
   "metadata": {},
   "outputs": [
    {
     "data": {
      "text/html": [
       "<div>\n",
       "<style scoped>\n",
       "    .dataframe tbody tr th:only-of-type {\n",
       "        vertical-align: middle;\n",
       "    }\n",
       "\n",
       "    .dataframe tbody tr th {\n",
       "        vertical-align: top;\n",
       "    }\n",
       "\n",
       "    .dataframe thead th {\n",
       "        text-align: right;\n",
       "    }\n",
       "</style>\n",
       "<table border=\"1\" class=\"dataframe\">\n",
       "  <thead>\n",
       "    <tr style=\"text-align: right;\">\n",
       "      <th></th>\n",
       "      <th>A</th>\n",
       "      <th>B</th>\n",
       "      <th>C</th>\n",
       "      <th>D</th>\n",
       "      <th>B</th>\n",
       "      <th>D</th>\n",
       "      <th>F</th>\n",
       "    </tr>\n",
       "  </thead>\n",
       "  <tbody>\n",
       "    <tr>\n",
       "      <th>0</th>\n",
       "      <td>A0</td>\n",
       "      <td>B0</td>\n",
       "      <td>C0</td>\n",
       "      <td>D0</td>\n",
       "      <td>NaN</td>\n",
       "      <td>NaN</td>\n",
       "      <td>NaN</td>\n",
       "    </tr>\n",
       "    <tr>\n",
       "      <th>1</th>\n",
       "      <td>A1</td>\n",
       "      <td>B1</td>\n",
       "      <td>C1</td>\n",
       "      <td>D1</td>\n",
       "      <td>NaN</td>\n",
       "      <td>NaN</td>\n",
       "      <td>NaN</td>\n",
       "    </tr>\n",
       "    <tr>\n",
       "      <th>2</th>\n",
       "      <td>A2</td>\n",
       "      <td>B2</td>\n",
       "      <td>C2</td>\n",
       "      <td>D2</td>\n",
       "      <td>B2</td>\n",
       "      <td>D2</td>\n",
       "      <td>F2</td>\n",
       "    </tr>\n",
       "    <tr>\n",
       "      <th>3</th>\n",
       "      <td>A3</td>\n",
       "      <td>B3</td>\n",
       "      <td>C3</td>\n",
       "      <td>D3</td>\n",
       "      <td>B3</td>\n",
       "      <td>D3</td>\n",
       "      <td>F3</td>\n",
       "    </tr>\n",
       "    <tr>\n",
       "      <th>6</th>\n",
       "      <td>NaN</td>\n",
       "      <td>NaN</td>\n",
       "      <td>NaN</td>\n",
       "      <td>NaN</td>\n",
       "      <td>B6</td>\n",
       "      <td>D6</td>\n",
       "      <td>F6</td>\n",
       "    </tr>\n",
       "    <tr>\n",
       "      <th>7</th>\n",
       "      <td>NaN</td>\n",
       "      <td>NaN</td>\n",
       "      <td>NaN</td>\n",
       "      <td>NaN</td>\n",
       "      <td>B7</td>\n",
       "      <td>D7</td>\n",
       "      <td>F7</td>\n",
       "    </tr>\n",
       "  </tbody>\n",
       "</table>\n",
       "</div>"
      ],
      "text/plain": [
       "     A    B    C    D    B    D    F\n",
       "0   A0   B0   C0   D0  NaN  NaN  NaN\n",
       "1   A1   B1   C1   D1  NaN  NaN  NaN\n",
       "2   A2   B2   C2   D2   B2   D2   F2\n",
       "3   A3   B3   C3   D3   B3   D3   F3\n",
       "6  NaN  NaN  NaN  NaN   B6   D6   F6\n",
       "7  NaN  NaN  NaN  NaN   B7   D7   F7"
      ]
     },
     "execution_count": 32,
     "metadata": {},
     "output_type": "execute_result"
    }
   ],
   "source": [
    "#Concat option is done on columns, i.e axis =1\n",
    "result = pd.concat([df1,df4],axis=1,sort=False)\n",
    "result"
   ]
  },
  {
   "cell_type": "markdown",
   "metadata": {},
   "source": [
    "- Here is the same thing with `join='inner'`:\n",
    "![Image](./images/concat_3.png)\n"
   ]
  },
  {
   "cell_type": "code",
   "execution_count": 33,
   "metadata": {},
   "outputs": [
    {
     "data": {
      "text/html": [
       "<div>\n",
       "<style scoped>\n",
       "    .dataframe tbody tr th:only-of-type {\n",
       "        vertical-align: middle;\n",
       "    }\n",
       "\n",
       "    .dataframe tbody tr th {\n",
       "        vertical-align: top;\n",
       "    }\n",
       "\n",
       "    .dataframe thead th {\n",
       "        text-align: right;\n",
       "    }\n",
       "</style>\n",
       "<table border=\"1\" class=\"dataframe\">\n",
       "  <thead>\n",
       "    <tr style=\"text-align: right;\">\n",
       "      <th></th>\n",
       "      <th>A</th>\n",
       "      <th>B</th>\n",
       "      <th>C</th>\n",
       "      <th>D</th>\n",
       "      <th>B</th>\n",
       "      <th>D</th>\n",
       "      <th>F</th>\n",
       "    </tr>\n",
       "  </thead>\n",
       "  <tbody>\n",
       "    <tr>\n",
       "      <th>2</th>\n",
       "      <td>A2</td>\n",
       "      <td>B2</td>\n",
       "      <td>C2</td>\n",
       "      <td>D2</td>\n",
       "      <td>B2</td>\n",
       "      <td>D2</td>\n",
       "      <td>F2</td>\n",
       "    </tr>\n",
       "    <tr>\n",
       "      <th>3</th>\n",
       "      <td>A3</td>\n",
       "      <td>B3</td>\n",
       "      <td>C3</td>\n",
       "      <td>D3</td>\n",
       "      <td>B3</td>\n",
       "      <td>D3</td>\n",
       "      <td>F3</td>\n",
       "    </tr>\n",
       "  </tbody>\n",
       "</table>\n",
       "</div>"
      ],
      "text/plain": [
       "    A   B   C   D   B   D   F\n",
       "2  A2  B2  C2  D2  B2  D2  F2\n",
       "3  A3  B3  C3  D3  B3  D3  F3"
      ]
     },
     "execution_count": 33,
     "metadata": {},
     "output_type": "execute_result"
    }
   ],
   "source": [
    "result = pd.concat([df1, df4], axis=1, join='inner')\n",
    "result"
   ]
  },
  {
   "cell_type": "markdown",
<<<<<<< HEAD
   "metadata": {},
=======
   "metadata": {
    "jupyter": {
     "source_hidden": true
    }
   },
>>>>>>> master
   "source": [
    "### b. merge() for combining dataframes using SQL like joins\n",
    "\n",
    "- Another ubiquitous operation related to DataFrames is the merging operation. \n",
    "- Two DataFrames might hold different kinds of information about the same entity and linked by some common feature/column.\n",
    "- We can use **merge()** to combine such dataframes in pandas.\n",
    "\n",
    "#### Creating dummy data"
   ]
  },
  {
   "cell_type": "code",
   "execution_count": 37,
   "metadata": {},
   "outputs": [],
   "source": [
    "# create dummy data\n",
    "df_a = pd.DataFrame({\n",
    "        'subject_id': ['1', '2', '3', '4', '5'],\n",
    "        'first_name': ['Alex', 'Amy', 'Allen', 'Alice', 'Ayoung'], \n",
    "        'last_name': ['Anderson', 'Ackerman', 'Ali', 'Aoni', 'Atiches']})\n",
    "\n",
    "df_b = pd.DataFrame({\n",
    "        'subject_id': ['4', '5', '6', '7', '8'],\n",
    "        'first_name': ['Billy', 'Brian', 'Bran', 'Bryce', 'Betty'], \n",
    "        'last_name': ['Bonder', 'Black', 'Balwner', 'Brice', 'Btisan']})\n",
    "\n",
    "df_c = pd.DataFrame({\n",
    "        'subject_id': ['1', '2', '3', '4', '5', '7', '8', '9', '10', '11'],\n",
    "        'test_id': [51, 15, 15, 61, 16, 14, 15, 1, 61, 16]})"
   ]
  },
  {
   "cell_type": "markdown",
   "metadata": {},
   "source": [
    "Now these are our dataframes:\n",
    "![Image](./images/merge_4.png)\n",
    " \n",
    "\n",
    "- Let's start with a basic join, we want to combine `df_a` with `df_c` based on the `subject_id` column."
   ]
  },
  {
   "cell_type": "code",
   "execution_count": 53,
   "metadata": {},
   "outputs": [
    {
     "data": {
      "text/html": [
       "<div>\n",
       "<style scoped>\n",
       "    .dataframe tbody tr th:only-of-type {\n",
       "        vertical-align: middle;\n",
       "    }\n",
       "\n",
       "    .dataframe tbody tr th {\n",
       "        vertical-align: top;\n",
       "    }\n",
       "\n",
       "    .dataframe thead th {\n",
       "        text-align: right;\n",
       "    }\n",
       "</style>\n",
       "<table border=\"1\" class=\"dataframe\">\n",
       "  <thead>\n",
       "    <tr style=\"text-align: right;\">\n",
       "      <th></th>\n",
       "      <th>subject_id</th>\n",
       "      <th>first_name</th>\n",
       "      <th>last_name</th>\n",
       "      <th>test_id</th>\n",
       "    </tr>\n",
       "  </thead>\n",
       "  <tbody>\n",
       "    <tr>\n",
       "      <th>0</th>\n",
       "      <td>1</td>\n",
       "      <td>Alex</td>\n",
       "      <td>Anderson</td>\n",
       "      <td>51</td>\n",
       "    </tr>\n",
       "    <tr>\n",
       "      <th>1</th>\n",
       "      <td>2</td>\n",
       "      <td>Amy</td>\n",
       "      <td>Ackerman</td>\n",
       "      <td>15</td>\n",
       "    </tr>\n",
       "    <tr>\n",
       "      <th>2</th>\n",
       "      <td>3</td>\n",
       "      <td>Allen</td>\n",
       "      <td>Ali</td>\n",
       "      <td>15</td>\n",
       "    </tr>\n",
       "    <tr>\n",
       "      <th>3</th>\n",
       "      <td>4</td>\n",
       "      <td>Alice</td>\n",
       "      <td>Aoni</td>\n",
       "      <td>61</td>\n",
       "    </tr>\n",
       "    <tr>\n",
       "      <th>4</th>\n",
       "      <td>5</td>\n",
       "      <td>Ayoung</td>\n",
       "      <td>Atiches</td>\n",
       "      <td>16</td>\n",
       "    </tr>\n",
       "  </tbody>\n",
       "</table>\n",
       "</div>"
      ],
      "text/plain": [
       "  subject_id first_name last_name  test_id\n",
       "0          1       Alex  Anderson       51\n",
       "1          2        Amy  Ackerman       15\n",
       "2          3      Allen       Ali       15\n",
       "3          4      Alice      Aoni       61\n",
       "4          5     Ayoung   Atiches       16"
      ]
     },
     "execution_count": 53,
     "metadata": {},
     "output_type": "execute_result"
    }
   ],
   "source": [
    "# combine two dataframe using subject id (which is a very basic join)\n",
    "pd.merge(df_a,df_c,on='subject_id')"
   ]
  },
  {
   "cell_type": "markdown",
   "metadata": {},
   "source": [
    "- Now that we have done a basic join, let's get into **some commmon SQL joins.**\n",
    "\n",
    "#### Merge with outer join\n",
    "\n",
    "- “Full outer join produces the set of all records in Table A and Table B, with matching records from both sides where available. If there is no match, the missing side will contain null.”\n",
    "![Image](./images/merge_8.png)"
   ]
  },
  {
   "cell_type": "code",
   "execution_count": 41,
   "metadata": {},
   "outputs": [
    {
     "data": {
      "text/html": [
       "<div>\n",
       "<style scoped>\n",
       "    .dataframe tbody tr th:only-of-type {\n",
       "        vertical-align: middle;\n",
       "    }\n",
       "\n",
       "    .dataframe tbody tr th {\n",
       "        vertical-align: top;\n",
       "    }\n",
       "\n",
       "    .dataframe thead th {\n",
       "        text-align: right;\n",
       "    }\n",
       "</style>\n",
       "<table border=\"1\" class=\"dataframe\">\n",
       "  <thead>\n",
       "    <tr style=\"text-align: right;\">\n",
       "      <th></th>\n",
       "      <th>subject_id</th>\n",
       "      <th>first_name_x</th>\n",
       "      <th>last_name_x</th>\n",
       "      <th>first_name_y</th>\n",
       "      <th>last_name_y</th>\n",
       "    </tr>\n",
       "  </thead>\n",
       "  <tbody>\n",
       "    <tr>\n",
       "      <th>0</th>\n",
       "      <td>1</td>\n",
       "      <td>Alex</td>\n",
       "      <td>Anderson</td>\n",
       "      <td>NaN</td>\n",
       "      <td>NaN</td>\n",
       "    </tr>\n",
       "    <tr>\n",
       "      <th>1</th>\n",
       "      <td>2</td>\n",
       "      <td>Amy</td>\n",
       "      <td>Ackerman</td>\n",
       "      <td>NaN</td>\n",
       "      <td>NaN</td>\n",
       "    </tr>\n",
       "    <tr>\n",
       "      <th>2</th>\n",
       "      <td>3</td>\n",
       "      <td>Allen</td>\n",
       "      <td>Ali</td>\n",
       "      <td>NaN</td>\n",
       "      <td>NaN</td>\n",
       "    </tr>\n",
       "    <tr>\n",
       "      <th>3</th>\n",
       "      <td>4</td>\n",
       "      <td>Alice</td>\n",
       "      <td>Aoni</td>\n",
       "      <td>Billy</td>\n",
       "      <td>Bonder</td>\n",
       "    </tr>\n",
       "    <tr>\n",
       "      <th>4</th>\n",
       "      <td>5</td>\n",
       "      <td>Ayoung</td>\n",
       "      <td>Atiches</td>\n",
       "      <td>Brian</td>\n",
       "      <td>Black</td>\n",
       "    </tr>\n",
       "    <tr>\n",
       "      <th>5</th>\n",
       "      <td>6</td>\n",
       "      <td>NaN</td>\n",
       "      <td>NaN</td>\n",
       "      <td>Bran</td>\n",
       "      <td>Balwner</td>\n",
       "    </tr>\n",
       "    <tr>\n",
       "      <th>6</th>\n",
       "      <td>7</td>\n",
       "      <td>NaN</td>\n",
       "      <td>NaN</td>\n",
       "      <td>Bryce</td>\n",
       "      <td>Brice</td>\n",
       "    </tr>\n",
       "    <tr>\n",
       "      <th>7</th>\n",
       "      <td>8</td>\n",
       "      <td>NaN</td>\n",
       "      <td>NaN</td>\n",
       "      <td>Betty</td>\n",
       "      <td>Btisan</td>\n",
       "    </tr>\n",
       "  </tbody>\n",
       "</table>\n",
       "</div>"
      ],
      "text/plain": [
       "  subject_id first_name_x last_name_x first_name_y last_name_y\n",
       "0          1         Alex    Anderson          NaN         NaN\n",
       "1          2          Amy    Ackerman          NaN         NaN\n",
       "2          3        Allen         Ali          NaN         NaN\n",
       "3          4        Alice        Aoni        Billy      Bonder\n",
       "4          5       Ayoung     Atiches        Brian       Black\n",
       "5          6          NaN         NaN         Bran     Balwner\n",
       "6          7          NaN         NaN        Bryce       Brice\n",
       "7          8          NaN         NaN        Betty      Btisan"
      ]
     },
     "execution_count": 41,
     "metadata": {},
     "output_type": "execute_result"
    }
   ],
   "source": [
    "pd.merge(df_a, df_b, on='subject_id', how='outer')"
   ]
  },
  {
   "cell_type": "markdown",
   "metadata": {},
   "source": [
    "#### Merge with inner join\n",
    "\n",
    "- “Inner join produces only the set of records that match in both Table A and Table B.”\n",
    "![Image](./images/merge_5.png)\n"
   ]
  },
  {
   "cell_type": "code",
   "execution_count": 43,
   "metadata": {},
   "outputs": [
    {
     "data": {
      "text/html": [
       "<div>\n",
       "<style scoped>\n",
       "    .dataframe tbody tr th:only-of-type {\n",
       "        vertical-align: middle;\n",
       "    }\n",
       "\n",
       "    .dataframe tbody tr th {\n",
       "        vertical-align: top;\n",
       "    }\n",
       "\n",
       "    .dataframe thead th {\n",
       "        text-align: right;\n",
       "    }\n",
       "</style>\n",
       "<table border=\"1\" class=\"dataframe\">\n",
       "  <thead>\n",
       "    <tr style=\"text-align: right;\">\n",
       "      <th></th>\n",
       "      <th>subject_id</th>\n",
       "      <th>first_name_x</th>\n",
       "      <th>last_name_x</th>\n",
       "      <th>first_name_y</th>\n",
       "      <th>last_name_y</th>\n",
       "    </tr>\n",
       "  </thead>\n",
       "  <tbody>\n",
       "    <tr>\n",
       "      <th>0</th>\n",
       "      <td>4</td>\n",
       "      <td>Alice</td>\n",
       "      <td>Aoni</td>\n",
       "      <td>Billy</td>\n",
       "      <td>Bonder</td>\n",
       "    </tr>\n",
       "    <tr>\n",
       "      <th>1</th>\n",
       "      <td>5</td>\n",
       "      <td>Ayoung</td>\n",
       "      <td>Atiches</td>\n",
       "      <td>Brian</td>\n",
       "      <td>Black</td>\n",
       "    </tr>\n",
       "  </tbody>\n",
       "</table>\n",
       "</div>"
      ],
      "text/plain": [
       "  subject_id first_name_x last_name_x first_name_y last_name_y\n",
       "0          4        Alice        Aoni        Billy      Bonder\n",
       "1          5       Ayoung     Atiches        Brian       Black"
      ]
     },
     "execution_count": 43,
     "metadata": {},
     "output_type": "execute_result"
    }
   ],
   "source": [
    "pd.merge(df_a,df_b,on='subject_id',how='inner')"
   ]
  },
  {
   "cell_type": "markdown",
   "metadata": {},
   "source": [
    "#### Merge with right join\n",
    "\n",
    "- “Right outer join produces a complete set of records from Table B, with the matching records (where available) in Table A. If there is no match, the left side will contain null.”\n",
    "![Image](./images/merge_7.png)\n",
    " "
   ]
  },
  {
   "cell_type": "code",
   "execution_count": 45,
   "metadata": {},
   "outputs": [
    {
     "data": {
      "text/html": [
       "<div>\n",
       "<style scoped>\n",
       "    .dataframe tbody tr th:only-of-type {\n",
       "        vertical-align: middle;\n",
       "    }\n",
       "\n",
       "    .dataframe tbody tr th {\n",
       "        vertical-align: top;\n",
       "    }\n",
       "\n",
       "    .dataframe thead th {\n",
       "        text-align: right;\n",
       "    }\n",
       "</style>\n",
       "<table border=\"1\" class=\"dataframe\">\n",
       "  <thead>\n",
       "    <tr style=\"text-align: right;\">\n",
       "      <th></th>\n",
       "      <th>subject_id</th>\n",
       "      <th>first_name_x</th>\n",
       "      <th>last_name_x</th>\n",
       "      <th>first_name_y</th>\n",
       "      <th>last_name_y</th>\n",
       "    </tr>\n",
       "  </thead>\n",
       "  <tbody>\n",
       "    <tr>\n",
       "      <th>0</th>\n",
       "      <td>4</td>\n",
       "      <td>Alice</td>\n",
       "      <td>Aoni</td>\n",
       "      <td>Billy</td>\n",
       "      <td>Bonder</td>\n",
       "    </tr>\n",
       "    <tr>\n",
       "      <th>1</th>\n",
       "      <td>5</td>\n",
       "      <td>Ayoung</td>\n",
       "      <td>Atiches</td>\n",
       "      <td>Brian</td>\n",
       "      <td>Black</td>\n",
       "    </tr>\n",
       "    <tr>\n",
       "      <th>2</th>\n",
       "      <td>6</td>\n",
       "      <td>NaN</td>\n",
       "      <td>NaN</td>\n",
       "      <td>Bran</td>\n",
       "      <td>Balwner</td>\n",
       "    </tr>\n",
       "    <tr>\n",
       "      <th>3</th>\n",
       "      <td>7</td>\n",
       "      <td>NaN</td>\n",
       "      <td>NaN</td>\n",
       "      <td>Bryce</td>\n",
       "      <td>Brice</td>\n",
       "    </tr>\n",
       "    <tr>\n",
       "      <th>4</th>\n",
       "      <td>8</td>\n",
       "      <td>NaN</td>\n",
       "      <td>NaN</td>\n",
       "      <td>Betty</td>\n",
       "      <td>Btisan</td>\n",
       "    </tr>\n",
       "  </tbody>\n",
       "</table>\n",
       "</div>"
      ],
      "text/plain": [
       "  subject_id first_name_x last_name_x first_name_y last_name_y\n",
       "0          4        Alice        Aoni        Billy      Bonder\n",
       "1          5       Ayoung     Atiches        Brian       Black\n",
       "2          6          NaN         NaN         Bran     Balwner\n",
       "3          7          NaN         NaN        Bryce       Brice\n",
       "4          8          NaN         NaN        Betty      Btisan"
      ]
     },
     "execution_count": 45,
     "metadata": {},
     "output_type": "execute_result"
    }
   ],
   "source": [
    "pd.merge(df_a,df_b,on='subject_id',how='right')"
   ]
  },
  {
   "cell_type": "markdown",
   "metadata": {},
   "source": [
    "#### Merge with left join\n",
    "\n",
    "- “Left outer join produces a complete set of records from Table A, with the matching records (where available) in Table B. If there is no match, the right side will contain null.”\n",
    "**Note** : **on the right side or the table or df2 of the right side, where the subject_id of the df2(42,343,3), if this id are present in df2 and not present in df1, because of the left join is on the first table df1, those id are dropped it would not show**\n",
    "\n",
    "- ![Image](./images/merge_6.png)\n"
   ]
  },
  {
   "cell_type": "markdown",
   "metadata": {},
   "source": [
    "### Merge OR Concat : Which to use when?\n",
    "\n",
    "1. After learning both of the functions in detail, chances are that you might be confused which to use when. \n",
    "2. One major difference is that `merge()` is used to combine dataframes on the basis of values of **common columns**. While`concat()` is used to **append dataframes** one below the other (or sideways, depending on whether the axis option is set to 0 or 1). (column name based)\n",
    "3. Exact usage depends upon the kind of data you have and analysis you want to perform. (value inside the column)"
   ]
  },
  {
   "cell_type": "markdown",
   "metadata": {},
   "source": [
    " ## Apply function"
   ]
  },
  {
   "cell_type": "code",
   "execution_count": 24,
   "metadata": {},
   "outputs": [
    {
     "data": {
      "text/html": [
       "<div>\n",
       "<style scoped>\n",
       "    .dataframe tbody tr th:only-of-type {\n",
       "        vertical-align: middle;\n",
       "    }\n",
       "\n",
       "    .dataframe tbody tr th {\n",
       "        vertical-align: top;\n",
       "    }\n",
       "\n",
       "    .dataframe thead th {\n",
       "        text-align: right;\n",
       "    }\n",
       "</style>\n",
       "<table border=\"1\" class=\"dataframe\">\n",
       "  <thead>\n",
       "    <tr style=\"text-align: right;\">\n",
       "      <th></th>\n",
       "      <th>Item_Identifier</th>\n",
       "      <th>Item_Weight</th>\n",
       "      <th>Item_Fat_Content</th>\n",
       "      <th>Item_Visibility</th>\n",
       "      <th>Item_Type</th>\n",
       "      <th>Item_MRP</th>\n",
       "      <th>Outlet_Identifier</th>\n",
       "      <th>Outlet_Establishment_Year</th>\n",
       "      <th>Outlet_Size</th>\n",
       "      <th>Outlet_Location_Type</th>\n",
       "      <th>Outlet_Type</th>\n",
       "      <th>Item_Outlet_Sales</th>\n",
       "    </tr>\n",
       "  </thead>\n",
       "  <tbody>\n",
       "    <tr>\n",
       "      <th>0</th>\n",
       "      <td>FDA15</td>\n",
       "      <td>9.300</td>\n",
       "      <td>Low Fat</td>\n",
       "      <td>0.016047</td>\n",
       "      <td>Dairy</td>\n",
       "      <td>249.8092</td>\n",
       "      <td>OUT049</td>\n",
       "      <td>1999</td>\n",
       "      <td>Medium</td>\n",
       "      <td>Tier 1</td>\n",
       "      <td>Supermarket Type1</td>\n",
       "      <td>3735.1380</td>\n",
       "    </tr>\n",
       "    <tr>\n",
       "      <th>1</th>\n",
       "      <td>DRC01</td>\n",
       "      <td>5.920</td>\n",
       "      <td>Regular</td>\n",
       "      <td>0.019278</td>\n",
       "      <td>Soft Drinks</td>\n",
       "      <td>48.2692</td>\n",
       "      <td>OUT018</td>\n",
       "      <td>2009</td>\n",
       "      <td>Medium</td>\n",
       "      <td>Tier 3</td>\n",
       "      <td>Supermarket Type2</td>\n",
       "      <td>443.4228</td>\n",
       "    </tr>\n",
       "    <tr>\n",
       "      <th>2</th>\n",
       "      <td>FDN15</td>\n",
       "      <td>17.500</td>\n",
       "      <td>Low Fat</td>\n",
       "      <td>0.016760</td>\n",
       "      <td>Meat</td>\n",
       "      <td>141.6180</td>\n",
       "      <td>OUT049</td>\n",
       "      <td>1999</td>\n",
       "      <td>Medium</td>\n",
       "      <td>Tier 1</td>\n",
       "      <td>Supermarket Type1</td>\n",
       "      <td>2097.2700</td>\n",
       "    </tr>\n",
       "    <tr>\n",
       "      <th>3</th>\n",
       "      <td>NCD19</td>\n",
       "      <td>8.930</td>\n",
       "      <td>Low Fat</td>\n",
       "      <td>0.000000</td>\n",
       "      <td>Household</td>\n",
       "      <td>53.8614</td>\n",
       "      <td>OUT013</td>\n",
       "      <td>1987</td>\n",
       "      <td>High</td>\n",
       "      <td>Tier 3</td>\n",
       "      <td>Supermarket Type1</td>\n",
       "      <td>994.7052</td>\n",
       "    </tr>\n",
       "    <tr>\n",
       "      <th>4</th>\n",
       "      <td>FDP36</td>\n",
       "      <td>10.395</td>\n",
       "      <td>Regular</td>\n",
       "      <td>0.000000</td>\n",
       "      <td>Baking Goods</td>\n",
       "      <td>51.4008</td>\n",
       "      <td>OUT018</td>\n",
       "      <td>2009</td>\n",
       "      <td>Medium</td>\n",
       "      <td>Tier 3</td>\n",
       "      <td>Supermarket Type2</td>\n",
       "      <td>556.6088</td>\n",
       "    </tr>\n",
       "  </tbody>\n",
       "</table>\n",
       "</div>"
      ],
      "text/plain": [
       "  Item_Identifier  Item_Weight Item_Fat_Content  Item_Visibility  \\\n",
       "0           FDA15        9.300          Low Fat         0.016047   \n",
       "1           DRC01        5.920          Regular         0.019278   \n",
       "2           FDN15       17.500          Low Fat         0.016760   \n",
       "3           NCD19        8.930          Low Fat         0.000000   \n",
       "4           FDP36       10.395          Regular         0.000000   \n",
       "\n",
       "      Item_Type  Item_MRP Outlet_Identifier  Outlet_Establishment_Year  \\\n",
       "0         Dairy  249.8092            OUT049                       1999   \n",
       "1   Soft Drinks   48.2692            OUT018                       2009   \n",
       "2          Meat  141.6180            OUT049                       1999   \n",
       "3     Household   53.8614            OUT013                       1987   \n",
       "4  Baking Goods   51.4008            OUT018                       2009   \n",
       "\n",
       "  Outlet_Size Outlet_Location_Type        Outlet_Type  Item_Outlet_Sales  \n",
       "0      Medium               Tier 1  Supermarket Type1          3735.1380  \n",
       "1      Medium               Tier 3  Supermarket Type2           443.4228  \n",
       "2      Medium               Tier 1  Supermarket Type1          2097.2700  \n",
       "3        High               Tier 3  Supermarket Type1           994.7052  \n",
       "4      Medium               Tier 3  Supermarket Type2           556.6088  "
      ]
     },
     "execution_count": 24,
     "metadata": {},
     "output_type": "execute_result"
    }
   ],
   "source": [
    "import pandas as pd\n",
    "import numpy as np\n",
    "\n",
    "# read the dataset\n",
    "data_BM = pd.read_csv('./iris/bigmart_data.csv')\n",
    "# drop the null values\n",
    "data_BM = data_BM.dropna(how=\"any\")\n",
    "# reset index after dropping\n",
    "data_BM = data_BM.reset_index(drop=True)\n",
    "# view the top results\n",
    "data_BM.head()"
   ]
  },
  {
   "cell_type": "markdown",
   "metadata": {},
   "source": [
    "### Apply function\n",
    "\n",
    "- Apply function can be used to perform pre-processing/data-manipulation on your data both row wise and column wise.\n",
    "- It is a faster method than simply using a **for** loop over your dataframe.\n",
    "- Almost every time I need to iterate over a dataframe or it's rows/columns, I will think of using the `apply`.\n",
    "- Hence, it is widely used in feature engineering code."
   ]
  },
  {
   "cell_type": "code",
   "execution_count": 26,
   "metadata": {},
   "outputs": [
    {
     "data": {
      "text/html": [
       "<div>\n",
       "<style scoped>\n",
       "    .dataframe tbody tr th:only-of-type {\n",
       "        vertical-align: middle;\n",
       "    }\n",
       "\n",
       "    .dataframe tbody tr th {\n",
       "        vertical-align: top;\n",
       "    }\n",
       "\n",
       "    .dataframe thead th {\n",
       "        text-align: right;\n",
       "    }\n",
       "</style>\n",
       "<table border=\"1\" class=\"dataframe\">\n",
       "  <thead>\n",
       "    <tr style=\"text-align: right;\">\n",
       "      <th></th>\n",
       "      <th>Item_Identifier</th>\n",
       "      <th>Item_Weight</th>\n",
       "      <th>Item_Fat_Content</th>\n",
       "      <th>Item_Visibility</th>\n",
       "      <th>Item_Type</th>\n",
       "      <th>Item_MRP</th>\n",
       "      <th>Outlet_Identifier</th>\n",
       "      <th>Outlet_Establishment_Year</th>\n",
       "      <th>Outlet_Size</th>\n",
       "      <th>Outlet_Location_Type</th>\n",
       "      <th>Outlet_Type</th>\n",
       "      <th>Item_Outlet_Sales</th>\n",
       "    </tr>\n",
       "  </thead>\n",
       "  <tbody>\n",
       "    <tr>\n",
       "      <th>0</th>\n",
       "      <td>FDA15</td>\n",
       "      <td>9.300</td>\n",
       "      <td>Low Fat</td>\n",
       "      <td>0.016047</td>\n",
       "      <td>Dairy</td>\n",
       "      <td>249.8092</td>\n",
       "      <td>OUT049</td>\n",
       "      <td>1999</td>\n",
       "      <td>Medium</td>\n",
       "      <td>Tier 1</td>\n",
       "      <td>Supermarket Type1</td>\n",
       "      <td>3735.1380</td>\n",
       "    </tr>\n",
       "    <tr>\n",
       "      <th>1</th>\n",
       "      <td>DRC01</td>\n",
       "      <td>5.920</td>\n",
       "      <td>Regular</td>\n",
       "      <td>0.019278</td>\n",
       "      <td>Soft Drinks</td>\n",
       "      <td>48.2692</td>\n",
       "      <td>OUT018</td>\n",
       "      <td>2009</td>\n",
       "      <td>Medium</td>\n",
       "      <td>Tier 3</td>\n",
       "      <td>Supermarket Type2</td>\n",
       "      <td>443.4228</td>\n",
       "    </tr>\n",
       "    <tr>\n",
       "      <th>2</th>\n",
       "      <td>FDN15</td>\n",
       "      <td>17.500</td>\n",
       "      <td>Low Fat</td>\n",
       "      <td>0.016760</td>\n",
       "      <td>Meat</td>\n",
       "      <td>141.6180</td>\n",
       "      <td>OUT049</td>\n",
       "      <td>1999</td>\n",
       "      <td>Medium</td>\n",
       "      <td>Tier 1</td>\n",
       "      <td>Supermarket Type1</td>\n",
       "      <td>2097.2700</td>\n",
       "    </tr>\n",
       "    <tr>\n",
       "      <th>3</th>\n",
       "      <td>NCD19</td>\n",
       "      <td>8.930</td>\n",
       "      <td>Low Fat</td>\n",
       "      <td>0.000000</td>\n",
       "      <td>Household</td>\n",
       "      <td>53.8614</td>\n",
       "      <td>OUT013</td>\n",
       "      <td>1987</td>\n",
       "      <td>High</td>\n",
       "      <td>Tier 3</td>\n",
       "      <td>Supermarket Type1</td>\n",
       "      <td>994.7052</td>\n",
       "    </tr>\n",
       "    <tr>\n",
       "      <th>4</th>\n",
       "      <td>FDP36</td>\n",
       "      <td>10.395</td>\n",
       "      <td>Regular</td>\n",
       "      <td>0.000000</td>\n",
       "      <td>Baking Goods</td>\n",
       "      <td>51.4008</td>\n",
       "      <td>OUT018</td>\n",
       "      <td>2009</td>\n",
       "      <td>Medium</td>\n",
       "      <td>Tier 3</td>\n",
       "      <td>Supermarket Type2</td>\n",
       "      <td>556.6088</td>\n",
       "    </tr>\n",
       "    <tr>\n",
       "      <th>...</th>\n",
       "      <td>...</td>\n",
       "      <td>...</td>\n",
       "      <td>...</td>\n",
       "      <td>...</td>\n",
       "      <td>...</td>\n",
       "      <td>...</td>\n",
       "      <td>...</td>\n",
       "      <td>...</td>\n",
       "      <td>...</td>\n",
       "      <td>...</td>\n",
       "      <td>...</td>\n",
       "      <td>...</td>\n",
       "    </tr>\n",
       "    <tr>\n",
       "      <th>4645</th>\n",
       "      <td>FDF53</td>\n",
       "      <td>20.750</td>\n",
       "      <td>reg</td>\n",
       "      <td>0.083607</td>\n",
       "      <td>Frozen Foods</td>\n",
       "      <td>178.8318</td>\n",
       "      <td>OUT046</td>\n",
       "      <td>1997</td>\n",
       "      <td>Small</td>\n",
       "      <td>Tier 1</td>\n",
       "      <td>Supermarket Type1</td>\n",
       "      <td>3608.6360</td>\n",
       "    </tr>\n",
       "    <tr>\n",
       "      <th>4646</th>\n",
       "      <td>FDF22</td>\n",
       "      <td>6.865</td>\n",
       "      <td>Low Fat</td>\n",
       "      <td>0.056783</td>\n",
       "      <td>Snack Foods</td>\n",
       "      <td>214.5218</td>\n",
       "      <td>OUT013</td>\n",
       "      <td>1987</td>\n",
       "      <td>High</td>\n",
       "      <td>Tier 3</td>\n",
       "      <td>Supermarket Type1</td>\n",
       "      <td>2778.3834</td>\n",
       "    </tr>\n",
       "    <tr>\n",
       "      <th>4647</th>\n",
       "      <td>NCJ29</td>\n",
       "      <td>10.600</td>\n",
       "      <td>Low Fat</td>\n",
       "      <td>0.035186</td>\n",
       "      <td>Health and Hygiene</td>\n",
       "      <td>85.1224</td>\n",
       "      <td>OUT035</td>\n",
       "      <td>2004</td>\n",
       "      <td>Small</td>\n",
       "      <td>Tier 2</td>\n",
       "      <td>Supermarket Type1</td>\n",
       "      <td>1193.1136</td>\n",
       "    </tr>\n",
       "    <tr>\n",
       "      <th>4648</th>\n",
       "      <td>FDN46</td>\n",
       "      <td>7.210</td>\n",
       "      <td>Regular</td>\n",
       "      <td>0.145221</td>\n",
       "      <td>Snack Foods</td>\n",
       "      <td>103.1332</td>\n",
       "      <td>OUT018</td>\n",
       "      <td>2009</td>\n",
       "      <td>Medium</td>\n",
       "      <td>Tier 3</td>\n",
       "      <td>Supermarket Type2</td>\n",
       "      <td>1845.5976</td>\n",
       "    </tr>\n",
       "    <tr>\n",
       "      <th>4649</th>\n",
       "      <td>DRG01</td>\n",
       "      <td>14.800</td>\n",
       "      <td>Low Fat</td>\n",
       "      <td>0.044878</td>\n",
       "      <td>Soft Drinks</td>\n",
       "      <td>75.4670</td>\n",
       "      <td>OUT046</td>\n",
       "      <td>1997</td>\n",
       "      <td>Small</td>\n",
       "      <td>Tier 1</td>\n",
       "      <td>Supermarket Type1</td>\n",
       "      <td>765.6700</td>\n",
       "    </tr>\n",
       "  </tbody>\n",
       "</table>\n",
       "<p>4650 rows × 12 columns</p>\n",
       "</div>"
      ],
      "text/plain": [
       "     Item_Identifier  Item_Weight Item_Fat_Content  Item_Visibility  \\\n",
       "0              FDA15        9.300          Low Fat         0.016047   \n",
       "1              DRC01        5.920          Regular         0.019278   \n",
       "2              FDN15       17.500          Low Fat         0.016760   \n",
       "3              NCD19        8.930          Low Fat         0.000000   \n",
       "4              FDP36       10.395          Regular         0.000000   \n",
       "...              ...          ...              ...              ...   \n",
       "4645           FDF53       20.750              reg         0.083607   \n",
       "4646           FDF22        6.865          Low Fat         0.056783   \n",
       "4647           NCJ29       10.600          Low Fat         0.035186   \n",
       "4648           FDN46        7.210          Regular         0.145221   \n",
       "4649           DRG01       14.800          Low Fat         0.044878   \n",
       "\n",
       "               Item_Type  Item_MRP Outlet_Identifier  \\\n",
       "0                  Dairy  249.8092            OUT049   \n",
       "1            Soft Drinks   48.2692            OUT018   \n",
       "2                   Meat  141.6180            OUT049   \n",
       "3              Household   53.8614            OUT013   \n",
       "4           Baking Goods   51.4008            OUT018   \n",
       "...                  ...       ...               ...   \n",
       "4645        Frozen Foods  178.8318            OUT046   \n",
       "4646         Snack Foods  214.5218            OUT013   \n",
       "4647  Health and Hygiene   85.1224            OUT035   \n",
       "4648         Snack Foods  103.1332            OUT018   \n",
       "4649         Soft Drinks   75.4670            OUT046   \n",
       "\n",
       "      Outlet_Establishment_Year Outlet_Size Outlet_Location_Type  \\\n",
       "0                          1999      Medium               Tier 1   \n",
       "1                          2009      Medium               Tier 3   \n",
       "2                          1999      Medium               Tier 1   \n",
       "3                          1987        High               Tier 3   \n",
       "4                          2009      Medium               Tier 3   \n",
       "...                         ...         ...                  ...   \n",
       "4645                       1997       Small               Tier 1   \n",
       "4646                       1987        High               Tier 3   \n",
       "4647                       2004       Small               Tier 2   \n",
       "4648                       2009      Medium               Tier 3   \n",
       "4649                       1997       Small               Tier 1   \n",
       "\n",
       "            Outlet_Type  Item_Outlet_Sales  \n",
       "0     Supermarket Type1          3735.1380  \n",
       "1     Supermarket Type2           443.4228  \n",
       "2     Supermarket Type1          2097.2700  \n",
       "3     Supermarket Type1           994.7052  \n",
       "4     Supermarket Type2           556.6088  \n",
       "...                 ...                ...  \n",
       "4645  Supermarket Type1          3608.6360  \n",
       "4646  Supermarket Type1          2778.3834  \n",
       "4647  Supermarket Type1          1193.1136  \n",
       "4648  Supermarket Type2          1845.5976  \n",
       "4649  Supermarket Type1           765.6700  \n",
       "\n",
       "[4650 rows x 12 columns]"
      ]
     },
     "execution_count": 26,
     "metadata": {},
     "output_type": "execute_result"
    }
   ],
   "source": [
    "data_BM.apply(lambda x:x)"
   ]
  },
  {
   "cell_type": "code",
   "execution_count": 27,
   "metadata": {},
   "outputs": [
    {
     "data": {
      "text/plain": [
       "Item_Identifier                          FDA15\n",
       "Item_Weight                                9.3\n",
       "Item_Fat_Content                       Low Fat\n",
       "Item_Visibility                      0.0160473\n",
       "Item_Type                                Dairy\n",
       "Item_MRP                               249.809\n",
       "Outlet_Identifier                       OUT049\n",
       "Outlet_Establishment_Year                 1999\n",
       "Outlet_Size                             Medium\n",
       "Outlet_Location_Type                    Tier 1\n",
       "Outlet_Type                  Supermarket Type1\n",
       "Item_Outlet_Sales                      3735.14\n",
       "dtype: object"
      ]
     },
     "execution_count": 27,
     "metadata": {},
     "output_type": "execute_result"
    }
   ],
   "source": [
    "# access the first row\n",
    "data_BM.apply(lambda x :x[0])"
   ]
  },
  {
   "cell_type": "code",
   "execution_count": 28,
   "metadata": {},
   "outputs": [
    {
     "data": {
      "text/plain": [
       "0       FDA15\n",
       "1       DRC01\n",
       "2       FDN15\n",
       "3       NCD19\n",
       "4       FDP36\n",
       "        ...  \n",
       "4645    FDF53\n",
       "4646    FDF22\n",
       "4647    NCJ29\n",
       "4648    FDN46\n",
       "4649    DRG01\n",
       "Length: 4650, dtype: object"
      ]
     },
     "execution_count": 28,
     "metadata": {},
     "output_type": "execute_result"
    }
   ],
   "source": [
    "# access first column by index\n",
    "data_BM.apply(lambda x:x[0],axis=1)"
   ]
  },
  {
   "cell_type": "code",
   "execution_count": 29,
   "metadata": {},
   "outputs": [
    {
     "data": {
      "text/plain": [
       "0       Low Fat\n",
       "1       Regular\n",
       "2       Low Fat\n",
       "3       Low Fat\n",
       "4       Regular\n",
       "         ...   \n",
       "4645        reg\n",
       "4646    Low Fat\n",
       "4647    Low Fat\n",
       "4648    Regular\n",
       "4649    Low Fat\n",
       "Length: 4650, dtype: object"
      ]
     },
     "execution_count": 29,
     "metadata": {},
     "output_type": "execute_result"
    }
   ],
   "source": [
    "# access by column name\n",
    "data_BM.apply(lambda x:x[\"Item_Fat_Content\"],axis=1)"
   ]
  },
  {
   "cell_type": "markdown",
   "metadata": {},
   "source": [
    "- You can also use `apply` to implement a **condition** individually on every row/column of your dataframe.\n",
    "- Suppose you want to clip Item_MRP to 200 and not consider any value greater than that.\n",
    "```python\n",
    "def clip_price(price):\n",
    "    if price > 200:\n",
    "        price = 200\n",
    "    return price\n",
    "```"
   ]
  },
  {
   "cell_type": "code",
   "execution_count": 30,
   "metadata": {},
   "outputs": [
    {
     "data": {
      "text/plain": [
       "0    249.8092\n",
       "1     48.2692\n",
       "2    141.6180\n",
       "3     53.8614\n",
       "4     51.4008\n",
       "Name: Item_MRP, dtype: float64"
      ]
     },
     "execution_count": 30,
     "metadata": {},
     "output_type": "execute_result"
    }
   ],
   "source": [
    "# before clipping\n",
    "data_BM[\"Item_MRP\"][:5]"
   ]
  },
  {
   "cell_type": "code",
   "execution_count": 31,
   "metadata": {},
   "outputs": [
    {
     "data": {
      "text/plain": [
       "0    200.0000\n",
       "1     48.2692\n",
       "2    141.6180\n",
       "3     53.8614\n",
       "4     51.4008\n",
       "Name: Item_MRP, dtype: float64"
      ]
     },
     "execution_count": 31,
     "metadata": {},
     "output_type": "execute_result"
    }
   ],
   "source": [
    "# Clip price if it is greater than 200\n",
    "def clip_price(price):\n",
    "    if price>200:\n",
    "        price =200\n",
    "    return price\n",
    "\n",
    "# after clipping\n",
    "data_BM[\"Item_MRP\"].apply(lambda x:clip_price(x))[:5]\n"
   ]
  },
  {
   "cell_type": "markdown",
   "metadata": {},
   "source": [
    "- Suppose you want to label encode Outlet_Location_Type as 0, 1 and 2 for Tier 1, Tier 2 and Tier 3 city, your logic would be:\n",
    "\n",
    "```python\n",
    "def label_encode(city):\n",
    "    if city == 'Tier 1':\n",
    "        label = 0\n",
    "    elif city == 'Tier 2':\n",
    "        label = 1\n",
    "    else:\n",
    "        label = 2\n",
    "    return label\n",
    "```\n",
    "- You can use the `apply` to operate `label_encode` logic on every row of the Outlet_Location_Type column."
   ]
  },
  {
   "cell_type": "code",
   "execution_count": 34,
   "metadata": {},
   "outputs": [
    {
     "data": {
      "text/plain": [
       "0    Tier 1\n",
       "1    Tier 3\n",
       "2    Tier 1\n",
       "3    Tier 3\n",
       "4    Tier 3\n",
       "Name: Outlet_Location_Type, dtype: object"
      ]
     },
     "execution_count": 34,
     "metadata": {},
     "output_type": "execute_result"
    }
   ],
   "source": [
    "# before label enconding\n",
    "\n",
    "data_BM[\"Outlet_Location_Type\"][:5]"
   ]
  },
  {
   "cell_type": "code",
   "execution_count": 36,
   "metadata": {},
   "outputs": [
    {
     "data": {
      "text/plain": [
       "0        0\n",
       "1       13\n",
       "2        0\n",
       "3       13\n",
       "4       13\n",
       "        ..\n",
       "4645     0\n",
       "4646    13\n",
       "4647     2\n",
       "4648    13\n",
       "4649     0\n",
       "Name: Outlet_Location_Type, Length: 4650, dtype: int64"
      ]
     },
     "execution_count": 36,
     "metadata": {},
     "output_type": "execute_result"
    }
   ],
   "source": [
    "# label encode city type\n",
    "\n",
    "def label_encode(city):\n",
    "    if city == 'Tier 1':\n",
    "        label = 0\n",
    "    elif city == 'Tier 3':\n",
    "        label = 13\n",
    "    else:\n",
    "        label = 2\n",
    "    return label\n",
    "\n",
    "## Operation label enconde on every row of outlet location type\n",
    "# data_BM[\"Outlet_Location_Type\"] = data_BM[\"Outlet_Location_Type\"].apply(lambda x:label_encode(x))\n",
    "# or\n",
    "data_BM[\"Outlet_Location_Type\"] = data_BM[\"Outlet_Location_Type\"].apply(label_encode)\n",
    "data_BM[\"Outlet_Location_Type\"] "
   ]
  },
  {
   "cell_type": "code",
   "execution_count": 37,
   "metadata": {},
   "outputs": [
    {
     "data": {
      "text/plain": [
       "0        0\n",
       "1       13\n",
       "2        0\n",
       "3       13\n",
       "4       13\n",
       "        ..\n",
       "4645     0\n",
       "4646    13\n",
       "4647     2\n",
       "4648    13\n",
       "4649     0\n",
       "Name: Outlet_Location_Type, Length: 4650, dtype: int64"
      ]
     },
     "execution_count": 37,
     "metadata": {},
     "output_type": "execute_result"
    }
   ],
   "source": [
    "# after label encoding\n",
    "data_BM[\"Outlet_Location_Type\"]"
   ]
  },
  {
   "cell_type": "markdown",
   "metadata": {},
   "source": [
    "### 1. Aggregating data\n",
    "There are multiple functions that can be used to perform useful aggregations on data in pandas:\n",
    "\n",
    " - groupby\n",
    " - crosstab\n",
    " - pivottable\n",
    " \n"
   ]
  },
  {
   "cell_type": "code",
   "execution_count": 2,
   "metadata": {},
   "outputs": [
    {
     "data": {
      "text/html": [
       "<div>\n",
       "<style scoped>\n",
       "    .dataframe tbody tr th:only-of-type {\n",
       "        vertical-align: middle;\n",
       "    }\n",
       "\n",
       "    .dataframe tbody tr th {\n",
       "        vertical-align: top;\n",
       "    }\n",
       "\n",
       "    .dataframe thead th {\n",
       "        text-align: right;\n",
       "    }\n",
       "</style>\n",
       "<table border=\"1\" class=\"dataframe\">\n",
       "  <thead>\n",
       "    <tr style=\"text-align: right;\">\n",
       "      <th></th>\n",
       "      <th>Item_Identifier</th>\n",
       "      <th>Item_Weight</th>\n",
       "      <th>Item_Fat_Content</th>\n",
       "      <th>Item_Visibility</th>\n",
       "      <th>Item_Type</th>\n",
       "      <th>Item_MRP</th>\n",
       "      <th>Outlet_Identifier</th>\n",
       "      <th>Outlet_Establishment_Year</th>\n",
       "      <th>Outlet_Size</th>\n",
       "      <th>Outlet_Location_Type</th>\n",
       "      <th>Outlet_Type</th>\n",
       "      <th>Item_Outlet_Sales</th>\n",
       "    </tr>\n",
       "  </thead>\n",
       "  <tbody>\n",
       "    <tr>\n",
       "      <th>0</th>\n",
       "      <td>FDA15</td>\n",
       "      <td>9.300</td>\n",
       "      <td>Low Fat</td>\n",
       "      <td>0.016047</td>\n",
       "      <td>Dairy</td>\n",
       "      <td>249.8092</td>\n",
       "      <td>OUT049</td>\n",
       "      <td>1999</td>\n",
       "      <td>Medium</td>\n",
       "      <td>Tier 1</td>\n",
       "      <td>Supermarket Type1</td>\n",
       "      <td>3735.1380</td>\n",
       "    </tr>\n",
       "    <tr>\n",
       "      <th>1</th>\n",
       "      <td>DRC01</td>\n",
       "      <td>5.920</td>\n",
       "      <td>Regular</td>\n",
       "      <td>0.019278</td>\n",
       "      <td>Soft Drinks</td>\n",
       "      <td>48.2692</td>\n",
       "      <td>OUT018</td>\n",
       "      <td>2009</td>\n",
       "      <td>Medium</td>\n",
       "      <td>Tier 3</td>\n",
       "      <td>Supermarket Type2</td>\n",
       "      <td>443.4228</td>\n",
       "    </tr>\n",
       "    <tr>\n",
       "      <th>2</th>\n",
       "      <td>FDN15</td>\n",
       "      <td>17.500</td>\n",
       "      <td>Low Fat</td>\n",
       "      <td>0.016760</td>\n",
       "      <td>Meat</td>\n",
       "      <td>141.6180</td>\n",
       "      <td>OUT049</td>\n",
       "      <td>1999</td>\n",
       "      <td>Medium</td>\n",
       "      <td>Tier 1</td>\n",
       "      <td>Supermarket Type1</td>\n",
       "      <td>2097.2700</td>\n",
       "    </tr>\n",
       "    <tr>\n",
       "      <th>3</th>\n",
       "      <td>NCD19</td>\n",
       "      <td>8.930</td>\n",
       "      <td>Low Fat</td>\n",
       "      <td>0.000000</td>\n",
       "      <td>Household</td>\n",
       "      <td>53.8614</td>\n",
       "      <td>OUT013</td>\n",
       "      <td>1987</td>\n",
       "      <td>High</td>\n",
       "      <td>Tier 3</td>\n",
       "      <td>Supermarket Type1</td>\n",
       "      <td>994.7052</td>\n",
       "    </tr>\n",
       "    <tr>\n",
       "      <th>4</th>\n",
       "      <td>FDP36</td>\n",
       "      <td>10.395</td>\n",
       "      <td>Regular</td>\n",
       "      <td>0.000000</td>\n",
       "      <td>Baking Goods</td>\n",
       "      <td>51.4008</td>\n",
       "      <td>OUT018</td>\n",
       "      <td>2009</td>\n",
       "      <td>Medium</td>\n",
       "      <td>Tier 3</td>\n",
       "      <td>Supermarket Type2</td>\n",
       "      <td>556.6088</td>\n",
       "    </tr>\n",
       "  </tbody>\n",
       "</table>\n",
       "</div>"
      ],
      "text/plain": [
       "  Item_Identifier  Item_Weight Item_Fat_Content  Item_Visibility  \\\n",
       "0           FDA15        9.300          Low Fat         0.016047   \n",
       "1           DRC01        5.920          Regular         0.019278   \n",
       "2           FDN15       17.500          Low Fat         0.016760   \n",
       "3           NCD19        8.930          Low Fat         0.000000   \n",
       "4           FDP36       10.395          Regular         0.000000   \n",
       "\n",
       "      Item_Type  Item_MRP Outlet_Identifier  Outlet_Establishment_Year  \\\n",
       "0         Dairy  249.8092            OUT049                       1999   \n",
       "1   Soft Drinks   48.2692            OUT018                       2009   \n",
       "2          Meat  141.6180            OUT049                       1999   \n",
       "3     Household   53.8614            OUT013                       1987   \n",
       "4  Baking Goods   51.4008            OUT018                       2009   \n",
       "\n",
       "  Outlet_Size Outlet_Location_Type        Outlet_Type  Item_Outlet_Sales  \n",
       "0      Medium               Tier 1  Supermarket Type1          3735.1380  \n",
       "1      Medium               Tier 3  Supermarket Type2           443.4228  \n",
       "2      Medium               Tier 1  Supermarket Type1          2097.2700  \n",
       "3        High               Tier 3  Supermarket Type1           994.7052  \n",
       "4      Medium               Tier 3  Supermarket Type2           556.6088  "
      ]
     },
     "execution_count": 2,
     "metadata": {},
     "output_type": "execute_result"
    }
   ],
   "source": [
    "import pandas as pd\n",
    "import numpy as np\n",
    "\n",
    "# read the dataset\n",
    "data_BM = pd.read_csv('./iris/bigmart_data.csv')\n",
    "# drop the null values\n",
    "data_BM = data_BM.dropna(how=\"any\")\n",
    "# reset index after dropping\n",
    "data_BM = data_BM.reset_index(drop=True)\n",
    "# view the top results\n",
    "data_BM.head()"
   ]
  },
  {
   "cell_type": "markdown",
   "metadata": {},
   "source": [
    "\n",
    "#### a. **What is the mean price for each item type?** : groupby\n",
    "- In the given data set, I want to find out **what is the mean price for each item type**?\n",
    "- You can use **groupby()** to achieve this.\n",
    "- The first step would be to group the data by Item_Type column."
   ]
  },
  {
   "cell_type": "code",
   "execution_count": 59,
   "metadata": {},
   "outputs": [
    {
     "data": {
      "text/html": [
       "<div>\n",
       "<style scoped>\n",
       "    .dataframe tbody tr th:only-of-type {\n",
       "        vertical-align: middle;\n",
       "    }\n",
       "\n",
       "    .dataframe tbody tr th {\n",
       "        vertical-align: top;\n",
       "    }\n",
       "\n",
       "    .dataframe thead th {\n",
       "        text-align: right;\n",
       "    }\n",
       "</style>\n",
       "<table border=\"1\" class=\"dataframe\">\n",
       "  <thead>\n",
       "    <tr style=\"text-align: right;\">\n",
       "      <th></th>\n",
       "      <th>Item_Identifier</th>\n",
       "      <th>Item_Weight</th>\n",
       "      <th>Item_Fat_Content</th>\n",
       "      <th>Item_Visibility</th>\n",
       "      <th>Item_MRP</th>\n",
       "      <th>Outlet_Identifier</th>\n",
       "      <th>Outlet_Establishment_Year</th>\n",
       "      <th>Outlet_Size</th>\n",
       "      <th>Outlet_Location_Type</th>\n",
       "      <th>Outlet_Type</th>\n",
       "      <th>Item_Outlet_Sales</th>\n",
       "    </tr>\n",
       "    <tr>\n",
       "      <th>Item_Type</th>\n",
       "      <th></th>\n",
       "      <th></th>\n",
       "      <th></th>\n",
       "      <th></th>\n",
       "      <th></th>\n",
       "      <th></th>\n",
       "      <th></th>\n",
       "      <th></th>\n",
       "      <th></th>\n",
       "      <th></th>\n",
       "      <th></th>\n",
       "    </tr>\n",
       "  </thead>\n",
       "  <tbody>\n",
       "    <tr>\n",
       "      <th>Baking Goods</th>\n",
       "      <td>FDP36</td>\n",
       "      <td>10.395</td>\n",
       "      <td>Regular</td>\n",
       "      <td>0.000000</td>\n",
       "      <td>51.4008</td>\n",
       "      <td>OUT018</td>\n",
       "      <td>2009</td>\n",
       "      <td>Medium</td>\n",
       "      <td>Tier 3</td>\n",
       "      <td>Supermarket Type2</td>\n",
       "      <td>556.6088</td>\n",
       "    </tr>\n",
       "    <tr>\n",
       "      <th>Breads</th>\n",
       "      <td>FDW11</td>\n",
       "      <td>12.600</td>\n",
       "      <td>Low Fat</td>\n",
       "      <td>0.048981</td>\n",
       "      <td>61.9194</td>\n",
       "      <td>OUT018</td>\n",
       "      <td>2009</td>\n",
       "      <td>Medium</td>\n",
       "      <td>Tier 3</td>\n",
       "      <td>Supermarket Type2</td>\n",
       "      <td>619.1940</td>\n",
       "    </tr>\n",
       "    <tr>\n",
       "      <th>Breakfast</th>\n",
       "      <td>FDP49</td>\n",
       "      <td>9.000</td>\n",
       "      <td>Regular</td>\n",
       "      <td>0.069089</td>\n",
       "      <td>56.3614</td>\n",
       "      <td>OUT046</td>\n",
       "      <td>1997</td>\n",
       "      <td>Small</td>\n",
       "      <td>Tier 1</td>\n",
       "      <td>Supermarket Type1</td>\n",
       "      <td>1547.3192</td>\n",
       "    </tr>\n",
       "    <tr>\n",
       "      <th>Canned</th>\n",
       "      <td>FDC02</td>\n",
       "      <td>21.350</td>\n",
       "      <td>Low Fat</td>\n",
       "      <td>0.069103</td>\n",
       "      <td>259.9278</td>\n",
       "      <td>OUT018</td>\n",
       "      <td>2009</td>\n",
       "      <td>Medium</td>\n",
       "      <td>Tier 3</td>\n",
       "      <td>Supermarket Type2</td>\n",
       "      <td>6768.5228</td>\n",
       "    </tr>\n",
       "    <tr>\n",
       "      <th>Dairy</th>\n",
       "      <td>FDA15</td>\n",
       "      <td>9.300</td>\n",
       "      <td>Low Fat</td>\n",
       "      <td>0.016047</td>\n",
       "      <td>249.8092</td>\n",
       "      <td>OUT049</td>\n",
       "      <td>1999</td>\n",
       "      <td>Medium</td>\n",
       "      <td>Tier 1</td>\n",
       "      <td>Supermarket Type1</td>\n",
       "      <td>3735.1380</td>\n",
       "    </tr>\n",
       "    <tr>\n",
       "      <th>Frozen Foods</th>\n",
       "      <td>FDR28</td>\n",
       "      <td>13.850</td>\n",
       "      <td>Regular</td>\n",
       "      <td>0.025896</td>\n",
       "      <td>165.0210</td>\n",
       "      <td>OUT046</td>\n",
       "      <td>1997</td>\n",
       "      <td>Small</td>\n",
       "      <td>Tier 1</td>\n",
       "      <td>Supermarket Type1</td>\n",
       "      <td>4078.0250</td>\n",
       "    </tr>\n",
       "    <tr>\n",
       "      <th>Fruits and Vegetables</th>\n",
       "      <td>FDY07</td>\n",
       "      <td>11.800</td>\n",
       "      <td>Low Fat</td>\n",
       "      <td>0.000000</td>\n",
       "      <td>45.5402</td>\n",
       "      <td>OUT049</td>\n",
       "      <td>1999</td>\n",
       "      <td>Medium</td>\n",
       "      <td>Tier 1</td>\n",
       "      <td>Supermarket Type1</td>\n",
       "      <td>1516.0266</td>\n",
       "    </tr>\n",
       "    <tr>\n",
       "      <th>Hard Drinks</th>\n",
       "      <td>DRJ59</td>\n",
       "      <td>11.650</td>\n",
       "      <td>low fat</td>\n",
       "      <td>0.019356</td>\n",
       "      <td>39.1164</td>\n",
       "      <td>OUT013</td>\n",
       "      <td>1987</td>\n",
       "      <td>High</td>\n",
       "      <td>Tier 3</td>\n",
       "      <td>Supermarket Type1</td>\n",
       "      <td>308.9312</td>\n",
       "    </tr>\n",
       "    <tr>\n",
       "      <th>Health and Hygiene</th>\n",
       "      <td>NCB42</td>\n",
       "      <td>11.800</td>\n",
       "      <td>Low Fat</td>\n",
       "      <td>0.008596</td>\n",
       "      <td>115.3492</td>\n",
       "      <td>OUT018</td>\n",
       "      <td>2009</td>\n",
       "      <td>Medium</td>\n",
       "      <td>Tier 3</td>\n",
       "      <td>Supermarket Type2</td>\n",
       "      <td>1621.8888</td>\n",
       "    </tr>\n",
       "    <tr>\n",
       "      <th>Household</th>\n",
       "      <td>NCD19</td>\n",
       "      <td>8.930</td>\n",
       "      <td>Low Fat</td>\n",
       "      <td>0.000000</td>\n",
       "      <td>53.8614</td>\n",
       "      <td>OUT013</td>\n",
       "      <td>1987</td>\n",
       "      <td>High</td>\n",
       "      <td>Tier 3</td>\n",
       "      <td>Supermarket Type1</td>\n",
       "      <td>994.7052</td>\n",
       "    </tr>\n",
       "    <tr>\n",
       "      <th>Meat</th>\n",
       "      <td>FDN15</td>\n",
       "      <td>17.500</td>\n",
       "      <td>Low Fat</td>\n",
       "      <td>0.016760</td>\n",
       "      <td>141.6180</td>\n",
       "      <td>OUT049</td>\n",
       "      <td>1999</td>\n",
       "      <td>Medium</td>\n",
       "      <td>Tier 1</td>\n",
       "      <td>Supermarket Type1</td>\n",
       "      <td>2097.2700</td>\n",
       "    </tr>\n",
       "    <tr>\n",
       "      <th>Others</th>\n",
       "      <td>NCM43</td>\n",
       "      <td>14.500</td>\n",
       "      <td>Low Fat</td>\n",
       "      <td>0.019472</td>\n",
       "      <td>164.8210</td>\n",
       "      <td>OUT035</td>\n",
       "      <td>2004</td>\n",
       "      <td>Small</td>\n",
       "      <td>Tier 2</td>\n",
       "      <td>Supermarket Type1</td>\n",
       "      <td>2120.5730</td>\n",
       "    </tr>\n",
       "    <tr>\n",
       "      <th>Seafood</th>\n",
       "      <td>FDH21</td>\n",
       "      <td>10.395</td>\n",
       "      <td>Low Fat</td>\n",
       "      <td>0.031274</td>\n",
       "      <td>160.0604</td>\n",
       "      <td>OUT049</td>\n",
       "      <td>1999</td>\n",
       "      <td>Medium</td>\n",
       "      <td>Tier 1</td>\n",
       "      <td>Supermarket Type1</td>\n",
       "      <td>1267.6832</td>\n",
       "    </tr>\n",
       "    <tr>\n",
       "      <th>Snack Foods</th>\n",
       "      <td>FDO10</td>\n",
       "      <td>13.650</td>\n",
       "      <td>Regular</td>\n",
       "      <td>0.012741</td>\n",
       "      <td>57.6588</td>\n",
       "      <td>OUT013</td>\n",
       "      <td>1987</td>\n",
       "      <td>High</td>\n",
       "      <td>Tier 3</td>\n",
       "      <td>Supermarket Type1</td>\n",
       "      <td>343.5528</td>\n",
       "    </tr>\n",
       "    <tr>\n",
       "      <th>Soft Drinks</th>\n",
       "      <td>DRC01</td>\n",
       "      <td>5.920</td>\n",
       "      <td>Regular</td>\n",
       "      <td>0.019278</td>\n",
       "      <td>48.2692</td>\n",
       "      <td>OUT018</td>\n",
       "      <td>2009</td>\n",
       "      <td>Medium</td>\n",
       "      <td>Tier 3</td>\n",
       "      <td>Supermarket Type2</td>\n",
       "      <td>443.4228</td>\n",
       "    </tr>\n",
       "    <tr>\n",
       "      <th>Starchy Foods</th>\n",
       "      <td>FDB11</td>\n",
       "      <td>16.000</td>\n",
       "      <td>Low Fat</td>\n",
       "      <td>0.060837</td>\n",
       "      <td>226.8404</td>\n",
       "      <td>OUT035</td>\n",
       "      <td>2004</td>\n",
       "      <td>Small</td>\n",
       "      <td>Tier 2</td>\n",
       "      <td>Supermarket Type1</td>\n",
       "      <td>6301.1312</td>\n",
       "    </tr>\n",
       "  </tbody>\n",
       "</table>\n",
       "</div>"
      ],
      "text/plain": [
       "                      Item_Identifier  Item_Weight Item_Fat_Content  \\\n",
       "Item_Type                                                             \n",
       "Baking Goods                    FDP36       10.395          Regular   \n",
       "Breads                          FDW11       12.600          Low Fat   \n",
       "Breakfast                       FDP49        9.000          Regular   \n",
       "Canned                          FDC02       21.350          Low Fat   \n",
       "Dairy                           FDA15        9.300          Low Fat   \n",
       "Frozen Foods                    FDR28       13.850          Regular   \n",
       "Fruits and Vegetables           FDY07       11.800          Low Fat   \n",
       "Hard Drinks                     DRJ59       11.650          low fat   \n",
       "Health and Hygiene              NCB42       11.800          Low Fat   \n",
       "Household                       NCD19        8.930          Low Fat   \n",
       "Meat                            FDN15       17.500          Low Fat   \n",
       "Others                          NCM43       14.500          Low Fat   \n",
       "Seafood                         FDH21       10.395          Low Fat   \n",
       "Snack Foods                     FDO10       13.650          Regular   \n",
       "Soft Drinks                     DRC01        5.920          Regular   \n",
       "Starchy Foods                   FDB11       16.000          Low Fat   \n",
       "\n",
       "                       Item_Visibility  Item_MRP Outlet_Identifier  \\\n",
       "Item_Type                                                            \n",
       "Baking Goods                  0.000000   51.4008            OUT018   \n",
       "Breads                        0.048981   61.9194            OUT018   \n",
       "Breakfast                     0.069089   56.3614            OUT046   \n",
       "Canned                        0.069103  259.9278            OUT018   \n",
       "Dairy                         0.016047  249.8092            OUT049   \n",
       "Frozen Foods                  0.025896  165.0210            OUT046   \n",
       "Fruits and Vegetables         0.000000   45.5402            OUT049   \n",
       "Hard Drinks                   0.019356   39.1164            OUT013   \n",
       "Health and Hygiene            0.008596  115.3492            OUT018   \n",
       "Household                     0.000000   53.8614            OUT013   \n",
       "Meat                          0.016760  141.6180            OUT049   \n",
       "Others                        0.019472  164.8210            OUT035   \n",
       "Seafood                       0.031274  160.0604            OUT049   \n",
       "Snack Foods                   0.012741   57.6588            OUT013   \n",
       "Soft Drinks                   0.019278   48.2692            OUT018   \n",
       "Starchy Foods                 0.060837  226.8404            OUT035   \n",
       "\n",
       "                       Outlet_Establishment_Year Outlet_Size  \\\n",
       "Item_Type                                                      \n",
       "Baking Goods                                2009      Medium   \n",
       "Breads                                      2009      Medium   \n",
       "Breakfast                                   1997       Small   \n",
       "Canned                                      2009      Medium   \n",
       "Dairy                                       1999      Medium   \n",
       "Frozen Foods                                1997       Small   \n",
       "Fruits and Vegetables                       1999      Medium   \n",
       "Hard Drinks                                 1987        High   \n",
       "Health and Hygiene                          2009      Medium   \n",
       "Household                                   1987        High   \n",
       "Meat                                        1999      Medium   \n",
       "Others                                      2004       Small   \n",
       "Seafood                                     1999      Medium   \n",
       "Snack Foods                                 1987        High   \n",
       "Soft Drinks                                 2009      Medium   \n",
       "Starchy Foods                               2004       Small   \n",
       "\n",
       "                      Outlet_Location_Type        Outlet_Type  \\\n",
       "Item_Type                                                       \n",
       "Baking Goods                        Tier 3  Supermarket Type2   \n",
       "Breads                              Tier 3  Supermarket Type2   \n",
       "Breakfast                           Tier 1  Supermarket Type1   \n",
       "Canned                              Tier 3  Supermarket Type2   \n",
       "Dairy                               Tier 1  Supermarket Type1   \n",
       "Frozen Foods                        Tier 1  Supermarket Type1   \n",
       "Fruits and Vegetables               Tier 1  Supermarket Type1   \n",
       "Hard Drinks                         Tier 3  Supermarket Type1   \n",
       "Health and Hygiene                  Tier 3  Supermarket Type2   \n",
       "Household                           Tier 3  Supermarket Type1   \n",
       "Meat                                Tier 1  Supermarket Type1   \n",
       "Others                              Tier 2  Supermarket Type1   \n",
       "Seafood                             Tier 1  Supermarket Type1   \n",
       "Snack Foods                         Tier 3  Supermarket Type1   \n",
       "Soft Drinks                         Tier 3  Supermarket Type2   \n",
       "Starchy Foods                       Tier 2  Supermarket Type1   \n",
       "\n",
       "                       Item_Outlet_Sales  \n",
       "Item_Type                                 \n",
       "Baking Goods                    556.6088  \n",
       "Breads                          619.1940  \n",
       "Breakfast                      1547.3192  \n",
       "Canned                         6768.5228  \n",
       "Dairy                          3735.1380  \n",
       "Frozen Foods                   4078.0250  \n",
       "Fruits and Vegetables          1516.0266  \n",
       "Hard Drinks                     308.9312  \n",
       "Health and Hygiene             1621.8888  \n",
       "Household                       994.7052  \n",
       "Meat                           2097.2700  \n",
       "Others                         2120.5730  \n",
       "Seafood                        1267.6832  \n",
       "Snack Foods                     343.5528  \n",
       "Soft Drinks                     443.4228  \n",
       "Starchy Foods                  6301.1312  "
      ]
     },
     "execution_count": 59,
     "metadata": {},
     "output_type": "execute_result"
    }
   ],
   "source": [
    "# group price based on item type\n",
    "price_by_item = data_BM.groupby('Item_Type')\n",
    "\n",
    "# price_by_item = data_BM.groupby('Item_Type').mean().Item_Weight\n",
    "\n",
    "# price_by_item = data_BM.groupby('Item_Type')\n",
    "# price_by_item.Item_Weight.mean()\n",
    "\n",
    "# display first few rows\n",
    "price_by_item.first()\n"
   ]
  },
  {
   "cell_type": "code",
   "execution_count": 57,
   "metadata": {},
   "outputs": [
    {
     "data": {
      "text/html": [
       "<div>\n",
       "<style scoped>\n",
       "    .dataframe tbody tr th:only-of-type {\n",
       "        vertical-align: middle;\n",
       "    }\n",
       "\n",
       "    .dataframe tbody tr th {\n",
       "        vertical-align: top;\n",
       "    }\n",
       "\n",
       "    .dataframe thead th {\n",
       "        text-align: right;\n",
       "    }\n",
       "</style>\n",
       "<table border=\"1\" class=\"dataframe\">\n",
       "  <thead>\n",
       "    <tr style=\"text-align: right;\">\n",
       "      <th></th>\n",
       "      <th>Item_Identifier</th>\n",
       "      <th>Item_Weight</th>\n",
       "      <th>Item_Fat_Content</th>\n",
       "      <th>Item_Visibility</th>\n",
       "      <th>Item_MRP</th>\n",
       "      <th>Outlet_Identifier</th>\n",
       "      <th>Outlet_Establishment_Year</th>\n",
       "      <th>Outlet_Size</th>\n",
       "      <th>Outlet_Location_Type</th>\n",
       "      <th>Outlet_Type</th>\n",
       "      <th>Item_Outlet_Sales</th>\n",
       "    </tr>\n",
       "    <tr>\n",
       "      <th>Item_Type</th>\n",
       "      <th></th>\n",
       "      <th></th>\n",
       "      <th></th>\n",
       "      <th></th>\n",
       "      <th></th>\n",
       "      <th></th>\n",
       "      <th></th>\n",
       "      <th></th>\n",
       "      <th></th>\n",
       "      <th></th>\n",
       "      <th></th>\n",
       "    </tr>\n",
       "  </thead>\n",
       "  <tbody>\n",
       "    <tr>\n",
       "      <th>Baking Goods</th>\n",
       "      <td>FDP36</td>\n",
       "      <td>10.395</td>\n",
       "      <td>Regular</td>\n",
       "      <td>0.000000</td>\n",
       "      <td>51.4008</td>\n",
       "      <td>OUT018</td>\n",
       "      <td>2009</td>\n",
       "      <td>Medium</td>\n",
       "      <td>Tier 3</td>\n",
       "      <td>Supermarket Type2</td>\n",
       "      <td>556.6088</td>\n",
       "    </tr>\n",
       "    <tr>\n",
       "      <th>Breads</th>\n",
       "      <td>FDW11</td>\n",
       "      <td>12.600</td>\n",
       "      <td>Low Fat</td>\n",
       "      <td>0.048981</td>\n",
       "      <td>61.9194</td>\n",
       "      <td>OUT018</td>\n",
       "      <td>2009</td>\n",
       "      <td>Medium</td>\n",
       "      <td>Tier 3</td>\n",
       "      <td>Supermarket Type2</td>\n",
       "      <td>619.1940</td>\n",
       "    </tr>\n",
       "    <tr>\n",
       "      <th>Breakfast</th>\n",
       "      <td>FDP49</td>\n",
       "      <td>9.000</td>\n",
       "      <td>Regular</td>\n",
       "      <td>0.069089</td>\n",
       "      <td>56.3614</td>\n",
       "      <td>OUT046</td>\n",
       "      <td>1997</td>\n",
       "      <td>Small</td>\n",
       "      <td>Tier 1</td>\n",
       "      <td>Supermarket Type1</td>\n",
       "      <td>1547.3192</td>\n",
       "    </tr>\n",
       "    <tr>\n",
       "      <th>Canned</th>\n",
       "      <td>FDC02</td>\n",
       "      <td>21.350</td>\n",
       "      <td>Low Fat</td>\n",
       "      <td>0.069103</td>\n",
       "      <td>259.9278</td>\n",
       "      <td>OUT018</td>\n",
       "      <td>2009</td>\n",
       "      <td>Medium</td>\n",
       "      <td>Tier 3</td>\n",
       "      <td>Supermarket Type2</td>\n",
       "      <td>6768.5228</td>\n",
       "    </tr>\n",
       "    <tr>\n",
       "      <th>Dairy</th>\n",
       "      <td>FDA15</td>\n",
       "      <td>9.300</td>\n",
       "      <td>Low Fat</td>\n",
       "      <td>0.016047</td>\n",
       "      <td>249.8092</td>\n",
       "      <td>OUT049</td>\n",
       "      <td>1999</td>\n",
       "      <td>Medium</td>\n",
       "      <td>Tier 1</td>\n",
       "      <td>Supermarket Type1</td>\n",
       "      <td>3735.1380</td>\n",
       "    </tr>\n",
       "    <tr>\n",
       "      <th>Frozen Foods</th>\n",
       "      <td>FDR28</td>\n",
       "      <td>13.850</td>\n",
       "      <td>Regular</td>\n",
       "      <td>0.025896</td>\n",
       "      <td>165.0210</td>\n",
       "      <td>OUT046</td>\n",
       "      <td>1997</td>\n",
       "      <td>Small</td>\n",
       "      <td>Tier 1</td>\n",
       "      <td>Supermarket Type1</td>\n",
       "      <td>4078.0250</td>\n",
       "    </tr>\n",
       "    <tr>\n",
       "      <th>Fruits and Vegetables</th>\n",
       "      <td>FDY07</td>\n",
       "      <td>11.800</td>\n",
       "      <td>Low Fat</td>\n",
       "      <td>0.000000</td>\n",
       "      <td>45.5402</td>\n",
       "      <td>OUT049</td>\n",
       "      <td>1999</td>\n",
       "      <td>Medium</td>\n",
       "      <td>Tier 1</td>\n",
       "      <td>Supermarket Type1</td>\n",
       "      <td>1516.0266</td>\n",
       "    </tr>\n",
       "    <tr>\n",
       "      <th>Hard Drinks</th>\n",
       "      <td>DRJ59</td>\n",
       "      <td>11.650</td>\n",
       "      <td>low fat</td>\n",
       "      <td>0.019356</td>\n",
       "      <td>39.1164</td>\n",
       "      <td>OUT013</td>\n",
       "      <td>1987</td>\n",
       "      <td>High</td>\n",
       "      <td>Tier 3</td>\n",
       "      <td>Supermarket Type1</td>\n",
       "      <td>308.9312</td>\n",
       "    </tr>\n",
       "    <tr>\n",
       "      <th>Health and Hygiene</th>\n",
       "      <td>NCB42</td>\n",
       "      <td>11.800</td>\n",
       "      <td>Low Fat</td>\n",
       "      <td>0.008596</td>\n",
       "      <td>115.3492</td>\n",
       "      <td>OUT018</td>\n",
       "      <td>2009</td>\n",
       "      <td>Medium</td>\n",
       "      <td>Tier 3</td>\n",
       "      <td>Supermarket Type2</td>\n",
       "      <td>1621.8888</td>\n",
       "    </tr>\n",
       "    <tr>\n",
       "      <th>Household</th>\n",
       "      <td>NCD19</td>\n",
       "      <td>8.930</td>\n",
       "      <td>Low Fat</td>\n",
       "      <td>0.000000</td>\n",
       "      <td>53.8614</td>\n",
       "      <td>OUT013</td>\n",
       "      <td>1987</td>\n",
       "      <td>High</td>\n",
       "      <td>Tier 3</td>\n",
       "      <td>Supermarket Type1</td>\n",
       "      <td>994.7052</td>\n",
       "    </tr>\n",
       "    <tr>\n",
       "      <th>Meat</th>\n",
       "      <td>FDN15</td>\n",
       "      <td>17.500</td>\n",
       "      <td>Low Fat</td>\n",
       "      <td>0.016760</td>\n",
       "      <td>141.6180</td>\n",
       "      <td>OUT049</td>\n",
       "      <td>1999</td>\n",
       "      <td>Medium</td>\n",
       "      <td>Tier 1</td>\n",
       "      <td>Supermarket Type1</td>\n",
       "      <td>2097.2700</td>\n",
       "    </tr>\n",
       "    <tr>\n",
       "      <th>Others</th>\n",
       "      <td>NCM43</td>\n",
       "      <td>14.500</td>\n",
       "      <td>Low Fat</td>\n",
       "      <td>0.019472</td>\n",
       "      <td>164.8210</td>\n",
       "      <td>OUT035</td>\n",
       "      <td>2004</td>\n",
       "      <td>Small</td>\n",
       "      <td>Tier 2</td>\n",
       "      <td>Supermarket Type1</td>\n",
       "      <td>2120.5730</td>\n",
       "    </tr>\n",
       "    <tr>\n",
       "      <th>Seafood</th>\n",
       "      <td>FDH21</td>\n",
       "      <td>10.395</td>\n",
       "      <td>Low Fat</td>\n",
       "      <td>0.031274</td>\n",
       "      <td>160.0604</td>\n",
       "      <td>OUT049</td>\n",
       "      <td>1999</td>\n",
       "      <td>Medium</td>\n",
       "      <td>Tier 1</td>\n",
       "      <td>Supermarket Type1</td>\n",
       "      <td>1267.6832</td>\n",
       "    </tr>\n",
       "    <tr>\n",
       "      <th>Snack Foods</th>\n",
       "      <td>FDO10</td>\n",
       "      <td>13.650</td>\n",
       "      <td>Regular</td>\n",
       "      <td>0.012741</td>\n",
       "      <td>57.6588</td>\n",
       "      <td>OUT013</td>\n",
       "      <td>1987</td>\n",
       "      <td>High</td>\n",
       "      <td>Tier 3</td>\n",
       "      <td>Supermarket Type1</td>\n",
       "      <td>343.5528</td>\n",
       "    </tr>\n",
       "    <tr>\n",
       "      <th>Soft Drinks</th>\n",
       "      <td>DRC01</td>\n",
       "      <td>5.920</td>\n",
       "      <td>Regular</td>\n",
       "      <td>0.019278</td>\n",
       "      <td>48.2692</td>\n",
       "      <td>OUT018</td>\n",
       "      <td>2009</td>\n",
       "      <td>Medium</td>\n",
       "      <td>Tier 3</td>\n",
       "      <td>Supermarket Type2</td>\n",
       "      <td>443.4228</td>\n",
       "    </tr>\n",
       "    <tr>\n",
       "      <th>Starchy Foods</th>\n",
       "      <td>FDB11</td>\n",
       "      <td>16.000</td>\n",
       "      <td>Low Fat</td>\n",
       "      <td>0.060837</td>\n",
       "      <td>226.8404</td>\n",
       "      <td>OUT035</td>\n",
       "      <td>2004</td>\n",
       "      <td>Small</td>\n",
       "      <td>Tier 2</td>\n",
       "      <td>Supermarket Type1</td>\n",
       "      <td>6301.1312</td>\n",
       "    </tr>\n",
       "  </tbody>\n",
       "</table>\n",
       "</div>"
      ],
      "text/plain": [
       "                      Item_Identifier  Item_Weight Item_Fat_Content  \\\n",
       "Item_Type                                                             \n",
       "Baking Goods                    FDP36       10.395          Regular   \n",
       "Breads                          FDW11       12.600          Low Fat   \n",
       "Breakfast                       FDP49        9.000          Regular   \n",
       "Canned                          FDC02       21.350          Low Fat   \n",
       "Dairy                           FDA15        9.300          Low Fat   \n",
       "Frozen Foods                    FDR28       13.850          Regular   \n",
       "Fruits and Vegetables           FDY07       11.800          Low Fat   \n",
       "Hard Drinks                     DRJ59       11.650          low fat   \n",
       "Health and Hygiene              NCB42       11.800          Low Fat   \n",
       "Household                       NCD19        8.930          Low Fat   \n",
       "Meat                            FDN15       17.500          Low Fat   \n",
       "Others                          NCM43       14.500          Low Fat   \n",
       "Seafood                         FDH21       10.395          Low Fat   \n",
       "Snack Foods                     FDO10       13.650          Regular   \n",
       "Soft Drinks                     DRC01        5.920          Regular   \n",
       "Starchy Foods                   FDB11       16.000          Low Fat   \n",
       "\n",
       "                       Item_Visibility  Item_MRP Outlet_Identifier  \\\n",
       "Item_Type                                                            \n",
       "Baking Goods                  0.000000   51.4008            OUT018   \n",
       "Breads                        0.048981   61.9194            OUT018   \n",
       "Breakfast                     0.069089   56.3614            OUT046   \n",
       "Canned                        0.069103  259.9278            OUT018   \n",
       "Dairy                         0.016047  249.8092            OUT049   \n",
       "Frozen Foods                  0.025896  165.0210            OUT046   \n",
       "Fruits and Vegetables         0.000000   45.5402            OUT049   \n",
       "Hard Drinks                   0.019356   39.1164            OUT013   \n",
       "Health and Hygiene            0.008596  115.3492            OUT018   \n",
       "Household                     0.000000   53.8614            OUT013   \n",
       "Meat                          0.016760  141.6180            OUT049   \n",
       "Others                        0.019472  164.8210            OUT035   \n",
       "Seafood                       0.031274  160.0604            OUT049   \n",
       "Snack Foods                   0.012741   57.6588            OUT013   \n",
       "Soft Drinks                   0.019278   48.2692            OUT018   \n",
       "Starchy Foods                 0.060837  226.8404            OUT035   \n",
       "\n",
       "                       Outlet_Establishment_Year Outlet_Size  \\\n",
       "Item_Type                                                      \n",
       "Baking Goods                                2009      Medium   \n",
       "Breads                                      2009      Medium   \n",
       "Breakfast                                   1997       Small   \n",
       "Canned                                      2009      Medium   \n",
       "Dairy                                       1999      Medium   \n",
       "Frozen Foods                                1997       Small   \n",
       "Fruits and Vegetables                       1999      Medium   \n",
       "Hard Drinks                                 1987        High   \n",
       "Health and Hygiene                          2009      Medium   \n",
       "Household                                   1987        High   \n",
       "Meat                                        1999      Medium   \n",
       "Others                                      2004       Small   \n",
       "Seafood                                     1999      Medium   \n",
       "Snack Foods                                 1987        High   \n",
       "Soft Drinks                                 2009      Medium   \n",
       "Starchy Foods                               2004       Small   \n",
       "\n",
       "                      Outlet_Location_Type        Outlet_Type  \\\n",
       "Item_Type                                                       \n",
       "Baking Goods                        Tier 3  Supermarket Type2   \n",
       "Breads                              Tier 3  Supermarket Type2   \n",
       "Breakfast                           Tier 1  Supermarket Type1   \n",
       "Canned                              Tier 3  Supermarket Type2   \n",
       "Dairy                               Tier 1  Supermarket Type1   \n",
       "Frozen Foods                        Tier 1  Supermarket Type1   \n",
       "Fruits and Vegetables               Tier 1  Supermarket Type1   \n",
       "Hard Drinks                         Tier 3  Supermarket Type1   \n",
       "Health and Hygiene                  Tier 3  Supermarket Type2   \n",
       "Household                           Tier 3  Supermarket Type1   \n",
       "Meat                                Tier 1  Supermarket Type1   \n",
       "Others                              Tier 2  Supermarket Type1   \n",
       "Seafood                             Tier 1  Supermarket Type1   \n",
       "Snack Foods                         Tier 3  Supermarket Type1   \n",
       "Soft Drinks                         Tier 3  Supermarket Type2   \n",
       "Starchy Foods                       Tier 2  Supermarket Type1   \n",
       "\n",
       "                       Item_Outlet_Sales  \n",
       "Item_Type                                 \n",
       "Baking Goods                    556.6088  \n",
       "Breads                          619.1940  \n",
       "Breakfast                      1547.3192  \n",
       "Canned                         6768.5228  \n",
       "Dairy                          3735.1380  \n",
       "Frozen Foods                   4078.0250  \n",
       "Fruits and Vegetables          1516.0266  \n",
       "Hard Drinks                     308.9312  \n",
       "Health and Hygiene             1621.8888  \n",
       "Household                       994.7052  \n",
       "Meat                           2097.2700  \n",
       "Others                         2120.5730  \n",
       "Seafood                        1267.6832  \n",
       "Snack Foods                     343.5528  \n",
       "Soft Drinks                     443.4228  \n",
       "Starchy Foods                  6301.1312  "
      ]
     },
     "execution_count": 57,
     "metadata": {},
     "output_type": "execute_result"
    }
   ],
   "source": [
    "# group price based on item type\n",
    "# price_by_item = data_BM.groupby('Item_Type')\n",
    "\n",
    "# price_by_item = data_BM.groupby('Item_Type').mean().Item_Weight\n",
    "\n",
    "# price_by_item = data_BM.groupby('Item_Type')\n",
    "# price_by_item.Item_Weight.mean()\n",
    "\n",
    "# display first few rows\n",
    "price_by_item.first()\n"
   ]
  },
  {
   "cell_type": "markdown",
   "metadata": {},
   "source": [
    "- Now that you have grouped by Item_Type, the next step would be to calculate the mean of Item_MRP."
   ]
  },
  {
   "cell_type": "code",
   "execution_count": 31,
   "metadata": {},
   "outputs": [
    {
     "data": {
      "text/plain": [
       "Item_Type\n",
       "Baking Goods             125.795653\n",
       "Breads                   141.300639\n",
       "Breakfast                134.090683\n",
       "Canned                   138.551179\n",
       "Dairy                    149.481471\n",
       "Frozen Foods             140.095830\n",
       "Fruits and Vegetables    145.418257\n",
       "Hard Drinks              140.102908\n",
       "Health and Hygiene       131.437324\n",
       "Household                149.884244\n",
       "Meat                     140.279344\n",
       "Others                   137.640870\n",
       "Seafood                  146.595782\n",
       "Snack Foods              147.569955\n",
       "Soft Drinks              130.910182\n",
       "Starchy Foods            151.256747\n",
       "Name: Item_MRP, dtype: float64"
      ]
     },
     "execution_count": 31,
     "metadata": {},
     "output_type": "execute_result"
    }
   ],
   "source": [
    "# mean price by item \n",
    "price_by_item.Item_MRP.mean()"
   ]
  },
  {
   "cell_type": "markdown",
   "metadata": {},
   "source": [
    "- You can use `groupby` with **multiple** columns of the dataset too. \n",
    "- In this case, if you want to group first based on the Item_Type and then Item_MRP you can simply pass a list of column names."
   ]
  },
  {
   "cell_type": "code",
   "execution_count": 23,
   "metadata": {},
   "outputs": [
    {
     "data": {
      "text/html": [
       "<div>\n",
       "<style scoped>\n",
       "    .dataframe tbody tr th:only-of-type {\n",
       "        vertical-align: middle;\n",
       "    }\n",
       "\n",
       "    .dataframe tbody tr th {\n",
       "        vertical-align: top;\n",
       "    }\n",
       "\n",
       "    .dataframe thead th {\n",
       "        text-align: right;\n",
       "    }\n",
       "</style>\n",
       "<table border=\"1\" class=\"dataframe\">\n",
       "  <thead>\n",
       "    <tr style=\"text-align: right;\">\n",
       "      <th></th>\n",
       "      <th></th>\n",
       "      <th>Item_Identifier</th>\n",
       "      <th>Item_Weight</th>\n",
       "      <th>Item_Visibility</th>\n",
       "      <th>Item_MRP</th>\n",
       "      <th>Outlet_Identifier</th>\n",
       "      <th>Outlet_Establishment_Year</th>\n",
       "      <th>Outlet_Size</th>\n",
       "      <th>Outlet_Location_Type</th>\n",
       "      <th>Outlet_Type</th>\n",
       "      <th>Item_Outlet_Sales</th>\n",
       "    </tr>\n",
       "    <tr>\n",
       "      <th>Item_Type</th>\n",
       "      <th>Item_Fat_Content</th>\n",
       "      <th></th>\n",
       "      <th></th>\n",
       "      <th></th>\n",
       "      <th></th>\n",
       "      <th></th>\n",
       "      <th></th>\n",
       "      <th></th>\n",
       "      <th></th>\n",
       "      <th></th>\n",
       "      <th></th>\n",
       "    </tr>\n",
       "  </thead>\n",
       "  <tbody>\n",
       "    <tr>\n",
       "      <th rowspan=\"5\" valign=\"top\">Baking Goods</th>\n",
       "      <th>LF</th>\n",
       "      <td>FDP24</td>\n",
       "      <td>20.600</td>\n",
       "      <td>0.083133</td>\n",
       "      <td>120.1756</td>\n",
       "      <td>OUT049</td>\n",
       "      <td>1999</td>\n",
       "      <td>Medium</td>\n",
       "      <td>Tier 1</td>\n",
       "      <td>Supermarket Type1</td>\n",
       "      <td>1332.9316</td>\n",
       "    </tr>\n",
       "    <tr>\n",
       "      <th>Low Fat</th>\n",
       "      <td>FDG24</td>\n",
       "      <td>7.975</td>\n",
       "      <td>0.014619</td>\n",
       "      <td>85.2250</td>\n",
       "      <td>OUT013</td>\n",
       "      <td>1987</td>\n",
       "      <td>High</td>\n",
       "      <td>Tier 3</td>\n",
       "      <td>Supermarket Type1</td>\n",
       "      <td>1081.9250</td>\n",
       "    </tr>\n",
       "    <tr>\n",
       "      <th>Regular</th>\n",
       "      <td>FDP36</td>\n",
       "      <td>10.395</td>\n",
       "      <td>0.000000</td>\n",
       "      <td>51.4008</td>\n",
       "      <td>OUT018</td>\n",
       "      <td>2009</td>\n",
       "      <td>Medium</td>\n",
       "      <td>Tier 3</td>\n",
       "      <td>Supermarket Type2</td>\n",
       "      <td>556.6088</td>\n",
       "    </tr>\n",
       "    <tr>\n",
       "      <th>low fat</th>\n",
       "      <td>FDK48</td>\n",
       "      <td>7.445</td>\n",
       "      <td>0.000000</td>\n",
       "      <td>76.8354</td>\n",
       "      <td>OUT046</td>\n",
       "      <td>1997</td>\n",
       "      <td>Small</td>\n",
       "      <td>Tier 1</td>\n",
       "      <td>Supermarket Type1</td>\n",
       "      <td>2181.8266</td>\n",
       "    </tr>\n",
       "    <tr>\n",
       "      <th>reg</th>\n",
       "      <td>FDT24</td>\n",
       "      <td>12.350</td>\n",
       "      <td>0.186148</td>\n",
       "      <td>78.2328</td>\n",
       "      <td>OUT049</td>\n",
       "      <td>1999</td>\n",
       "      <td>Medium</td>\n",
       "      <td>Tier 1</td>\n",
       "      <td>Supermarket Type1</td>\n",
       "      <td>1158.4920</td>\n",
       "    </tr>\n",
       "    <tr>\n",
       "      <th>...</th>\n",
       "      <th>...</th>\n",
       "      <td>...</td>\n",
       "      <td>...</td>\n",
       "      <td>...</td>\n",
       "      <td>...</td>\n",
       "      <td>...</td>\n",
       "      <td>...</td>\n",
       "      <td>...</td>\n",
       "      <td>...</td>\n",
       "      <td>...</td>\n",
       "      <td>...</td>\n",
       "    </tr>\n",
       "    <tr>\n",
       "      <th rowspan=\"5\" valign=\"top\">Starchy Foods</th>\n",
       "      <th>LF</th>\n",
       "      <td>FDB11</td>\n",
       "      <td>16.000</td>\n",
       "      <td>0.060797</td>\n",
       "      <td>223.8404</td>\n",
       "      <td>OUT013</td>\n",
       "      <td>1987</td>\n",
       "      <td>High</td>\n",
       "      <td>Tier 3</td>\n",
       "      <td>Supermarket Type1</td>\n",
       "      <td>3600.6464</td>\n",
       "    </tr>\n",
       "    <tr>\n",
       "      <th>Low Fat</th>\n",
       "      <td>FDB11</td>\n",
       "      <td>16.000</td>\n",
       "      <td>0.060837</td>\n",
       "      <td>226.8404</td>\n",
       "      <td>OUT035</td>\n",
       "      <td>2004</td>\n",
       "      <td>Small</td>\n",
       "      <td>Tier 2</td>\n",
       "      <td>Supermarket Type1</td>\n",
       "      <td>6301.1312</td>\n",
       "    </tr>\n",
       "    <tr>\n",
       "      <th>Regular</th>\n",
       "      <td>FDB35</td>\n",
       "      <td>12.300</td>\n",
       "      <td>0.064565</td>\n",
       "      <td>92.9804</td>\n",
       "      <td>OUT013</td>\n",
       "      <td>1987</td>\n",
       "      <td>High</td>\n",
       "      <td>Tier 3</td>\n",
       "      <td>Supermarket Type1</td>\n",
       "      <td>1929.4884</td>\n",
       "    </tr>\n",
       "    <tr>\n",
       "      <th>low fat</th>\n",
       "      <td>FDE47</td>\n",
       "      <td>14.150</td>\n",
       "      <td>0.037877</td>\n",
       "      <td>124.0046</td>\n",
       "      <td>OUT013</td>\n",
       "      <td>1987</td>\n",
       "      <td>High</td>\n",
       "      <td>Tier 3</td>\n",
       "      <td>Supermarket Type1</td>\n",
       "      <td>1618.5598</td>\n",
       "    </tr>\n",
       "    <tr>\n",
       "      <th>reg</th>\n",
       "      <td>FDF11</td>\n",
       "      <td>10.195</td>\n",
       "      <td>0.017703</td>\n",
       "      <td>239.4538</td>\n",
       "      <td>OUT018</td>\n",
       "      <td>2009</td>\n",
       "      <td>Medium</td>\n",
       "      <td>Tier 3</td>\n",
       "      <td>Supermarket Type2</td>\n",
       "      <td>3605.3070</td>\n",
       "    </tr>\n",
       "  </tbody>\n",
       "</table>\n",
       "<p>67 rows × 10 columns</p>\n",
       "</div>"
      ],
      "text/plain": [
       "                               Item_Identifier  Item_Weight  Item_Visibility  \\\n",
       "Item_Type     Item_Fat_Content                                                 \n",
       "Baking Goods  LF                         FDP24       20.600         0.083133   \n",
       "              Low Fat                    FDG24        7.975         0.014619   \n",
       "              Regular                    FDP36       10.395         0.000000   \n",
       "              low fat                    FDK48        7.445         0.000000   \n",
       "              reg                        FDT24       12.350         0.186148   \n",
       "...                                        ...          ...              ...   \n",
       "Starchy Foods LF                         FDB11       16.000         0.060797   \n",
       "              Low Fat                    FDB11       16.000         0.060837   \n",
       "              Regular                    FDB35       12.300         0.064565   \n",
       "              low fat                    FDE47       14.150         0.037877   \n",
       "              reg                        FDF11       10.195         0.017703   \n",
       "\n",
       "                                Item_MRP Outlet_Identifier  \\\n",
       "Item_Type     Item_Fat_Content                               \n",
       "Baking Goods  LF                120.1756            OUT049   \n",
       "              Low Fat            85.2250            OUT013   \n",
       "              Regular            51.4008            OUT018   \n",
       "              low fat            76.8354            OUT046   \n",
       "              reg                78.2328            OUT049   \n",
       "...                                  ...               ...   \n",
       "Starchy Foods LF                223.8404            OUT013   \n",
       "              Low Fat           226.8404            OUT035   \n",
       "              Regular            92.9804            OUT013   \n",
       "              low fat           124.0046            OUT013   \n",
       "              reg               239.4538            OUT018   \n",
       "\n",
       "                                Outlet_Establishment_Year Outlet_Size  \\\n",
       "Item_Type     Item_Fat_Content                                          \n",
       "Baking Goods  LF                                     1999      Medium   \n",
       "              Low Fat                                1987        High   \n",
       "              Regular                                2009      Medium   \n",
       "              low fat                                1997       Small   \n",
       "              reg                                    1999      Medium   \n",
       "...                                                   ...         ...   \n",
       "Starchy Foods LF                                     1987        High   \n",
       "              Low Fat                                2004       Small   \n",
       "              Regular                                1987        High   \n",
       "              low fat                                1987        High   \n",
       "              reg                                    2009      Medium   \n",
       "\n",
       "                               Outlet_Location_Type        Outlet_Type  \\\n",
       "Item_Type     Item_Fat_Content                                           \n",
       "Baking Goods  LF                             Tier 1  Supermarket Type1   \n",
       "              Low Fat                        Tier 3  Supermarket Type1   \n",
       "              Regular                        Tier 3  Supermarket Type2   \n",
       "              low fat                        Tier 1  Supermarket Type1   \n",
       "              reg                            Tier 1  Supermarket Type1   \n",
       "...                                             ...                ...   \n",
       "Starchy Foods LF                             Tier 3  Supermarket Type1   \n",
       "              Low Fat                        Tier 2  Supermarket Type1   \n",
       "              Regular                        Tier 3  Supermarket Type1   \n",
       "              low fat                        Tier 3  Supermarket Type1   \n",
       "              reg                            Tier 3  Supermarket Type2   \n",
       "\n",
       "                                Item_Outlet_Sales  \n",
       "Item_Type     Item_Fat_Content                     \n",
       "Baking Goods  LF                        1332.9316  \n",
       "              Low Fat                   1081.9250  \n",
       "              Regular                    556.6088  \n",
       "              low fat                   2181.8266  \n",
       "              reg                       1158.4920  \n",
       "...                                           ...  \n",
       "Starchy Foods LF                        3600.6464  \n",
       "              Low Fat                   6301.1312  \n",
       "              Regular                   1929.4884  \n",
       "              low fat                   1618.5598  \n",
       "              reg                       3605.3070  \n",
       "\n",
       "[67 rows x 10 columns]"
      ]
     },
     "execution_count": 23,
     "metadata": {},
     "output_type": "execute_result"
    }
   ],
   "source": [
    "# group on multiple columns\n",
    "multiple_groups = data_BM.groupby(['Item_Type','Item_Fat_Content'])\n",
    "multiple_groups.first()"
   ]
  },
  {
   "cell_type": "markdown",
   "metadata": {},
   "source": [
    "You can read more about **groupby** and other related functions [here.](http://pandas.pydata.org/pandas-docs/stable/user_guide/groupby.html)\n",
    "\n",
    "#### b. **How are outlet sizes distributed based on the city type?** : crosstab\n",
    "\n",
    "- This function is used to get an initial “feel” (view) of the data. Here, we can validate some basic hypothesis.\n",
    "- For example, in this case, \"Outlet_Location_Type\" is expected to affect the \"Outlet_Size\" significantly. This can be tested using cross-tabulation as shown below:"
   ]
  },
  {
   "cell_type": "code",
   "execution_count": 24,
   "metadata": {},
   "outputs": [
    {
     "data": {
      "text/html": [
       "<div>\n",
       "<style scoped>\n",
       "    .dataframe tbody tr th:only-of-type {\n",
       "        vertical-align: middle;\n",
       "    }\n",
       "\n",
       "    .dataframe tbody tr th {\n",
       "        vertical-align: top;\n",
       "    }\n",
       "\n",
       "    .dataframe thead th {\n",
       "        text-align: right;\n",
       "    }\n",
       "</style>\n",
       "<table border=\"1\" class=\"dataframe\">\n",
       "  <thead>\n",
       "    <tr style=\"text-align: right;\">\n",
       "      <th>Outlet_Location_Type</th>\n",
       "      <th>Tier 1</th>\n",
       "      <th>Tier 2</th>\n",
       "      <th>Tier 3</th>\n",
       "      <th>All</th>\n",
       "    </tr>\n",
       "    <tr>\n",
       "      <th>Outlet_Size</th>\n",
       "      <th></th>\n",
       "      <th></th>\n",
       "      <th></th>\n",
       "      <th></th>\n",
       "    </tr>\n",
       "  </thead>\n",
       "  <tbody>\n",
       "    <tr>\n",
       "      <th>High</th>\n",
       "      <td>0</td>\n",
       "      <td>0</td>\n",
       "      <td>932</td>\n",
       "      <td>932</td>\n",
       "    </tr>\n",
       "    <tr>\n",
       "      <th>Medium</th>\n",
       "      <td>930</td>\n",
       "      <td>0</td>\n",
       "      <td>928</td>\n",
       "      <td>1858</td>\n",
       "    </tr>\n",
       "    <tr>\n",
       "      <th>Small</th>\n",
       "      <td>930</td>\n",
       "      <td>930</td>\n",
       "      <td>0</td>\n",
       "      <td>1860</td>\n",
       "    </tr>\n",
       "    <tr>\n",
       "      <th>All</th>\n",
       "      <td>1860</td>\n",
       "      <td>930</td>\n",
       "      <td>1860</td>\n",
       "      <td>4650</td>\n",
       "    </tr>\n",
       "  </tbody>\n",
       "</table>\n",
       "</div>"
      ],
      "text/plain": [
       "Outlet_Location_Type  Tier 1  Tier 2  Tier 3   All\n",
       "Outlet_Size                                       \n",
       "High                       0       0     932   932\n",
       "Medium                   930       0     928  1858\n",
       "Small                    930     930       0  1860\n",
       "All                     1860     930    1860  4650"
      ]
     },
     "execution_count": 24,
     "metadata": {},
     "output_type": "execute_result"
    }
   ],
   "source": [
    "#generate crosstab outlet_size and outlet_location_type\n",
    "pd.crosstab(data_BM[\"Outlet_Size\"],data_BM[\"Outlet_Location_Type\"],margins=True)"
   ]
  },
  {
   "cell_type": "code",
   "execution_count": 52,
   "metadata": {},
   "outputs": [],
   "source": [
    "#cross tab functinality using group by\n",
    "out = data_BM.groupby([\"Outlet_Size\",\"Outlet_Location_Type\"])"
   ]
  },
  {
   "cell_type": "code",
   "execution_count": 53,
   "metadata": {},
   "outputs": [
    {
     "data": {
      "text/plain": [
       "Outlet_Size  Outlet_Location_Type\n",
       "High         Tier 3                  932\n",
       "Medium       Tier 1                  930\n",
       "             Tier 3                  928\n",
       "Small        Tier 1                  930\n",
       "             Tier 2                  930\n",
       "Name: Outlet_Location_Type, dtype: int64"
      ]
     },
     "execution_count": 53,
     "metadata": {},
     "output_type": "execute_result"
    }
   ],
   "source": [
    "out.Outlet_Location_Type.count()"
   ]
  },
  {
   "cell_type": "markdown",
   "metadata": {},
   "source": [
    "- If you notice in the above `crosstab` there are interesting insights like 50% of medium size outlets are present only in either Tier 1 or Tier 2 cities.\n",
    "- Another counter intuitive thing to notice is that high outlet size is only present in Tier 3 city though general assumption would be towards Tier 1 cities having larger outlet sizes.\n",
    "\n",
    "#### c. How are the sales changing per year? : pivottable\n",
    "\n",
    "- Pandas can be used to create MS Excel style pivot tables.\n",
    "- The fun thing about pandas `pivot_table` is you can get another point of view on your data with only one line of code. \n",
    "- Most of the `pivot_table` parameters use default values, so the only mandatory parameters you must add are `data` and `index`. \n",
    "    - **data** is self explanatory – it’s the DataFrame you’d like to use\n",
    "    - **index** is the column, grouper, array (or list of the previous) you’d like to group your data by. \n",
    "    - **values (optional)** is the column you’d like to aggregate. If you do not specify this then the function will aggregate all numeric columns.\n"
   ]
  },
  {
   "cell_type": "code",
   "execution_count": 43,
   "metadata": {},
   "outputs": [
    {
     "data": {
      "text/html": [
       "<div>\n",
       "<style scoped>\n",
       "    .dataframe tbody tr th:only-of-type {\n",
       "        vertical-align: middle;\n",
       "    }\n",
       "\n",
       "    .dataframe tbody tr th {\n",
       "        vertical-align: top;\n",
       "    }\n",
       "\n",
       "    .dataframe thead th {\n",
       "        text-align: right;\n",
       "    }\n",
       "</style>\n",
       "<table border=\"1\" class=\"dataframe\">\n",
       "  <thead>\n",
       "    <tr style=\"text-align: right;\">\n",
       "      <th></th>\n",
       "      <th>Item_Outlet_Sales</th>\n",
       "    </tr>\n",
       "    <tr>\n",
       "      <th>Outlet_Establishment_Year</th>\n",
       "      <th></th>\n",
       "    </tr>\n",
       "  </thead>\n",
       "  <tbody>\n",
       "    <tr>\n",
       "      <th>1987</th>\n",
       "      <td>2298.995256</td>\n",
       "    </tr>\n",
       "    <tr>\n",
       "      <th>1997</th>\n",
       "      <td>2277.844267</td>\n",
       "    </tr>\n",
       "    <tr>\n",
       "      <th>1999</th>\n",
       "      <td>2348.354635</td>\n",
       "    </tr>\n",
       "    <tr>\n",
       "      <th>2004</th>\n",
       "      <td>2438.841866</td>\n",
       "    </tr>\n",
       "    <tr>\n",
       "      <th>2009</th>\n",
       "      <td>1995.498739</td>\n",
       "    </tr>\n",
       "  </tbody>\n",
       "</table>\n",
       "</div>"
      ],
      "text/plain": [
       "                           Item_Outlet_Sales\n",
       "Outlet_Establishment_Year                   \n",
       "1987                             2298.995256\n",
       "1997                             2277.844267\n",
       "1999                             2348.354635\n",
       "2004                             2438.841866\n",
       "2009                             1995.498739"
      ]
     },
     "execution_count": 43,
     "metadata": {},
     "output_type": "execute_result"
    }
   ],
   "source": [
    "# Create a pivot table\n",
    "pd.pivot_table(data_BM, index=[\"Outlet_Establishment_Year\"],values=\"Item_Outlet_Sales\")"
   ]
  },
  {
   "cell_type": "code",
   "execution_count": 48,
   "metadata": {},
   "outputs": [
    {
     "data": {
      "text/html": [
       "<div>\n",
       "<style scoped>\n",
       "    .dataframe tbody tr th:only-of-type {\n",
       "        vertical-align: middle;\n",
       "    }\n",
       "\n",
       "    .dataframe tbody tr th {\n",
       "        vertical-align: top;\n",
       "    }\n",
       "\n",
       "    .dataframe thead th {\n",
       "        text-align: right;\n",
       "    }\n",
       "</style>\n",
       "<table border=\"1\" class=\"dataframe\">\n",
       "  <thead>\n",
       "    <tr style=\"text-align: right;\">\n",
       "      <th></th>\n",
       "      <th></th>\n",
       "      <th></th>\n",
       "      <th>Item_Outlet_Sales</th>\n",
       "    </tr>\n",
       "    <tr>\n",
       "      <th>Outlet_Establishment_Year</th>\n",
       "      <th>Outlet_Location_Type</th>\n",
       "      <th>Outlet_Size</th>\n",
       "      <th></th>\n",
       "    </tr>\n",
       "  </thead>\n",
       "  <tbody>\n",
       "    <tr>\n",
       "      <th>1987</th>\n",
       "      <th>Tier 3</th>\n",
       "      <th>High</th>\n",
       "      <td>2298.995256</td>\n",
       "    </tr>\n",
       "    <tr>\n",
       "      <th>1997</th>\n",
       "      <th>Tier 1</th>\n",
       "      <th>Small</th>\n",
       "      <td>2277.844267</td>\n",
       "    </tr>\n",
       "    <tr>\n",
       "      <th>1999</th>\n",
       "      <th>Tier 1</th>\n",
       "      <th>Medium</th>\n",
       "      <td>2348.354635</td>\n",
       "    </tr>\n",
       "    <tr>\n",
       "      <th>2004</th>\n",
       "      <th>Tier 2</th>\n",
       "      <th>Small</th>\n",
       "      <td>2438.841866</td>\n",
       "    </tr>\n",
       "    <tr>\n",
       "      <th>2009</th>\n",
       "      <th>Tier 3</th>\n",
       "      <th>Medium</th>\n",
       "      <td>1995.498739</td>\n",
       "    </tr>\n",
       "  </tbody>\n",
       "</table>\n",
       "</div>"
      ],
      "text/plain": [
       "                                                            Item_Outlet_Sales\n",
       "Outlet_Establishment_Year Outlet_Location_Type Outlet_Size                   \n",
       "1987                      Tier 3               High               2298.995256\n",
       "1997                      Tier 1               Small              2277.844267\n",
       "1999                      Tier 1               Medium             2348.354635\n",
       "2004                      Tier 2               Small              2438.841866\n",
       "2009                      Tier 3               Medium             1995.498739"
      ]
     },
     "execution_count": 48,
     "metadata": {},
     "output_type": "execute_result"
    }
   ],
   "source": [
    "pd.pivot_table(data_BM, index=[\"Outlet_Establishment_Year\",\"Outlet_Location_Type\",\"Outlet_Size\"],values=\"Item_Outlet_Sales\")\n"
   ]
  },
  {
   "cell_type": "markdown",
   "metadata": {},
   "source": [
    "- This makes it easier to see that Tier 1 cities have good sales irrespective of year and outlet size.\n",
    "- We also notice that Tier 2 and Tier 3 cities dominate during the later years. This might mean both they are performing better or we have less data of later years.\n",
    "- You can also perform multiple aggregations like mean, median, min, max etc. in a pivot table by using **aggfunc** parameter."
   ]
  },
  {
   "cell_type": "code",
   "execution_count": 49,
   "metadata": {},
   "outputs": [
    {
     "data": {
      "text/html": [
       "<div>\n",
       "<style scoped>\n",
       "    .dataframe tbody tr th:only-of-type {\n",
       "        vertical-align: middle;\n",
       "    }\n",
       "\n",
       "    .dataframe tbody tr th {\n",
       "        vertical-align: top;\n",
       "    }\n",
       "\n",
       "    .dataframe thead tr th {\n",
       "        text-align: left;\n",
       "    }\n",
       "\n",
       "    .dataframe thead tr:last-of-type th {\n",
       "        text-align: right;\n",
       "    }\n",
       "</style>\n",
       "<table border=\"1\" class=\"dataframe\">\n",
       "  <thead>\n",
       "    <tr>\n",
       "      <th></th>\n",
       "      <th></th>\n",
       "      <th></th>\n",
       "      <th>mean</th>\n",
       "      <th>median</th>\n",
       "      <th>min</th>\n",
       "      <th>max</th>\n",
       "      <th>std</th>\n",
       "    </tr>\n",
       "    <tr>\n",
       "      <th></th>\n",
       "      <th></th>\n",
       "      <th></th>\n",
       "      <th>Item_Outlet_Sales</th>\n",
       "      <th>Item_Outlet_Sales</th>\n",
       "      <th>Item_Outlet_Sales</th>\n",
       "      <th>Item_Outlet_Sales</th>\n",
       "      <th>Item_Outlet_Sales</th>\n",
       "    </tr>\n",
       "    <tr>\n",
       "      <th>Outlet_Establishment_Year</th>\n",
       "      <th>Outlet_Location_Type</th>\n",
       "      <th>Outlet_Size</th>\n",
       "      <th></th>\n",
       "      <th></th>\n",
       "      <th></th>\n",
       "      <th></th>\n",
       "      <th></th>\n",
       "    </tr>\n",
       "  </thead>\n",
       "  <tbody>\n",
       "    <tr>\n",
       "      <th>1987</th>\n",
       "      <th>Tier 3</th>\n",
       "      <th>High</th>\n",
       "      <td>2298.995256</td>\n",
       "      <td>2050.6640</td>\n",
       "      <td>73.2380</td>\n",
       "      <td>10256.6490</td>\n",
       "      <td>1533.531664</td>\n",
       "    </tr>\n",
       "    <tr>\n",
       "      <th>1997</th>\n",
       "      <th>Tier 1</th>\n",
       "      <th>Small</th>\n",
       "      <td>2277.844267</td>\n",
       "      <td>1945.8005</td>\n",
       "      <td>101.8674</td>\n",
       "      <td>9779.9362</td>\n",
       "      <td>1488.405631</td>\n",
       "    </tr>\n",
       "    <tr>\n",
       "      <th>1999</th>\n",
       "      <th>Tier 1</th>\n",
       "      <th>Medium</th>\n",
       "      <td>2348.354635</td>\n",
       "      <td>1966.1074</td>\n",
       "      <td>111.8544</td>\n",
       "      <td>7646.0472</td>\n",
       "      <td>1513.289464</td>\n",
       "    </tr>\n",
       "    <tr>\n",
       "      <th>2004</th>\n",
       "      <th>Tier 2</th>\n",
       "      <th>Small</th>\n",
       "      <td>2438.841866</td>\n",
       "      <td>2109.2544</td>\n",
       "      <td>113.8518</td>\n",
       "      <td>8479.6288</td>\n",
       "      <td>1538.512533</td>\n",
       "    </tr>\n",
       "    <tr>\n",
       "      <th>2009</th>\n",
       "      <th>Tier 3</th>\n",
       "      <th>Medium</th>\n",
       "      <td>1995.498739</td>\n",
       "      <td>1655.1788</td>\n",
       "      <td>69.2432</td>\n",
       "      <td>6768.5228</td>\n",
       "      <td>1375.932889</td>\n",
       "    </tr>\n",
       "  </tbody>\n",
       "</table>\n",
       "</div>"
      ],
      "text/plain": [
       "                                                                        mean  \\\n",
       "                                                           Item_Outlet_Sales   \n",
       "Outlet_Establishment_Year Outlet_Location_Type Outlet_Size                     \n",
       "1987                      Tier 3               High              2298.995256   \n",
       "1997                      Tier 1               Small             2277.844267   \n",
       "1999                      Tier 1               Medium            2348.354635   \n",
       "2004                      Tier 2               Small             2438.841866   \n",
       "2009                      Tier 3               Medium            1995.498739   \n",
       "\n",
       "                                                                      median  \\\n",
       "                                                           Item_Outlet_Sales   \n",
       "Outlet_Establishment_Year Outlet_Location_Type Outlet_Size                     \n",
       "1987                      Tier 3               High                2050.6640   \n",
       "1997                      Tier 1               Small               1945.8005   \n",
       "1999                      Tier 1               Medium              1966.1074   \n",
       "2004                      Tier 2               Small               2109.2544   \n",
       "2009                      Tier 3               Medium              1655.1788   \n",
       "\n",
       "                                                                         min  \\\n",
       "                                                           Item_Outlet_Sales   \n",
       "Outlet_Establishment_Year Outlet_Location_Type Outlet_Size                     \n",
       "1987                      Tier 3               High                  73.2380   \n",
       "1997                      Tier 1               Small                101.8674   \n",
       "1999                      Tier 1               Medium               111.8544   \n",
       "2004                      Tier 2               Small                113.8518   \n",
       "2009                      Tier 3               Medium                69.2432   \n",
       "\n",
       "                                                                         max  \\\n",
       "                                                           Item_Outlet_Sales   \n",
       "Outlet_Establishment_Year Outlet_Location_Type Outlet_Size                     \n",
       "1987                      Tier 3               High               10256.6490   \n",
       "1997                      Tier 1               Small               9779.9362   \n",
       "1999                      Tier 1               Medium              7646.0472   \n",
       "2004                      Tier 2               Small               8479.6288   \n",
       "2009                      Tier 3               Medium              6768.5228   \n",
       "\n",
       "                                                                         std  \n",
       "                                                           Item_Outlet_Sales  \n",
       "Outlet_Establishment_Year Outlet_Location_Type Outlet_Size                    \n",
       "1987                      Tier 3               High              1533.531664  \n",
       "1997                      Tier 1               Small             1488.405631  \n",
       "1999                      Tier 1               Medium            1513.289464  \n",
       "2004                      Tier 2               Small             1538.512533  \n",
       "2009                      Tier 3               Medium            1375.932889  "
      ]
     },
     "execution_count": 49,
     "metadata": {},
     "output_type": "execute_result"
    }
   ],
   "source": [
    "pd.pivot_table(data_BM, index=[\"Outlet_Establishment_Year\",\"Outlet_Location_Type\",\"Outlet_Size\"],values=\"Item_Outlet_Sales\",aggfunc=[np.mean,np.median,min,max,np.std])\n"
   ]
  },
  {
   "cell_type": "markdown",
   "metadata": {},
   "source": [
    "### Introduction\n",
    "\n",
    "- Making plots and static or interactive visualizations is one of the most important tasks in data analysis. It may be a part of the exploratory process; for example, helping identify outliers, needed data transformations, or coming up with ideas for models.\n",
    "\n",
    "- Matplotlib is the most extensively used library of python for data visualization due to it's high flexibility and extensive functionality that it provides.\n",
    "\n",
    "### Table of Contents\n",
    "\n",
    "1. Setting up\n",
    "    - Importing matplotlib\n",
    "    - Matplotlib for Jupyter notebook\n",
    "    - Dataset \n",
    "    - Documentation\n",
    "2. Matplotlib basics\n",
    "    - Make a simple plot\n",
    "    - Labels, and Legends\n",
    "    - Size, Colors, Markers, and Line Styles\n",
    "    - Figures and subplots\n",
    "3. Line Chart\n",
    "4. Bar Chart\n",
    "5. Histogram\n",
    "6. Box plot\n",
    "7. Violin plot\n",
    "8. Scatter plot\n",
    "9. Bubble plot"
   ]
  },
  {
   "cell_type": "code",
   "execution_count": 60,
   "metadata": {},
   "outputs": [],
   "source": [
    "# importing required libraries\n",
    "import numpy as np\n",
    "import pandas as pd\n",
    "\n",
    "# importing matplotlib\n",
    "import matplotlib.pyplot as plt\n",
    "\n",
    "# display plots in the notebook itself\n",
    "%matplotlib inline"
   ]
  },
  {
   "cell_type": "markdown",
   "metadata": {},
   "source": [
    "### 2. Matplotlib basics\n",
    "\n",
    "#### Make a simple plot\n",
    "\n",
    "Let's create a basic plot to start working with!2. Matplotlib basics\n",
    "Make a simple plot\n",
    "Let's create a basic plot to start working with!"
   ]
  },
  {
   "cell_type": "code",
   "execution_count": 62,
   "metadata": {},
   "outputs": [
    {
     "data": {
      "text/plain": [
       "[<matplotlib.lines.Line2D at 0x7fa55a90b588>]"
      ]
     },
     "execution_count": 62,
     "metadata": {},
     "output_type": "execute_result"
    },
    {
     "data": {
      "image/png": "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\n",
      "text/plain": [
       "<Figure size 432x288 with 1 Axes>"
      ]
     },
     "metadata": {
      "needs_background": "light"
     },
     "output_type": "display_data"
    }
   ],
   "source": [
    "height = [150,160,165,185]\n",
    "weight = [70, 80, 90, 100]\n",
    "\n",
    "# draw the plot\n",
    "plt.plot(height,weight)"
   ]
  },
  {
   "cell_type": "markdown",
   "metadata": {},
   "source": [
    "We pass two arrays as our input arguments to **plot()** method and invoke the required plot. Here note that the first array appears on the x-axis and second array appears on the y-axis of the plot.\n",
    "\n",
    "#### Title, Labels, and Legends\n",
    "- Now that our first plot is ready, let us add the title, and name x-axis and y-axis using methods title(), xlabel() and ylabel() respectively.\n"
   ]
  },
  {
   "cell_type": "code",
   "execution_count": 63,
   "metadata": {},
   "outputs": [
    {
     "data": {
      "text/plain": [
       "Text(0, 0.5, 'Weight')"
      ]
     },
     "execution_count": 63,
     "metadata": {},
     "output_type": "execute_result"
    },
    {
     "data": {
      "image/png": "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\n",
      "text/plain": [
       "<Figure size 432x288 with 1 Axes>"
      ]
     },
     "metadata": {
      "needs_background": "light"
     },
     "output_type": "display_data"
    }
   ],
   "source": [
    "# draw the plot\n",
    "plt.plot(height,weight)\n",
    "\n",
    "plt.title(\"Relationship between height and weight\")\n",
    "\n",
    "plt.xlabel(\"Height\")\n",
    "plt.ylabel(\"Weight\")\n",
    "         "
   ]
  },
  {
   "cell_type": "code",
   "execution_count": 64,
   "metadata": {},
   "outputs": [
    {
     "data": {
      "text/plain": [
       "[<matplotlib.lines.Line2D at 0x7fa55aa04518>]"
      ]
     },
     "execution_count": 64,
     "metadata": {},
     "output_type": "execute_result"
    },
    {
     "data": {
      "image/png": "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\n",
      "text/plain": [
       "<Figure size 432x288 with 1 Axes>"
      ]
     },
     "metadata": {
      "needs_background": "light"
     },
     "output_type": "display_data"
    }
   ],
   "source": [
    "calories_burnt = [65, 75, 95, 99]\n",
    "\n",
    "# draw the plot for calories burnt\n",
    "plt.plot(calories_burnt)\n",
    "# draw the plot for weight\n",
    "plt.plot(weight)"
   ]
  },
  {
   "cell_type": "markdown",
   "metadata": {},
   "source": [
    "- Adding **legends** is also simple in matplotlib, you can use the `legend()` which takes **labels** and **loc** as label names and location of legend in the figure as paremeters."
   ]
  },
  {
   "cell_type": "code",
   "execution_count": 66,
   "metadata": {},
   "outputs": [
    {
     "data": {
      "text/plain": [
       "<matplotlib.legend.Legend at 0x7fa55aaa9f60>"
      ]
     },
     "execution_count": 66,
     "metadata": {},
     "output_type": "execute_result"
    },
    {
     "data": {
      "image/png": "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\n",
      "text/plain": [
       "<Figure size 432x288 with 1 Axes>"
      ]
     },
     "metadata": {
      "needs_background": "light"
     },
     "output_type": "display_data"
    }
   ],
   "source": [
    "plt.plot(calories_burnt)\n",
    "\n",
    "plt.plot(weight)\n",
    "\n",
    "plt.legend(labels=['Calories Burnt','Weight'],loc='lower right')\n",
    " \n"
   ]
  },
  {
   "cell_type": "markdown",
   "metadata": {},
   "source": [
    "- Notice that in the previous plot, we are not able to understand that each of these values belong to different persons.\n",
    "- Look at the X axis, can we add labels to show that each belong to different persons?\n",
    "- The labeled values on any axis is known as a **tick**.\n",
    "- You can use the `xticks` to change both the location of each tick and it's label. Let's see this in an example"
   ]
  },
  {
   "cell_type": "code",
   "execution_count": 72,
   "metadata": {},
   "outputs": [
    {
     "data": {
      "text/plain": [
       "([<matplotlib.axis.XTick at 0x7fa555a7b828>,\n",
       "  <matplotlib.axis.XTick at 0x7fa555a732e8>,\n",
       "  <matplotlib.axis.XTick at 0x7fa555a73ac8>,\n",
       "  <matplotlib.axis.XTick at 0x7fa555a2e438>,\n",
       "  <matplotlib.axis.XTick at 0x7fa555a2e908>],\n",
       " <a list of 5 Text xticklabel objects>)"
      ]
     },
     "execution_count": 72,
     "metadata": {},
     "output_type": "execute_result"
    },
    {
     "data": {
      "image/png": "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\n",
      "text/plain": [
       "<Figure size 432x288 with 1 Axes>"
      ]
     },
     "metadata": {
      "needs_background": "light"
     },
     "output_type": "display_data"
    }
   ],
   "source": [
    "# draw the plot\n",
    "plt.plot(calories_burnt)\n",
    "plt.plot(weight)\n",
    "\n",
    "# add legend in the lower right part of the figure\n",
    "plt.legend(labels=['Calories Burnt', 'Weight'], loc='lower right')\n",
    "\n",
    "plt.xticks(ticks=[0,1,2,3,4],labels=[\"p1\",\"p2\",\"p3\",\"p4\",\"p5\"])\n"
   ]
  },
  {
   "cell_type": "markdown",
   "metadata": {},
   "source": [
    "#### Size, Colors, Markers and Line styles\n",
    "\n",
    "- You can also specify the size of the figure using method `figure()` and passing the values as a tuple of the length of rows and columns to the argument figsize. \n",
    "- The values of length are considered to be in **inches**."
   ]
  },
  {
   "cell_type": "code",
   "execution_count": 73,
   "metadata": {},
   "outputs": [
    {
     "data": {
      "text/plain": [
       "([<matplotlib.axis.XTick at 0x7fa5559e48d0>,\n",
       "  <matplotlib.axis.XTick at 0x7fa5559e4208>,\n",
       "  <matplotlib.axis.XTick at 0x7fa5559e40b8>,\n",
       "  <matplotlib.axis.XTick at 0x7fa555a118d0>,\n",
       "  <matplotlib.axis.XTick at 0x7fa555a11da0>],\n",
       " <a list of 5 Text xticklabel objects>)"
      ]
     },
     "execution_count": 73,
     "metadata": {},
     "output_type": "execute_result"
    },
    {
     "data": {
      "image/png": "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\n",
      "text/plain": [
       "<Figure size 1080x360 with 1 Axes>"
      ]
     },
     "metadata": {
      "needs_background": "light"
     },
     "output_type": "display_data"
    }
   ],
   "source": [
    "# figure size in inches\n",
    "plt.figure(figsize=(15,5))\n",
    "\n",
    "# draw the plot\n",
    "plt.plot(calories_burnt)\n",
    "plt.plot(weight)\n",
    "\n",
    "# add legend in the lower right part of the figure\n",
    "plt.legend(labels=['Calories Burnt', 'Weight'], loc='lower right')\n",
    "\n",
    "plt.xticks(ticks=[0,1,2,3,4],labels=[\"p1\",\"p2\",\"p3\",\"p4\",\"p5\"])"
   ]
  },
  {
   "cell_type": "markdown",
   "metadata": {},
   "source": [
    "- With every X and Y argument, you can also pass an optional third argument in the form of a string which indicates the colour and line type of the plot. \n",
    "- The default format is `b-` which means a **solid blue line**. In the figure below we use `go` which means **green circles**. Likewise, we can make many such combinations to format our plot."
   ]
  },
  {
   "cell_type": "code",
   "execution_count": 76,
   "metadata": {},
   "outputs": [
    {
     "data": {
      "text/plain": [
       "([<matplotlib.axis.XTick at 0x7fa555907be0>,\n",
       "  <matplotlib.axis.XTick at 0x7fa55590c7f0>,\n",
       "  <matplotlib.axis.XTick at 0x7fa5558f0e48>,\n",
       "  <matplotlib.axis.XTick at 0x7fa55585b470>],\n",
       " <a list of 4 Text xticklabel objects>)"
      ]
     },
     "execution_count": 76,
     "metadata": {},
     "output_type": "execute_result"
    },
    {
     "data": {
      "image/png": "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\n",
      "text/plain": [
       "<Figure size 432x288 with 1 Axes>"
      ]
     },
     "metadata": {
      "needs_background": "light"
     },
     "output_type": "display_data"
    }
   ],
   "source": [
    "plt.plot(calories_burnt)\n",
    "plt.plot(weight,'yo')\n",
    "\n",
    "plt.legend(labels=['Calories Burnt','Weight'],loc='lower right')\n",
    "\n",
    "plt.xticks(ticks=[0,1,2,3],labels=[\"p1\",\"p2\",\"p3\",\"p4\"])"
   ]
  },
  {
   "cell_type": "markdown",
   "metadata": {},
   "source": [
    "- We can also plot multiple sets of data by passing in multiple sets of arguments of X and Y axis in the `plot()` method as shown."
   ]
  },
  {
   "cell_type": "markdown",
   "metadata": {},
   "source": [
    "#### Figure and subplots\n",
    "\n",
    "- We can use `subplots()` method to add more than one plots in one figure. \n",
    "- The `subplots()` method takes two arguments: they are **nrows, ncols**. They indicate the number of rows, number of columns respectively. \n",
    "- This method creates two objects: **figure** and **axes** which we store in variables `fig` and `ax`. \n",
    "- You plot each figure by specifying its position using row index and column index. Let's have a look at the below example:"
   ]
  },
  {
   "cell_type": "code",
   "execution_count": 85,
   "metadata": {},
   "outputs": [
    {
     "data": {
      "text/plain": [
       "[Text(0, 0, 'p1'), Text(0, 0, 'p2'), Text(0, 0, 'p3'), Text(0, 0, 'p4')]"
      ]
     },
     "execution_count": 85,
     "metadata": {},
     "output_type": "execute_result"
    },
    {
     "data": {
      "image/png": "iVBORw0KGgoAAAANSUhEUgAAAX8AAAF1CAYAAAAA3+oBAAAABHNCSVQICAgIfAhkiAAAAAlwSFlzAAALEgAACxIB0t1+/AAAADh0RVh0U29mdHdhcmUAbWF0cGxvdGxpYiB2ZXJzaW9uMy4xLjEsIGh0dHA6Ly9tYXRwbG90bGliLm9yZy8QZhcZAAAgAElEQVR4nO3deZyVdfn/8dfFsDmggDKisqu44ALqyFJW9iVLLUPLFAREBAe/iZU9Ki2tbKGv2aJlbiOiKJv8zBTNNKOSNLYBWUUEkR1hEAUBBYa5fn+cGz0MZ4Y5c5b7nHO/n4/HPGbOfd/nfK4D17zn3s59m7sjIiLR0ijsAkREJPsU/iIiEaTwFxGJIIW/iEgEKfxFRCJI4S8iEkEK/zQzMzezExv43EFm9vd01ySS68zsATP7cT2XfdTMfpnpmgqdwj8BM7vKzCrMbIeZbTSzv5nZeZke190nuPsX0/maZnaNme0L3ssOM1tpZv+bzjESjLnKzL6QyTEkfGb2QzN7vsa05bVMG1DXa7n79e7+izTV1eAVsChR+NdgZt8F7gZ+BbQDOgH3Af0zPG7jDL78DHdv6e4tgcuBO83srIa8UIbrlPwyHfi0mRUBmNkxQBPg7BrTTgyWlRyi8I9jZq2AnwM3uPtT7r7T3fe6+7Pu/v1gmV5mNsPM3g+2Cv5kZk1rez0ze8zMKs1stZndZmaNgnnXmNmrZnaXmW0Fbg+mvRL3/FPM7CUz22pmy8zsirh5F5vZ62b2gZmtN7Pv1ec9uvs8YClwavA655vZuhp1f7zmbma3m9mTZjbezLYD1wTTpgTv7QMzW2JmpcHyjxP7g/lssKXxg/r960semkMs7HsGjz8L/AtYVmPaW+6+4RD9fMCuHDP7QfD7tcHMRiRYm29jZn8N+m+WmZ0QPG//H5kFQf9dmZm3nv8U/gfqCzQH/lLHMvuAm4C2wfL9gG/Wsuw9QCvgeOBzwNXAsLj5vYGVwNHA6PgnmlkL4CVgYjB/IHCfmZ0WLPIwMNLdDwdOB/5ZnzdoZucCJwEV9Vk+0B94EmgNTAimfRWYHEybCvwJwN2HAGuAS4KtjTuTGEfyiLvvAWYRC3iC7/8BXqkxbXo9+vljZnYh8F3gC8S2Gj6XYPiBwM+ANsAKgt8fd98/bo+g/55I8W0WLIX/gY4Ctrh7VW0LuPtcd5/p7lXuvgp4kATNGWz2Xgn80N0/CJb9HTAkbrEN7n5P8Fof1niJrwCr3P2RYP484M/EdtsA7AW6m9kR7v5eML82fYItlR3AbOBxYHkdy9c0w92fdvfquDpfcffn3X1f8Ho9kng9KRwv80nQf4ZY+P+nxrSXOXQ/x7sCeMTdl7j7LmIhX9NT7j47+F2dwCdbGlJPCv8DvQu0rWu/tpmdZGbPmdk7wW6QXxHbCqipLdAUWB03bTXQPu7x2jpq6Qz0DkL7fTN7HxgEHBPM/zpwMbDazF42s751vNZMd28d7PM/BjgtqLu+EtX5TtzPu4DmOh4QSdOB88ysDVDi7suB/wKfCqadHixzqH6OdxwH9lx9+q9l6m8lWhT+B5oBfARcWscy9wNvAN3c/QjgR4AlWG4LsbXzznHTOgHr4x7XdUnVtcDLQWjv/2rp7v8L4O5z3L0/sU3op4Epdb+1YED3TcTWuC4JJu0EivfPD7ZYSmo+rT6vncLykr9mENu1WQa8CuDu24ENwbQN7v42h+jnGjYCHeIed8zoO4gohX8cd98G/AS418wuNbNiM2tiZheZ2f5914cD24EdZnYKkPC0yWB3yBRgtJkdbmadie3HHF/Pcp4DTjKzIUENTczsXDM71cyaWuwzAa3cfW9Qz776vKiZHQVcBiwJJr1JbK39y2bWBLgNaFbPGmuzidhxDilwwW7ACmK9/Z+4Wa8E0/YfgK21nxO87BRgWNDrxcR+J5Oh/qsHhX8N7v57Yk17G1BJbI1lFLG1a4DvAVcBHwAPAXUdULqR2Jr1SmK/DBOBsfWs4wPgi8AAYmtR7wC/5pNgHgKsCnY9XQ8MruPl+gZnPuwgdqZPZVDb/j943wTGENsq2Qmsq+2F6un/gNuCzft6nYUkee1lYlugr8RN+08wbTrUq58/5u5/A/5I7MyhFcS2LgB217Oe24FxQf9dcaiFo8p0MxcRyWXB1sFioFldJ2NIcrTmLyI5x8wuC3ZvtiG2hfCsgj+9FP4ikotGEts9+Rax41kZvSRJFGm3j4hIBGnNX0Qkgg4Z/mY21sw2m9niuGlHBtfoWB58bxM374dmtiK4dseXMlW4iIg03CF3+5jZZ4EdwGPufnow7U5gq7vfYWa3AG3c/WYz6w5MAnoR+5TeP4CTgnPea9W2bVvv0qVLym9GpDZz587d4u41P7yWceptyaRU+vqQH8d39+lm1qXG5P7A+cHP44B/AzcH0ye7+27gbTNbQewPwQzq0KVLFyoqkrnOmEhyzGz1oZdKP/W2ZFIqfd3Qff7t3H0jQPD96GB6ew68Dsc6DryWzcfMrMxiN0ypqKysbGAZIiLSEOk+4JvoGjcJ9yu5e7m7l7p7aUlJ1rfGpYBMWDSBLnd3odHPGtHl7i5MWDTh0E9Cx7Mk2hoa/pvM7FiA4PvmYPo6DrwIUwdiH+UWyYgJiyZQ9mwZq7etxnFWb1tN2bNl9f0D8ChwYY1ptwDT3L0bMC14THA8awCxK6JeSOxa9EXpeh8i2dbQ8J8KDA1+Hgo8Ezd9gJk1M7OuQDdi148XyYhbp93Krr27Dpi2a+8ubp126yGf6+7Tga01JvcndhyL4PulcdMnu/vu4CqV+49niWTMhvc/5OnX1h96wQY45AFfM5tE7OBuW4vd7u+nwB3AFDMbTuyuTd8AcPclZjYFeB2oInY7xHpdbVKkIdZsW5PU9Ho44HiWmcUfz5oZt1ydx7OIXc6YTp06NbQOibi1W3cx8KGZbP9wL587qYQ2LRLeLbbB6nO2z8BaZvWrZfnR1LgloUimdGrVidXbDj7hoVOrtIduUsezgHKA0tJSfYRekrZqy06uemgmO3ZXMX5E77QHP+gTvpLnRvcbTXGT4gOmFTcpZnS/Bq9/6HiWhGrF5h1c8eAMPty7j0llfTizQ+uMjKPwl7w26IxBlF9STudWnTGMzq06U35JOYPOGNTQl9TxLAnNsnc+YED5TKrdmVzWl9OOa5WxsXTPVcl7g84Y1KCw1/EsySWvb9jO4Idn0biRMfG6vpx4dGZvS6zwl8jS8SzJFQvXvc+Qh2dT3LSIidf1oWvbFhkfU+EvIhKieWveY+jDsznisCZMLutDxyOLD/2kNFD4i4iEZM6qrVwzdjZtD2/GxOv60L71YVkbW+EvIhKC/761heGPVnBs6+ZMHNGHY1o1z+r4OttHRCTLpr9ZybBH5tChzWFMLst+8IPW/EVEsuqfb2zi+sfnccLRLRk/vBdHtWwWSh0KfxGRLHlxyTuMmjiPU445gseH96J1cfo/uVtfCn8RkSz468KNfHvya5zevhXjru1Fq8OahFqP9vkL0PBr4ovIoT392npunDSPszq15vHh4Qc/aM1f+OSa+Psvjbz/mvhAKpdJEBFgSsVabv7zQvp0PYoxQ0tp0Sw3Yldr/pLSNfFFpHYTZq3mB08u5LwT2zL2mnNzJvhBa/5CRq6JLxJ5j776Nrc/+zqfP7mE+wefQ/MmuXXjN635S63Xvs/ANfFFIuGh6Su5/dnXuaB7Ox4YknvBDwp/ISPXxBeJrHv/tYLRzy/ly2ccy32DzqZZ49wLflD4Cxm5Jn7eM7Nvm9liM1tiZt8Jpt1uZuvNbH7wdXHYdUrucHfueulNfvPiMi7teRx/GNCTJkW5G7Ha5y9Aw6+JX4jM7HTgOmI3aN8DvGBmfw1m3+Xuvw2tOMlJ7s5vXlzGff9+i8vP6cCvv34mRY0S3fkzdyj8RQ52KjDT3XcBmNnLwGXhliS5yt0Z/deljHnlbQb26sToS0+nUY4HP2i3j0gii4HPmtlRZlYMXMwn9+8dZWYLzWysmbUJr0TJBdXVzu1TlzDmlbcZ2rczv7osP4IfFP4iB3H3pcCvgZeAF4AFxG7deD9wAtAT2Aj8LtHzzazMzCrMrKKysjI7RUvWVVc7tz69iHEzVnPdZ7py+1dPwyw/gh8U/iIJufvD7n62u38W2Aosd/dN7r7P3auBh4gdE0j03HJ3L3X30pKSkmyWLVmyr9r5/pMLmTR7LTd8/gR+dPGpeRX8oPAXScjMjg6+dwK+Bkwys2PjFrmM2O4hiZiqfdV8d8p8/jxvHTd94SS+98WT8y74QQd8RWrzZzM7CtgL3ODu75nZ42bWE3BgFTAyzAIl+/buq+Y7k+fz10Ub+f6XTuaGz58YdkkNpvAXScDdP5Ng2pAwapHcsLtqH6MmvsZLr2/iti+fyojPHB92SSlR+IuIHMJHe/fxv+Pn8q9llfzsq6cx9FNdwi4pZQp/EZE6fLhnH2WPV/DKii386rIzuKp3YVzzSuEvIlKLnburGD5uDrPe3sqdXz+Tb5R2PPST8oTCX0QkgQ8+2suwR+Ywb8173H1lT/r3bB92SWml8BcRqWHbh3sZOnY2i9dv456BZ/PlM4899JPyTErn+ddy5cMjzewlM1sefNdH4EUkb7y3cw+DxsxkyYZt3DeoMIMfUgj/Glc+7AF8xcy6AbcA09y9GzAteCwikvPe3bGbgQ/N5M1NOygfUsoXTzsm7JIyJpU1/4+vfOjuVcD+Kx/2B8YFy4wDLk2tRBGRzNv8wUcMKJ/Jqnd38vDQUj5/ytFhl5RRqYR/bVc+bOfuGwGC7wn/BXXxKxHJFe9s+4gBD85k/fsf8sg1vfhMt8K/JlODw7+OKx/W9/m6+JWIhG79+x9yZfkMNn+wm3HX9qLvCUeFXVJWpHTAN9GVD4FN+y+AFXzfnHqZIiLpt3brLq54YAZbd+7h8eG9OLfLkWGXlDWpnu1z0JUPganA0GCRocAzqYwhIpIJb2/ZyRUPzmDnniomjujDWZ2idWJiquf5J7ry4R3AFDMbDqwBvpFqkSIi6bRi8wdc9dAsqqqdiSP60P24I8IuKetSCv9arnz4LtAvldcVEcmUZe98wKAxMwFjclkfTmp3eNglhUI3cxFJQB9gLEyL129jQPkMihoZT4yMbvCDwl/kIPoAY2FasPZ9rnpoJoc1KeKJsr6cUNIy7JJCpfAXOZg+wFhg5q5+j8FjZtGquAlPjOxLl7Ytwi4pdAp/kYPpA4wFZNbKd7n64Vkc1bIpT5T1peORxWGXlBMU/iI16AOMhePVFVu45pE5HNOqOU+M7MtxrQ8Lu6ScofAXSUAfYMx/L79ZybWPzqHTkcVMLutLuyOah11STlH4iySgDzDmt2lLN3HduApOKGnJpLI+lBzeLOySco5u5iKSmD7AmKdeWPwON06ax6nHHsFj1/aidXHTsEvKSQp/kQT0Acb89OyCDXznifn06NCKR6/txRHNm4RdUs5S+ItIQXhq3jq+9/8WUNr5SMYOO5eWzRRvddG/jojkvSlz1nLzUwvpe/xRjBlaSnFTRduh6F9IRPLa+Jmrue3pxXz2pBLKh5xD8yZFYZeUF3S2j4jkrUdefZvbnl5Mv1OOVvAnSWv+IpKXHnz5Lf7vb2/wpdPacc/As2naWOuyyVD4i0jeuWfacn730pt85cxjuevKnjQpUvAnS+EvInnD3bnrpTf54z9X8LWz2nPn5WfSWMHfIAp/EckL7s6vX1jGAy+/xRWlHfi/r51JUSMLu6y8pfAXkZzn7vziuaWMffVtBvfpxM+/ejqNFPwpUfiLSE6rrnZ+OnUJj89czbBPd+EnX+mOmYI/VQp/EclZ1dXOj/6yiMlz1jLys8dzy0WnKPjTROEvIjlpX7Xz/ScX8NS89dz4Pyfy3QtOUvCnkcJfRHJO1b5qvjtlAVMXbOC7F5zEt/p1C7ukgqNzpEQSMLObzGyJmS02s0lm1tzMbjez9WY2P/i6OOw6C9GeqmpunPQaUxds4JaLTlHwZ4jW/EVqMLP2wLeA7u7+oZlNAQYEs+9y99+GV11h2121jxsmzOMfSzfz4690Z/h5XcMuqWBpzV8kscbAYWbWGCgGNoRcT8H7aO8+yh6byz+WbuYX/U9T8GeYwl+kBndfD/yW2N26NgLb3P3vwexRZrbQzMaaWZvQiiwwH+7Zx4hxFUxfXskdXzuDIX27hF1SwVP4i9QQhHp/oCtwHNDCzAYD9wMnAD2J/VH4XS3PLzOzCjOrqKyszFLV+Wvn7iqueWQ2/31rC7+9vAcDenUKu6RIUPiLHOwLwNvuXunue4GngE+5+yZ33+fu1cBDQK9ET3b3cncvdffSkpKSLJadf7Z/tJerx86mYvV73D3gLL5+ToewS4oMhb/IwdYAfcys2GInlvcDlprZsXHLXAYsDqW6ArFt116GjJnFgrXv86eBZ/HVHseFXVKk6GwfkRrcfZaZPQnMA6qA14ByYIyZ9QQcWAWMDK3IPPfezj0MfngWyzft4P7B53BB93ZhlxQ5KYW/md0EjCD2y7AIGEbszIgngC7EfkGucPf3UqpSJMvc/afAT2tMHhJGLYVmy47dDB4zi5VbdlJ+9Tmcf/LRYZcUSQ3e7RN3LnSpu58OFBE7F/oWYJq7dwOmBY9FRNi8/SMGlM9k1bs7eeSacxX8IUp1n3+ic6H7A+OC+eOAS1McQ0QKwMZtH3Jl+Uw2vP8hjw7rxadPbBt2SZHW4PCv41zodu6+MVhmI6A/7SIRt+69XVz54EwqP9jNY9f2os/xR4VdUuSlstuntnOh6/t8nQstEgFr3o0F//u79jB+RG9KuxwZdklCart9Ep4LDWzaf0pc8H1zoifrXGiRwreycgdXPDiDnXuqmHhdH3p2bB12SRJIJfwTngsNTAWGBssMBZ5JrUQRyUfLN33AleUz2buvmsllfTi9fauwS5I4DT7Vs45zoVsCU8xsOLE/EN9IR6Eikj+WbtzO4DGzaNTImFzWh27tDg+7JKkhpfP8azkXejexrQARiaDF67cx+OFZNG9cxMTrenN8ScuwS5IEdHkHEUmb+Wvf56qHZtKiaWOeGNlHwZ/DdHkHEUmLuau3MnTsHI5s0ZSJ1/WmQ5visEuSOmjNX0RSNnPluwx5eDZHH96MJ0b2UfDnAa35i0hKXlm+hRGPzaFDm2ImjujN0Uc0D7skqQeFv4g02L+Xbabs8bkc37YF40f0pm3LZmGXJPWk8BeRBvnH65v45oR5dGvXkvHDe9OmRdOwS5IkaJ+/SAJmdpOZLTGzxWY2ycyam9mRZvaSmS0Pvkf2Hr5/W7SR68fP5dTjjmDiiD4K/jyk8BepQZcrr9sz89czatJr9OjYmvHDe9GquEnYJUkDKPxFEtPlyhP489x13PTEfM7p3IbHru3F4c0V/PlK4S9SQ6qXKy/UK9ZOnr2G7z25gL4nHMWjw86lRTMdMsxnCn+RGlK9XHkhXrH28RmruOWpRXy2WwkPDz2X4qYK/nyn8Bc5WEqXKy80D7/yNj9+ZglfOLUd5VefQ/MmRWGXJGmg8E+zCYsm0OXuLjT6WSO63N2FCYsmhF2SJE+XKw/c/++3+MVzr3PR6cdw36CzadZYwV8otO2WRhMWTaDs2TJ27d0FwOptqyl7tgyAQWcMCrM0SYIuVx7zx2nL+f1Lb3JJj+O464oeNC7SumIhUfin0a3Tbv04+PfbtXcXt067VeGfZ6J8uXJ35/cvvck9/1zB185uz28u70FRIwu7LEkzhX8ardm2JqnpIrnG3bnjb2/w4PSVDDi3I7+67AwaKfgLkrbj0qhTq05JTRfJJe7Oz597nQenr2RIn84K/gKn8E+j0f1GU9zkwEvZFjcpZnS/0SFVJFI/1dXObU8v5pFXV3Htp7vy8/6nKfgLnMI/jQadMYjyS8rp3KozhtG5VWfKLynX/n7JafuqnVueWsiEWWu4/nMn8OOvnErsJCcpZNrnn2aDzhiksJe8UbWvmh88uZCnXlvPt/p146YvdFPwR4TCXySi9u6r5qYn5vPcwo1874snMep/uoVdkmSRwl8kgvZUVXPjpHm8uGQTP7zoFEZ+7oSwS5IsU/iLRMzuqn18c/w8pr2xmZ98pTvXntc17JIkBAp/kQj5aO8+yh6fy/Q3K/nlpaczuE/nsEuSkCj8RSJi154qRoyrYMbKd7nz62dyxbkdwy5JQqTwF4mAHburuPaROVSs3srvr+jBZWd1CLskCZnCX6TAbf9oL9eMnc2Cddv4w4CzuKTHcWGXJDlA4S9SwLbt2suQsbNYunE79151FheefmzYJUmOUPiL1GBmJwNPxE06HvgJ0Bq4Dth/b8YfufvzWS6v3rbu3MPgMbNYsXkHDww+h36ntgu7JMkhCn+RGtx9GdATwMyKgPXAX4BhwF3u/tsQy6uXyg92M3jMLFa9u5OHhpbyuZMK43aSkj4Kf5G69QPecvfV+XLZg03bP+Kqh2ay4f2PeOSac/nUiW3DLklyUIMv7GZmJ5vZ/Liv7Wb2HTM70sxeMrPlwfc26SxYJMsGAJPiHo8ys4VmNjYXe3vD+x9y5YMzeGfbRzw6TMEvtWtw+Lv7Mnfv6e49gXOAXcQ2jW8Bprl7N2Ba8Fgk75hZU+CrwP8LJt0PnEBsl9BG4He1PK/MzCrMrKKysjLRIhmxdusuriyfwbs79vDY8N70Pv6orI0t+Sddl3T+eNMY6A+MC6aPAy5N0xgi2XYRMM/dNwG4+yZ33+fu1cBDQK9ET3L3cncvdffSkpLs7Gtf/e5OBpTPZNuuvYwf0ZtzOufcRonkmHSFf/ymcTt33wgQfD860RPCWjsSScJA4nb5mFn8eZKXAYuzXlECb1Xu4IoHZ7BrTxWTyvrQo2PrsEuSPJBy+CfYNK6XMNaOROrLzIqBC4Cn4ibfaWaLzGwh8HngplCKi/Pmpg+48sGZ7Kt2Jpf15bTjWoVdkuSJdJztc8CmMbDJzI51943BmtLmNIwhklXuvgs4qsa0ISGVk9DrG7Yz+OFZNG5kTLyuDycefXjYJUkeScdunwM2jYGpwNDg56HAM2kYQ0TiLF6/javGzKRZ40Y8MbKvgl+SllL417JpfAdwgZktD+bdkcoYInKg19a8x8CHZtKiaWOmjOxL17Ytwi5J8lBKu31q2TR+l9jZPyKSZnNWbWXYI3M4skVTJpX1oX3rw8IuSfJUus72EZEMm/HWuwwdO5ujD2/GlJF9FfySEoW/SB54ZfkWhj06m/atD2PyyD4c06p52CVJntO1fURy3L/e2MzI8XM5vm0LJozozVEtm4VdkhQAhb9IDvv7kne4YeI8Tj7mcB6/tjdtWjQNuyQpEAp/kRz114Ub+fbk1zitfSseu7YXrQ5rEnZJUkC0z18kBz0zfz03TppHz46tGT9cwS/ppzV/kRzz5Nx1fP/JBfTueiQPDz2XFs30ayrpp64SySGTZq/hR39ZxHkntqV8SCmHNS0KuyQpUNrtI5IjHpuxih8+tYjzTyrhoasV/JJZWvMXyQFj/rOSX/51KRd0b8efrjqLZo0V/JJZCn+RkN337xXc+cIyLj7jGP4w4CyaFGmDXDIvZ7tswqIJdLm7C41+1ogud3dhwqIJYZckEZGt+1O7O3/4x3LufGEZ/Xsexx8V/JJFOdlpExZNoOzZMlZvW43jrN62mrJny/QHQLIiG/endnd++/dl3PWPN/n62R34/RU9aazglyzKyW67ddqt7Nq764Bpu/bu4tZpt4ZUkURY2u9P7e786vml3PuvtxjYqyO/ufxMihpZmsoVqZ+cDP8129YkNV0kg9J+f+qP9lYz6+2tXN23M6MvPYNGCn4JQU4e8O3UqhOrt61OOF0kW+LuT/3DZJ7n7uVAOUBpaanXnH9Y0yImXdeH4qZFmCn4JRw5ueY/ut9oipsUHzCtuEkxo/uNDqkiiaiE96cGSPX+1C2aNVbwS6hyMvwHnTGI8kvK6dyqM4bRuVVnyi8pZ9AZg8IuTaJF96eWgpWTu30g9gdAYS9hibs/9ci4yXcAU8xsOLAG+EYYtYmkQ86Gv0iYdH9qKXQ5udtHREQyy9wPOhkh+0WYVQIHn94T0xbYksVy0kV1Z19dtXd295JsFgPq7RxTiHU3uK9zIvzrYmYV7l4adh3JUt3Zl2+151u9+6nu7MpU3drtIyISQQp/EZEIyofwLw+7gAZS3dmXb7XnW737qe7sykjdOb/PX0RE0i8f1vxFRCTN8iL8zWyUma0wMzeztmHXU19mNsHMlpnZYjMba2ZNwq6pPszsYTNbYGYLzexJM2sZdk3JMLN7zGxH2HUcSr72Nai3w5LO3s6L8AdeBb5A7edL56oJwCnAGcBhwIhwy6m3m9y9h7ufSewyBqPCLqi+zKwUaB12HfWUr30N6u2sS3dv51T4m1kXM3vDzMbF/WUudvfX3H1V2PXVpo66n/cAMBvoEHat8eqoe3sw34j9YufUgaHa6jazIuA3wA/CrjFevvY1qLezLZu9nVPhHzgZKA/+Mm8HvhlyPfVVa93BJvEQ4IWQaqtLwrrN7BHgHWJrd/eEV16tEtU9Cpi6/4YrOSZf+xrU29mWld7OxfBf6+6vBj+PB84Ls5gk1FX3fcB0d/9P9ss6pIR1u/sw4DhgKXBlSLXVpWbdXyR2lc1c/GWG/O1rUG9nW1Z6OxfDv+ZmWE5tltUhYd1m9lOgBPhu1iuqn1r/vd19H/AE8PWsVlQ/Nes+FzgRWGFmq4BiM1uR9apql699DertbMtKb+di+Hcys77BzwOBV8IsJgkH1W1mI4AvAQPdvTq80uqUqO4T4eP9opcAb4RVXB1q1v1Ldz/G3bu4exdgl7ufGF55B8nXvgb1drZlpbdzMfyXAkPNbCFwJHC/mX3LzNYRO6i00MzGhFphYgfVDTwAtANmmNl8M/tJmAXWIlHd48xsEbAIOBb4eYj11SZR3bksX/sa1NvZlpXezqlP+JpZF+A5dz895FKSorqzK9/qzrd64+Vr7ar70HJxzV9ERDIsp9b8RUQkO7TmLyISQQp/EZEIUviLiESQwl9EJIIU/iIiEaTwFxGJIIW/iEgEKfxFRCIoqfC32O3aNpvZ4h3V/14AAAzYSURBVFrmm5n90WK3pltoZmenp0yRzFJvS9Qku+b/KHBhHfMvAroFX2Xk/sW2RPZ7FPW2REhS4e/u04GtdSzSH3gsuLvbTKC1mR2bSoEi2aDelqhJ9z7/9sDauMfrgmki+U69LQWlcZpfzxJMS3jlODMrI7b5TIsWLc455ZRT0lyKyCfmzp27xd1LUngJ9bbknFT6Ot3hvw7oGPe4A7Ah0YLuXg6UA5SWlnpFRUWaSxH5hJmtTvEl1NuSc1Lp63Tv9pkKXB2cGdEH2JbOu82LhEi9LQUlqTV/M5sEnA+0DW4/91OgCYC7PwA8D1wMrAB2AcPSWaxIpqi3JWqSCn93H3iI+Q7ckFJFIiFQb0vU6BO+IiIRpPAXEYkghb+ISAQp/EVEIkjhLyISQQp/EZEIUviLiESQwl9EJIIU/iIiEaTwFxGJIIW/iEgEKfxFRCJI4S8iEkEKfxGRCFL4i4hEkMJfRCSCFP4iIhGk8BcRiSCFv4hIBCn8RUQiSOEvIhJBSYe/mV1oZsvMbIWZ3ZJgfisze9bMFpjZEjMblp5SRTJLvS1RklT4m1kRcC9wEdAdGGhm3WssdgPwurv3AM4HfmdmTdNQq0jGqLclapJd8+8FrHD3le6+B5gM9K+xjAOHm5kBLYGtQFXKlYpklnpbIiXZ8G8PrI17vC6YFu9PwKnABmAR8G13r675QmZWZmYVZlZRWVmZZBkiaafelkhJNvwtwTSv8fhLwHzgOKAn8CczO+KgJ7mXu3upu5eWlJQkWYZI2qm3JVKSDf91QMe4xx2IrQXFGwY85TErgLeBUxpeokhWqLclUpIN/zlANzPrGhzoGgBMrbHMGqAfgJm1A04GVqZaqEiGqbclUhons7C7V5nZKOBFoAgY6+5LzOz6YP4DwC+AR81sEbFN6ZvdfUua6xZJK/W2RE1S4Q/g7s8Dz9eY9kDczxuAL6Zemkh2qbclSvQJXxGRCFL4i4hEkMJfRCSCFP4iIhGk8BcRiSCFv4hIBCn8RUQiSOEvIhJBCn8RkQhS+IuIRJDCX0QkghT+IiIRpPAXEYkghb+ISAQp/EVEIkjhLyISQQp/EZEIUviLiESQwl9EJIIU/iIiEZR0+JvZhWa2zMxWmNkttSxzvpnNN7MlZvZy6mWKZJ56W6KkcTILm1kRcC9wAbAOmGNmU9399bhlWgP3ARe6+xozOzqdBYtkgnpboibZNf9ewAp3X+nue4DJQP8ay1wFPOXuawDcfXPqZYpknHpbIiXZ8G8PrI17vC6YFu8koI2Z/dvM5prZ1akUKJIl6m2JlKR2+wCWYJoneM1zgH7AYcAMM5vp7m8e8EJmZUAZQKdOnZIsQyTt1NsSKcmu+a8DOsY97gBsSLDMC+6+0923ANOBHjVfyN3L3b3U3UtLSkqSLEMk7dTbEinJhv8coJuZdTWzpsAAYGqNZZ4BPmNmjc2sGOgNLE29VJGMUm9LpCS128fdq8xsFPAiUASMdfclZnZ9MP8Bd19qZi8AC4FqYIy7L0534SLppN6WqDH3mrs1s6+0tNQrKirCLkMKmJnNdffSbI+r3pZMSqWv9QlfEZEIUviLiESQwl9EJIIU/iIiEaTwFxGJIIW/iEgEKfxFRCJI4S8iEkEKfxGRCFL4i4hEkMJfRCSCFP4iIhGk8BcRiSCFv4hIBCn8RUQiSOEvIhJBCn8RkQhS+IuIRJDCX0QkghT+IiIRpPAXEYmgpMPfzC40s2VmtsLMbqljuXPNbJ+ZXZ5aiSLZod6WKEkq/M2sCLgXuAjoDgw0s+61LPdr4MV0FCmSaeptiZpk1/x7ASvcfaW77wEmA/0TLHcj8Gdgc4r1iWSLelsiJdnwbw+sjXu8Lpj2MTNrD1wGPFDXC5lZmZlVmFlFZWVlkmWIpJ16WyIl2fC3BNO8xuO7gZvdfV9dL+Tu5e5e6u6lJSUlSZYhknbqbYmUxkkuvw7oGPe4A7ChxjKlwGQzA2gLXGxmVe7+dIOrFMk89bZESrLhPwfoZmZdgfXAAOCq+AXcvev+n83sUeA5/XJIHlBvS6QkFf7uXmVmo4id6VAEjHX3JWZ2fTC/zn2hIrlKvS1Rk+yaP+7+PPB8jWkJfzHc/ZqGlSWSfeptiRJ9wldEJIIU/iIiEaTwFxGJIIW/iEgEKfxFRCJI4S8iEkEKfxGRCFL4i4hEkMJfRCSCFP4iIhGk8BcRiSCFv4hIBCn8RUQiSOEvIhJBCn8RkQhS+IuIRJDCX0QkghT+IiIRpPAXEYkghb+ISAQp/EVEIijp8DezC81smZmtMLNbEswfZGYLg6//mlmP9JQqklnqbYmSpMLfzIqAe4GLgO7AQDPrXmOxt4HPufuZwC+A8nQUKpJJ6m2JmmTX/HsBK9x9pbvvASYD/eMXcPf/uvt7wcOZQIfUyxTJOPW2REqy4d8eWBv3eF0wrTbDgb8lmmFmZWZWYWYVlZWVSZYhknbqbYmUZMPfEkzzhAuafZ7YL8jNiea7e7m7l7p7aUlJSZJliKSdelsipXGSy68DOsY97gBsqLmQmZ0JjAEucvd3G16eSNaotyVSkl3znwN0M7OuZtYUGABMjV/AzDoBTwFD3P3N9JQpknHqbYmUpNb83b3KzEYBLwJFwFh3X2Jm1wfzHwB+AhwF3GdmAFXuXpreskXSS70tUWPuCXdrZlVpaalXVFSEXYYUMDObG0ZQq7clk1Lpa33CV0QkghT+IiIRpPAXEYkghb+ISAQp/EVEIkjhLyISQQp/EZEIUviLiESQwl9EJIIU/iIiEaTwFxGJIIW/iEgEKfxFRCJI4S8iEkEKfxGRCFL4i4hEkMJfRCSCFP4iIhGk8BcRiSCFv4hIBCUd/mZ2oZktM7MVZnZLgvlmZn8M5i80s7PTU6pIZqm3JUqSCn8zKwLuBS4CugMDzax7jcUuAroFX2XA/WmoUySj1NsSNcmu+fcCVrj7SnffA0wG+tdYpj/wmMfMBFqb2bFpqFUkk9TbEinJhn97YG3c43XBtGSXEck16m2JlMZJLm8JpnkDlsHMyohtOgPsNrPFSdaSLm2BLREaN8yxw3zPJx9ifqH1tvorGmMfqq9rlWz4rwM6xj3uAGxowDK4ezlQDmBmFe5emmQtaRHW2HrP2R/7EIsUVG+H/W+t95y9cRv63GR3+8wBuplZVzNrCgwAptZYZipwdXBmRB9gm7tvbGiBIlmi3pZISWrN392rzGwU8CJQBIx19yVmdn0w/wHgeeBiYAWwCxiW3pJF0k+9LVGT7G4f3P15Yr8E8dMeiPvZgRuSfNnyZOtIo7DG1nvOsbELrLdz+t+6wMYNc+wGj2uxfhYRkSjR5R1ERCIoq+Ef1sfn6zHuoGC8hWb2XzPrkY5x6zN23HLnmtk+M7s8W+Oa2flmNt/MlpjZy+kYtz5jm1krM3vWzBYEY6dl37mZjTWzzbWdWpnJyzNErbfD6uv6jp2J3i64vnb3rHwRO4j2FnA80BRYAHSvsczFwN+InU/dB5iVpXE/BbQJfr4oHePWd+y45f5JbH/z5Vl6z62B14FOweOjs/j//CPg18HPJcBWoGkaxv4scDawuJb5ae+vKPZ2WH0dZm8XYl9nc80/rI/PH3Jcd/+vu78XPJxJ7PztdKjPewa4EfgzsDmL414FPOXuawDcPZtjO3C4mRnQktgvSVWqA7v79OC1apOpyzNErbfD6uv6jp2J3i64vs5m+If18flkX3M4sb+i6XDIsc2sPXAZ8ADpU5/3fBLQxsz+bWZzzezqLI79J+BUYh+QWgR8292r0zR+qrVl6nULqbfD6ut6jU1mervg+jrpUz1TkLaPz2dg3NiCZp8n9gtyXopjJjP23cDN7r4vtsKQtXEbA+cA/YDDgBlmNtPd38zC2F8C5gP/A5wAvGRm/3H37SmOnY7aMvW6hdTbYfV1fcfORG8XXF9nM/zT9vH5DIyLmZ0JjAEucvd3UxwzmbFLgcnBL0hb4GIzq3L3pzM87jpgi7vvBHaa2XSgB5Bq+Ndn7GHAHR7bYbnCzN4GTgFmpzh2OmrL1OsWUm+H1df1HTsTvV14fZ3qwYgkDlo0BlYCXfnkgMlpNZb5MgceuJidpXE7EfvU5qey/Z5rLP8o6TngW5/3fCowLVi2GFgMnJ6lse8Hbg9+bgesB9qm6d+8C7UfGEt7f0Wxt8Pq6zB7uxD7Oi3NkMQbuJjYX9+3gFuDadcD1wc/G7EbarxFbJ9ZaZbGHQO8R2yTbT5Qka33XGPZdP6SHHJc4PvEzopYDHwni//PxwF/D/6PFwOD0zTuJGAjsJfY2tDwbPRXFHs7rL4Os7cLra/1CV8RkQjSJ3xFRCJI4S8iEkEKfxGRCFL4i4hEkMJfRCSCFP4iIhGk8BcRiSCFv4hIBP1/rjF4wC5XEWUAAAAASUVORK5CYII=\n",
      "text/plain": [
       "<Figure size 432x432 with 4 Axes>"
      ]
     },
     "metadata": {
      "needs_background": "light"
     },
     "output_type": "display_data"
    }
   ],
   "source": [
    "# create 2 plots\n",
    "fig,ax = plt.subplots(nrows=2,ncols=2,figsize=(6,6))\n",
    "# plot on 0 row and 0 column\n",
    "ax[0,0].plot(calories_burnt,'go')\n",
    "# plot on 0 row and 1 column\n",
    "ax[0,1].plot(weight)\n",
    "\n",
    "#set titles for subplots\n",
    "ax[0,0].set_title(\"Calories Burnt\")\n",
    "ax[0,1].set_title(\"Weight\")\n",
    "\n",
    "# set ticks for each of these persons\n",
    "ax[0,0].set_xticks(ticks=[0,1,2,3])\n",
    "ax[0,1].set_xticks(ticks=[0,1,2,3])\n",
    "\n",
    "# set labels for each of these persons\n",
    "ax[0,0].set_xticklabels(labels=[\"p1\",\"p2\",\"p3\",\"p4\"])\n",
    "ax[0,1].set_xticklabels(labels=[\"p1\",\"p2\",\"p3\",\"p4\"])"
   ]
  },
  {
   "cell_type": "markdown",
   "metadata": {},
   "source": [
    "- Notice that in the above figure we have two empty plots, that is because we created 4 subplots ( 2 rows and 2 columns).\n",
    "- As a data scientist, there will be times when you need to have a common axis for all your subplots. You can do this by using the **sharex** and **sharey** paremeters of `subplot()`."
   ]
  },
  {
   "cell_type": "code",
   "execution_count": 87,
   "metadata": {},
   "outputs": [
    {
     "data": {
      "image/png": "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\n",
      "text/plain": [
       "<Figure size 432x432 with 2 Axes>"
      ]
     },
     "metadata": {
      "needs_background": "light"
     },
     "output_type": "display_data"
    }
   ],
   "source": [
    "# create 2 plots\n",
    "fig, ax = plt.subplots(nrows=1, ncols=2, figsize=(6,6), sharex=True, sharey=True)\n",
    "\n",
    "# plot on 0 row and 0 column\n",
    "ax[0].plot(calories_burnt,'go')\n",
    "\n",
    "# plot on 0 row and 1 column\n",
    "ax[1].plot(weight)\n",
    "\n",
    "# set titles for subplots\n",
    "ax[0].set_title(\"Calories Burnt\")\n",
    "ax[1].set_title(\"Weight\")\n",
    "\n",
    "# set ticks for each of these persons\n",
    "ax[0].set_xticks(ticks=[0,1,2,3]);\n",
    "ax[1].set_xticks(ticks=[0,1,2,3]);\n",
    "\n",
    "# set labels for each of these persons\n",
    "ax[0].set_xticklabels(labels=['p1', 'p2', 'p3', 'p4']);\n",
    "ax[1].set_xticklabels(labels=['p1', 'p2', 'p3', 'p4']);"
   ]
  },
  {
<<<<<<< HEAD
   "cell_type": "markdown",
   "metadata": {},
   "source": [
    "- Notice in the above plot, now both x and y axes are only labelled once for each of the outer plots. This is because the inner plots \"share\" both the axes.\n",
    "- Also, there are only **two plots** since we decreased the number of rows to 1 and columns to 2 in the `subplot()`.\n",
    "- You can learn more about [subplots here](https://matplotlib.org/3.1.0/api/_as_gen/matplotlib.pyplot.subplots.html).\n",
    "\n",
    "### Load dataset\n",
    "Let's load a dataset and have a look at first 5 rows."
   ]
  },
  {
   "cell_type": "code",
   "execution_count": 24,
   "metadata": {},
   "outputs": [
    {
     "data": {
      "text/html": [
       "<div>\n",
       "<style scoped>\n",
       "    .dataframe tbody tr th:only-of-type {\n",
       "        vertical-align: middle;\n",
       "    }\n",
       "\n",
       "    .dataframe tbody tr th {\n",
       "        vertical-align: top;\n",
       "    }\n",
       "\n",
       "    .dataframe thead th {\n",
       "        text-align: right;\n",
       "    }\n",
       "</style>\n",
       "<table border=\"1\" class=\"dataframe\">\n",
       "  <thead>\n",
       "    <tr style=\"text-align: right;\">\n",
       "      <th></th>\n",
       "      <th>Item_Identifier</th>\n",
       "      <th>Item_Weight</th>\n",
       "      <th>Item_Fat_Content</th>\n",
       "      <th>Item_Visibility</th>\n",
       "      <th>Item_Type</th>\n",
       "      <th>Item_MRP</th>\n",
       "      <th>Outlet_Identifier</th>\n",
       "      <th>Outlet_Establishment_Year</th>\n",
       "      <th>Outlet_Size</th>\n",
       "      <th>Outlet_Location_Type</th>\n",
       "      <th>Outlet_Type</th>\n",
       "      <th>Item_Outlet_Sales</th>\n",
       "    </tr>\n",
       "  </thead>\n",
       "  <tbody>\n",
       "    <tr>\n",
       "      <th>0</th>\n",
       "      <td>FDA15</td>\n",
       "      <td>9.300</td>\n",
       "      <td>Low Fat</td>\n",
       "      <td>0.016047</td>\n",
       "      <td>Dairy</td>\n",
       "      <td>249.8092</td>\n",
       "      <td>OUT049</td>\n",
       "      <td>1999</td>\n",
       "      <td>Medium</td>\n",
       "      <td>Tier 1</td>\n",
       "      <td>Supermarket Type1</td>\n",
       "      <td>3735.1380</td>\n",
       "    </tr>\n",
       "    <tr>\n",
       "      <th>1</th>\n",
       "      <td>DRC01</td>\n",
       "      <td>5.920</td>\n",
       "      <td>Regular</td>\n",
       "      <td>0.019278</td>\n",
       "      <td>Soft Drinks</td>\n",
       "      <td>48.2692</td>\n",
       "      <td>OUT018</td>\n",
       "      <td>2009</td>\n",
       "      <td>Medium</td>\n",
       "      <td>Tier 3</td>\n",
       "      <td>Supermarket Type2</td>\n",
       "      <td>443.4228</td>\n",
       "    </tr>\n",
       "    <tr>\n",
       "      <th>2</th>\n",
       "      <td>FDN15</td>\n",
       "      <td>17.500</td>\n",
       "      <td>Low Fat</td>\n",
       "      <td>0.016760</td>\n",
       "      <td>Meat</td>\n",
       "      <td>141.6180</td>\n",
       "      <td>OUT049</td>\n",
       "      <td>1999</td>\n",
       "      <td>Medium</td>\n",
       "      <td>Tier 1</td>\n",
       "      <td>Supermarket Type1</td>\n",
       "      <td>2097.2700</td>\n",
       "    </tr>\n",
       "    <tr>\n",
       "      <th>4</th>\n",
       "      <td>NCD19</td>\n",
       "      <td>8.930</td>\n",
       "      <td>Low Fat</td>\n",
       "      <td>0.000000</td>\n",
       "      <td>Household</td>\n",
       "      <td>53.8614</td>\n",
       "      <td>OUT013</td>\n",
       "      <td>1987</td>\n",
       "      <td>High</td>\n",
       "      <td>Tier 3</td>\n",
       "      <td>Supermarket Type1</td>\n",
       "      <td>994.7052</td>\n",
       "    </tr>\n",
       "    <tr>\n",
       "      <th>5</th>\n",
       "      <td>FDP36</td>\n",
       "      <td>10.395</td>\n",
       "      <td>Regular</td>\n",
       "      <td>0.000000</td>\n",
       "      <td>Baking Goods</td>\n",
       "      <td>51.4008</td>\n",
       "      <td>OUT018</td>\n",
       "      <td>2009</td>\n",
       "      <td>Medium</td>\n",
       "      <td>Tier 3</td>\n",
       "      <td>Supermarket Type2</td>\n",
       "      <td>556.6088</td>\n",
       "    </tr>\n",
       "  </tbody>\n",
       "</table>\n",
       "</div>"
      ],
      "text/plain": [
       "  Item_Identifier  Item_Weight Item_Fat_Content  Item_Visibility  \\\n",
       "0           FDA15        9.300          Low Fat         0.016047   \n",
       "1           DRC01        5.920          Regular         0.019278   \n",
       "2           FDN15       17.500          Low Fat         0.016760   \n",
       "4           NCD19        8.930          Low Fat         0.000000   \n",
       "5           FDP36       10.395          Regular         0.000000   \n",
       "\n",
       "      Item_Type  Item_MRP Outlet_Identifier  Outlet_Establishment_Year  \\\n",
       "0         Dairy  249.8092            OUT049                       1999   \n",
       "1   Soft Drinks   48.2692            OUT018                       2009   \n",
       "2          Meat  141.6180            OUT049                       1999   \n",
       "4     Household   53.8614            OUT013                       1987   \n",
       "5  Baking Goods   51.4008            OUT018                       2009   \n",
       "\n",
       "  Outlet_Size Outlet_Location_Type        Outlet_Type  Item_Outlet_Sales  \n",
       "0      Medium               Tier 1  Supermarket Type1          3735.1380  \n",
       "1      Medium               Tier 3  Supermarket Type2           443.4228  \n",
       "2      Medium               Tier 1  Supermarket Type1          2097.2700  \n",
       "4        High               Tier 3  Supermarket Type1           994.7052  \n",
       "5      Medium               Tier 3  Supermarket Type2           556.6088  "
      ]
     },
     "execution_count": 24,
     "metadata": {},
     "output_type": "execute_result"
    }
   ],
   "source": [
    "import numpy as np\n",
    "import pandas as pd\n",
    "\n",
    "# importing matplotlib\n",
    "import matplotlib.pyplot as plt\n",
    "\n",
    "# display plots in the notebook itself\n",
    "%matplotlib inline\n",
    "# read the dataset\n",
    "data_BM = pd.read_csv('./iris/bigmart_data.csv')\n",
    "# drop the null values\n",
    "data_BM = data_BM.dropna(how=\"any\")\n",
    "# view the top results\n",
    "data_BM.head()"
   ]
  },
  {
   "cell_type": "markdown",
   "metadata": {},
   "source": [
    "### 3. Line Chart\n",
    "\n",
    "- We will create a line chart to denote the **mean price per item**. Let's have a look at the code.\n",
    "- (Mean Price) + (Per Item) = mean + group by\n",
    "- With some datasets, you may want to understand changes in one variable as a function of time, or a similarly continuous variable.\n",
    "- In matplotlib, **line chart** is the default plot when using the `plot()`. "
   ]
  },
  {
   "cell_type": "code",
   "execution_count": 25,
   "metadata": {},
   "outputs": [
    {
     "data": {
      "text/plain": [
       "Item_Type\n",
       "Baking Goods             125.795653\n",
       "Breads                   141.300639\n",
       "Breakfast                134.090683\n",
       "Canned                   138.551179\n",
       "Dairy                    149.481471\n",
       "Frozen Foods             140.095830\n",
       "Fruits and Vegetables    145.418257\n",
       "Hard Drinks              140.102908\n",
       "Health and Hygiene       131.437324\n",
       "Household                149.884244\n",
       "Name: Item_MRP, dtype: float64"
      ]
     },
     "execution_count": 25,
     "metadata": {},
     "output_type": "execute_result"
    }
   ],
   "source": [
    "price_by_item = data_BM.groupby('Item_Type').Item_MRP.mean()[:10]\n",
    "price_by_item"
   ]
  },
  {
   "cell_type": "code",
   "execution_count": 26,
   "metadata": {},
   "outputs": [
    {
     "data": {
      "text/plain": [
       "[<matplotlib.lines.Line2D at 0x7f8df3f49160>]"
      ]
     },
     "execution_count": 26,
     "metadata": {},
     "output_type": "execute_result"
    },
    {
     "data": {
      "image/png": "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\n",
      "text/plain": [
       "<Figure size 1008x576 with 1 Axes>"
      ]
     },
     "metadata": {
      "needs_background": "light"
     },
     "output_type": "display_data"
    }
   ],
   "source": [
    "price_by_item = data_BM.groupby('Item_Type').Item_MRP.mean()[:10]\n",
    "\n",
    "x = price_by_item.index.tolist()\n",
    "y = price_by_item.values.tolist()\n",
    "\n",
    "# set figure size\n",
    "plt.figure(figsize=(14, 8))\n",
    "\n",
    "\n",
    "# set title\n",
    "plt.title(\"Mean price for each item type\")\n",
    "\n",
    "#Set axis labels\n",
    "plt.xlabel('Item Type')\n",
    "plt.ylabel('Mean Price')\n",
    "\n",
    "#set xticks\n",
    "\n",
    "plt.xticks(labels=x,ticks=np.arange(len(x)))\n",
    "plt.plot(x,y)\n"
   ]
  },
  {
   "cell_type": "markdown",
   "metadata": {},
   "source": [
    "###  4. Bar Chart\n",
    "\n",
    "- Suppose we want to have a look at **what is the mean sales for each outlet size?** \n",
    "- mean sales + each outlet size = mean + group by\n",
    "- A bar chart is another simple type of visualization that is used for categorical variables.\n",
    "- You can use `plt.bar()` instead of `plt.plot()` to create a bar chart.\n"
   ]
  },
  {
   "cell_type": "code",
   "execution_count": 37,
   "metadata": {},
   "outputs": [
    {
     "data": {
      "text/plain": [
       "<BarContainer object of 3 artists>"
      ]
     },
     "execution_count": 37,
     "metadata": {},
     "output_type": "execute_result"
    },
    {
     "data": {
      "image/png": "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\n",
      "text/plain": [
       "<Figure size 432x288 with 1 Axes>"
      ]
     },
     "metadata": {
      "needs_background": "light"
     },
     "output_type": "display_data"
    }
   ],
   "source": [
    "# sales by outlet size\n",
    "sales_by_outlet_size = data_BM.groupby(\"Outlet_Size\").Item_Outlet_Sales.mean()\n",
    "\n",
    "#Sort by sales\n",
    "sales_by_outlet_size.sort_values(inplace=True)\n",
    "\n",
    "x = sales_by_outlet_size.index.tolist()\n",
    "y = sales_by_outlet_size.values.tolist()\n",
    "\n",
    "\n",
    "#Set axis labels\n",
    "plt.xlabel(\"Outlet Size\")\n",
    "plt.ylabel(\"Sales\")\n",
    "\n",
    "#Set Title\n",
    "plt.title(\"Mean sales for each outlet size\")\n",
    "\n",
    "# Set Xticks\n",
    "plt.xticks(label=x,ticks=np.arange(len(x)))\n",
    "\n",
    "plt.bar(x,y,color=['red','orange','green'])\n"
   ]
  },
  {
   "cell_type": "markdown",
   "metadata": {},
   "source": [
    "### 5. Histogram\n",
    "\n",
    "- **Distribution of Item price**\n",
    "- Histograms are a very common type of plots when we are looking at data like height and weight, stock prices, waiting time for a customer, etc which are continuous in nature. \n",
    "- Histogram’s data is plotted within a range against its frequency. \n",
    "- Histograms are very commonly occurring graphs in probability and statistics and form the basis for various distributions like the normal -distribution, t-distribution, etc.\n",
    "- You can use `plt.hist()` to draw a histogram. It provides many parameters to adjust the plot, you can [explore more here](https://matplotlib.org/3.1.0/api/_as_gen/matplotlib.pyplot.hist.html)."
   ]
  },
  {
   "cell_type": "code",
   "execution_count": 38,
   "metadata": {},
   "outputs": [
    {
     "data": {
      "text/plain": [
       "(array([247., 249., 208.,  94., 261., 329., 337., 343., 164., 279., 304.,\n",
       "        276., 339., 318., 113., 143., 171., 145., 148., 182.]),\n",
       " array([ 31.49   ,  43.25992,  55.02984,  66.79976,  78.56968,  90.3396 ,\n",
       "        102.10952, 113.87944, 125.64936, 137.41928, 149.1892 , 160.95912,\n",
       "        172.72904, 184.49896, 196.26888, 208.0388 , 219.80872, 231.57864,\n",
       "        243.34856, 255.11848, 266.8884 ]),\n",
       " <a list of 20 Patch objects>)"
      ]
     },
     "execution_count": 38,
     "metadata": {},
     "output_type": "execute_result"
    },
    {
     "data": {
      "image/png": "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\n",
      "text/plain": [
       "<Figure size 432x288 with 1 Axes>"
      ]
     },
     "metadata": {
      "needs_background": "light"
     },
     "output_type": "display_data"
    }
   ],
   "source": [
    "# title\n",
    "plt.title('Item MRP (price) distribution')\n",
    "\n",
    "# xlabel\n",
    "plt.xlabel('Item_MRP')\n",
    "\n",
    "# ylabel\n",
    "plt.ylabel('Frequency')\n",
    "\n",
    "#plot histogram\n",
    "plt.hist(data_BM['Item_MRP'],bins=20,color='lightblue')"
   ]
  },
  {
   "cell_type": "markdown",
   "metadata": {},
   "source": [
    "### 6. Box Plots\n",
    "\n",
    "- **Distribution of sales**\n",
    "- Box plot shows the three quartile values of the distribution along with extreme values. \n",
    "- The “whiskers” extend to points that lie within 1.5 IQRs of the lower and upper quartile, and then observations that fall outside this range are displayed independently. \n",
    "- This means that each value in the boxplot corresponds to an actual observation in the data.\n",
    "- Let's try to visualize the distributio of Item_Outlet_Sales of items."
   ]
  },
  {
   "cell_type": "code",
   "execution_count": 40,
   "metadata": {},
   "outputs": [
    {
     "data": {
      "text/plain": [
       "{'whiskers': [<matplotlib.lines.Line2D at 0x7f8df3882a20>,\n",
       "  <matplotlib.lines.Line2D at 0x7f8df3882080>],\n",
       " 'caps': [<matplotlib.lines.Line2D at 0x7f8df3882710>,\n",
       "  <matplotlib.lines.Line2D at 0x7f8df3882d30>],\n",
       " 'boxes': [<matplotlib.lines.Line2D at 0x7f8df389a780>],\n",
       " 'medians': [<matplotlib.lines.Line2D at 0x7f8df3bcd828>],\n",
       " 'fliers': [<matplotlib.lines.Line2D at 0x7f8df3bcdb00>],\n",
       " 'means': []}"
      ]
     },
     "execution_count": 40,
     "metadata": {},
     "output_type": "execute_result"
    },
    {
     "data": {
      "image/png": "iVBORw0KGgoAAAANSUhEUgAAAYQAAAEICAYAAABfz4NwAAAABHNCSVQICAgIfAhkiAAAAAlwSFlzAAALEgAACxIB0t1+/AAAADh0RVh0U29mdHdhcmUAbWF0cGxvdGxpYiB2ZXJzaW9uMy4xLjEsIGh0dHA6Ly9tYXRwbG90bGliLm9yZy8QZhcZAAAanElEQVR4nO3dfZyVdZ3/8ddbUBQVBB1NAR0tcoN+2sboGrv1YLoTlV+w29pimkhumA8qcytDWxPXFkl9rKu/1I00xEwJbzZZCtPFof0ta+qgJIGZqNyMIIyJgoDIzWf/uL6TF8OZgZlzmDNn5v18PM7jOtf3uvvMwJz3ub7XnSICMzOz/cpdgJmZdQ4OBDMzAxwIZmaWOBDMzAxwIJiZWeJAMDMzwIFg3ZykOyV9bx9v4wJJ/50bf0vSCSVa9xWSbk/vqyWFpJ4lWvexqdYepVifdX4OBCsJScslfTK93+UDsAO2PVDSA5Jek/SmpMWSLuio7bdVRBwSES+1No+kEZIa9mJdUyLi70tRV/7fMK17Zap1RynWb51fSb5JmJXZT4DfAscBW4H/A7ynrBV1AEk9I2J7ueuwrsN7CFZSkj4A/BvwkdTd8EZq7yXpBkkrJa2V9G+SDkrTRkhqkHSZpHWS1kgaI+lMSX+Q9LqkK1rZ7CnAnRGxKSK2R8QzETE3V9N9kl5New//JWloK/WPkrRI0huS/kfSSblp35b0iqSNkp6X9IkW1nG4pNmSNkh6Enhvs+kh6X3p/ZmSlqZ1viLpm5IOBuYCx6Tf4VuSjpE0WdL9ku6WtAG4ILXd3ayEL0panX6P38htd5fusfxeiKSfAMcC/5G2d1nzLqhUw+z077FM0pdy65osaZaku9LPskRSTUu/Z+ucHAhWUhHxHPBl4PHU3XBYmvR94P3Ah4D3AQOA7+YWfQ9wYK79R8B5wDDgo8B3W+l3/w1wi6Sxko4tMH0uMBg4Enga+GmhlUj6MPBj4CLgcOCHwOwUZicCXwFOiYhDgdOB5S3UcwvwNnA08MX0askdwEVpnR8EHouITcAZwOr0OzwkIlan+UcD9wOHtfRzALXp5/00MCnfDdSSiPgCsBL4v2l71xWY7V6gATgG+FtgSrNQ/AwwM9U2G/jBnrZrnYsDwfY5SQK+BFwaEa9HxEZgCjA2N9s24J8jYhvZh8oRwE0RsTEilgBLgJMo7Gzg/wNXAi+nb/inNE2MiB+n9WwFJgMnS+pbYD1fAn4YEU9ExI6ImEHWBXUasAPoBQyRtH9ELI+IFwv8rD2AzwLfTXssvwNmtPLr2ZbW2Sci1kfE063MC1nQ/jwidkbElhbmuTptezEwHThnD+vcI0mDgL8Cvh0Rb0fEIuB24Au52f47In6Zjjn8BDi52O1ax3IgWEeoAnoDC1NXzBvAw6m9yR9zBy+bPujW5qZvAQ4ptPL0QTopIoYCRwGLgJ8r00PSVEkvpm6W5WmxIwqs6jjgG001pjoHAcdExDLg62SBsk7STEnHtPCz9gRW5dpWFKo7+SxwJrBC0q8lfaSVeWm23r2ZZwXZN/piHQM0hXl+3QNy46/m3m8GDlSJzniyjuFAsH2h+S10XyP7QB8aEYelV9+IKPgBX9SGI14DbiD7AOsPfJ6sm+WTQF+gOs2qAouvIttLOSz36h0R96Z13xMRf0UWHEHWDdZcI7CdLEiaFOrGaqr3qYgYTdad9XNgVtOklhZpaV05zbfd1N20iSyYmzQ/8N7aulcD/SUd2mzdr+xFPVYhHAi2L6wFBko6ACAidpIdE7hR0pEAkgZIOr0UG5P0fUkflNQzfWBdDCyLiD8Ch5J1+/yR7MNwSiur+hHwZUl/kfYuDpZ0lqRDJZ0o6eOSepEdH9hC1o20i7SX8yAwWVJvSUOAcS3UfYCkcyX1TV1lG3LrXAsc3kLX1p5cmbY9FBgP/Cy1LwLOlNRf0nvI9njy1gIFj9NExCrgf4BrJR2YDrZfSMvHMawCORBsX3iMrM//VUmvpbZvA8uA36Sum/8ETizR9noD/w68AbxE9g3+M2naXWRdG68AS8kOQBcUEfVkxxF+AKxP9V6QJvcCppLt7bxK9o2+pTOfvkLWvfUqcCdZP35LvgAsT7+TL5MdSCcifk92EPel1H3Vlm6fX6fa5wE3RMQjqb3p9NzlwCO8GxRNrgX+MW3vmwXWew7ZHtZqst/3VRHxaBvqsk5OfkCOmZmB9xDMzCxxIJiZGeBAMDOzxIFgZmZABd/c7ogjjojq6upyl2FmVlEWLlz4WkRUFZpWsYFQXV1NfX19ucswM6soklq8ct5dRmZmBjgQzMwscSCYmRngQDAzs8SBYFZCdXV1DKmupq6urtylmLWZA8GsROrq6vjcqFGMX7GCz40a5VCwiuNAMCuBpjC4b/NmvgXct3mzQ8EqjgPBrEj5MBiR2kbgULDK40AwK9LE8eO5LBcGTUYAl23ezMTx4zu+KLN2cCCYFemW6dO5rndv5jdrnw9c17s3t0xv7fk4Zp3HHgNB0o8lrZP0u1xbf0mPSnohDfvlpl0uaZmk5/OPSJQ0TNLiNO1mSUrtvST9LLU/Iam6tD+i2b5VW1vLrDlzODsXCvOBs3v3ZtacOdTW1pavOLM22Js9hDuBkc3aJgHzImIw2WP6JgGk58eOBYamZW6V1CMtcxswARicXk3rvBBYHxHvA26k8IPLzTq1fChcj8PAKtMeAyEi/gt4vVnzaGBGej8DGJNrnxkRWyPiZbLnup4q6WigT0Q8HtkzO+9qtkzTuu4HPtG092BWSZpCYfpxxzkMrCK19xjCURGxBiANj0ztA4BVufkaUtuA9L55+y7LRMR24E3g8EIblTRBUr2k+sbGxnaWbmZmhZT6oHKhb/bRSntry+zeGDEtImoioqaqquDtvM3KxhemWaVrbyCsTd1ApOG61N4ADMrNNxBYndoHFmjfZRlJPYG+7N5FZdap+cI06wraGwizgXHp/TjgoVz72HTm0PFkB4+fTN1KGyWdlo4PnN9smaZ1/S3wWDrOYFYRfGGadRV7c9rpvcDjwImSGiRdCEwFPiXpBeBTaZyIWALMApYCDwMTI2JHWtXFwO1kB5pfBOam9juAwyUtA/6BdMaSWaXwhWnWVahSv4zX1NSEH6FpnUGhPQTwtQjWOUlaGBE1hab5SmWzIvnCNOsqHAhmJeAL06wrcCCYlYgvTLNK17PcBZh1JbW1tSxdvrzcZZi1i/cQzMwMcCCYmVniQDAzM8CBYGZmiQPBrITq6uoYUl3t21VYRXIgmJWI73Zqlc6BYFYCvtupdQUOBLMi+W6n1lU4EMyK5LudWlfhQDAr0i3Tp3Nd7sZ2TeYD1/XuzS3Tp3d8UWbt4EAwK5LvdmpdhQPBrAR8t1PrChwIZiXiu51apfPdTs1KyHc7tUrmPQQzMwMcCGYl5VtXWCVzIJiVSF1dHWPOOIMNK1Yw5owzHApWcRwIZiXQFAY9t27lEqDn1q0OBas4DgSzIuXD4AHgW8ADOBSs8jgQzIp0wTnnsF8KgxGpbQRZKOy3dSsXnHNOuUozaxMHglmRegBXQMF7GV2RpptVAgeCWZHuuPdepvbqVfBeRlN79eKOe+/t+KLM2sGBYFak2tpa7p87l8/mQmE+8Nlevbh/7lxfsWwVw4FgVgK1tbV8Z8oUzgKuB84CvjNlisPAKooDwawE6urquPbKK/keMB34HnDtlVf6DCOrKA4EsyLln5h2KbAUuBQ/Mc0qT1GBIOlSSUsk/U7SvZIOlNRf0qOSXkjDfrn5L5e0TNLzkk7PtQ+TtDhNu1mSiqnLrCPln5hWBwxJwxH4iWlWWdodCJIGAF8DaiLig2Rn140FJgHzImIwMC+NI2lImj4UGAncKqnpjLzbgAnA4PQa2d66zDpa0xPTbgQ+B4xPwxvxE9OsshTbZdQTOEhST6A3sBoYDcxI02cAY9L70cDMiNgaES8Dy4BTJR0N9ImIxyMigLtyy5h1erW1tVx+zTVcSXbdwfQ0vBK4/JprfGDZKka7AyEiXgFuAFYCa4A3I+IR4KiIWJPmWQMcmRYZAKzKraIhtQ1I75u370bSBEn1kuobGxvbW7pZSTUdUL4GmEK2hzAFuAYfWLbKUkyXUT+yb/3HA8cAB0s6r7VFCrRFK+27N0ZMi4iaiKipqqpqa8lm+8TE8eP5m82bmQLcR3Yvo/vIQuFvfAzBKkgxXUafBF6OiMaI2AY8CAwH1qZuINJwXZq/ARiUW34gWRdTQ3rfvN2sIow480zuJguBEU1tafzuNN2sEhQTCCuB0yT1TmcFfQJ4DpgNjEvzjAMeSu9nA2Ml9ZJ0PNnB4ydTt9JGSael9ZyfW8as07tn2jQmU/heRpPTdLNKUMwxhCeA+4GngcVpXdOAqcCnJL0AfCqNExFLgFlkp2k/DEyMiB1pdRcDt5MdaH4RmNveusw62ucnTGAyFLyX0eQ03awSKDuxp/LU1NREfX19ucswY0h1NX1XrOBZsiuUfwR8CfhH4CTgzeOOY+ny5WWs0OxdkhZGRE2hab5S2axIf/+1r7EI2E4WAuPTcDuwKE03qwQOBLMi3XTddQDsD/yC7CyjX6Tx/HSzzs6BYFakjZs20QOYw65nGc0hu3x/46ZN5SnMrI0cCGZF2rF5M1dR+Cyjq9J0s0rgQDAr0rkXXdTqWUbnXnRRxxZk1k4OBLMiPfzgg5xE9lCcG8nudnpjGj8pTTerBA4EsyJteucdFpHdb+UKYEMaBtlZRpveeaeM1ZntPQeCWZH2Izt43HTL30vSsGdq9x+ZVQr/XzUrkf2BB8hOO32Ad087NasUDgSzIm3ftu1PYTAitY3g3VDYvm1beQozayMHglmR3n7rLa6g8GmnV6TpZpXAgWBWpO1k9zCa36x9fmrf3sH1mLWXA8GsSO+prmYr8Ne8Gwrz0/jWNN2sEjgQzIrUuHw5JwBbyELg+jTcApyQpptVAgeCWZHe2W8/VgDXAjuAm9LwWmBFmm5WCfw/1axIB+zcyWTgUrJH/fVJw0vJbl1xwM6dZavNrC16lrsAs0r3DnA1cApQS/ZIQMiOI1ydpptVAu8hmBXp/UOHsoXs3kXzU9v8NL4lTTerBN5DMCvSH5YsoQfZcYPPkHUZbUjjPdJ0s0rgPQSzEtif7CDy/mT3MsqPm1UK7yGYFekA4FxgCu/evuIU4GzgPOCnZavMrG0cCGZF2gLcTfYc5RGpbQRwH9lxhLfLUpVZ27nLyKxIB5GdXjqiWfuI1H5Qh1Zj1n4OBLMibYFWH6G5pUOrMWs/B4JZkZrOMCp0L6OmM43MKoEDwaxIBwDjgJ3AaLJ7GY1O4+PSdLNK4EAwK9JmsoPK55JdlXxTGp6b2jeXrzSzNnEgmBWpN/Bx4C5gLtCQhnel9t7lK82sTRwIZkV6G3gMmMOup53OSe0+7dQqhQPBrEgH0vpppwd2aDVm7VdUIEg6TNL9kn4v6TlJH5HUX9Kjkl5Iw365+S+XtEzS85JOz7UPk7Q4TbtZkoqpy6wjbaL10043dWg1Zu1X7B7CTcDDEfFnwMnAc8AkYF5EDAbmpXEkDQHGAkOBkcCtkprOyLsNmAAMTq+RRdZlVjKSWn0dTHasYBS7nnY6KrUfvBfr8Hcg6wzaHQiS+gAfA+4AiIh3IuINsjPuZqTZZgBj0vvRwMyI2BoRLwPLgFMlHQ30iYjHIyLIjsWNwayTiIhWXycPH85jwPlkIXB9Gp5Pdgzh5OHD97iO7L++WXkVs4dwAtAITJf0jKTbJR0MHBURawDS8Mg0/wBgVW75htQ2IL1v3r4bSRMk1Uuqb2xsLKJ0s9JZsGABHxo+nBlkIfDPaTgD+NDw4SxYsKCs9ZntrWICoSfwYeC2iPhzsq7SSa3MX2ifOFpp370xYlpE1ERETVVVVVvrNdtn8qHwHRwGVpmKCYQGoCEinkjj95MFxNrUDUQarsvNPyi3/EBgdWofWKDdrKI0hcLVOAysMrU7ECLiVWCVpBNT0yfIHic7m+yKfdLwofR+NjBWUi9Jx5MdPH4ydSttlHRaOrvo/NwyZhVlwYIFbEpDs0pT7PMQvgr8VNIBwEvAeLKQmSXpQmAl2XNCiIglkmaRhcZ2YGJE7EjruRi4k+xOwXPTy8zMOpAq9eyGmpqaqK+vL3cZZruR5LOGrNOStDAiagpN85XKZmYGOBDMzCxxIJiZGeBAMDOzxIFgZmaAA8HMzBIHgpmZAQ4EMzNLHAhmZgY4EMzMLHEgmJkZ4EAwM7PEgWBmZoADwczMEgeCmZkBDgQzM0scCGZmBjgQzMwscSCYmRngQDAzs8SBYGZmgAPBzMwSB4KZmQEOBDMzSxwIZmYGOBDMzCxxIJiZGeBAMDOzxIFgZmZACQJBUg9Jz0iak8b7S3pU0gtp2C837+WSlkl6XtLpufZhkhanaTdLUrF1mZlZ25RiD+ES4Lnc+CRgXkQMBualcSQNAcYCQ4GRwK2SeqRlbgMmAIPTa2QJ6jIzszYoKhAkDQTOAm7PNY8GZqT3M4AxufaZEbE1Il4GlgGnSjoa6BMRj0dEAHflljEzsw5S7B7CvwKXATtzbUdFxBqANDwytQ8AVuXma0htA9L75u1mZtaB2h0IkkYB6yJi4d4uUqAtWmkvtM0Jkuol1Tc2Nu7lZs3MbG8Us4fwl8BnJC0HZgIfl3Q3sDZ1A5GG69L8DcCg3PIDgdWpfWCB9t1ExLSIqImImqqqqiJKNzOz5todCBFxeUQMjIhqsoPFj0XEecBsYFyabRzwUHo/GxgrqZek48kOHj+ZupU2SjotnV10fm4ZMzPrID33wTqnArMkXQisBM4GiIglkmYBS4HtwMSI2JGWuRi4EzgImJteZmbWgZSd2FN5ampqor6+vtxlmO1GEpX6d2Vdn6SFEVFTaJqvVDYzM8CBYGZmiQPBzMwAB4KZmSUOBDMzAxwIZmaWOBDMzAxwIJiZWeJAMDMzwIFgZmaJA8HMzAAHgpmZJfvibqdmnVb//v1Zv379Pt9Odif3fatfv368/vrr+3w71n04EKxbWb9+fZe5E2lHhI51L+4yMjMzwIFgZmaJA8HMzAAHgpmZJQ4EMzMDHAhmZpY4EMzMDHAgmJlZ4kAwMzPAgWBmZokDwczMAAeCmZklDgQzMwMcCGZmljgQzMwMcCCYmVnS7kCQNEhSnaTnJC2RdElq7y/pUUkvpGG/3DKXS1om6XlJp+fah0lanKbdLD/5w8yswxWzh7Ad+EZEfAA4DZgoaQgwCZgXEYOBeWmcNG0sMBQYCdwqqUda123ABGBweo0soi4zM2uHdgdCRKyJiKfT+43Ac8AAYDQwI802AxiT3o8GZkbE1oh4GVgGnCrpaKBPRDwe2bMN78otY2ZmHaQkxxAkVQN/DjwBHBURayALDeDINNsAYFVusYbUNiC9b95eaDsTJNVLqm9sbCxF6WZmlhQdCJIOAR4Avh4RG1qbtUBbtNK+e2PEtIioiYiaqqqqthdrZmYt6lnMwpL2JwuDn0bEg6l5raSjI2JN6g5al9obgEG5xQcCq1P7wALtZiUXV/WByX3LXUZJxFV9yl2CdTHtDoR0JtAdwHMR8S+5SbOBccDUNHwo136PpH8BjiE7ePxkROyQtFHSaWRdTucD/6+9dZm1RldvIDtUVfkkEZPLXYV1JcXsIfwl8AVgsaRFqe0KsiCYJelCYCVwNkBELJE0C1hKdobSxIjYkZa7GLgTOAiYm15mZtaBVKnflmpqaqK+vr7cZViFkdS19hC6yM9iHUfSwoioKTTNVyqbmRngQDAzs8SBYGZmgAPBzMwSB4KZmQEOBDMzSxwIZmYGOBDMzCxxIJiZGeBAMDOzxIFgZmZAkbe/NqtEXeWR3f369dvzTGZt4ECwbqUjbgbnm85ZpXKXkZmZAQ4EMzNLHAhmZgY4EMzMLHEgmJkZ4EAwM7PEgWBmZoADwczMEgeCmZkBDgQzM0scCGZmBjgQzMwscSCYmRngQDAzs8SBYGZmgAPBzMwSB4KZmQGdKBAkjZT0vKRlkiaVux4zs+6mUwSCpB7ALcAZwBDgHElDyluVmVn30lmeqXwqsCwiXgKQNBMYDSwta1VmZM9I7ohl/BxmK7fOEggDgFW58QbgL5rPJGkCMAHg2GOP7ZjKrNvzB7V1F52iywgo9HVqt7/CiJgWETURUVNVVdUBZZmZdR+dJRAagEG58YHA6jLVYmbWLXWWQHgKGCzpeEkHAGOB2WWuycysW+kUxxAiYrukrwC/AnoAP46IJWUuy8ysW+kUgQAQEb8EflnuOszMuqvO0mVkZmZl5kAwMzPAgWBmZokq9aIbSY3AinLXYVbAEcBr5S7CrAXHRUTBC7kqNhDMOitJ9RFRU+46zNrKXUZmZgY4EMzMLHEgmJXetHIXYNYePoZgZmaA9xDMzCxxIJiZGeBAsG5G0ltpWC3p8/toG0dJmiPpt5KWStrjPbqa6jIrJweCdVfVwD4JBOCfgEcj4uSIGAJM2kfbMSspB4J1V1OBj0paJOlSST0kXS/pKUnPSroIQNIISb+WNEvSHyRNlXSupCclLZb03gLrPprsoU8ARMSzaV2HSJon6em07OhChUn6Vq6Oq1PbwZJ+kfY6fifp70r+G7Fur9Pc/tqsg00CvhkRo+BPz+t+MyJOkdQLWCDpkTTvycAHgNeBl4DbI+JUSZcAXwW+3mzdtwA/S8/4+E9gekSsBt4G/joiNkg6AviNpNmRO9VP0qeBwcCpZI+WnS3pY0AVsDoizkrz9S35b8S6Pe8hmGU+DZwvaRHwBHA42QczwFMRsSYitgIvAk1BsZis62kXEfEr4ATgR8CfAc9IqiL7gJ8i6VmyoBgAHFWgjk8DzwBPp+UHp219UtL3JX00It4syU9tluM9BLOMgK+mD/N3G6URwNZc087c+E5a+BuKiNeBe4B7JM0BPgYcSvZNf1hEbJO0HDiwQB3XRsQPdytQGgacCVwr6ZGI+Kc2/YRme+A9BOuuNpJ9QDf5FXCxpP0BJL1f0sHtWbGkj0vqnd4fCrwXWAn0BdalMKgFjiuw+K+AL0o6JC0/QNKRko4BNkfE3cANwIfbU5tZa7yHYN3Vs8B2Sb8F7gRuIuv+eVqSgEZgTDvXPQz4gaTtZF+6bo+IpyS9DPyHpHpgEfD75gtGxCOSPgA8npXBW8B5wPuA6yXtBLYBF7ezNrMW+dYVZmYGuMvIzMwSB4KZmQEOBDMzSxwIZmYGOBDMzCxxIJiZGeBAMDOz5H8BGOSZV9yFAXgAAAAASUVORK5CYII=\n",
      "text/plain": [
       "<Figure size 432x288 with 1 Axes>"
      ]
     },
     "metadata": {
      "needs_background": "light"
     },
     "output_type": "display_data"
    }
   ],
   "source": [
    "data = data_BM[['Item_Outlet_Sales']]\n",
    "\n",
    "#Create outlier point shape\n",
    "red_diamond = dict(markerfacecolor='r',marker='D')\n",
    "\n",
    "#Set Title\n",
    "plt.title('Item Sales distribution')\n",
    "\n",
    "#Make the boxplot\n",
    "plt.boxplot(data.values,labels=['Item Sales'],flierprops=red_diamond)\n"
   ]
  },
  {
   "cell_type": "markdown",
   "metadata": {},
   "source": [
    "- You can also create multiple boxplots for different columns of your dataset.\n",
    "- In order to plot multiple boxplots, you can use the same `subplots()` that we saw earlier.\n",
    "- Let's see Item_Weight, Item_MRP distribution together"
   ]
  },
  {
   "cell_type": "code",
   "execution_count": 46,
   "metadata": {},
   "outputs": [
    {
     "data": {
      "text/plain": [
       "{'whiskers': [<matplotlib.lines.Line2D at 0x7f8df3b81a20>,\n",
       "  <matplotlib.lines.Line2D at 0x7f8df3b92ef0>,\n",
       "  <matplotlib.lines.Line2D at 0x7f8df3b868d0>,\n",
       "  <matplotlib.lines.Line2D at 0x7f8df3b8c6a0>],\n",
       " 'caps': [<matplotlib.lines.Line2D at 0x7f8df3b92358>,\n",
       "  <matplotlib.lines.Line2D at 0x7f8df3b86cc0>,\n",
       "  <matplotlib.lines.Line2D at 0x7f8df3b8ca90>,\n",
       "  <matplotlib.lines.Line2D at 0x7f8df3b8c0b8>],\n",
       " 'boxes': [<matplotlib.lines.Line2D at 0x7f8df37816d8>,\n",
       "  <matplotlib.lines.Line2D at 0x7f8df3b86400>],\n",
       " 'medians': [<matplotlib.lines.Line2D at 0x7f8df3b86da0>,\n",
       "  <matplotlib.lines.Line2D at 0x7f8df3b8c198>],\n",
       " 'fliers': [<matplotlib.lines.Line2D at 0x7f8df3b860f0>,\n",
       "  <matplotlib.lines.Line2D at 0x7f8df3b68d68>],\n",
       " 'means': []}"
      ]
     },
     "execution_count": 46,
     "metadata": {},
     "output_type": "execute_result"
    },
    {
     "data": {
      "image/png": "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\n",
      "text/plain": [
       "<Figure size 432x288 with 1 Axes>"
      ]
     },
     "metadata": {
      "needs_background": "light"
     },
     "output_type": "display_data"
    }
   ],
   "source": [
    "data = data_BM[['Item_Weight','Item_MRP']]\n",
    "\n",
    "#Create outlier point shape\n",
    "red_diamond = dict(markerfacecolor='r',marker='D')\n",
    "\n",
    "#generate subplots\n",
    "fig,ax = plt.subplots()\n",
    "\n",
    "#Make the boxlplot\n",
    "plt.boxplot(data.values,labels=['Item Weight','Item MRP (Price)'],flierprops=red_diamond)"
   ]
  },
  {
   "cell_type": "markdown",
   "metadata": {},
   "source": [
    "### 7. Violin Plots\n",
    "\n",
    "- **Density distribution of Item weights and Item price**"
   ]
  },
  {
   "cell_type": "code",
   "execution_count": 48,
   "metadata": {},
   "outputs": [
    {
     "data": {
      "image/png": "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\n",
      "text/plain": [
       "<Figure size 432x288 with 1 Axes>"
      ]
     },
     "metadata": {
      "needs_background": "light"
     },
     "output_type": "display_data"
    }
   ],
   "source": [
    "data = data_BM[['Item_Weight', 'Item_MRP']]\n",
    "\n",
    "# generate subplots\n",
    "fig, ax = plt.subplots()\n",
    "\n",
    "# add labels to x axis\n",
    "plt.xticks(ticks=[1,2], labels=['Item Weight', 'Item MRP'])\n",
    "\n",
    "# make the violinplot\n",
    "plt.violinplot(data.values);"
   ]
  },
  {
   "cell_type": "markdown",
   "metadata": {},
   "source": [
    "### 8. Scatter Plots\n",
    "\n",
    "- **Relative distribution of item weight and it's visibility**\n",
    "- It depicts the distribution of two variables using a cloud of points, where each point represents an observation in the dataset.\n",
    "- This depiction allows the eye to infer a substantial amount of information about whether there is any meaningful relationship between them.\n",
    "\n",
    "**NOTE : Here, we are going to use only a subset of the data for the plots.**"
   ]
  },
  {
   "cell_type": "code",
   "execution_count": 50,
   "metadata": {},
   "outputs": [
    {
     "data": {
      "text/plain": [
       "<matplotlib.collections.PathCollection at 0x7f8df35de320>"
      ]
     },
     "execution_count": 50,
     "metadata": {},
     "output_type": "execute_result"
    },
    {
     "data": {
      "image/png": "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\n",
      "text/plain": [
       "<Figure size 432x288 with 1 Axes>"
      ]
     },
     "metadata": {
      "needs_background": "light"
     },
     "output_type": "display_data"
    }
   ],
   "source": [
    "# set label of axes\n",
    "plt.xlabel('Item_Weight')\n",
    "plt.ylabel('Item_Visibility')\n",
    "\n",
    "plt.scatter(data_BM[\"Item_Weight\"][:200],data_BM[\"Item_Visibility\"][:200])\n"
   ]
  },
  {
   "cell_type": "markdown",
   "metadata": {},
   "source": [
    "### 9. Bubble Plots\n",
    "- **Bubble plot helps in understanding three variables in same go.**\n",
    "- **Relative distribution of sales, item price and item visibility**\n",
    "- Let's make a scatter plot of Item_Outlet_Sales and Item_MRP and make the **size** of bubbles by the column Item_Visibility.\n",
    "- Bubble plots let you understand the interdependent relations among 3 variables. \n",
    "\n",
    "**Note that we are only using a subset of data for the plots.**"
   ]
  },
  {
   "cell_type": "code",
   "execution_count": 52,
   "metadata": {},
   "outputs": [
    {
     "data": {
      "text/plain": [
       "<matplotlib.collections.PathCollection at 0x7f8df3c18438>"
      ]
     },
     "execution_count": 52,
     "metadata": {},
     "output_type": "execute_result"
    },
    {
     "data": {
      "image/png": "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\n",
      "text/plain": [
       "<Figure size 432x288 with 1 Axes>"
      ]
     },
     "metadata": {
      "needs_background": "light"
     },
     "output_type": "display_data"
    }
   ],
   "source": [
    "plt.xlabel(\"Item_MRP\")\n",
    "plt.ylabel(\"Item_Outlet_Sales\")\n",
    "\n",
    "#Set title\n",
    "plt.title(\"Item outlet sales vs Item MRP (Price)\")\n",
    "\n",
    "#plot\n",
    "plt.scatter(data_BM[\"Item_MRP\"][:100],data_BM[\"Item_Outlet_Sales\"][:100],s=data_BM[\"Item_Visibility\"][:100]*1000,c='red')"
   ]
  },
  {
=======
>>>>>>> master
   "cell_type": "code",
   "execution_count": null,
   "metadata": {},
   "outputs": [],
   "source": []
  }
 ],
 "metadata": {
  "kernelspec": {
   "display_name": "Python",
   "language": "python",
   "name": "conda-env-python-py"
  },
  "language_info": {
   "codemirror_mode": {
    "name": "ipython",
    "version": 3
   },
   "file_extension": ".py",
   "mimetype": "text/x-python",
   "name": "python",
   "nbconvert_exporter": "python",
   "pygments_lexer": "ipython3",
   "version": "3.6.7"
  }
 },
 "nbformat": 4,
 "nbformat_minor": 4
}
